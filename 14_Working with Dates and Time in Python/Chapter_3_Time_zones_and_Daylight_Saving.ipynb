{
 "cells": [
  {
   "cell_type": "markdown",
   "metadata": {},
   "source": [
    "# Lesson I\n",
    "\n",
    "## UTC OffSets\n",
    "\n",
    "Sometimes, you really need to know exactly when something happened. Up until now, the datetime objects you have worked with are what is called *\"naive\"*, and can't be compared across different parts of the world. They don't know anything about their time zone.\n",
    "\n",
    "### Time Zones\n",
    "\n",
    "Why does this matter? Before time zones, each town or city set its clock so that noon was directly overhead.\n",
    "\n",
    "Another city 100 miles away would also set their clocks to be noon when the sun was overhead.\n",
    "\n",
    "But this meant that these two cities had clocks that were different, by maybe 15 or 20 minutes. When people moved by foot or horseback, this wasn't a problem.\n",
    "\n",
    "Then railroads, and later telegraphs, came into existence. Now you could move or communicate with someone 100 or even 1000 miles away fast enough that time had to be consistent.\n",
    "\n",
    "Governments solved this problem by declaring that all clocks within a wide area would agree on the hour, even if some were ahead or behind of their solar time. The United States, for example, has 4 major time zones, plus one for Alaska and another for Hawaii. Our bike data was collected in Washington, DC, which observes Eastern time.\n",
    "\n",
    "### UTC\n",
    "\n",
    "But since we're not using the sun anymore, how do we know how to set the clock? Because the United Kingdom was the first to standardize its time, everyone in the world sets their clocks relative to the original historical UK standard. \n",
    "\n",
    "This standard time is called *UTC*. Because all clocks are set relative to UTC, we can compare time around the world. Generally, clocks west of the UK are set earlier than UTC, and clocks east of the UK are set later than UTC. \n",
    "\n",
    "For example, the eastern United States is typically UTC minus 5 hours, while India is typically UTC plus 5 hours 30 minutes.\n",
    "\n",
    "Let's see this in code. As before, you *import datetime and timedelta*. Now you also import ``timezone``. This will let you specify what timezone the clock was in when our data was recorded.\n",
    "\n",
    "```python\n",
    "    # Import relevant classes\n",
    "    from datetime import datetime, timedelta, timezone\n",
    "```\n",
    "\n",
    "We create a ``timezone`` object, which accepts a ``timedelta`` that explains how to translate your datetime into *UTC*. In this case, since the clock that measured our bicycle data set was five hours behind UTC, we create ``ET`` to be at UTC-5. \n",
    "\n",
    "We can specify what time zone the clock was in when the last ride started in our data set. The clock that recorded the ride was 5 hours behind UTC. Now if you print it, your datetime includes the UTC offset.\n",
    "\n",
    "```python\n",
    "    # Import relevant classes\n",
    "    from datetime import datetime, timedelta, timezone\n",
    "\n",
    "    # US Eastern Standart time zone\n",
    "    ET = timezone(timedelta(hours=-5))\n",
    "    # Timezone-aware datetime object\n",
    "    dt = datetime(2017, 12, 30, 15, 9, 3 , tzinfo=ET)\n",
    "\n",
    "    print(dt)\n",
    "    # Output\n",
    "    2017-12-30 15:09:03-05:00\n",
    "```\n",
    "\n",
    "Making a ``datetime`` *\"aware\"* of its timezone means you can ask Python new questions. For example, suppose you want to know what the date and time would have been if the clock had been set to India Standard Time instead. \n",
    "\n",
    "First, create a new ``timezone`` object set to *UTC plus 5 hours 30 minutes*. \n",
    "Now use the ``astimezone()`` method to ask Python to create a new datetime object corresponding to the same moment, but adjusted to a different time zone. \n",
    "\n",
    "In this case, because clocks in India would have been set 10-point-5 hours ahead of clocks on the eastern US, the last ride would have taken place on *December 31, at 1 hour, 39 minutes, and 3 seconds past midnight local time*. Same moment, different clock.\n",
    "\n",
    "```python\n",
    "    # India Standart time zone\n",
    "    IST = timezone(timedelta(hours=5, minutes=30))\n",
    "    # Convert to IST\n",
    "    print(dt.astimezone(IST))\n",
    "    # Output\n",
    "    2017-12-31 01:39:03+05:30\n",
    "```\n",
    "\n",
    "#### Adjusting timezone vs changing tzinfo\n",
    "\n",
    "Finally, there is an important difference between adjusting timezones and changing the tzinfo directly. You can set the ``tzinfo`` directly, using the ``replace()`` method. \n",
    "\n",
    "Here we've set the tzinfo to be ``timezone.utc``, a convenient object with zero UTC offset. The clock stays the same, but the UTC offset has shifted. Or, just like before, you can call the ``astimezone()`` method. Now if we adjust into UTC with astimezone(``timezone.utc``), we change both the UTC offset and the clock itself.\n",
    "\n",
    "```python\n",
    "    print(dt)\n",
    "    # Output\n",
    "    2017-12-30 15:09:03-05:00\n",
    "    print(dt.replace(tzinfo=timezone.utc))\n",
    "    # Output\n",
    "    2017-12-30 15:09:03+00:00\n",
    "    # Change original to match UTC\n",
    "    print(dt.astimezone(timezone.utc))\n",
    "    # Output\n",
    "    2017-12-30 15:09:03+00:00\n",
    "```"
   ]
  },
  {
   "cell_type": "markdown",
   "metadata": {},
   "source": [
    "## Exercise\n",
    "\n",
    "### Creating timezone aware datetimes\n",
    "\n",
    "In this exercise, you will practice setting timezones manually."
   ]
  },
  {
   "cell_type": "code",
   "execution_count": 1,
   "metadata": {},
   "outputs": [
    {
     "name": "stdout",
     "output_type": "stream",
     "text": [
      "2017-10-01T15:26:26+00:00\n"
     ]
    }
   ],
   "source": [
    "# Import datetime, timezone\n",
    "from datetime import datetime, timezone\n",
    "\n",
    "# October 1, 2017 at 15:26:26, UTC\n",
    "dt = datetime(2017, 10, 1, 15, 26, 26, tzinfo=timezone.utc)\n",
    "\n",
    "# Print results\n",
    "print(dt.isoformat())"
   ]
  },
  {
   "cell_type": "code",
   "execution_count": 4,
   "metadata": {},
   "outputs": [
    {
     "name": "stdout",
     "output_type": "stream",
     "text": [
      "2017-10-01T15:26:26-08:00\n"
     ]
    }
   ],
   "source": [
    "# Import datetime, timedelta, timezone\n",
    "from datetime import datetime, timedelta, timezone\n",
    "\n",
    "# Create a timezone for Pacific Standard Time, or UTC-8\n",
    "pst = timezone(timedelta(hours=-8))\n",
    "\n",
    "# October 1, 2017 at 15:26:26, UTC-8\n",
    "dt = datetime(2017, 10, 1, 15, 26, 26, tzinfo=pst)\n",
    "\n",
    "# Print results\n",
    "print(dt.isoformat())"
   ]
  },
  {
   "cell_type": "code",
   "execution_count": 6,
   "metadata": {},
   "outputs": [
    {
     "name": "stdout",
     "output_type": "stream",
     "text": [
      "2017-10-01T15:26:26+11:00\n"
     ]
    }
   ],
   "source": [
    "# Import datetime, timedelta, timezone\n",
    "from datetime import datetime, timedelta, timezone\n",
    "\n",
    "# Create a timezone for Australian Eastern Daylight Time, or UTC+11\n",
    "aedt = timezone(timedelta(hours=11))\n",
    "\n",
    "# October 1, 2017 at 15:26:26, UTC+11\n",
    "dt = datetime(2017, 10, 1, 15, 26, 26, tzinfo=aedt)\n",
    "\n",
    "# Print results\n",
    "print(dt.isoformat())"
   ]
  },
  {
   "cell_type": "markdown",
   "metadata": {},
   "source": [
    "### Setting Timezones\n",
    "\n",
    "Now that you have the hang of setting timezones one at a time, let's look at setting them for the first ten trips that *W20529* took.\n",
    "\n",
    "``timezone`` and ``timedelta`` have already been imported. Make the change using ``.replace()``"
   ]
  },
  {
   "cell_type": "code",
   "execution_count": null,
   "metadata": {},
   "outputs": [],
   "source": [
    "# THIS WILL ONLY WORK ON DATACAMP WORKSPACE\n",
    "\n",
    "# Create a timezone object corresponding to UTC-4\n",
    "edt = timezone(timedelta(hours=-4))\n",
    "\n",
    "# Loop over trips, updating the start and end datetimes to be in UTC-4\n",
    "for trip in onebike_datetimes[:10]:\n",
    "  # Update trip['start'] and trip['end']\n",
    "  trip['start'] = trip['start'].replace(tzinfo=edt)\n",
    "  trip['end'] = trip['end'].replace(tzinfo=edt)"
   ]
  },
  {
   "cell_type": "markdown",
   "metadata": {},
   "source": [
    "### What time did the bike leave in UTC?\n",
    "\n",
    "Having set the timezone for the first ten rides that *W20529* took, let's see what time the bike left in UTC. We've already loaded the results of the previous exercise into memory."
   ]
  },
  {
   "cell_type": "code",
   "execution_count": null,
   "metadata": {},
   "outputs": [],
   "source": [
    "# THIS WILL ONLY WORK ON DATACAMP WORKSPACE\n",
    "\n",
    "\n",
    "# Loop over the trips\n",
    "for trip in onebike_datetimes[:10]:\n",
    "  # Pull out the start\n",
    "  dt = trip['start']\n",
    "  # Move dt to be in UTC\n",
    "  dt = dt.astimezone(timezone.utc)\n",
    "  \n",
    "  # Print the start time in UTC\n",
    "  print('Original:', trip['start'], '| UTC:', dt.isoformat())"
   ]
  },
  {
   "cell_type": "markdown",
   "metadata": {},
   "source": [
    "# Lesson II \n",
    "\n",
    "## Time Zone database\n",
    "\n",
    "<img src='pictures/timezones.jpg' />\n",
    "\n",
    "This is a picture of all of the different time zones in the world, as of 2017. They cut across countries, and within countries, and sometimes one is even totally surrounded by another one. \n",
    "How could you possibly know all of these when you need to align your data to UTC? Do you need to look up the offset for each one in some big spreadsheet somewhere? Can't a computer help with this?\n",
    "\n",
    "Thankfully, yes. There is a database called ``tz``, updated 3-4 times a year as timezone rules change. This database is used by computer programs across many programming languages. \n",
    "Because timezone information changes so quickly, it doesn't make sense to bundle it directly into Python. Instead, you will use a package called ``dateutil``.\n",
    "\n",
    "```python\n",
    "    # Imports\n",
    "    from datetime import datetime\n",
    "    from dateutil import tz\n",
    "```\n",
    "\n",
    "Let's start by making a timezone object that corresponds to the eastern United States, where our bicycle data comes from. \n",
    "Within ``tz``, time zones are defined first by the continent they are on, and then by the nearest major city. \n",
    "\n",
    "For example, the time zone used on the eastern seaboard of the United States is ``'America/New York'``. We fetch this timezone by calling ``tz.gettz()``, and passing ``'America/New York'`` as the *string*.\n",
    "\n",
    "```python\n",
    "    # Imports \n",
    "    from datetime import datetime\n",
    "    from dateutil import tz\n",
    "\n",
    "    # Eastern time\n",
    "    et = tz.gettz('America/New York')\n",
    "```\n",
    "\n",
    "**tz database:**\n",
    "* Format: 'Continent/City'\n",
    "* Examples:\n",
    "    - 'America/New_York'\n",
    "    - 'Europe/London'\n",
    "    - 'Asia/Tokyo'\n",
    "    - 'Australia/Sydney'\n",
    "    - 'Africa/Cairo'\n",
    "\n",
    "Let's look at our last ride again. Instead of specifying the UTC offset yourself, you pass the ``timezone`` you got from ``tz``. Look at the result, and you can see that it's got the right UTC offset.\n",
    "\n",
    "```python\n",
    "    # Last ride\n",
    "    last = datetime(2017, 12, 30, 15, 9, 3, tzinfo=et)\n",
    "\n",
    "    print(last)\n",
    "    # Output\n",
    "    2017-12-30 15:09:03-05:00\n",
    "```\n",
    "\n",
    "Even more excitingly, this same object will adjust the UTC offset depending on the date and time. If we call ``datetime()`` with the time of our ``first ride``, and pass in the same timezone info, we see that it gives us a different UTC offset. \n",
    "\n",
    "```python\n",
    "    # First ride\n",
    "    first = datetime(2017, 10, 1, 15, 23, 25, tzinfo=et)\n",
    "\n",
    "    print(first)\n",
    "    # Output\n",
    "    2017-10-01 15:23:25-04:00\n",
    "```\n",
    "\n",
    "\n",
    "We will discuss daylight savings time in the next lesson, but suffice to say that in some places the clocks change twice a year. Instead of having to look up when these things change, we just ask the timezone database to know for us. ``tz`` includes rules for UTC offsets going all the way back to the late 1960s, and sometimes earlier. \n",
    "\n",
    "If you have data stretching over a long period of time, and you really care about getting the exact hours and minutes correct, you can use tz to put all of your date and timestamps on to a common scale."
   ]
  },
  {
   "cell_type": "markdown",
   "metadata": {},
   "source": [
    "## Exercise\n",
    "\n",
    "### Putting the bike trips into the right timezone\n",
    "\n",
    "Instead of setting the timezones for *W20529* by hand, let's assign them to their IANA timezone: ``'America/New_York'``. Since we know their political jurisdiction, we don't need to look up their UTC offset. Python will do that for us."
   ]
  },
  {
   "cell_type": "code",
   "execution_count": null,
   "metadata": {},
   "outputs": [],
   "source": [
    "# THIS WILL ONLY WORK ON DATACAMP WORKSPACE\n",
    "\n",
    "# onebike_datetimes list\n",
    "import pandas as pd\n",
    "onebike_datetimes = pd.read_csv('datasets/capital-onebike.csv')\n",
    "\n",
    "# Import tz\n",
    "from dateutil import tz\n",
    "\n",
    "# Create a timezone object for Eastern Time\n",
    "et = tz.gettz('America/New_York')\n",
    "\n",
    "# Loop over trips, updating the datetime to be in Eastern time\n",
    "for trip in onebike_datetimes[:10]:\n",
    "    # Update trip['Start date'] and trip['End date']\n",
    "    trip['Start date'] = trip['Start date'].replace(tzinfo=et)\n",
    "    trip['End date'] = trip['End date'].replace(tzinfo=et)"
   ]
  },
  {
   "cell_type": "markdown",
   "metadata": {},
   "source": [
    "### What time did the bike leave? (Global Edition)\n",
    "\n",
    "When you need to move a ``datetime`` from one timezone into another, use ``.astimezone()`` and ``tz.`` Often you will be moving things into UTC, but for fun let's try moving things from ``'America/New_York'`` into a few different time zones."
   ]
  },
  {
   "cell_type": "code",
   "execution_count": null,
   "metadata": {},
   "outputs": [],
   "source": [
    "# Create the timezone object\n",
    "uk = tz.gettz('Europe/London')\n",
    "\n",
    "# Pull out the start of the first trip\n",
    "local = onebike_datetimes['Start date']\n",
    "\n",
    "# What time was it in the UK?\n",
    "notlocal = local.astimezone(uk)\n",
    "\n",
    "# Print them out and see the difference\n",
    "print(local.isoformat())\n",
    "print(notlocal.isoformat())"
   ]
  },
  {
   "cell_type": "markdown",
   "metadata": {},
   "source": [
    "# Lesson III\n",
    "\n",
    "## Starting daylight saving time\n",
    "\n",
    "Some places change their clocks twice a year to create longer summer evenings. This practice is called daylight saving time, but it would better be called daylight shifting time. In some countries it is called *\"summer time\"*. \n",
    "\n",
    "Dealing with daylight saving time can be one of the most fiendish challenges in dealing with dates and times. To keep things simple, let's start with the situation where the clocks move forward in the spring. In the next lesson, we'll discuss handling the opposite case, when the clocks move back in the fall.\n",
    "\n",
    "Let's look at an example. On *March 12, 2017*, in Washington, DC, the clock jumped straight from *1:59 am to 3 am*. The clock \"springs forward\". It never officially struck 2 am anywhere on the East Coast of the United States that day.\n",
    "\n",
    "Just like before, to make our clock in Washington, DC comparable to clocks in other places, we need to represent it with a UTC offset. Only now the UTC offset is going to change. On this date, at 1 AM in Washington, DC, we were in Eastern Standard Time. It was 6 AM UTC, a five-hour difference. At 3 AM in Washington, DC, we were in Eastern Daylight Time. It was 7 AM UTC, a four-hour difference.\n",
    "\n",
    "\n",
    "```python\n",
    "    spring_ahead_159am = datetime(2017, 3, 12, 1, 59, 59)\n",
    "    print(spring_ahead_159am.isoformat())\n",
    "    # Output\n",
    "    2017-03-12T01:59:59+00:00\n",
    "\n",
    "    spring_ahead_3am = datetime(2017, 3, 12, 3, 0, 0)\n",
    "    print(spring_ahead_3am.isoformat())\n",
    "    # Output\n",
    "    2017-03-12T03:00:00+00:00\n",
    "\n",
    "    (spring_ahead_3am - spring_ahead_159am).total_seconds()\n",
    "    # Output\n",
    "    3601.0\n",
    "```\n",
    "\n",
    "Let's see the same thing in code. To be as clear as possible, let's create the UTC offsets by hand for now instead of using ``dateutil.tz``. \n",
    "We start by creating a ``datetime`` object, ``spring_ahead_159am``, for *March 12th, at 1:59:59*, without any timezone information. \n",
    "We print the results out with ``isoformat()`` to check that we have the time right, and we make another object for ``spring_ahead_3am``. \n",
    "\n",
    "We subtract the two datetime objects and ask how much time has elapsed by calling ``total_seconds()``. As expected, they're *an hour and one second* apart.\n",
    "\n",
    "```python\n",
    "    from datetime import timezone, timedelta\n",
    "\n",
    "    EST = timezone(timedelta(hours=-5))\n",
    "    EDT = timezone(timedelta(hours=-4))\n",
    "\n",
    "```\n",
    "\n",
    "As before, to fix problems with comparing datetimes we start by creating ``timezone`` objects. We define Eastern Standard Time, or EST, using the timezone constructor. \n",
    "We set the offset to *-5 hours*. Similarly, we define Eastern Daylight Time, or EDT, with an offset of *-4 hours*.\n",
    "\n",
    "\n",
    "```python\n",
    "    spring_ahead_159am = spring_ahead_159am.replace(tzinfo=EST)\n",
    "    print(spring_ahead_159am.isoformat())\n",
    "    # Output\n",
    "    2017-03-12T01:59:59-05:00\n",
    "\n",
    "    spring_ahead_3am = spring_ahead_3am.replace(tzinfo=EDT)\n",
    "    print(spring_ahead_3am.isoformat())\n",
    "    # Output\n",
    "    2017-03-12T03:00:00-04:00\n",
    "\n",
    "    (spring_ahead_3am - spring_ahead_159am).total_seconds()\n",
    "    # Output\n",
    "    1\n",
    "```\n",
    "\n",
    "We assign our first timestamp, at 1:59 am to be in EST. When we call ``isoformat()``, we see it has the correct offset. \n",
    "We assign our second timestamp, at 3:00 am, to be in EDT, and again check the output with ``isoformat()``. \n",
    "When we subtract the two datetime objects, we see correctly that one second has elapsed. Putting things in terms of UTC once again allowed us to make proper comparisons.\n",
    "\n",
    "But how do we know when the cutoff is without looking it up ourselves? ``dateutil`` to the rescue again. Just like before when it saved us from having to define timezones by hand, ``dateutil`` saves us from having to know daylight savings rules. \n",
    "\n",
    "```python\n",
    "    # import tz\n",
    "    from dateutil import tz\n",
    "\n",
    "    # Create eastern timezone\n",
    "    eastern = tz.gettz('America/New_York')\n",
    "    # 2017-03-12 01:59:59 EST\n",
    "    spring_ahead_159am = datetime(2017, 3, 12, 1, 59, 59, tzinfo=eastern)\n",
    "\n",
    "    # 2017-03-12 03:00:00 EDT\n",
    "    spring_ahead_3am = datetime(2017, 3, 12, 3, 0, 0, tzinfo=eastern)\n",
    "\n",
    "```\n",
    "\n",
    "We create a timezone object by calling ``tz.gettz()`` and pass our timezone description string. Recall that since Washington, DC is in the America/New_York time zone, that's what we use. \n",
    "Once again we create a datetime corresponding to 1:59 am on the day that the east coast of the US springs forward. This time though, we set the ``tzinfo`` to eastern time. \n",
    "Similarly, we create a datetime set to 3 am on March 12th, and when we set ``tzinfo`` to be eastern time, ``dateutil`` figures out for us that it should be in EDT."
   ]
  },
  {
   "cell_type": "markdown",
   "metadata": {},
   "source": [
    "## Exercise\n",
    "\n",
    "### How many hours elapsed around daylight saving?\n",
    "\n",
    "Since our bike data takes place in the fall, you'll have to do something else to learn about the start of daylight savings time.\n",
    "\n",
    "Let's look at March 12, 2017, in the Eastern United States, when Daylight Saving kicked in at 2 AM.\n",
    "\n",
    "If you create a ``datetime`` for midnight that night, and add 6 hours to it, how much time will have elapsed?"
   ]
  },
  {
   "cell_type": "code",
   "execution_count": 22,
   "metadata": {},
   "outputs": [
    {
     "name": "stdout",
     "output_type": "stream",
     "text": [
      "2017-03-12T00:00:00-05:00 to 2017-03-12T06:00:00-04:00\n",
      "6.0\n",
      "5.0\n"
     ]
    }
   ],
   "source": [
    "# Import datetime, timedelta, tz, timezone\n",
    "from datetime import datetime, timedelta, timezone\n",
    "from dateutil import tz\n",
    "\n",
    "# Start on March 12, 2017, midnight, then add 6 hours\n",
    "start = datetime(2017, 3, 12, tzinfo = tz.gettz('America/New_York'))\n",
    "end = start + timedelta(hours=6)\n",
    "print(start.isoformat() + \" to \" + end.isoformat())\n",
    "\n",
    "# How many hours have elapsed?\n",
    "print((end - start).total_seconds() / (60 * 60))\n",
    "\n",
    "# What if we move to UTC?\n",
    "print((end.astimezone(timezone.utc) - start.astimezone(timezone.utc)).total_seconds()/(60*60))"
   ]
  },
  {
   "cell_type": "markdown",
   "metadata": {},
   "source": [
    "### March 29, throughout a decade\n",
    "\n",
    "Daylight Saving rules are complicated: they're different in different places, they change over time, and they usually start on a Sunday (and so they move around the calendar).\n",
    "\n",
    "For example, in the United Kingdom, as of the time this lesson was written, Daylight Saving begins on the last Sunday in March. Let's look at the UTC offset for March 29, at midnight, for the years 2000 to 2010."
   ]
  },
  {
   "cell_type": "code",
   "execution_count": 23,
   "metadata": {},
   "outputs": [
    {
     "name": "stdout",
     "output_type": "stream",
     "text": [
      "2000-03-29T00:00:00+01:00\n",
      "2001-03-29T00:00:00+01:00\n",
      "2002-03-29T00:00:00+00:00\n",
      "2003-03-29T00:00:00+00:00\n",
      "2004-03-29T00:00:00+01:00\n",
      "2005-03-29T00:00:00+01:00\n",
      "2006-03-29T00:00:00+01:00\n",
      "2007-03-29T00:00:00+01:00\n",
      "2008-03-29T00:00:00+00:00\n",
      "2009-03-29T00:00:00+00:00\n",
      "2010-03-29T00:00:00+01:00\n"
     ]
    }
   ],
   "source": [
    "# Import datetime and tz\n",
    "from datetime import datetime\n",
    "from dateutil import tz\n",
    "\n",
    "# Create starting date\n",
    "dt = datetime(2000, 3, 29, tzinfo = tz.gettz('Europe/London'))\n",
    "\n",
    "# Loop over the dates, replacing the year, and print the ISO timestamp\n",
    "for y in range(2000, 2011):\n",
    "  print(dt.replace(year=y).isoformat())"
   ]
  }
 ],
 "metadata": {
  "kernelspec": {
   "display_name": "Python 3.9.12 ('Py3')",
   "language": "python",
   "name": "python3"
  },
  "language_info": {
   "codemirror_mode": {
    "name": "ipython",
    "version": 3
   },
   "file_extension": ".py",
   "mimetype": "text/x-python",
   "name": "python",
   "nbconvert_exporter": "python",
   "pygments_lexer": "ipython3",
   "version": "3.9.12"
  },
  "orig_nbformat": 4,
  "vscode": {
   "interpreter": {
    "hash": "73990f7905ce18e2def91a603fe09ae38383e0aba9dfcdeb23468ee256a89966"
   }
  }
 },
 "nbformat": 4,
 "nbformat_minor": 2
}
