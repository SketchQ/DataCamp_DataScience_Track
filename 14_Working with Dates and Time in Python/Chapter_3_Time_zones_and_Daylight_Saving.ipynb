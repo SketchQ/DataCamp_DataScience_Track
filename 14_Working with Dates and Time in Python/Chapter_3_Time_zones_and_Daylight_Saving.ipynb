{
 "cells": [
  {
   "cell_type": "markdown",
   "metadata": {},
   "source": [
    "# Lesson I\n",
    "\n",
    "## UTC OffSets\n",
    "\n",
    "Sometimes, you really need to know exactly when something happened. Up until now, the datetime objects you have worked with are what is called *\"naive\"*, and can't be compared across different parts of the world. They don't know anything about their time zone.\n",
    "\n",
    "### Time Zones\n",
    "\n",
    "Why does this matter? Before time zones, each town or city set its clock so that noon was directly overhead.\n",
    "\n",
    "Another city 100 miles away would also set their clocks to be noon when the sun was overhead.\n",
    "\n",
    "But this meant that these two cities had clocks that were different, by maybe 15 or 20 minutes. When people moved by foot or horseback, this wasn't a problem.\n",
    "\n",
    "Then railroads, and later telegraphs, came into existence. Now you could move or communicate with someone 100 or even 1000 miles away fast enough that time had to be consistent.\n",
    "\n",
    "Governments solved this problem by declaring that all clocks within a wide area would agree on the hour, even if some were ahead or behind of their solar time. The United States, for example, has 4 major time zones, plus one for Alaska and another for Hawaii. Our bike data was collected in Washington, DC, which observes Eastern time.\n",
    "\n",
    "### UTC\n",
    "\n",
    "But since we're not using the sun anymore, how do we know how to set the clock? Because the United Kingdom was the first to standardize its time, everyone in the world sets their clocks relative to the original historical UK standard. \n",
    "\n",
    "This standard time is called *UTC*. Because all clocks are set relative to UTC, we can compare time around the world. Generally, clocks west of the UK are set earlier than UTC, and clocks east of the UK are set later than UTC. \n",
    "\n",
    "For example, the eastern United States is typically UTC minus 5 hours, while India is typically UTC plus 5 hours 30 minutes.\n",
    "\n",
    "Let's see this in code. As before, you *import datetime and timedelta*. Now you also import ``timezone``. This will let you specify what timezone the clock was in when our data was recorded.\n",
    "\n",
    "```python\n",
    "    # Import relevant classes\n",
    "    from datetime import datetime, timedelta, timezone\n",
    "```\n",
    "\n",
    "We create a ``timezone`` object, which accepts a ``timedelta`` that explains how to translate your datetime into *UTC*. In this case, since the clock that measured our bicycle data set was five hours behind UTC, we create ``ET`` to be at UTC-5. \n",
    "\n",
    "We can specify what time zone the clock was in when the last ride started in our data set. The clock that recorded the ride was 5 hours behind UTC. Now if you print it, your datetime includes the UTC offset.\n",
    "\n",
    "```python\n",
    "    # Import relevant classes\n",
    "    from datetime import datetime, timedelta, timezone\n",
    "\n",
    "    # US Eastern Standart time zone\n",
    "    ET = timezone(timedelta(hours=-5))\n",
    "    # Timezone-aware datetime object\n",
    "    dt = datetime(2017, 12, 30, 15, 9, 3 , tzinfo=ET)\n",
    "\n",
    "    print(dt)\n",
    "    # Output\n",
    "    2017-12-30 15:09:03-05:00\n",
    "```\n",
    "\n",
    "Making a ``datetime`` *\"aware\"* of its timezone means you can ask Python new questions. For example, suppose you want to know what the date and time would have been if the clock had been set to India Standard Time instead. \n",
    "\n",
    "First, create a new ``timezone`` object set to *UTC plus 5 hours 30 minutes*. \n",
    "Now use the ``astimezone()`` method to ask Python to create a new datetime object corresponding to the same moment, but adjusted to a different time zone. \n",
    "\n",
    "In this case, because clocks in India would have been set 10-point-5 hours ahead of clocks on the eastern US, the last ride would have taken place on *December 31, at 1 hour, 39 minutes, and 3 seconds past midnight local time*. Same moment, different clock.\n",
    "\n",
    "```python\n",
    "    # India Standart time zone\n",
    "    IST = timezone(timedelta(hours=5, minutes=30))\n",
    "    # Convert to IST\n",
    "    print(dt.astimezone(IST))\n",
    "    # Output\n",
    "    2017-12-31 01:39:03+05:30\n",
    "```\n",
    "\n",
    "#### Adjusting timezone vs changing tzinfo\n",
    "\n",
    "Finally, there is an important difference between adjusting timezones and changing the tzinfo directly. You can set the ``tzinfo`` directly, using the ``replace()`` method. \n",
    "\n",
    "Here we've set the tzinfo to be ``timezone.utc``, a convenient object with zero UTC offset. The clock stays the same, but the UTC offset has shifted. Or, just like before, you can call the ``astimezone()`` method. Now if we adjust into UTC with astimezone(``timezone.utc``), we change both the UTC offset and the clock itself.\n",
    "\n",
    "```python\n",
    "    print(dt)\n",
    "    # Output\n",
    "    2017-12-30 15:09:03-05:00\n",
    "    print(dt.replace(tzinfo=timezone.utc))\n",
    "    # Output\n",
    "    2017-12-30 15:09:03+00:00\n",
    "    # Change original to match UTC\n",
    "    print(dt.astimezone(timezone.utc))\n",
    "    # Output\n",
    "    2017-12-30 15:09:03+00:00\n",
    "```"
   ]
  },
  {
   "cell_type": "markdown",
   "metadata": {},
   "source": [
    "## Exercise\n",
    "\n",
    "### Creating timezone aware datetimes\n",
    "\n",
    "In this exercise, you will practice setting timezones manually."
   ]
  },
  {
   "cell_type": "code",
   "execution_count": 1,
   "metadata": {},
   "outputs": [
    {
     "name": "stdout",
     "output_type": "stream",
     "text": [
      "2017-10-01T15:26:26+00:00\n"
     ]
    }
   ],
   "source": [
    "# Import datetime, timezone\n",
    "from datetime import datetime, timezone\n",
    "\n",
    "# October 1, 2017 at 15:26:26, UTC\n",
    "dt = datetime(2017, 10, 1, 15, 26, 26, tzinfo=timezone.utc)\n",
    "\n",
    "# Print results\n",
    "print(dt.isoformat())"
   ]
  },
  {
   "cell_type": "code",
   "execution_count": 4,
   "metadata": {},
   "outputs": [
    {
     "name": "stdout",
     "output_type": "stream",
     "text": [
      "2017-10-01T15:26:26-08:00\n"
     ]
    }
   ],
   "source": [
    "# Import datetime, timedelta, timezone\n",
    "from datetime import datetime, timedelta, timezone\n",
    "\n",
    "# Create a timezone for Pacific Standard Time, or UTC-8\n",
    "pst = timezone(timedelta(hours=-8))\n",
    "\n",
    "# October 1, 2017 at 15:26:26, UTC-8\n",
    "dt = datetime(2017, 10, 1, 15, 26, 26, tzinfo=pst)\n",
    "\n",
    "# Print results\n",
    "print(dt.isoformat())"
   ]
  },
  {
   "cell_type": "code",
   "execution_count": 6,
   "metadata": {},
   "outputs": [
    {
     "name": "stdout",
     "output_type": "stream",
     "text": [
      "2017-10-01T15:26:26+11:00\n"
     ]
    }
   ],
   "source": [
    "# Import datetime, timedelta, timezone\n",
    "from datetime import datetime, timedelta, timezone\n",
    "\n",
    "# Create a timezone for Australian Eastern Daylight Time, or UTC+11\n",
    "aedt = timezone(timedelta(hours=11))\n",
    "\n",
    "# October 1, 2017 at 15:26:26, UTC+11\n",
    "dt = datetime(2017, 10, 1, 15, 26, 26, tzinfo=aedt)\n",
    "\n",
    "# Print results\n",
    "print(dt.isoformat())"
   ]
  },
  {
   "cell_type": "markdown",
   "metadata": {},
   "source": [
    "### Setting Timezones\n",
    "\n",
    "Now that you have the hang of setting timezones one at a time, let's look at setting them for the first ten trips that *W20529* took.\n",
    "\n",
    "``timezone`` and ``timedelta`` have already been imported. Make the change using ``.replace()``"
   ]
  },
  {
   "cell_type": "code",
   "execution_count": null,
   "metadata": {},
   "outputs": [],
   "source": [
    "# THIS WILL ONLY WORK ON DATACAMP WORKSPACE\n",
    "\n",
    "# Create a timezone object corresponding to UTC-4\n",
    "edt = timezone(timedelta(hours=-4))\n",
    "\n",
    "# Loop over trips, updating the start and end datetimes to be in UTC-4\n",
    "for trip in onebike_datetimes[:10]:\n",
    "  # Update trip['start'] and trip['end']\n",
    "  trip['start'] = trip['start'].replace(tzinfo=edt)\n",
    "  trip['end'] = trip['end'].replace(tzinfo=edt)"
   ]
  },
  {
   "cell_type": "markdown",
   "metadata": {},
   "source": [
    "### What time did the bike leave in UTC?\n",
    "\n",
    "Having set the timezone for the first ten rides that *W20529* took, let's see what time the bike left in UTC. We've already loaded the results of the previous exercise into memory."
   ]
  },
  {
   "cell_type": "code",
   "execution_count": null,
   "metadata": {},
   "outputs": [],
   "source": [
    "# THIS WILL ONLY WORK ON DATACAMP WORKSPACE\n",
    "\n",
    "\n",
    "# Loop over the trips\n",
    "for trip in onebike_datetimes[:10]:\n",
    "  # Pull out the start\n",
    "  dt = trip['start']\n",
    "  # Move dt to be in UTC\n",
    "  dt = dt.astimezone(timezone.utc)\n",
    "  \n",
    "  # Print the start time in UTC\n",
    "  print('Original:', trip['start'], '| UTC:', dt.isoformat())"
   ]
  }
 ],
 "metadata": {
  "kernelspec": {
   "display_name": "Python 3.9.12 ('Py3')",
   "language": "python",
   "name": "python3"
  },
  "language_info": {
   "codemirror_mode": {
    "name": "ipython",
    "version": 3
   },
   "file_extension": ".py",
   "mimetype": "text/x-python",
   "name": "python",
   "nbconvert_exporter": "python",
   "pygments_lexer": "ipython3",
   "version": "3.9.12"
  },
  "orig_nbformat": 4,
  "vscode": {
   "interpreter": {
    "hash": "73990f7905ce18e2def91a603fe09ae38383e0aba9dfcdeb23468ee256a89966"
   }
  }
 },
 "nbformat": 4,
 "nbformat_minor": 2
}
