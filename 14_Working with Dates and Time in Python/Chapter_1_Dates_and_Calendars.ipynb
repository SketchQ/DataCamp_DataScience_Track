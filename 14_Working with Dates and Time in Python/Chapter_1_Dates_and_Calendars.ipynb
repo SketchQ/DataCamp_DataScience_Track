{
 "cells": [
  {
   "cell_type": "markdown",
   "metadata": {},
   "source": [
    "# Lesson I \n",
    "\n",
    "Hurricanes (also known as cyclones or typhoons) hit the U.S. state of Florida several times per year. To start off this course, you'll learn how to work with date objects in Python, starting with the dates of every hurricane to hit Florida since 1950. You'll learn how Python handles dates, common date operations, and the right way to format dates to avoid confusion.\n",
    "\n",
    "## Dates in Python\n",
    "\n",
    "Dates are everywhere in data science. Stock prices go up and down, experiments begin and end, people are born, politicians take votes, and on and on. All these events happen at a particular point in time. Knowing how to analyze data over time is a core data science skill.\n",
    "\n",
    "### Course Overview\n",
    "\n",
    "* Chapter 1 : Dates and Calendars\n",
    "* Chapter 2: Combining Dates and Times\n",
    "* Chapter 3 : Time zones and Daylight Savings \n",
    "* Chapter 4 : Working with Dates in Python\n",
    "\n",
    "### Dates in Python\n",
    "\n",
    "Let's begin. Python has a special date class, called ``\"date\"``, which you will use to represent dates. \n",
    "A date, like a *string*, or a *number*, or a *numpy array*, has special rules for creating it and methods for working with it. \n",
    "In this lesson, we're going to discuss creating dates and extracting some basic information out of them.\n",
    "\n",
    "#### Why do we need a date class in Python?\n",
    "\n",
    "Why do we need a special ``date`` class? Let's have a look. To understand how *dates* work, in this chapter you're going to be exploring 67 years of Hurricane landfalls in the US state of Florida. \n",
    "``two_hurricanes`` is a ``list`` with the dates of two hurricanes represented as *strings*: the last 2016 hurricane (on October 7th, 2016) and the first 2017 hurricane (on June 21st, 2017). \n",
    "The dates are represented in the US style, with the month, then the day, then the year.\n",
    "\n",
    "```python\n",
    "two_hurricanes = [\"10/7/2016\", \"6/21/2017\"]\n",
    "```\n",
    "\n",
    "**How would you:**\n",
    "\n",
    "* Figure out how many days had elapsed?\n",
    "* Check that they were in order from earliest to latest?\n",
    "* Know which day of the week each was?\n",
    "* Filter out hurricanes which happened between certaind dates?\n",
    "\n",
    "#### Creating Date Objects\n",
    "\n",
    "To create a ``date`` object, we start by *importing the date class*. The collection of date and time-related classes are stored in the ``\"datetime\"`` package. We create a date using the ``date()`` function.\n",
    "\n",
    "```python\n",
    "# Import date\n",
    "from datetime import date\n",
    "# Create dates\n",
    "two_hurricanes = [date(2016, 10, 7), date(2017, 6, 21)]\n",
    "```\n",
    "Here we've created dates corresponding to the two hurricanes, now as Python date objects. The inputs to ``date()`` are the *year*, *month*, and *day*. \n",
    "The first date is October 7, 2016, and the second date is June 21, 2017. The order is easy to remember: it goes from the *biggest to smallest*. Year, month, day. \n",
    "\n",
    "Later in this chapter, you'll create dates directly from lists of strings, but in this lesson, you're going to stick to creating dates by hand or using lists of already created dates.\n",
    "\n",
    "#### Attributes of a Date Object\n",
    "\n",
    "You can access individual components of a date using the date's attributes. You can access the year of the date using the year attribute, like so,\n",
    "\n",
    "```python\n",
    "# Import Date\n",
    "from datetime import date\n",
    "\n",
    "# Create dates\n",
    "two_hurricanes = [date(2016, 10, 7), date(2017, 6, 21)]\n",
    "\n",
    "# Get the year of the first date\n",
    "two_hurricanes[0].year\n",
    "# Get the month of the second date\n",
    "two_hurricanes[1].month\n",
    "# Get the day of the second date\n",
    "two_hurricanes[1].day\n",
    "```\n",
    "\n",
    "#### Finding the weekday of a date\n",
    "\n",
    "You can also ask Python to do more complicated work. Here we call the ``weekday()`` method on the date, and see that the weekday is ``4``.\n",
    "\n",
    "```python\n",
    "# weekday()\n",
    "two_hurricanes[0].weekday() # 4 = Friday\n",
    "```\n",
    "\n",
    "**Weekdays in Python**\n",
    "* 0 = Monday\n",
    "* 1 = Tuesday\n",
    "* 2 = Wednesday\n",
    "* 3 = Thursday\n",
    "* 4 = Friday\n",
    "* 5 = Saturday\n",
    "* 6 = Sunday"
   ]
  },
  {
   "cell_type": "markdown",
   "metadata": {},
   "source": [
    "## Exercise\n",
    "\n",
    "### Which day of the week?\n",
    "\n",
    "Hurricane Andrew, which hit Florida on August 24, 1992, was one of the costliest and deadliest hurricanes in US history. Which day of the week did it make landfall?"
   ]
  },
  {
   "cell_type": "code",
   "execution_count": 3,
   "metadata": {},
   "outputs": [
    {
     "data": {
      "text/plain": [
       "0"
      ]
     },
     "metadata": {},
     "output_type": "display_data"
    }
   ],
   "source": [
    "# Import date from datetime\n",
    "from datetime import date\n",
    "\n",
    "# Create a date object\n",
    "hurricane_andrew = date(1992, 8, 24)\n",
    "\n",
    "# Which day of the week is the hurricane Andrew?\n",
    "display(hurricane_andrew.weekday())"
   ]
  },
  {
   "cell_type": "markdown",
   "metadata": {},
   "source": [
    "### How many hurricanes come early?\n",
    "\n",
    "In this chapter, you will work with a list of the hurricanes that made landfall in Florida from 1950 to 2017. There were 235 in total. Check out the variable ``florida_hurricane_dates``, which has all of these dates.\n",
    "\n",
    "Atlantic hurricane season officially begins on June 1. How many hurricanes since 1950 have made landfall in Florida before the official start of hurricane season?"
   ]
  },
  {
   "cell_type": "code",
   "execution_count": 7,
   "metadata": {},
   "outputs": [
    {
     "name": "stdout",
     "output_type": "stream",
     "text": [
      "10\n"
     ]
    }
   ],
   "source": [
    "# Import pandas\n",
    "import pandas as pd\n",
    "\n",
    "# Florida hurricane data\n",
    "florida_hurricane_date = pd.read_pickle('datasets/florida_hurricane_dates.pkl')\n",
    "\n",
    "# Counter for how many before June 1\n",
    "early_hurricanes = 0\n",
    "\n",
    "# We loop over the dates\n",
    "for hurricane in florida_hurricane_date:\n",
    "    # Check if the month is before June \n",
    "    if hurricane.month < 6:\n",
    "        # Increment the counter\n",
    "        early_hurricanes += 1\n",
    "        \n",
    "# Print the number of early hurricanes\n",
    "print(early_hurricanes)        "
   ]
  },
  {
   "cell_type": "markdown",
   "metadata": {},
   "source": [
    "# Lesson II\n",
    "\n",
    "## Math with Dates\n",
    "\n",
    "In the last lesson, we discussed how to create date objects and access their attributes. In this lesson, we're going to talk about how to do math with dates: counting days between events, moving forward or backward by a number of days, putting them in order, and so on.\n",
    "\n",
    "Let's take a step back. Think back to when you first learned arithmetic. You probably started with something like this: a number line. This one has the numbers 10 through 16 on it.\n",
    "\n",
    "```python\n",
    "numbers = [10, 11, 12, 13, 14, 15, 16]\n",
    "```\n",
    "\n",
    "A number line tells you what order the numbers go in, and how far apart numbers are from each other. Let's pick two numbers, 11 and 14, and represent them in Python as the variables a and b, respectively. \n",
    "We'll put them into a list, l. \n",
    "Python can tell us which number in this list is the least, using the ``min()`` function. *min* stands for the minimum. In this case, *11* is the lowest number in the list, so we get *11*.\n",
    "\n",
    "```python\n",
    "# Example numbers\n",
    "a = 11\n",
    "b = 14\n",
    "l = [a, b]\n",
    "\n",
    "# Find the minimum\n",
    "min(l) # 11\n",
    "```\n",
    "\n",
    "We can also subtract numbers. When you subtract two numbers, in this case subtracting 11 from 14, the result is 3. Said another way, if we took three steps from 11, we would get 14.\n",
    "\n",
    "Now let's think about how this applies to dates. Let's call this line a calendar line, instead of a number line. Each dot on this calendar line corresponds to a particular day\n",
    "\n",
    "Let's put two dates onto this calendar line: November 5th, 2017, and December 4th, 2017. Let's represent this in Python. \n",
    "\n",
    "```python\n",
    "# Import date\n",
    "from datetime import date\n",
    "\n",
    "# Create our dates\n",
    "d1 = date(2017, 11, 5)\n",
    "d2 = date(2017, 12, 4)\n",
    "l = [d1, d2]\n",
    "\n",
    "# Find the minimum\n",
    "min(l) # date(2017, 11, 5)\n",
    "```\n",
    "\n",
    "We start by importing the ``date`` class from the ``datetime`` package. \n",
    "We create two date objects: ``d1`` is *November 5th, 2017*, and ``d2`` is `**December 4th, 2017**`. As before, we put them into a list, ``l``. \n",
    "What Python is doing under the hood, so to speak, is not that different from putting the dates onto a calendar line. \n",
    "For example, if we call ``min`` of ``l``, we again get the **\"least\"** date, which means the earliest one. In this case, that's *November 5th, 2017*.\n",
    "\n",
    "And just like numbers, we can subtract two dates. When we do this, we get an object of type ``\"timedelta\"``. \n",
    "Timedeltas give us the elapsed time between events. If you access the days attribute of this object, you can obtain the number of days between the two dates.\n",
    "\n",
    "```python\t\n",
    "# Subtract the dates\n",
    "delta = d2 - d1\n",
    "\n",
    "print(delta.days) # 29\n",
    "```\n",
    "\n",
    "We can also use a timedelta in the other direction. \n",
    "\n",
    "```python\t\n",
    "# Import timedelta\n",
    "from datetime import timedelta\n",
    "# Create a 29 day timedelta\n",
    "delta = timedelta(days=29)\n",
    "# Print (d1 + delta)\n",
    "print(d1 + delta) # 207-12-04\n",
    "```\n",
    "\n",
    "First, let's import ``timedelta`` from ``datetime``. \n",
    "Next, we create a 29-day timedelta, by passing days=29 to ``timedelta()``. \n",
    "Now when we add ``td`` to our original date we get back *December 4th, 2017*. \n",
    "Python handled the fact that November has 30 days in it for us, without us having to remember which months are 30 day months, 31 day months, or 28 day months."
   ]
  },
  {
   "cell_type": "markdown",
   "metadata": {},
   "source": [
    "## Exercise\n",
    "\n",
    "### Substracting dates\n",
    "\n",
    "Python date objects let us treat calendar dates as something similar to numbers: we can compare them, sort them, add, and even subtract them. This lets us do math with dates in a way that would be a pain to do by hand.\n",
    "\n",
    "The 2007 Florida hurricane season was one of the busiest on record, with 8 hurricanes in one year. The first one hit on May 9th, 2007, and the last one hit on December 13th, 2007. How many days elapsed between the first and last hurricane in 2007?"
   ]
  },
  {
   "cell_type": "code",
   "execution_count": 9,
   "metadata": {},
   "outputs": [
    {
     "name": "stdout",
     "output_type": "stream",
     "text": [
      "218\n"
     ]
    }
   ],
   "source": [
    "# Import date\n",
    "from datetime import date\n",
    "\n",
    "# Create a date object for May 9th, 2007\n",
    "start = date(2007, 5, 9)\n",
    "\n",
    "# Create a date object for December 13th, 2007\n",
    "end = date(2007, 12, 13)\n",
    "\n",
    "# Substract the two dates and print the result\n",
    "print((end - start).days)"
   ]
  },
  {
   "cell_type": "markdown",
   "metadata": {},
   "source": [
    "### Counting events per calendar month\n",
    "\n",
    "Hurricanes can make landfall in Florida throughout the year. As we've already discussed, some months are more hurricane-prone than others.\n",
    "\n",
    "Using ``florida_hurricane_dates``, let's see how hurricanes in Florida were distributed across months throughout the year.\n",
    "\n",
    "We've created a dictionary called ``hurricanes_each_month`` to hold your counts and set the initial counts to zero. You will loop over the list of hurricanes, incrementing the correct month in ``hurricanes_each_month`` as you go, and then print the result."
   ]
  },
  {
   "cell_type": "code",
   "execution_count": 10,
   "metadata": {},
   "outputs": [
    {
     "name": "stdout",
     "output_type": "stream",
     "text": [
      "{1: 0, 2: 1, 3: 0, 4: 1, 5: 8, 6: 32, 7: 21, 8: 49, 9: 70, 10: 43, 11: 9, 12: 1}\n"
     ]
    }
   ],
   "source": [
    "# A dictionary to count hurricanes per calendar month\n",
    "hurricanes_each_month = {1: 0, 2: 0, 3: 0, 4: 0, 5: 0, 6:0,\n",
    "\t\t  \t\t\t\t 7: 0, 8:0, 9:0, 10:0, 11:0, 12:0}\n",
    "\n",
    "# Loop over the hurricanes\n",
    "for hurricane in florida_hurricane_date:\n",
    "    # Pull out the month\n",
    "    month = hurricane.month\n",
    "    # Increment the count in your dictionary by one\n",
    "    hurricanes_each_month[month] += 1\n",
    "    \n",
    "# Print the dictionary\n",
    "print(hurricanes_each_month)    "
   ]
  },
  {
   "cell_type": "markdown",
   "metadata": {},
   "source": [
    "### Putting a list of dates in order\n",
    "\n",
    "Much like numbers and strings, ``date`` objects in Python can be put in order. Earlier dates come before later ones, and so we can sort a list of date objects from earliest to latest.\n",
    "\n",
    "What if our Florida hurricane dates had been scrambled? We've gone ahead and shuffled them so they're in random order and saved the results as ``dates_scrambled``. Your job is to put them back in chronological order, and then print the first and last dates from this sorted list."
   ]
  },
  {
   "cell_type": "code",
   "execution_count": 18,
   "metadata": {},
   "outputs": [
    {
     "name": "stdout",
     "output_type": "stream",
     "text": [
      "1964-09-10\n",
      "1992-06-25\n",
      "1950-08-31\n",
      "2017-10-29\n"
     ]
    }
   ],
   "source": [
    "# Dates_scrambled\n",
    "import random\n",
    "dates_scrambled = florida_hurricane_date.copy()\n",
    "random.shuffle(dates_scrambled)\n",
    "\n",
    "# Print the first and last scrambled dates\n",
    "print(dates_scrambled[0])\n",
    "print(dates_scrambled[-1])\n",
    "\n",
    "# Put the dates in order\n",
    "dates_ordered = sorted(dates_scrambled)\n",
    "\n",
    "# Print the first and last ordered dates\n",
    "print(dates_ordered[0])\n",
    "print(dates_ordered[-1])"
   ]
  }
 ],
 "metadata": {
  "kernelspec": {
   "display_name": "Python 3.9.12 ('Py3')",
   "language": "python",
   "name": "python3"
  },
  "language_info": {
   "codemirror_mode": {
    "name": "ipython",
    "version": 3
   },
   "file_extension": ".py",
   "mimetype": "text/x-python",
   "name": "python",
   "nbconvert_exporter": "python",
   "pygments_lexer": "ipython3",
   "version": "3.9.12"
  },
  "orig_nbformat": 4,
  "vscode": {
   "interpreter": {
    "hash": "73990f7905ce18e2def91a603fe09ae38383e0aba9dfcdeb23468ee256a89966"
   }
  }
 },
 "nbformat": 4,
 "nbformat_minor": 2
}
