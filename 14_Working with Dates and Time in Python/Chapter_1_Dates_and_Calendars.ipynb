{
 "cells": [
  {
   "cell_type": "markdown",
   "metadata": {},
   "source": [
    "# Lesson I \n",
    "\n",
    "Hurricanes (also known as cyclones or typhoons) hit the U.S. state of Florida several times per year. To start off this course, you'll learn how to work with date objects in Python, starting with the dates of every hurricane to hit Florida since 1950. You'll learn how Python handles dates, common date operations, and the right way to format dates to avoid confusion.\n",
    "\n",
    "## Dates in Python\n",
    "\n",
    "Dates are everywhere in data science. Stock prices go up and down, experiments begin and end, people are born, politicians take votes, and on and on. All these events happen at a particular point in time. Knowing how to analyze data over time is a core data science skill.\n",
    "\n",
    "### Course Overview\n",
    "\n",
    "* Chapter 1 : Dates and Calendars\n",
    "* Chapter 2: Combining Dates and Times\n",
    "* Chapter 3 : Time zones and Daylight Savings \n",
    "* Chapter 4 : Working with Dates in Python\n",
    "\n",
    "### Dates in Python\n",
    "\n",
    "Let's begin. Python has a special date class, called ``\"date\"``, which you will use to represent dates. \n",
    "A date, like a *string*, or a *number*, or a *numpy array*, has special rules for creating it and methods for working with it. \n",
    "In this lesson, we're going to discuss creating dates and extracting some basic information out of them.\n",
    "\n",
    "#### Why do we need a date class in Python?\n",
    "\n",
    "Why do we need a special ``date`` class? Let's have a look. To understand how *dates* work, in this chapter you're going to be exploring 67 years of Hurricane landfalls in the US state of Florida. \n",
    "``two_hurricanes`` is a ``list`` with the dates of two hurricanes represented as *strings*: the last 2016 hurricane (on October 7th, 2016) and the first 2017 hurricane (on June 21st, 2017). \n",
    "The dates are represented in the US style, with the month, then the day, then the year.\n",
    "\n",
    "```python\n",
    "two_hurricanes = [\"10/7/2016\", \"6/21/2017\"]\n",
    "```\n",
    "\n",
    "**How would you:**\n",
    "\n",
    "* Figure out how many days had elapsed?\n",
    "* Check that they were in order from earliest to latest?\n",
    "* Know which day of the week each was?\n",
    "* Filter out hurricanes which happened between certaind dates?\n",
    "\n",
    "#### Creating Date Objects\n",
    "\n",
    "To create a ``date`` object, we start by *importing the date class*. The collection of date and time-related classes are stored in the ``\"datetime\"`` package. We create a date using the ``date()`` function.\n",
    "\n",
    "```python\n",
    "# Import date\n",
    "from datetime import date\n",
    "# Create dates\n",
    "two_hurricanes = [date(2016, 10, 7), date(2017, 6, 21)]\n",
    "```\n",
    "Here we've created dates corresponding to the two hurricanes, now as Python date objects. The inputs to ``date()`` are the *year*, *month*, and *day*. \n",
    "The first date is October 7, 2016, and the second date is June 21, 2017. The order is easy to remember: it goes from the *biggest to smallest*. Year, month, day. \n",
    "\n",
    "Later in this chapter, you'll create dates directly from lists of strings, but in this lesson, you're going to stick to creating dates by hand or using lists of already created dates.\n",
    "\n",
    "#### Attributes of a Date Object\n",
    "\n",
    "You can access individual components of a date using the date's attributes. You can access the year of the date using the year attribute, like so,\n",
    "\n",
    "```python\n",
    "# Import Date\n",
    "from datetime import date\n",
    "\n",
    "# Create dates\n",
    "two_hurricanes = [date(2016, 10, 7), date(2017, 6, 21)]\n",
    "\n",
    "# Get the year of the first date\n",
    "two_hurricanes[0].year\n",
    "# Get the month of the second date\n",
    "two_hurricanes[1].month\n",
    "# Get the day of the second date\n",
    "two_hurricanes[1].day\n",
    "```\n",
    "\n",
    "#### Finding the weekday of a date\n",
    "\n",
    "You can also ask Python to do more complicated work. Here we call the ``weekday()`` method on the date, and see that the weekday is ``4``.\n",
    "\n",
    "```python\n",
    "# weekday()\n",
    "two_hurricanes[0].weekday() # 4 = Friday\n",
    "```\n",
    "\n",
    "**Weekdays in Python**\n",
    "* 0 = Monday\n",
    "* 1 = Tuesday\n",
    "* 2 = Wednesday\n",
    "* 3 = Thursday\n",
    "* 4 = Friday\n",
    "* 5 = Saturday\n",
    "* 6 = Sunday"
   ]
  },
  {
   "cell_type": "markdown",
   "metadata": {},
   "source": [
    "## Exercise\n",
    "\n",
    "### Which day of the week?\n",
    "\n",
    "Hurricane Andrew, which hit Florida on August 24, 1992, was one of the costliest and deadliest hurricanes in US history. Which day of the week did it make landfall?"
   ]
  },
  {
   "cell_type": "code",
   "execution_count": 3,
   "metadata": {},
   "outputs": [
    {
     "data": {
      "text/plain": [
       "0"
      ]
     },
     "metadata": {},
     "output_type": "display_data"
    }
   ],
   "source": [
    "# Import date from datetime\n",
    "from datetime import date\n",
    "\n",
    "# Create a date object\n",
    "hurricane_andrew = date(1992, 8, 24)\n",
    "\n",
    "# Which day of the week is the hurricane Andrew?\n",
    "display(hurricane_andrew.weekday())"
   ]
  },
  {
   "cell_type": "markdown",
   "metadata": {},
   "source": [
    "### How many hurricanes come early?\n",
    "\n",
    "In this chapter, you will work with a list of the hurricanes that made landfall in Florida from 1950 to 2017. There were 235 in total. Check out the variable ``florida_hurricane_dates``, which has all of these dates.\n",
    "\n",
    "Atlantic hurricane season officially begins on June 1. How many hurricanes since 1950 have made landfall in Florida before the official start of hurricane season?"
   ]
  },
  {
   "cell_type": "code",
   "execution_count": 7,
   "metadata": {},
   "outputs": [
    {
     "name": "stdout",
     "output_type": "stream",
     "text": [
      "10\n"
     ]
    }
   ],
   "source": [
    "# Import pandas\n",
    "import pandas as pd\n",
    "\n",
    "# Florida hurricane data\n",
    "florida_hurricane_date = pd.read_pickle('datasets/florida_hurricane_dates.pkl')\n",
    "\n",
    "# Counter for how many before June 1\n",
    "early_hurricanes = 0\n",
    "\n",
    "# We loop over the dates\n",
    "for hurricane in florida_hurricane_date:\n",
    "    # Check if the month is before June \n",
    "    if hurricane.month < 6:\n",
    "        # Increment the counter\n",
    "        early_hurricanes += 1\n",
    "        \n",
    "# Print the number of early hurricanes\n",
    "print(early_hurricanes)        "
   ]
  }
 ],
 "metadata": {
  "kernelspec": {
   "display_name": "Python 3.9.12 ('Py3')",
   "language": "python",
   "name": "python3"
  },
  "language_info": {
   "codemirror_mode": {
    "name": "ipython",
    "version": 3
   },
   "file_extension": ".py",
   "mimetype": "text/x-python",
   "name": "python",
   "nbconvert_exporter": "python",
   "pygments_lexer": "ipython3",
   "version": "3.9.12"
  },
  "orig_nbformat": 4,
  "vscode": {
   "interpreter": {
    "hash": "73990f7905ce18e2def91a603fe09ae38383e0aba9dfcdeb23468ee256a89966"
   }
  }
 },
 "nbformat": 4,
 "nbformat_minor": 2
}
