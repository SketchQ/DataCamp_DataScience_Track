{
 "cells": [
  {
   "cell_type": "markdown",
   "metadata": {},
   "source": [
    "# Lesson I\n",
    "\n",
    "## Reading date and time data in Pandas\n",
    "\n",
    "In this chapter, you will use the Pandas library to work with dates and times. You should have encountered Pandas before, but now we will add datetimes to the mix.\n",
    "\n",
    "### A simple Pandas example\n",
    "\n",
    "To start with, let's load data with Pandas. First, we *import pandas*, and as is customary we use the alias *pd*. \n",
    "Our data is in a csv file, so we load it with the ``read_csv()`` function. ``pd.read_csv()`` has one required argument, the name of the file to load, which in this case is ``capital-onebike.csv``. We save the result to the variable rides. Let's print the first three rows to see what we've got."
   ]
  },
  {
   "cell_type": "code",
   "execution_count": 2,
   "metadata": {},
   "outputs": [
    {
     "data": {
      "text/html": [
       "<div>\n",
       "<style scoped>\n",
       "    .dataframe tbody tr th:only-of-type {\n",
       "        vertical-align: middle;\n",
       "    }\n",
       "\n",
       "    .dataframe tbody tr th {\n",
       "        vertical-align: top;\n",
       "    }\n",
       "\n",
       "    .dataframe thead th {\n",
       "        text-align: right;\n",
       "    }\n",
       "</style>\n",
       "<table border=\"1\" class=\"dataframe\">\n",
       "  <thead>\n",
       "    <tr style=\"text-align: right;\">\n",
       "      <th></th>\n",
       "      <th>Start date</th>\n",
       "      <th>End date</th>\n",
       "      <th>Start station number</th>\n",
       "      <th>Start station</th>\n",
       "      <th>End station number</th>\n",
       "      <th>End station</th>\n",
       "      <th>Bike number</th>\n",
       "      <th>Member type</th>\n",
       "    </tr>\n",
       "  </thead>\n",
       "  <tbody>\n",
       "    <tr>\n",
       "      <th>0</th>\n",
       "      <td>2017-10-01 15:23:25</td>\n",
       "      <td>2017-10-01 15:26:26</td>\n",
       "      <td>31038</td>\n",
       "      <td>Glebe Rd &amp; 11th St N</td>\n",
       "      <td>31036</td>\n",
       "      <td>George Mason Dr &amp; Wilson Blvd</td>\n",
       "      <td>W20529</td>\n",
       "      <td>Member</td>\n",
       "    </tr>\n",
       "    <tr>\n",
       "      <th>1</th>\n",
       "      <td>2017-10-01 15:42:57</td>\n",
       "      <td>2017-10-01 17:49:59</td>\n",
       "      <td>31036</td>\n",
       "      <td>George Mason Dr &amp; Wilson Blvd</td>\n",
       "      <td>31036</td>\n",
       "      <td>George Mason Dr &amp; Wilson Blvd</td>\n",
       "      <td>W20529</td>\n",
       "      <td>Casual</td>\n",
       "    </tr>\n",
       "    <tr>\n",
       "      <th>2</th>\n",
       "      <td>2017-10-02 06:37:10</td>\n",
       "      <td>2017-10-02 06:42:53</td>\n",
       "      <td>31036</td>\n",
       "      <td>George Mason Dr &amp; Wilson Blvd</td>\n",
       "      <td>31037</td>\n",
       "      <td>Ballston Metro / N Stuart &amp; 9th St N</td>\n",
       "      <td>W20529</td>\n",
       "      <td>Member</td>\n",
       "    </tr>\n",
       "  </tbody>\n",
       "</table>\n",
       "</div>"
      ],
      "text/plain": [
       "            Start date             End date  Start station number  \\\n",
       "0  2017-10-01 15:23:25  2017-10-01 15:26:26                 31038   \n",
       "1  2017-10-01 15:42:57  2017-10-01 17:49:59                 31036   \n",
       "2  2017-10-02 06:37:10  2017-10-02 06:42:53                 31036   \n",
       "\n",
       "                   Start station  End station number  \\\n",
       "0           Glebe Rd & 11th St N               31036   \n",
       "1  George Mason Dr & Wilson Blvd               31036   \n",
       "2  George Mason Dr & Wilson Blvd               31037   \n",
       "\n",
       "                            End station Bike number Member type  \n",
       "0         George Mason Dr & Wilson Blvd      W20529      Member  \n",
       "1         George Mason Dr & Wilson Blvd      W20529      Casual  \n",
       "2  Ballston Metro / N Stuart & 9th St N      W20529      Member  "
      ]
     },
     "execution_count": 2,
     "metadata": {},
     "output_type": "execute_result"
    }
   ],
   "source": [
    "# Load Pandas\n",
    "import pandas as pd\n",
    "# Import W20529's rides in Q4 2017\n",
    "rides = pd.read_csv('datasets/capital-onebike.csv')\n",
    "# See our data\n",
    "rides.head(3)"
   ]
  },
  {
   "cell_type": "markdown",
   "metadata": {},
   "source": [
    "We can also select a particular column by using the brackets, as here where we call ``rides['Start date']``. And we can get a particular row with .``iloc[]``, in this case row number 2. Because we didn't tell Pandas to treat the start date and end date columns as datetimes, they are simply strings or objects. We want them to be datetimes so we can work with them effectively, using the tools from the first three chapters of this course."
   ]
  },
  {
   "cell_type": "code",
   "execution_count": 3,
   "metadata": {},
   "outputs": [
    {
     "data": {
      "text/plain": [
       "0      2017-10-01 15:23:25\n",
       "1      2017-10-01 15:42:57\n",
       "2      2017-10-02 06:37:10\n",
       "3      2017-10-02 08:56:45\n",
       "4      2017-10-02 18:23:48\n",
       "              ...         \n",
       "285    2017-12-29 14:32:55\n",
       "286    2017-12-29 15:08:26\n",
       "287    2017-12-29 20:33:34\n",
       "288    2017-12-30 13:51:03\n",
       "289    2017-12-30 15:09:03\n",
       "Name: Start date, Length: 290, dtype: object"
      ]
     },
     "execution_count": 3,
     "metadata": {},
     "output_type": "execute_result"
    }
   ],
   "source": [
    "rides['Start date']"
   ]
  },
  {
   "cell_type": "code",
   "execution_count": 4,
   "metadata": {},
   "outputs": [
    {
     "data": {
      "text/plain": [
       "Start date                               2017-10-02 06:37:10\n",
       "End date                                 2017-10-02 06:42:53\n",
       "Start station number                                   31036\n",
       "Start station                  George Mason Dr & Wilson Blvd\n",
       "End station number                                     31037\n",
       "End station             Ballston Metro / N Stuart & 9th St N\n",
       "Bike number                                           W20529\n",
       "Member type                                           Member\n",
       "Name: 2, dtype: object"
      ]
     },
     "execution_count": 4,
     "metadata": {},
     "output_type": "execute_result"
    }
   ],
   "source": [
    "rides.iloc[2]"
   ]
  },
  {
   "cell_type": "markdown",
   "metadata": {},
   "source": [
    "### Loading datetimes with parse_dates\n",
    "\n",
    "If we want Pandas to treat these columns as datetimes, we can make use of the argument ``parse_dates`` in ``.read_csv()``, and set it to be a list of column names, passed as strings. \n",
    "Now Pandas will read these columns and convert them for us to datetimes. \n",
    "\n",
    "Pandas will try and be intelligent and figure out the format of your datetime strings. In the rare case that this doesn't work, you can use the ``to_datetime()`` method that lets you specify the format manually. For more details, see the Pandas documentation."
   ]
  },
  {
   "cell_type": "code",
   "execution_count": 5,
   "metadata": {},
   "outputs": [],
   "source": [
    "# Import W20529's rides in Q4 2017\n",
    "rides = pd.read_csv('datasets/capital-onebike.csv',\n",
    "                    parse_dates= ['Start date', 'End date'])\n",
    "\n",
    "# Or:\n",
    "rides['Start date'] = pd.to_datetime(rides['Start date'],\n",
    "                                     format= \"%Y-%m-%d %H:%M:%S\")\n"
   ]
  },
  {
   "cell_type": "markdown",
   "metadata": {},
   "source": [
    "Now when we again ask for the Start date for row 2, we get back a *Pandas Timestamp*, which for essentially all purposes you can imagine is a Python Datetime object with a different name. They behave basically exactly the same."
   ]
  },
  {
   "cell_type": "code",
   "execution_count": 6,
   "metadata": {},
   "outputs": [
    {
     "data": {
      "text/plain": [
       "Timestamp('2017-10-02 06:37:10')"
      ]
     },
     "execution_count": 6,
     "metadata": {},
     "output_type": "execute_result"
    }
   ],
   "source": [
    "# Select Start date for row 2\n",
    "rides['Start date'].iloc[2]"
   ]
  },
  {
   "cell_type": "markdown",
   "metadata": {},
   "source": [
    "### Timezone-aware arithmetic\n",
    "\n",
    "Since our ``Start date`` and ``End date`` columns are now ``datetimes``, we can deal with them the way we usually deal with datetimes. \n",
    "For example, we can create a new column, ``Duration``, by subtracting ``Start date`` from ``End date``. \n",
    "Because each of these columns are datetimes, when we subtract them we get ``timedeltas``. \n",
    "\n",
    "If we print out the first 5 rows, we get that the first ride lasted for only 3 minutes and 1 second, the second ride lasted for 2 hours and 7 minutes, the third ride lasted for 5 minutes 43 seconds, and so on."
   ]
  },
  {
   "cell_type": "code",
   "execution_count": 7,
   "metadata": {},
   "outputs": [
    {
     "data": {
      "text/plain": [
       "0   0 days 00:03:01\n",
       "1   0 days 02:07:02\n",
       "2   0 days 00:05:43\n",
       "3   0 days 00:21:18\n",
       "4   0 days 00:21:17\n",
       "Name: Duration, dtype: timedelta64[ns]"
      ]
     },
     "execution_count": 7,
     "metadata": {},
     "output_type": "execute_result"
    }
   ],
   "source": [
    "# Create a duration column\n",
    "rides['Duration'] = rides['End date'] - rides['Start date']\n",
    "# Print the first 5 rows\n",
    "rides['Duration'].head()    "
   ]
  },
  {
   "cell_type": "markdown",
   "metadata": {},
   "source": [
    "### Loading datetimes with parse_dates\n",
    "\n",
    "Pandas has two features worth noting here. Let's see an example of converting our ``Duration`` to *seconds*, and looking at the first 5 rows. \n",
    "\n",
    "First, Pandas code is often written in a *\"method chaining\"* style, where we call a *method, and then another, and then another*. \n",
    "\n",
    "For readability, it's common to break them up with a backslash('\\') and a linebreak at the end of each. \n",
    "Second, you can access all of the typical datetime methods within the namespace ``.dt.`` For example, we can convert our timedeltas into numbers with ``.dt.total_seconds()``. \n",
    "\n",
    "Now when we look at the results, we see that we've got seconds instead of timedeltas. Our first ride lasted 181 seconds, our second ride 7622 seconds, and so on."
   ]
  },
  {
   "cell_type": "code",
   "execution_count": 8,
   "metadata": {},
   "outputs": [
    {
     "data": {
      "text/plain": [
       "0     181.0\n",
       "1    7622.0\n",
       "2     343.0\n",
       "3    1278.0\n",
       "4    1277.0\n",
       "Name: Duration, dtype: float64"
      ]
     },
     "execution_count": 8,
     "metadata": {},
     "output_type": "execute_result"
    }
   ],
   "source": [
    "rides['Duration']\\\n",
    "    .dt.total_seconds()\\\n",
    "        .head()"
   ]
  }
 ],
 "metadata": {
  "kernelspec": {
   "display_name": "Python 3.9.12 ('Py3')",
   "language": "python",
   "name": "python3"
  },
  "language_info": {
   "codemirror_mode": {
    "name": "ipython",
    "version": 3
   },
   "file_extension": ".py",
   "mimetype": "text/x-python",
   "name": "python",
   "nbconvert_exporter": "python",
   "pygments_lexer": "ipython3",
   "version": "3.9.12"
  },
  "orig_nbformat": 4,
  "vscode": {
   "interpreter": {
    "hash": "73990f7905ce18e2def91a603fe09ae38383e0aba9dfcdeb23468ee256a89966"
   }
  }
 },
 "nbformat": 4,
 "nbformat_minor": 2
}
