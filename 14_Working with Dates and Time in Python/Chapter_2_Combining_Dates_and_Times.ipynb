{
 "cells": [
  {
   "cell_type": "markdown",
   "metadata": {},
   "source": [
    "# Lesson I\n",
    "\n",
    "## Dates and Times\n",
    "\n",
    "In this chapter, you are going to move from only working with dates to working with both dates and times: the calendar day AND the time on the clock within that day.\n",
    "\n",
    "As always, let's start with an example. Here is an example of a date and a time together: \n",
    "\n",
    "***October 1, 2017, at 3:23:25 PM.*** \n",
    "\n",
    "Unlike before, where we were only working with the date, we're now going to also include the time. Let's see how to represent this in Python.\n",
    "\n",
    "The first thing we have to do is *import* the ``datetime`` *class* from the ``datetime`` *package*. Ideally, these would have different names, but unfortunately for historical reasons they have the same name. This is just something to get used to.\n",
    "\n",
    "```python\n",
    "# import datetime\n",
    "from datetime import datetime\n",
    "```\n",
    "\n",
    "We're going to create a datetime called ``\"dt\"`` and populate the fields together. The first three arguments to the datetime class are exactly the same as the date class. *Year, then month, then day*, each as a number.\n",
    "\n",
    "```python\n",
    "# Import datetime\n",
    "from datetime import datetime\n",
    "\n",
    "dt = datetime(2017, 10, 1)\n",
    "```\n",
    "\n",
    "Next, we fill in the hour. Computers generally use 24 hour time, meaning that 3 PM is represented as hour 15 of 24.\n",
    "\n",
    "```python\t\n",
    "# Import datetime\n",
    "from datetime import datetime\n",
    "\n",
    "# Create a datetime object\n",
    "dt = datetime(2017, 10, 1, 15, 23, 25)\n",
    "```\n",
    "\n",
    "We put in the minutes, 23 out of 60.\n",
    "\n",
    "And finally, the seconds. October 1, 2017 at 3:23:25PM is represented as a datetime in Python as ``2017, 10, 1, 15, 23, 25)``. All of these arguments need to be whole numbers; if you want to represent *.5* seconds,\n",
    "\n",
    "```python\t\n",
    "# Import datetime\n",
    "from datetime import datetime\n",
    "\n",
    "# Create a datetime object\n",
    "dt = datetime(2017, 10, 1, 15, 23, 25, 500000)\n",
    "```\n",
    "\n",
    "you can add *microseconds* to your datetime. Here we've added *500,000* microseconds, or .5 seconds.\n",
    "That is, Python breaks seconds down into millionths of a second for you when you need that kind of precision. \n",
    "If you need billionths of a second precision (which happens sometimes in science and finance) we'll cover nanoseconds when we get to Pandas at the end of this course. Python defaults to 0 microseconds if you don't include it.\n",
    "\n",
    "That's a lot of arguments; if it helps, you can always be more explicit and use named arguments.\n",
    "\n",
    "```python\n",
    "# Import datetime\n",
    "from datetime import datetime\n",
    "\n",
    "# Create a datetime object\n",
    "dt = datetime(year=2017, month=10, day=1, \n",
    "                hour=15, minute=23, second=25, \n",
    "                microsecond=500000)\n",
    "```\n",
    "\n",
    "### Replacing parts of a datetime\n",
    "\n",
    "We can also make new datetimes from existing ones by using the ``replace()`` method. \n",
    "For example, we can take the datetime we just made, and make a new one which has the same date but is rounded down to the start of the hour. \n",
    "We call ``dt.replace()`` and set *minutes, seconds, and microseconds* to ``0``. This creates a new datetime with the same values in all the other fields, but these ones changed.\n",
    "\n",
    "```python\n",
    "dt_hr = dt.replace(minute=0, second=0, microsecond=0)\n",
    "```\n",
    "\n",
    "### Capital BikeShare\n",
    "\n",
    "Before we wrap up, let's talk about the data we will use for the rest of this course. You will be working with data from *Capital Bikeshare*, the oldest municipal shared bike program in the United States. \n",
    "Throughout the Washington, DC area, you will find these special bike docks, where riders can pay to take a bike, ride it, and return to this or any other station in the network. We will be following one bike, ID number *\"W20529\"*, on all the trips it took in *October, November, and December of 2017*. \n",
    "Each trip consisted of a date and time when a bike was undocked from a station, then some time passed, and the date and time when *W20529* was docked again."
   ]
  },
  {
   "cell_type": "markdown",
   "metadata": {},
   "source": [
    "## Exercise\n",
    "\n",
    "### Creating datetimes by hand\n",
    "\n",
    "Often you create ``datetime`` objects based on outside data. Sometimes though, you want to create a datetime object from scratch.\n",
    "\n",
    "You're going to create a few different ``datetime`` objects from scratch to get the hang of that process. These come from the bikeshare data set that you'll use throughout the rest of the chapter."
   ]
  },
  {
   "cell_type": "code",
   "execution_count": 1,
   "metadata": {},
   "outputs": [
    {
     "name": "stdout",
     "output_type": "stream",
     "text": [
      "2017-10-01T15:26:26\n"
     ]
    }
   ],
   "source": [
    "# Import datetime\n",
    "from datetime import datetime\n",
    "\n",
    "# Create a datetime object\n",
    "dt = datetime(2017,10,1,15,26,26)\n",
    "\n",
    "# Print the datetime object in ISO 8601 format\n",
    "print(dt.isoformat())"
   ]
  },
  {
   "cell_type": "code",
   "execution_count": 2,
   "metadata": {},
   "outputs": [
    {
     "name": "stdout",
     "output_type": "stream",
     "text": [
      "2017-12-31T15:19:13\n"
     ]
    }
   ],
   "source": [
    "# Import datetime\n",
    "from datetime import datetime\n",
    "\n",
    "# Create a datetime object\n",
    "dt = datetime(2017,12,31,15,19,13)\n",
    "\n",
    "# Print the datetime object in ISO 8601 format\n",
    "print(dt.isoformat())"
   ]
  },
  {
   "cell_type": "code",
   "execution_count": 3,
   "metadata": {},
   "outputs": [
    {
     "name": "stdout",
     "output_type": "stream",
     "text": [
      "1917-12-31 15:19:13\n"
     ]
    }
   ],
   "source": [
    "# Import datetime\n",
    "from datetime import datetime\n",
    "\n",
    "# Create a datetime object\n",
    "dt = datetime(2017, 12, 31, 15, 19, 13)\n",
    "\n",
    "# Replace the year with 1917\n",
    "dt_old = dt.replace(year=1917)\n",
    "\n",
    "# Print the results in ISO 8601 format\n",
    "print(dt_old)"
   ]
  },
  {
   "cell_type": "markdown",
   "metadata": {},
   "source": [
    "### Counting events before and after noon\n",
    "\n",
    "In this chapter, you will be working with a list of all bike trips for one Capital Bikeshare bike, W20529, from October 1, 2017 to December 31, 2017. This list has been loaded as ``onebike_datetimes``.\n",
    "\n",
    "Each element of the list is a dictionary with two entries: ``start`` is a ``datetime`` object corresponding to the start of a trip (when a bike is removed from the dock) and ``end`` is a ``datetime`` object corresponding to the end of a trip (when a bike is put back into a dock).\n",
    "\n",
    "You can use this data set to understand better how this bike was used. Did more trips start before noon or after noon?"
   ]
  },
  {
   "cell_type": "code",
   "execution_count": null,
   "metadata": {},
   "outputs": [],
   "source": [
    "# THIS WILL WORK ON DATACAMP WORKSPACE\n",
    "\n",
    "# Create dictionary to hold results\n",
    "trip_counts = {'AM': 0, 'PM': 0}\n",
    "\n",
    "# Loop over all trips\n",
    "for trip in onebike_datetimes:\n",
    "    # Check to see if the trip starts before noon\n",
    "    if trip['start'].hour < 12:\n",
    "        # Increment the AM count\n",
    "        trip_counts['AM'] += 1\n",
    "    else:\n",
    "        # Increment the PM count\n",
    "        trip_counts['PM'] += 1    \n",
    "        \n",
    "print(trip_counts)            "
   ]
  },
  {
   "cell_type": "markdown",
   "metadata": {},
   "source": [
    "# Lesson II\n",
    "\n",
    "## Printing and Parsing Datetimes\n",
    "\n",
    "Much like dates, datetimes can be printed in many ways. Python also has another trick: you can take a string and turn it directly into a datetime. Let's start with printing dates and then move on to asking Python to parse them.\n",
    "\n",
    "### Printing a datetime\n",
    "\n",
    "First, let's create a datetime again. ``dt`` corresponds to *December 30, 2017 at 15:19:13*, the end of the last trip that *W20529* takes in our data set. \n",
    "Just like with ``date`` objects, we use ``strftime()`` to create a string with a particular format.\n",
    "\n",
    "First, we'll just print the year, month and date, using the same format codes we used for dates. ``%Y`` stands for the four digit *year*, ``%m`` for the *month*, and ``%d`` for the *day* of the month. \n",
    "\n",
    "```python\n",
    "# Create datetime\n",
    "dt = datetime(2017, 12, 30, 15, 19, 13)\n",
    "print(dt.strftime(\"%Y-%m-%d\"))\n",
    "\n",
    "# Output\n",
    "2017-12-30\n",
    "```\n",
    "\n",
    "Now we can add in the *hours, minutes and seconds*. Again, we print the year, month and day, and now we add three more format codes: ``%H`` gives us the *hour*, ``%M`` gives us the *minute*, and ``%S`` gives us the *seconds*. \n",
    "There are also format codes for 12-hour clocks, and for printing the correct AM or PM.\n",
    "\n",
    "```python\n",
    "print(dt.strftime(\"%Y-%m-%d %H:%M:%S\"))\n",
    "# Output\n",
    "2017-12-30 15:19:13\n",
    "```\n",
    "\n",
    "As before, we can make these formatting strings as complicated as we need. Here's another version of the previous string.\n",
    "\n",
    "```python\n",
    "print(dt.strftime(\"%Y-%m-%d on %I:%M:%S %p\"))\n",
    "# Output\n",
    "2017-12-30 on 3:19:13 PM\n",
    "```\n",
    "\n",
    "### ISO 8601 Format\n",
    "\n",
    "Finally, we can use the ``isoformat()`` method, just like with dates, to get a standards-compliant way of writing down a datetime. \n",
    "The officially correct way of writing a datetime is the *year, month, day, then a capital T, then the time in 24 hour time, followed by the minute and second*. When in doubt, this is a good format to use.\n",
    "\n",
    "```python\n",
    "# ISO 8601 format\n",
    "print(dt.isoformat())\n",
    "# Output\n",
    "2017-12-30T15:19:13\n",
    "```\n",
    "\n",
    "### Parsing a datetime\n",
    "\n",
    "We can also parse dates from strings, using the same format codes we used for printing. You'll use this often when getting date and time data from the Internet since dates and times are often represented as strings. We start, as before, by importing the datetime class.\n",
    "\n",
    "```python\n",
    "# Import datetime\n",
    "from datetime import datetime\n",
    "```\n",
    "\n",
    "Then we can use the ``strptime()`` method to parse a string into a datetime object. The first argument is the string to parse, and the second argument is the format string.\n",
    "\n",
    "```python\n",
    "# Import datetime\n",
    "from datetime import datetime\n",
    "\n",
    "dt = datetime.strptime(\"2017-12-30 15:19:13\", \"%Y-%m-%d %H:%M:%S\")\n",
    "```\n",
    "\n",
    "If we look and see what kind of object we've made, by printing the type of ``dt``, we see that we've got a ``datetime``. \n",
    "\n",
    "```python\n",
    "print(type(dt))\n",
    "# Output\n",
    "<class 'datetime.datetime'>\n",
    "```\n",
    "\n",
    "And if we print that ``datetime``, we get a string representation of the datetime. We can see that the parsing worked correctly.\n",
    "\n",
    "```python\n",
    "print(dt)\n",
    "# Output\n",
    "2017-12-30 15:19:13\n",
    "```\n",
    "\n",
    "We need an **exact match** to do a string conversion. For example, if we leave out how to parse the time, Python will throw an error. And similarly, if there is an errant comma or other symbols, ``strptime()`` will not be happy.\n",
    "\n",
    "Finally, there is another kind of datetime you will sometimes encounter: the Unix timestamp. Many computers store datetime information behind the scenes as the number of seconds since *January 1, 1970.* \n",
    "This date is largely considered the birth of modern-style computers. To read a Unix timestamp, use the ``datetime.fromtimestamp()`` method. Python will read your timestamp and return a datetime.\n",
    "    \n",
    "```python\n",
    "    # Import datetime\n",
    "    from datetime import datetime\n",
    "    # A timestamp\n",
    "    ts = 1514794400.0\n",
    "    # Convert to datetime\n",
    "    dt = datetime.fromtimestamp(ts)\n",
    "    # Print datetime\n",
    "    print(dt)\n",
    "    # Output\n",
    "    2017-12-30 00:00:00\n",
    "```\n",
    "    "
   ]
  },
  {
   "cell_type": "markdown",
   "metadata": {},
   "source": [
    "# Exercise\n",
    "\n",
    "## Turning strings into datetimes\n",
    "\n",
    "When you download data from the Internet, dates and times usually come to you as strings. Often the first step is to turn those strings into ``datetime`` objects.\n",
    "\n",
    "In this exercise, you will practice this transformation."
   ]
  },
  {
   "cell_type": "code",
   "execution_count": 22,
   "metadata": {},
   "outputs": [
    {
     "name": "stdout",
     "output_type": "stream",
     "text": [
      "2017-02-03 00:00:01\n"
     ]
    }
   ],
   "source": [
    "# Import the datetime class\n",
    "from datetime import datetime\n",
    "\n",
    "# Starting string, in YYYY-MM-DD HH:MM:SS format\n",
    "s = \"2017-02-03 00:00:01\"\n",
    "\n",
    "# Write a format string to parse s\n",
    "fmt = \"%Y-%m-%d %H:%M:%S\"\n",
    "\n",
    "# Create a datetime object d\n",
    "d = datetime.strptime(s, fmt)\n",
    "\n",
    "# Print d\n",
    "print(d)"
   ]
  },
  {
   "cell_type": "code",
   "execution_count": 24,
   "metadata": {},
   "outputs": [
    {
     "name": "stdout",
     "output_type": "stream",
     "text": [
      "2030-10-15 00:00:00\n"
     ]
    }
   ],
   "source": [
    "# Import the datetime class\n",
    "from datetime import datetime\n",
    "\n",
    "# Starting string, in YYYY-MM-DD format\n",
    "s = '2030-10-15'\n",
    "\n",
    "# Write a format string to parse s\n",
    "fmt = \"%Y-%m-%d\"\n",
    "\n",
    "# Create a datetime object d\n",
    "d = datetime.strptime(s, fmt)\n",
    "\n",
    "# Print d\n",
    "print(d)"
   ]
  },
  {
   "cell_type": "code",
   "execution_count": 25,
   "metadata": {},
   "outputs": [
    {
     "name": "stdout",
     "output_type": "stream",
     "text": [
      "1986-12-15 08:00:00\n"
     ]
    }
   ],
   "source": [
    "# Import the datetime class\n",
    "from datetime import datetime\n",
    "\n",
    "# Starting string, in MM/DD/YYYY HH:MM:SS format\n",
    "s = '12/15/1986 08:00:00'\n",
    "\n",
    "# Write a format string to parse s\n",
    "fmt = '%m/%d/%Y %H:%M:%S'\n",
    "\n",
    "# Create a datetime object d\n",
    "d = datetime.strptime(s, fmt)\n",
    "\n",
    "# Print d\n",
    "print(d)"
   ]
  },
  {
   "cell_type": "markdown",
   "metadata": {},
   "source": [
    "### Parsing pairs of strings as datetimes\n",
    "\n",
    "Up until now, you've been working with a pre-processed list of datetimes for W20529's trips. For this exercise, you're going to go one step back in the data cleaning pipeline and work with the strings that the data started as.\n",
    "\n",
    "Explore ``onebike_datetime_strings`` in the IPython shell to determine the correct format. datetime has already been loaded for you."
   ]
  },
  {
   "cell_type": "code",
   "execution_count": null,
   "metadata": {},
   "outputs": [],
   "source": [
    "# THIS WILL WORK ON DATACAMP WORKSPACE\n",
    "\n",
    "# Write down the format string\n",
    "fmt = \"%Y-%m-%d %H:%M:%S\"\n",
    "\n",
    "# Initialize a list for holding the pairs of datetime objects\n",
    "onebike_datetimes = []\n",
    "\n",
    "# Loop over all trips\n",
    "for (start, end) in onebike_datetime_strings:\n",
    "  trip = {'start': datetime.strptime(start, fmt),\n",
    "          'end': datetime.strptime(end, fmt)}\n",
    "  \n",
    "  # Append the trip\n",
    "  onebike_datetimes.append(trip)"
   ]
  },
  {
   "cell_type": "markdown",
   "metadata": {},
   "source": [
    "### Recreating ISO format with strftime()\n",
    "\n",
    "In the last chapter, you used ``strftime()`` to create strings from date objects. Now that you know about datetime objects, let's practice doing something similar.\n",
    "\n",
    "Re-create the ``.isoformat()`` method, using ``.strftime()``, and print the first trip start in our data set."
   ]
  },
  {
   "cell_type": "code",
   "execution_count": null,
   "metadata": {},
   "outputs": [],
   "source": [
    "# Import datetime\n",
    "from datetime import datetime\n",
    "\n",
    "# Pull out the start of the first trip\n",
    "first_start = onebike_datetimes[0]['start']\n",
    "\n",
    "# Format to feed to strftime()\n",
    "fmt = \"%Y-%m-%dT%H:%M:%S\"\n",
    "\n",
    "# Print out date with .isoformat(), then with .strftime() to compare\n",
    "print(first_start.isoformat())\n",
    "print(first_start.strftime(fmt))"
   ]
  },
  {
   "cell_type": "markdown",
   "metadata": {},
   "source": [
    "### Unix Timestamps\n",
    "\n",
    "Datetimes are sometimes stored as Unix timestamps: the number of seconds since January 1, 1970. This is especially common with computer infrastructure, like the log files that websites keep when they get visitors."
   ]
  },
  {
   "cell_type": "code",
   "execution_count": 27,
   "metadata": {},
   "outputs": [
    {
     "name": "stdout",
     "output_type": "stream",
     "text": [
      "[datetime.datetime(2017, 12, 30, 23, 19, 13), datetime.datetime(2017, 12, 30, 23, 9, 3)]\n"
     ]
    }
   ],
   "source": [
    "# Import datetime\n",
    "from datetime import datetime\n",
    "\n",
    "# Starting timestamps\n",
    "timestamps = [1514665153, 1514664543]\n",
    "\n",
    "# Datetime objects\n",
    "dts = []\n",
    "\n",
    "# Loop\n",
    "for ts in timestamps:\n",
    "  dts.append(datetime.fromtimestamp(ts))\n",
    "  \n",
    "# Print results\n",
    "print(dts)"
   ]
  },
  {
   "cell_type": "markdown",
   "metadata": {},
   "source": [
    "# Lesson III\n",
    "\n",
    "## Working with durations\n",
    "\n",
    "Much like dates, datetimes have a kind of arithmetic; we can compare them, subtract them, and add intervals to them. Because we are working with both days and times, the logic for durations is a little more complicated, but not by much. Let's have a look.\n",
    "\n",
    "Just as with dates, to get a sense for what's going on we put our datetimes on a timeline. These two datetimes here correspond to the start and end of one ride in our data set.\n",
    "\n",
    "```python\n",
    "    # Create example datetimes\n",
    "    start = datetime(2017, 10, 8, 23, 46, 47)\n",
    "    end = datetime(2017, 10, 9, 0, 10, 57)\n",
    "\n",
    "    # Substract datetimes to create a timedelta\n",
    "    duration = end - start\n",
    "\n",
    "    # Print the duration\n",
    "    print(duration)\n",
    "    # Output\n",
    "    0:00:00.009900\n",
    "```\n",
    "\n",
    "To follow along in Python, we'll load these two in as ``\"start\"`` and ``\"end\"``. When we subtract datetimes, we get a ``timedelta``. \n",
    "A **timedelta** represents what is called a duration: the elapsed time between events.\n",
    "\n",
    "```python\n",
    "    # Substract datetimes to create a timedelta\n",
    "    print(duration.total_seconds())\n",
    "    # Output\n",
    "    1450.0\n",
    "```\n",
    "\n",
    "When we call the method ``total_seconds()``, we get back the number of seconds that our timedelta represents. In this case, *1450* seconds elapsed between our start and end. 1450 seconds is 24 minutes and 10 seconds.\n",
    "\n",
    "### Creating timedeltas\n",
    "\n",
    "You can also create a timedelta by hand. You start by *importing timedelta from datetime*. To create a timedelta, you specify the amount of time which has elapsed. \n",
    "For example, we make ``delta1``, a timedelta which corresponds to a one second duration.\n",
    "\n",
    "```python\n",
    "    # Create a timedelta\n",
    "    delta1 = timedelta(seconds=1)\n",
    "    # Print the timedelta\n",
    "    print(delta1)\n",
    "    # Output\n",
    "    0:00:01\n",
    "```\t\n",
    "\n",
    "We also create a timedelta, ``delta2``, which is *one day and one second* in duration. Now when we add it to start, we get a new datetime which is the next day and one second later. \n",
    "\n",
    "Timedeltas can be created with any number of weeks, days, minutes, hours, seconds, or microseconds, and can be as small as a microsecond or as large as 2-point-7 million years.\n",
    "\n",
    "```python\n",
    "    # Create a timedelta\n",
    "    delta2 = timedelta(days=1, seconds=1)\n",
    "    # Add delta2 to start\n",
    "    print(start + delta2)\n",
    "    # Output\n",
    "    2017-10-09 00:00:01\n",
    "```\t\n",
    "\n",
    "### Negative timedeltas\n",
    "\n",
    "Timedeltas can also be negative. For example, if we create ``delta3``, whose argument is -1 weeks, and we add it to start we get a datetime corresponding to one week earlier.\n",
    "\n",
    "```python\n",
    "    # Create a timedelta\n",
    "    delta3 = timedelta(weeks=-1)\n",
    "    # Add delta3 to start\n",
    "    print(start + delta3)\n",
    "    # Output\n",
    "    2017-10-01 00:00:00\n",
    "```\t\n",
    "\n",
    "We can also subtract a positive timedelta and get the same result. We create ``delta4``, which corresponds to a 1 week duration, and we subtract it from start. As you can see, we get the same answer as when we added a negative timedelta.\n",
    "\n",
    "```python\n",
    "    # Create a timedelta\n",
    "    delta4 = timedelta(weeks=1)\n",
    "    # Subtract delta4 from start\n",
    "    print(start - delta4)\n",
    "    # Output\n",
    "    2017-10-01 00:00:00\n",
    "```\t"
   ]
  },
  {
   "cell_type": "markdown",
   "metadata": {},
   "source": [
    "## Exercise\n",
    "\n",
    "### Turning pairs of datetimes into durations\n",
    "\n",
    "When working with timestamps, we often want to know how much time has elapsed between events. Thankfully, we can use ``datetime`` arithmetic to ask Python to do the heavy lifting for us so we don't need to worry about day, month, or year boundaries. Let's calculate the number of seconds that the bike was out of the dock for each trip.\n",
    "\n",
    "Continuing our work from a previous coding exercise, the bike trip data has been loaded as the list ``onebike_datetimes``. Each element of the list consists of two datetime objects, corresponding to the start and end of a trip, respectively."
   ]
  },
  {
   "cell_type": "code",
   "execution_count": null,
   "metadata": {},
   "outputs": [],
   "source": [
    "# THIS WILL WORK ON DATACAMP WORKSPACE\n",
    "# Initialize a list for all the trip durations\n",
    "onebike_durations = []\n",
    "\n",
    "for trip in onebike_datetimes:\n",
    "  # Create a timedelta object corresponding to the length of the trip\n",
    "  trip_duration = trip['end'] - trip['start']\n",
    "  \n",
    "  # Get the total elapsed seconds in trip_duration\n",
    "  trip_length_seconds = trip_duration.total_seconds()\n",
    "  \n",
    "  # Append the results to our list\n",
    "  onebike_durations.append(trip_length_seconds)"
   ]
  },
  {
   "cell_type": "markdown",
   "metadata": {},
   "source": [
    "# Average trip time\n",
    "\n",
    "W20529 took 291 trips in our data set. How long were the trips on average? We can use the built-in Python functions ``sum()`` and ``len()`` to make this calculation.\n",
    "\n",
    "Based on your last coding exercise, the data has been loaded as ``onebike_durations``. Each entry is a number of seconds that the bike was out of the dock."
   ]
  },
  {
   "cell_type": "code",
   "execution_count": null,
   "metadata": {},
   "outputs": [],
   "source": [
    "# THIS WILL WORK ON DATACAMP WORKSPACE\n",
    "\n",
    "# What was the total duration of all trips?\n",
    "total_elapsed_time = sum(onebike_durations)\n",
    "\n",
    "# What was the total number of trips?\n",
    "number_of_trips = len(onebike_durations)\n",
    "  \n",
    "# Divide the total duration by the number of trips\n",
    "print(total_elapsed_time / number_of_trips)"
   ]
  }
 ],
 "metadata": {
  "kernelspec": {
   "display_name": "Python 3.9.12 ('Py3')",
   "language": "python",
   "name": "python3"
  },
  "language_info": {
   "codemirror_mode": {
    "name": "ipython",
    "version": 3
   },
   "file_extension": ".py",
   "mimetype": "text/x-python",
   "name": "python",
   "nbconvert_exporter": "python",
   "pygments_lexer": "ipython3",
   "version": "3.9.12"
  },
  "orig_nbformat": 4,
  "vscode": {
   "interpreter": {
    "hash": "73990f7905ce18e2def91a603fe09ae38383e0aba9dfcdeb23468ee256a89966"
   }
  }
 },
 "nbformat": 4,
 "nbformat_minor": 2
}
