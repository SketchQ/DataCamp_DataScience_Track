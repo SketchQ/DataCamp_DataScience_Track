{
 "cells": [
  {
   "cell_type": "markdown",
   "metadata": {},
   "source": [
    "# Lesson I\n",
    "\n",
    "## Dates and Times\n",
    "\n",
    "In this chapter, you are going to move from only working with dates to working with both dates and times: the calendar day AND the time on the clock within that day.\n",
    "\n",
    "As always, let's start with an example. Here is an example of a date and a time together: \n",
    "\n",
    "***October 1, 2017, at 3:23:25 PM.*** \n",
    "\n",
    "Unlike before, where we were only working with the date, we're now going to also include the time. Let's see how to represent this in Python.\n",
    "\n",
    "The first thing we have to do is *import* the ``datetime`` *class* from the ``datetime`` *package*. Ideally, these would have different names, but unfortunately for historical reasons they have the same name. This is just something to get used to.\n",
    "\n",
    "```python\n",
    "# import datetime\n",
    "from datetime import datetime\n",
    "```\n",
    "\n",
    "We're going to create a datetime called ``\"dt\"`` and populate the fields together. The first three arguments to the datetime class are exactly the same as the date class. *Year, then month, then day*, each as a number.\n",
    "\n",
    "```python\n",
    "# Import datetime\n",
    "from datetime import datetime\n",
    "\n",
    "dt = datetime(2017, 10, 1)\n",
    "```\n",
    "\n",
    "Next, we fill in the hour. Computers generally use 24 hour time, meaning that 3 PM is represented as hour 15 of 24.\n",
    "\n",
    "```python\t\n",
    "# Import datetime\n",
    "from datetime import datetime\n",
    "\n",
    "# Create a datetime object\n",
    "dt = datetime(2017, 10, 1, 15, 23, 25)\n",
    "```\n",
    "\n",
    "We put in the minutes, 23 out of 60.\n",
    "\n",
    "And finally, the seconds. October 1, 2017 at 3:23:25PM is represented as a datetime in Python as ``2017, 10, 1, 15, 23, 25)``. All of these arguments need to be whole numbers; if you want to represent *.5* seconds,\n",
    "\n",
    "```python\t\n",
    "# Import datetime\n",
    "from datetime import datetime\n",
    "\n",
    "# Create a datetime object\n",
    "dt = datetime(2017, 10, 1, 15, 23, 25, 500000)\n",
    "```\n",
    "\n",
    "you can add *microseconds* to your datetime. Here we've added *500,000* microseconds, or .5 seconds.\n",
    "That is, Python breaks seconds down into millionths of a second for you when you need that kind of precision. \n",
    "If you need billionths of a second precision (which happens sometimes in science and finance) we'll cover nanoseconds when we get to Pandas at the end of this course. Python defaults to 0 microseconds if you don't include it.\n",
    "\n",
    "That's a lot of arguments; if it helps, you can always be more explicit and use named arguments.\n",
    "\n",
    "```python\n",
    "# Import datetime\n",
    "from datetime import datetime\n",
    "\n",
    "# Create a datetime object\n",
    "dt = datetime(year=2017, month=10, day=1, \n",
    "                hour=15, minute=23, second=25, \n",
    "                microsecond=500000)\n",
    "```\n",
    "\n",
    "### Replacing parts of a datetime\n",
    "\n",
    "We can also make new datetimes from existing ones by using the ``replace()`` method. \n",
    "For example, we can take the datetime we just made, and make a new one which has the same date but is rounded down to the start of the hour. \n",
    "We call ``dt.replace()`` and set *minutes, seconds, and microseconds* to ``0``. This creates a new datetime with the same values in all the other fields, but these ones changed.\n",
    "\n",
    "```python\n",
    "dt_hr = dt.replace(minute=0, second=0, microsecond=0)\n",
    "```\n",
    "\n",
    "### Capital BikeShare\n",
    "\n",
    "Before we wrap up, let's talk about the data we will use for the rest of this course. You will be working with data from *Capital Bikeshare*, the oldest municipal shared bike program in the United States. \n",
    "Throughout the Washington, DC area, you will find these special bike docks, where riders can pay to take a bike, ride it, and return to this or any other station in the network. We will be following one bike, ID number *\"W20529\"*, on all the trips it took in *October, November, and December of 2017*. \n",
    "Each trip consisted of a date and time when a bike was undocked from a station, then some time passed, and the date and time when *W20529* was docked again."
   ]
  },
  {
   "cell_type": "markdown",
   "metadata": {},
   "source": [
    "## Exercise\n",
    "\n",
    "### Creating datetimes by hand\n",
    "\n",
    "Often you create ``datetime`` objects based on outside data. Sometimes though, you want to create a datetime object from scratch.\n",
    "\n",
    "You're going to create a few different ``datetime`` objects from scratch to get the hang of that process. These come from the bikeshare data set that you'll use throughout the rest of the chapter."
   ]
  },
  {
   "cell_type": "code",
   "execution_count": 1,
   "metadata": {},
   "outputs": [
    {
     "name": "stdout",
     "output_type": "stream",
     "text": [
      "2017-10-01T15:26:26\n"
     ]
    }
   ],
   "source": [
    "# Import datetime\n",
    "from datetime import datetime\n",
    "\n",
    "# Create a datetime object\n",
    "dt = datetime(2017,10,1,15,26,26)\n",
    "\n",
    "# Print the datetime object in ISO 8601 format\n",
    "print(dt.isoformat())"
   ]
  },
  {
   "cell_type": "code",
   "execution_count": 2,
   "metadata": {},
   "outputs": [
    {
     "name": "stdout",
     "output_type": "stream",
     "text": [
      "2017-12-31T15:19:13\n"
     ]
    }
   ],
   "source": [
    "# Import datetime\n",
    "from datetime import datetime\n",
    "\n",
    "# Create a datetime object\n",
    "dt = datetime(2017,12,31,15,19,13)\n",
    "\n",
    "# Print the datetime object in ISO 8601 format\n",
    "print(dt.isoformat())"
   ]
  },
  {
   "cell_type": "code",
   "execution_count": 3,
   "metadata": {},
   "outputs": [
    {
     "name": "stdout",
     "output_type": "stream",
     "text": [
      "1917-12-31 15:19:13\n"
     ]
    }
   ],
   "source": [
    "# Import datetime\n",
    "from datetime import datetime\n",
    "\n",
    "# Create a datetime object\n",
    "dt = datetime(2017, 12, 31, 15, 19, 13)\n",
    "\n",
    "# Replace the year with 1917\n",
    "dt_old = dt.replace(year=1917)\n",
    "\n",
    "# Print the results in ISO 8601 format\n",
    "print(dt_old)"
   ]
  },
  {
   "cell_type": "markdown",
   "metadata": {},
   "source": [
    "### Counting events before and after noon\n",
    "\n",
    "In this chapter, you will be working with a list of all bike trips for one Capital Bikeshare bike, W20529, from October 1, 2017 to December 31, 2017. This list has been loaded as ``onebike_datetimes``.\n",
    "\n",
    "Each element of the list is a dictionary with two entries: ``start`` is a ``datetime`` object corresponding to the start of a trip (when a bike is removed from the dock) and ``end`` is a ``datetime`` object corresponding to the end of a trip (when a bike is put back into a dock).\n",
    "\n",
    "You can use this data set to understand better how this bike was used. Did more trips start before noon or after noon?"
   ]
  },
  {
   "cell_type": "code",
   "execution_count": null,
   "metadata": {},
   "outputs": [],
   "source": [
    "# THIS WILL WORK ON DATACAMP WORKSPACE\n",
    "\n",
    "# Create dictionary to hold results\n",
    "trip_counts = {'AM': 0, 'PM': 0}\n",
    "\n",
    "# Loop over all trips\n",
    "for trip in onebike_datetimes:\n",
    "    # Check to see if the trip starts before noon\n",
    "    if trip['start'].hour < 12:\n",
    "        # Increment the AM count\n",
    "        trip_counts['AM'] += 1\n",
    "    else:\n",
    "        # Increment the PM count\n",
    "        trip_counts['PM'] += 1    \n",
    "        \n",
    "print(trip_counts)            "
   ]
  }
 ],
 "metadata": {
  "kernelspec": {
   "display_name": "Python 3.9.12 ('Py3')",
   "language": "python",
   "name": "python3"
  },
  "language_info": {
   "codemirror_mode": {
    "name": "ipython",
    "version": 3
   },
   "file_extension": ".py",
   "mimetype": "text/x-python",
   "name": "python",
   "nbconvert_exporter": "python",
   "pygments_lexer": "ipython3",
   "version": "3.9.12"
  },
  "orig_nbformat": 4,
  "vscode": {
   "interpreter": {
    "hash": "73990f7905ce18e2def91a603fe09ae38383e0aba9dfcdeb23468ee256a89966"
   }
  }
 },
 "nbformat": 4,
 "nbformat_minor": 2
}
