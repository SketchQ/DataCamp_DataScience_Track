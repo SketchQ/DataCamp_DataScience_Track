{
 "cells": [
  {
   "cell_type": "markdown",
   "metadata": {},
   "source": [
    "# Lesson I\n",
    "\n",
    "## Dates and Times\n",
    "\n",
    "In this chapter, you are going to move from only working with dates to working with both dates and times: the calendar day AND the time on the clock within that day.\n",
    "\n",
    "As always, let's start with an example. Here is an example of a date and a time together: \n",
    "\n",
    "***October 1, 2017, at 3:23:25 PM.*** \n",
    "\n",
    "Unlike before, where we were only working with the date, we're now going to also include the time. Let's see how to represent this in Python.\n",
    "\n",
    "The first thing we have to do is *import* the ``datetime`` *class* from the ``datetime`` *package*. Ideally, these would have different names, but unfortunately for historical reasons they have the same name. This is just something to get used to.\n",
    "\n",
    "```python\n",
    "# import datetime\n",
    "from datetime import datetime\n",
    "```\n",
    "\n",
    "We're going to create a datetime called ``\"dt\"`` and populate the fields together. The first three arguments to the datetime class are exactly the same as the date class. *Year, then month, then day*, each as a number.\n",
    "\n",
    "```python\n",
    "# Import datetime\n",
    "from datetime import datetime\n",
    "\n",
    "dt = datetime(2017, 10, 1)\n",
    "```\n",
    "\n",
    "Next, we fill in the hour. Computers generally use 24 hour time, meaning that 3 PM is represented as hour 15 of 24.\n",
    "\n",
    "```python\t\n",
    "# Import datetime\n",
    "from datetime import datetime\n",
    "\n",
    "# Create a datetime object\n",
    "dt = datetime(2017, 10, 1, 15, 23, 25)\n",
    "```\n",
    "\n",
    "We put in the minutes, 23 out of 60.\n",
    "\n",
    "And finally, the seconds. October 1, 2017 at 3:23:25PM is represented as a datetime in Python as ``2017, 10, 1, 15, 23, 25)``. All of these arguments need to be whole numbers; if you want to represent *.5* seconds,\n",
    "\n",
    "```python\t\n",
    "# Import datetime\n",
    "from datetime import datetime\n",
    "\n",
    "# Create a datetime object\n",
    "dt = datetime(2017, 10, 1, 15, 23, 25, 500000)\n",
    "```\n",
    "\n",
    "you can add *microseconds* to your datetime. Here we've added *500,000* microseconds, or .5 seconds.\n",
    "That is, Python breaks seconds down into millionths of a second for you when you need that kind of precision. \n",
    "If you need billionths of a second precision (which happens sometimes in science and finance) we'll cover nanoseconds when we get to Pandas at the end of this course. Python defaults to 0 microseconds if you don't include it.\n",
    "\n",
    "That's a lot of arguments; if it helps, you can always be more explicit and use named arguments.\n",
    "\n",
    "```python\n",
    "# Import datetime\n",
    "from datetime import datetime\n",
    "\n",
    "# Create a datetime object\n",
    "dt = datetime(year=2017, month=10, day=1, \n",
    "                hour=15, minute=23, second=25, \n",
    "                microsecond=500000)\n",
    "```\n",
    "\n",
    "### Replacing parts of a datetime\n",
    "\n",
    "We can also make new datetimes from existing ones by using the ``replace()`` method. \n",
    "For example, we can take the datetime we just made, and make a new one which has the same date but is rounded down to the start of the hour. \n",
    "We call ``dt.replace()`` and set *minutes, seconds, and microseconds* to ``0``. This creates a new datetime with the same values in all the other fields, but these ones changed.\n",
    "\n",
    "```python\n",
    "dt_hr = dt.replace(minute=0, second=0, microsecond=0)\n",
    "```\n",
    "\n",
    "### Capital BikeShare\n",
    "\n",
    "Before we wrap up, let's talk about the data we will use for the rest of this course. You will be working with data from *Capital Bikeshare*, the oldest municipal shared bike program in the United States. \n",
    "Throughout the Washington, DC area, you will find these special bike docks, where riders can pay to take a bike, ride it, and return to this or any other station in the network. We will be following one bike, ID number *\"W20529\"*, on all the trips it took in *October, November, and December of 2017*. \n",
    "Each trip consisted of a date and time when a bike was undocked from a station, then some time passed, and the date and time when *W20529* was docked again."
   ]
  },
  {
   "cell_type": "markdown",
   "metadata": {},
   "source": [
    "## Exercise\n",
    "\n",
    "### Creating datetimes by hand\n",
    "\n",
    "Often you create ``datetime`` objects based on outside data. Sometimes though, you want to create a datetime object from scratch.\n",
    "\n",
    "You're going to create a few different ``datetime`` objects from scratch to get the hang of that process. These come from the bikeshare data set that you'll use throughout the rest of the chapter."
   ]
  },
  {
   "cell_type": "code",
   "execution_count": 1,
   "metadata": {},
   "outputs": [
    {
     "name": "stdout",
     "output_type": "stream",
     "text": [
      "2017-10-01T15:26:26\n"
     ]
    }
   ],
   "source": [
    "# Import datetime\n",
    "from datetime import datetime\n",
    "\n",
    "# Create a datetime object\n",
    "dt = datetime(2017,10,1,15,26,26)\n",
    "\n",
    "# Print the datetime object in ISO 8601 format\n",
    "print(dt.isoformat())"
   ]
  },
  {
   "cell_type": "code",
   "execution_count": 2,
   "metadata": {},
   "outputs": [
    {
     "name": "stdout",
     "output_type": "stream",
     "text": [
      "2017-12-31T15:19:13\n"
     ]
    }
   ],
   "source": [
    "# Import datetime\n",
    "from datetime import datetime\n",
    "\n",
    "# Create a datetime object\n",
    "dt = datetime(2017,12,31,15,19,13)\n",
    "\n",
    "# Print the datetime object in ISO 8601 format\n",
    "print(dt.isoformat())"
   ]
  },
  {
   "cell_type": "code",
   "execution_count": 3,
   "metadata": {},
   "outputs": [
    {
     "name": "stdout",
     "output_type": "stream",
     "text": [
      "1917-12-31 15:19:13\n"
     ]
    }
   ],
   "source": [
    "# Import datetime\n",
    "from datetime import datetime\n",
    "\n",
    "# Create a datetime object\n",
    "dt = datetime(2017, 12, 31, 15, 19, 13)\n",
    "\n",
    "# Replace the year with 1917\n",
    "dt_old = dt.replace(year=1917)\n",
    "\n",
    "# Print the results in ISO 8601 format\n",
    "print(dt_old)"
   ]
  },
  {
   "cell_type": "markdown",
   "metadata": {},
   "source": [
    "### Counting events before and after noon\n",
    "\n",
    "In this chapter, you will be working with a list of all bike trips for one Capital Bikeshare bike, W20529, from October 1, 2017 to December 31, 2017. This list has been loaded as ``onebike_datetimes``.\n",
    "\n",
    "Each element of the list is a dictionary with two entries: ``start`` is a ``datetime`` object corresponding to the start of a trip (when a bike is removed from the dock) and ``end`` is a ``datetime`` object corresponding to the end of a trip (when a bike is put back into a dock).\n",
    "\n",
    "You can use this data set to understand better how this bike was used. Did more trips start before noon or after noon?"
   ]
  },
  {
   "cell_type": "code",
   "execution_count": null,
   "metadata": {},
   "outputs": [],
   "source": [
    "# THIS WILL WORK ON DATACAMP WORKSPACE\n",
    "\n",
    "# Create dictionary to hold results\n",
    "trip_counts = {'AM': 0, 'PM': 0}\n",
    "\n",
    "# Loop over all trips\n",
    "for trip in onebike_datetimes:\n",
    "    # Check to see if the trip starts before noon\n",
    "    if trip['start'].hour < 12:\n",
    "        # Increment the AM count\n",
    "        trip_counts['AM'] += 1\n",
    "    else:\n",
    "        # Increment the PM count\n",
    "        trip_counts['PM'] += 1    \n",
    "        \n",
    "print(trip_counts)            "
   ]
  },
  {
   "cell_type": "markdown",
   "metadata": {},
   "source": [
    "# Lesson II\n",
    "\n",
    "## Printing and Parsing Datetimes\n",
    "\n",
    "Much like dates, datetimes can be printed in many ways. Python also has another trick: you can take a string and turn it directly into a datetime. Let's start with printing dates and then move on to asking Python to parse them.\n",
    "\n",
    "### Printing a datetime\n",
    "\n",
    "First, let's create a datetime again. ``dt`` corresponds to *December 30, 2017 at 15:19:13*, the end of the last trip that *W20529* takes in our data set. \n",
    "Just like with ``date`` objects, we use ``strftime()`` to create a string with a particular format.\n",
    "\n",
    "First, we'll just print the year, month and date, using the same format codes we used for dates. ``%Y`` stands for the four digit *year*, ``%m`` for the *month*, and ``%d`` for the *day* of the month. \n",
    "\n",
    "```python\n",
    "# Create datetime\n",
    "dt = datetime(2017, 12, 30, 15, 19, 13)\n",
    "print(dt.strftime(\"%Y-%m-%d\"))\n",
    "\n",
    "# Output\n",
    "2017-12-30\n",
    "```\n",
    "\n",
    "Now we can add in the *hours, minutes and seconds*. Again, we print the year, month and day, and now we add three more format codes: ``%H`` gives us the *hour*, ``%M`` gives us the *minute*, and ``%S`` gives us the *seconds*. \n",
    "There are also format codes for 12-hour clocks, and for printing the correct AM or PM.\n",
    "\n",
    "```python\n",
    "print(dt.strftime(\"%Y-%m-%d %H:%M:%S\"))\n",
    "# Output\n",
    "2017-12-30 15:19:13\n",
    "```\n",
    "\n",
    "As before, we can make these formatting strings as complicated as we need. Here's another version of the previous string.\n",
    "\n",
    "```python\n",
    "print(dt.strftime(\"%Y-%m-%d on %I:%M:%S %p\"))\n",
    "# Output\n",
    "2017-12-30 on 3:19:13 PM\n",
    "```\n",
    "\n",
    "### ISO 8601 Format\n",
    "\n",
    "Finally, we can use the ``isoformat()`` method, just like with dates, to get a standards-compliant way of writing down a datetime. \n",
    "The officially correct way of writing a datetime is the *year, month, day, then a capital T, then the time in 24 hour time, followed by the minute and second*. When in doubt, this is a good format to use.\n",
    "\n",
    "```python\n",
    "# ISO 8601 format\n",
    "print(dt.isoformat())\n",
    "# Output\n",
    "2017-12-30T15:19:13\n",
    "```\n",
    "\n",
    "### Parsing a datetime\n",
    "\n",
    "We can also parse dates from strings, using the same format codes we used for printing. You'll use this often when getting date and time data from the Internet since dates and times are often represented as strings. We start, as before, by importing the datetime class.\n",
    "\n",
    "```python\n",
    "# Import datetime\n",
    "from datetime import datetime\n",
    "```\n",
    "\n",
    "Then we can use the ``strptime()`` method to parse a string into a datetime object. The first argument is the string to parse, and the second argument is the format string.\n",
    "\n",
    "```python\n",
    "# Import datetime\n",
    "from datetime import datetime\n",
    "\n",
    "dt = datetime.strptime(\"2017-12-30 15:19:13\", \"%Y-%m-%d %H:%M:%S\")\n",
    "```\n",
    "\n",
    "If we look and see what kind of object we've made, by printing the type of ``dt``, we see that we've got a ``datetime``. \n",
    "\n",
    "```python\n",
    "print(type(dt))\n",
    "# Output\n",
    "<class 'datetime.datetime'>\n",
    "```\n",
    "\n",
    "And if we print that ``datetime``, we get a string representation of the datetime. We can see that the parsing worked correctly.\n",
    "\n",
    "```python\n",
    "print(dt)\n",
    "# Output\n",
    "2017-12-30 15:19:13\n",
    "```\n",
    "\n",
    "We need an **exact match** to do a string conversion. For example, if we leave out how to parse the time, Python will throw an error. And similarly, if there is an errant comma or other symbols, ``strptime()`` will not be happy.\n",
    "\n",
    "Finally, there is another kind of datetime you will sometimes encounter: the Unix timestamp. Many computers store datetime information behind the scenes as the number of seconds since *January 1, 1970.* \n",
    "This date is largely considered the birth of modern-style computers. To read a Unix timestamp, use the ``datetime.fromtimestamp()`` method. Python will read your timestamp and return a datetime.\n",
    "    \n",
    "```python\n",
    "    # Import datetime\n",
    "    from datetime import datetime\n",
    "    # A timestamp\n",
    "    ts = 1514794400.0\n",
    "    # Convert to datetime\n",
    "    dt = datetime.fromtimestamp(ts)\n",
    "    # Print datetime\n",
    "    print(dt)\n",
    "    # Output\n",
    "    2017-12-30 00:00:00\n",
    "```\n",
    "    "
   ]
  },
  {
   "cell_type": "markdown",
   "metadata": {},
   "source": [
    "# Exercise\n",
    "\n",
    "## Turning strings into datetimes\n",
    "\n",
    "When you download data from the Internet, dates and times usually come to you as strings. Often the first step is to turn those strings into ``datetime`` objects.\n",
    "\n",
    "In this exercise, you will practice this transformation."
   ]
  },
  {
   "cell_type": "code",
   "execution_count": 22,
   "metadata": {},
   "outputs": [
    {
     "name": "stdout",
     "output_type": "stream",
     "text": [
      "2017-02-03 00:00:01\n"
     ]
    }
   ],
   "source": [
    "# Import the datetime class\n",
    "from datetime import datetime\n",
    "\n",
    "# Starting string, in YYYY-MM-DD HH:MM:SS format\n",
    "s = \"2017-02-03 00:00:01\"\n",
    "\n",
    "# Write a format string to parse s\n",
    "fmt = \"%Y-%m-%d %H:%M:%S\"\n",
    "\n",
    "# Create a datetime object d\n",
    "d = datetime.strptime(s, fmt)\n",
    "\n",
    "# Print d\n",
    "print(d)"
   ]
  },
  {
   "cell_type": "code",
   "execution_count": 24,
   "metadata": {},
   "outputs": [
    {
     "name": "stdout",
     "output_type": "stream",
     "text": [
      "2030-10-15 00:00:00\n"
     ]
    }
   ],
   "source": [
    "# Import the datetime class\n",
    "from datetime import datetime\n",
    "\n",
    "# Starting string, in YYYY-MM-DD format\n",
    "s = '2030-10-15'\n",
    "\n",
    "# Write a format string to parse s\n",
    "fmt = \"%Y-%m-%d\"\n",
    "\n",
    "# Create a datetime object d\n",
    "d = datetime.strptime(s, fmt)\n",
    "\n",
    "# Print d\n",
    "print(d)"
   ]
  },
  {
   "cell_type": "code",
   "execution_count": 25,
   "metadata": {},
   "outputs": [
    {
     "name": "stdout",
     "output_type": "stream",
     "text": [
      "1986-12-15 08:00:00\n"
     ]
    }
   ],
   "source": [
    "# Import the datetime class\n",
    "from datetime import datetime\n",
    "\n",
    "# Starting string, in MM/DD/YYYY HH:MM:SS format\n",
    "s = '12/15/1986 08:00:00'\n",
    "\n",
    "# Write a format string to parse s\n",
    "fmt = '%m/%d/%Y %H:%M:%S'\n",
    "\n",
    "# Create a datetime object d\n",
    "d = datetime.strptime(s, fmt)\n",
    "\n",
    "# Print d\n",
    "print(d)"
   ]
  },
  {
   "cell_type": "markdown",
   "metadata": {},
   "source": [
    "### Parsing pairs of strings as datetimes\n",
    "\n",
    "Up until now, you've been working with a pre-processed list of datetimes for W20529's trips. For this exercise, you're going to go one step back in the data cleaning pipeline and work with the strings that the data started as.\n",
    "\n",
    "Explore ``onebike_datetime_strings`` in the IPython shell to determine the correct format. datetime has already been loaded for you."
   ]
  },
  {
   "cell_type": "code",
   "execution_count": null,
   "metadata": {},
   "outputs": [],
   "source": [
    "# THIS WILL WORK ON DATACAMP WORKSPACE\n",
    "\n",
    "# Write down the format string\n",
    "fmt = \"%Y-%m-%d %H:%M:%S\"\n",
    "\n",
    "# Initialize a list for holding the pairs of datetime objects\n",
    "onebike_datetimes = []\n",
    "\n",
    "# Loop over all trips\n",
    "for (start, end) in onebike_datetime_strings:\n",
    "  trip = {'start': datetime.strptime(start, fmt),\n",
    "          'end': datetime.strptime(end, fmt)}\n",
    "  \n",
    "  # Append the trip\n",
    "  onebike_datetimes.append(trip)"
   ]
  },
  {
   "cell_type": "markdown",
   "metadata": {},
   "source": [
    "### Recreating ISO format with strftime()\n",
    "\n",
    "In the last chapter, you used ``strftime()`` to create strings from date objects. Now that you know about datetime objects, let's practice doing something similar.\n",
    "\n",
    "Re-create the ``.isoformat()`` method, using ``.strftime()``, and print the first trip start in our data set."
   ]
  },
  {
   "cell_type": "code",
   "execution_count": null,
   "metadata": {},
   "outputs": [],
   "source": [
    "# Import datetime\n",
    "from datetime import datetime\n",
    "\n",
    "# Pull out the start of the first trip\n",
    "first_start = onebike_datetimes[0]['start']\n",
    "\n",
    "# Format to feed to strftime()\n",
    "fmt = \"%Y-%m-%dT%H:%M:%S\"\n",
    "\n",
    "# Print out date with .isoformat(), then with .strftime() to compare\n",
    "print(first_start.isoformat())\n",
    "print(first_start.strftime(fmt))"
   ]
  },
  {
   "cell_type": "markdown",
   "metadata": {},
   "source": [
    "### Unix Timestamps\n",
    "\n",
    "Datetimes are sometimes stored as Unix timestamps: the number of seconds since January 1, 1970. This is especially common with computer infrastructure, like the log files that websites keep when they get visitors."
   ]
  },
  {
   "cell_type": "code",
   "execution_count": 27,
   "metadata": {},
   "outputs": [
    {
     "name": "stdout",
     "output_type": "stream",
     "text": [
      "[datetime.datetime(2017, 12, 30, 23, 19, 13), datetime.datetime(2017, 12, 30, 23, 9, 3)]\n"
     ]
    }
   ],
   "source": [
    "# Import datetime\n",
    "from datetime import datetime\n",
    "\n",
    "# Starting timestamps\n",
    "timestamps = [1514665153, 1514664543]\n",
    "\n",
    "# Datetime objects\n",
    "dts = []\n",
    "\n",
    "# Loop\n",
    "for ts in timestamps:\n",
    "  dts.append(datetime.fromtimestamp(ts))\n",
    "  \n",
    "# Print results\n",
    "print(dts)"
   ]
  }
 ],
 "metadata": {
  "kernelspec": {
   "display_name": "Python 3.9.12 ('Py3')",
   "language": "python",
   "name": "python3"
  },
  "language_info": {
   "codemirror_mode": {
    "name": "ipython",
    "version": 3
   },
   "file_extension": ".py",
   "mimetype": "text/x-python",
   "name": "python",
   "nbconvert_exporter": "python",
   "pygments_lexer": "ipython3",
   "version": "3.9.12"
  },
  "orig_nbformat": 4,
  "vscode": {
   "interpreter": {
    "hash": "73990f7905ce18e2def91a603fe09ae38383e0aba9dfcdeb23468ee256a89966"
   }
  }
 },
 "nbformat": 4,
 "nbformat_minor": 2
}
