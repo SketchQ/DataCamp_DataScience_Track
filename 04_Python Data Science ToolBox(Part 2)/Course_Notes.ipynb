{
 "cells": [
  {
   "cell_type": "markdown",
   "metadata": {},
   "source": [
    "# Python Data Science ToolBox(Part2)\n",
    "\n",
    "## Chapter I \n",
    "\n",
    "### Using iterators in PythonLand \n",
    "\n",
    "#### Iterating with a for loop\n",
    "\n",
    "* We can iterate over a list using a for loop\n",
    "\n",
    "```python\n",
    "employees = ['Nick', 'Lore', 'Hugo']\n",
    "for employee in employees:\n",
    "    print(employee)\n",
    "\n",
    "# Output == > Nick, lore, Hugo\n",
    "            \n",
    "```\n",
    "\n",
    "* We can also iterate overa string using a for loop\n",
    "\n",
    "```python\n",
    "for letter in 'DataCamp':\n",
    "    print(letter)\n",
    "```\n",
    "\n",
    "* We can iterate over a range object using a for loop\n",
    "\n",
    "```python\n",
    "for i in range(4):\n",
    "    print(i)\n",
    "```\n",
    "\n",
    "#### Iterators vs. Iterables\n",
    "\n",
    "- Iterable\n",
    "\n",
    "    * Examples: lists, strings, dictionaries, file connections\n",
    "    * An object with an associated iter() method\n",
    "    * Applying iter() to an iterable creates an iterator\n",
    "\n",
    "- Iterator\n",
    "\n",
    "    * Produces next Value with next()\n",
    "\n",
    "\n"
   ]
  },
  {
   "cell_type": "code",
   "execution_count": null,
   "metadata": {},
   "outputs": [],
   "source": [
    "## Iterating Over iterables: next()\n",
    "\n",
    "word = 'Da'\n",
    "it = iter(word)\n",
    "next(it)\n",
    "next(it)\n",
    "# next(it) ==> this will throw an StopIteration error"
   ]
  },
  {
   "cell_type": "code",
   "execution_count": null,
   "metadata": {},
   "outputs": [],
   "source": [
    "## Iterating at once with *\n",
    "\n",
    "word = 'Data'\n",
    "it = iter(word)\n",
    "print(*it)\n",
    "\n",
    "print(*it) # ==> no more values to go through "
   ]
  },
  {
   "cell_type": "code",
   "execution_count": null,
   "metadata": {},
   "outputs": [],
   "source": [
    "## Iterating over dictionaries\n",
    "\n",
    "pythonistas = {'hugo': 'bowne-anderson', 'francis': 'castro'}\n",
    "\n",
    "for key,val in pythonistas.items():\n",
    "    print(key, val)"
   ]
  },
  {
   "cell_type": "code",
   "execution_count": null,
   "metadata": {},
   "outputs": [],
   "source": [
    "## Iterating over file connections\n",
    "\n",
    "file = open('DataSets\\\\tweets.csv')\n",
    "it = iter(file)\n",
    "print(next(it))"
   ]
  },
  {
   "cell_type": "code",
   "execution_count": null,
   "metadata": {},
   "outputs": [],
   "source": [
    "# Create a list of strings: flash\n",
    "\n",
    "flash = ['jay garrick', 'barry allen', 'wally west', 'bart allen']\n",
    "\n",
    "# Print each list item in flash using a for loop\n",
    "for person in flash:\n",
    "    print(person)\n",
    "\n",
    "# Create an iterator for flash: superhero\n",
    "superhero = iter(flash)\n",
    "\n",
    "# Print each item from the iterator\n",
    "print(next(superhero))\n",
    "print(next(superhero))\n",
    "print(next(superhero))\n",
    "print(next(superhero))"
   ]
  },
  {
   "cell_type": "code",
   "execution_count": null,
   "metadata": {},
   "outputs": [],
   "source": [
    "# Create a range object: values\n",
    "values = range(10,21)\n",
    "\n",
    "# Print the range object\n",
    "print(values)\n",
    "\n",
    "# Create a list of integers: values_list\n",
    "values_list = list(values)\n",
    "\n",
    "# Print values_list\n",
    "print(values_list)\n",
    "\n",
    "# Get the sum of values: values_sum\n",
    "values_sum = sum(values)\n",
    "\n",
    "# Print values_sum\n",
    "print(values_sum)"
   ]
  },
  {
   "cell_type": "markdown",
   "metadata": {},
   "source": [
    "### Playing with Iterators\n"
   ]
  },
  {
   "cell_type": "code",
   "execution_count": null,
   "metadata": {},
   "outputs": [],
   "source": [
    "## Using enumerate()\n",
    "\n",
    "avangers = ['hawkeye', 'iron man', 'thor', 'quicksilver']\n",
    "e = enumerate(avangers)\n",
    "print(type(e))\n",
    "\n",
    "e_list = list(e)\n",
    "print(e_list)\n"
   ]
  },
  {
   "cell_type": "code",
   "execution_count": null,
   "metadata": {},
   "outputs": [],
   "source": [
    "## Enumerate() and unpack\n",
    "\n",
    "avangers = ['hawkeye', 'iron man', 'thor', 'quicksilver']\n",
    "for index, val in enumerate(avangers):\n",
    "    print(index, val)\n",
    "print('\\n-----Starting from 1-------\\n')\n",
    "for index, val in enumerate(avangers, start= 1):\n",
    "    print(index, val)"
   ]
  },
  {
   "cell_type": "code",
   "execution_count": null,
   "metadata": {},
   "outputs": [],
   "source": [
    "## Using zip()\n",
    "\n",
    "avangers = ['hawkeye', 'iron man', 'thor', 'quicksilver']\n",
    "names = ['barton', 'stark', 'odinson', 'maximoff']\n",
    "z = zip(avangers, names)\n",
    "print(type(z))\n",
    "\n",
    "print('\\n--------\\n')\n",
    "z_list = list(z)\n",
    "print(z_list)"
   ]
  },
  {
   "cell_type": "code",
   "execution_count": null,
   "metadata": {},
   "outputs": [],
   "source": [
    "## zip() and unpack\n",
    "\n",
    "avangers = ['hawkeye', 'iron man', 'thor', 'quicksilver']\n",
    "names = ['barton', 'stark', 'odinson', 'maximoff']\n",
    "\n",
    "for z1, z2 in zip(avangers, names):\n",
    "    print(z1, z2)"
   ]
  },
  {
   "cell_type": "code",
   "execution_count": null,
   "metadata": {},
   "outputs": [],
   "source": [
    "## Print zip with *\n",
    "\n",
    "avangers = ['hawkeye', 'iron man', 'thor', 'quicksilver']\n",
    "names = ['barton', 'stark', 'odinson', 'maximoff']\n",
    "z = zip(avangers, names)\n",
    "\n",
    "print(*z)\n"
   ]
  },
  {
   "cell_type": "markdown",
   "metadata": {},
   "source": [
    "### Using iterators to load large files into memory\n",
    "\n",
    "* There can be too much data to hold in memory\n",
    "\n",
    "* Solution: load data in **chunks!**\n",
    "\n",
    "- Pandas function: read_csv()\n",
    "    * Specify the chunk: chunk_size\n",
    "\n",
    "```python\n",
    "import pandas as pd\n",
    "result= []\n",
    "\n",
    "for chunk in pd.read_csv('data.csv', chunk_size=10000):\n",
    "    result.append(sum(chunk['x']))\n",
    "total = sum(result)\n",
    "print(total)\n",
    "```\n"
   ]
  },
  {
   "cell_type": "markdown",
   "metadata": {},
   "source": [
    "## Chapter II \n",
    "\n",
    "### List comprehensions and generators\n",
    "\n",
    "#### List Comprehensions\n",
    "\n",
    "* Collapse for loops for building lists into a single line\n",
    "\n",
    "- **Components**\n",
    "    * Iterable\n",
    "    * Iterator variable(represent members of iterable)\n",
    "    * Output expression"
   ]
  },
  {
   "cell_type": "code",
   "execution_count": null,
   "metadata": {},
   "outputs": [],
   "source": [
    "## Populate a list with a for loop\n",
    "\n",
    "nums = [12, 8, 21, 3, 16]\n",
    "new_nums = []\n",
    "\n",
    "for num in nums:\n",
    "    new_nums.append(num+1)\n",
    "\n",
    "print(new_nums)"
   ]
  },
  {
   "cell_type": "code",
   "execution_count": null,
   "metadata": {},
   "outputs": [],
   "source": [
    "## A list Comprehension\n",
    "\n",
    "nums = [12, 8, 21, 3, 16]\n",
    "new_nums = [num + 1 for num in nums]\n",
    "print(new_nums)"
   ]
  },
  {
   "cell_type": "code",
   "execution_count": null,
   "metadata": {},
   "outputs": [],
   "source": [
    "## List Comprehension with range()\n",
    "\n",
    "result = [num for num in range(11)]\n",
    "print(result)"
   ]
  },
  {
   "cell_type": "code",
   "execution_count": null,
   "metadata": {},
   "outputs": [],
   "source": [
    "## Nested Loops\n",
    "\n",
    "pairs_1 = []\n",
    "for num1 in range(0, 2):\n",
    "    for num2 in range(6, 8):\n",
    "        pairs_1.append((num1, num2))\n",
    "\n",
    "print(pairs_1)"
   ]
  },
  {
   "cell_type": "code",
   "execution_count": null,
   "metadata": {},
   "outputs": [],
   "source": [
    "## Nested Loops with list Comprehension\n",
    "\n",
    "pairs_2 = [(num1, num2) for num1 in range(0, 2) for num2 in range(6, 8)]\n",
    "print(pairs_2)\n",
    "\n",
    "# Tradeoff: Readability "
   ]
  },
  {
   "cell_type": "code",
   "execution_count": null,
   "metadata": {},
   "outputs": [],
   "source": [
    "# Create a 5 x 5 matrix using a list of lists:\n",
    "\n",
    "matrix = [[col for col in range(5)] for row in range(5)]\n",
    "\n",
    "# Print the matrix\n",
    "for row in matrix:\n",
    "    print(row)"
   ]
  },
  {
   "cell_type": "markdown",
   "metadata": {},
   "source": [
    "### Advanced Comprehensions\n",
    "\n",
    "#### Conditionals in comprehensions\n",
    "\n",
    "```\n",
    "[ output expression for iterator variable in iterable if predicate expression ]\n",
    "```\n",
    "\n",
    "* Conditionals on the iterable\n",
    "\n",
    "```python\n",
    "[num ** 2 for num in range(10) if num % 2 == 0]\n",
    "\n",
    "# Output \n",
    "'''\n",
    "[0, 4, 16, 36, 64]\n",
    "'''\n",
    "```\n",
    "* Conditionals on the output expression\n",
    "\n",
    "```python\n",
    "[num ** 2 if num % 2 == 0 else 0 for num in range(10)]\n",
    "\n",
    "# Output\n",
    "'''\n",
    "[0, 0, 4, 0, 16, 0, 36, 0, 64, 0]\n",
    "'''\n",
    "```\n",
    "\n",
    "#### Dict Comprehensions\n",
    "\n",
    "* They do create dictionaries\n",
    "\n",
    "* Use curly {} instead of square [] brackets\n",
    "\n",
    "```python\n",
    "pos_neg = {num: -num for num in range(9)}\n",
    "print(pos_neg)\n",
    "\n",
    "# Output\n",
    "'''\n",
    "{0: 0, 1: -1, 2: -2, 3: -3, 4: -4, ....}\n",
    "'''\n",
    "```\n"
   ]
  },
  {
   "cell_type": "code",
   "execution_count": null,
   "metadata": {},
   "outputs": [],
   "source": [
    "# Create a list of strings: fellowship\n",
    "fellowship = ['frodo', 'samwise', 'merry', 'aragorn', 'legolas', 'boromir', 'gimli']\n",
    "\n",
    "# Create list comprehension: new_fellowship\n",
    "new_fellowship = [ member for member in fellowship if len(member) >= 7 ]\n",
    "\n",
    "# Print the new list\n",
    "print(new_fellowship)\n",
    "\n",
    "print('\\n--------\\n')\n",
    "new_fellowship = [member if len(member) >= 7 else '' for member in fellowship]\n",
    "print(new_fellowship)"
   ]
  },
  {
   "cell_type": "markdown",
   "metadata": {},
   "source": [
    "### Introduction to Generator Expressions\n",
    "\n",
    "#### Generator expressions\n",
    "\n",
    "* List comprehension - returns a list\n",
    "\n",
    "* Generators - returns a generator object\n",
    "\n",
    "* Both can be iterated over\n",
    "\n",
    "* use () instead of [] to create a generator object\n",
    "\n",
    "```python\n",
    "(2 * num for num in range(10))\n",
    "```\n",
    "\n",
    "##### Printing values from generators\n",
    "\n",
    "```python\n",
    "result = (num for num in range(6))\n",
    "for num in result:\n",
    "    print(num)\n",
    "```\n",
    "* Lazy evaluation\n",
    "\n",
    "```python\n",
    "result = (num for num in range(6))\n",
    "\n",
    "print(next(result)) # ==> 0\n",
    "print(next(result)) # ==> 1\n",
    "print(next(result)) # ==> 2\n",
    "print(next(result)) # ==> 3\n",
    "print(next(result)) # ==> 4\n",
    "print(next(result)) # ==> 5\n",
    "```\n",
    "\n",
    "##### Generator expressions\n",
    "\n",
    "```python\n",
    "even_nums = (num for num in range(10) if num % 2 == 0)\n",
    "print(list(even_nums))\n",
    "\n",
    "# Output\n",
    "'''\n",
    "[0, 2, 4, 6, 8]\n",
    "'''\n",
    "```\n",
    "\n",
    "#### Generator Functions\n",
    "\n",
    "* Produces generator objects when called\n",
    "\n",
    "* Defined like a regular function 'def'\n",
    "\n",
    "* **Yields** a sequence of values instead of returning a single value\n",
    "\n",
    "* Generates a value with 'yield' keyword\n",
    "\n",
    "```python\n",
    "def num_sequence(n):\n",
    "    \"\"\"Generate values from 0 to n\"\"\"\n",
    "    i = 0\n",
    "    while i < n :\n",
    "        yield i\n",
    "        i += 1\n",
    "```\n",
    "\n",
    "#### Wrap-up\n",
    "\n",
    "* Basic Syntax\n",
    "\n",
    "```\n",
    "[output expression for iterator variable in iterable]\n",
    "```\n",
    "\n",
    "* Advanced Syntax\n",
    "\n",
    "```\n",
    "[output expression + conditional on output for iterator variable in iterable + conditional on iterable]\n",
    "```"
   ]
  }
 ],
 "metadata": {
  "interpreter": {
   "hash": "61a08e7f131dfe2aca80997ed8eff63098cc2a3d0cc059795c0ae26ba2a0b692"
  },
  "kernelspec": {
   "display_name": "Python 3.8.8 ('base')",
   "language": "python",
   "name": "python3"
  },
  "language_info": {
   "codemirror_mode": {
    "name": "ipython",
    "version": 3
   },
   "file_extension": ".py",
   "mimetype": "text/x-python",
   "name": "python",
   "nbconvert_exporter": "python",
   "pygments_lexer": "ipython3",
   "version": "3.8.8"
  },
  "orig_nbformat": 4
 },
 "nbformat": 4,
 "nbformat_minor": 2
}
