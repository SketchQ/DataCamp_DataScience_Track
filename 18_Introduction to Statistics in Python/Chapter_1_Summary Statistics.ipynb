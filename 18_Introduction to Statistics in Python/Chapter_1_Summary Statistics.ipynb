{
 "cells": [
  {
   "cell_type": "markdown",
   "metadata": {},
   "source": [
    "# Course Description\n",
    "\n",
    "Statistics is the study of how to collect, analyze, and draw conclusions from data. It’s a hugely valuable tool that you can use to bring the future into focus and infer the answer to tons of questions. For example, what is the likelihood of someone purchasing your product, how many calls will your support team receive, and how many jeans sizes should you manufacture to fit 95% of the population? In this course, you'll discover how to answer questions like these as you grow your statistical skills and learn how to calculate averages, use scatterplots to show the relationship between numeric values, and calculate correlation. You'll also tackle probability, the backbone of statistical reasoning, and learn how to use Python to conduct a well-designed study to draw your own conclusions from data.\n",
    "\n",
    "# Lesson I\n",
    "\n",
    "Summary statistics gives you the tools you need to boil down massive datasets to reveal the highlights. In this chapter, you'll explore summary statistics including mean, median, and standard deviation, and learn how to accurately interpret them. You'll also develop your critical thinking skills, allowing you to choose the best summary statistics for your data.\n",
    "\n",
    "## What is Statistics?\n",
    "\n",
    "* **The Field of Statistics**: the practice and study of collecting and analyzing data\n",
    "* **A summary Statistics**: a fact about or summary of some data\n",
    "\n",
    "## What can Statistics do?\n",
    "\n",
    "* How likely is someone to purchase a product? Are people more likely to purchase it if they can use a different payment system?\n",
    "* How many occupants will your hotel have? How can you optimize occupancy?\n",
    "* How many sizes of jeans need to be manufactured so they can fit 95% of the population? Should the same number of each size be produced?\n",
    "* A/B tests: Which ad is more effective in getting people to purchase a product?\n",
    "\n",
    "## What can't Statistics Do?\n",
    "\n",
    "* *Why* is *Game of Thrones* so popular?\n",
    "\n",
    "**Instead...**\n",
    "\n",
    "* Are series with more violent scenes viewed by more people?\n",
    "\n",
    "**But...**\n",
    "\n",
    "* Even so, this can't tell us if more violent scenes lead to more views.\n",
    "\n",
    "## Type Of Statistics\n",
    "\n",
    "| **Descriptive Statistics** | **Inferential Statiscits** |\n",
    "|----------------------------|----------------------------|\n",
    "| * *Describe* and *summarize* data | * Use a sample of data to make *inferences*  about a larger population |\n",
    "| * 50% of friends drive to work. | What percent of people drive to work? |\n",
    "| * 25% take the bus | to make inferences about larger population |\n",
    "| * 25% bike |\n",
    "\n",
    "## Types of Data\n",
    "\n",
    "There are two main types of data Numeric and Categorical.\n",
    "\n",
    "Numeric : is made up of numeric values\n",
    "Categorical: is made up of values that belong to distinct groups.\n",
    "\n",
    "| **Numeric (Quantitative)** ||\n",
    "|---------------------------|------------------------|\n",
    "| **Continuous (Measured)** | **Discreate (Counted)**|\n",
    "| Airplaine Speed | Number of Pets |\n",
    "| time Spent waiting in line | Number of packages shipped |\n",
    "\n",
    "<br>\n",
    "\n",
    "</br>\n",
    "\n",
    "| **Categorical (Qualitive)** | |\n",
    "|-----------------------------|--------------------|\n",
    "| **Nominal (Unordered)** | **Ordinal (Ordered)** |\n",
    "| Married / unmarried | <img src='pictures/odered.jpg' width=250 /> |\n",
    "| Country of Residence |\n",
    "\n",
    "### Categorical Data Can be represented as Numbers\n",
    "\n",
    "Sometimes, categorical variables are represented using numbers. \n",
    "\n",
    "Married and unmarried can be represented using 1 and 0, or an agreement scale could be represented with numbers 1 through 5. \n",
    "\n",
    "However, it's important to note that this doesn't necessarily make them numeric variables.\n",
    "\n",
    "## Why does data type matter?\n",
    "\n",
    "Being able to identify data types is important since the type of data you're working with will dictate what kinds of summary statistics and visualizations make sense for your data, so this is an important skill to master. \n",
    "\n",
    "For numerical data, we can use summary statistics like mean, and plots like scatter plots, but these don't make a ton of sense for categorical data.\n",
    "\n",
    "Similarly, things like counts and barplots don't make much sense for numeric data."
   ]
  },
  {
   "cell_type": "markdown",
   "metadata": {},
   "source": [
    "# Lesson II\n",
    "\n",
    "## Measures of center\n",
    "\n",
    "In this lesson, we'll begin to discuss summary statistics, some of which you may already be familiar with, like mean and median.\n",
    "\n",
    "## Mammal Sleep Data\n",
    "\n",
    "In this lesson, we'll look at data about different mammals' sleep habits.\n",
    "\n",
    "```python\n",
    "    print(msleep)\n",
    "```\n",
    "\n",
    "<img src='pictures/mammals.jpg' />\n",
    "\n",
    "### Histogram\n",
    "\n",
    "Before we dive in, let's remind ourselves how histograms work. A histogram takes a bunch of data points and separates them into bins, or ranges of values.\n",
    "\n",
    "<img src='pictures/mammalshist.jpg' />\n",
    "\n",
    "Here, there's a bin for 0 to 2 hours, 2 to 4 hours, and so on. The heights of the bars represent the number of data points that fall into that bin, so there's one mammal in the dataset that sleeps between 0 to 2 hours, and nine mammals that sleep two to four hours. \n",
    "\n",
    "Histograms are a great way to visually summarize the data, but we can use numerical summary statistics to summarize even further.\n",
    "\n",
    "## How long do mammals in this dataset typcially sleep?\n",
    "\n",
    "***What's a typical value?***\n",
    "\n",
    "***Where is the center of the data?***\n",
    "\n",
    "* Mean\n",
    "* Median\n",
    "* Mode\n",
    "\n",
    "### Measures of center : Mean\n",
    "\n",
    "The mean, often called the average, is one of the most common ways of summarizing data. To calculate mean, we add up all the numbers of interest and divide by the total number of data points.\n",
    "\n",
    "### Measures of center : Median\n",
    "\n",
    "Another measure of center is the median. The median is the value where 50% of the data is lower than it, and 50% of the data is higher. We can calculate this by sorting all the data points and taking the middle one.\n",
    "\n",
    "### Measures of center : Mode\n",
    "\n",
    "The mode is the most frequent value in the data.\n",
    "\n",
    "***Mean is much more sensitive to extreme values than the median.***\n",
    "\n",
    "Since the mean is more sensitive to extreme values, it works better for symmetrical data.\n",
    "\n",
    "## Skew\n",
    "\n",
    "However, if the data is skewed, meaning it's not symmetrical, median is usually better to use.\n",
    "\n",
    "In a histogram, If the data is piled up on the right, with a tail on the left. Data that looks like this is called left-skewed data. \n",
    "\n",
    "When data is piled up on the left with a tail on the right, it's right-skewed.\n",
    "\n",
    "When data is skewed, the mean and median are different. The mean is pulled in the direction of the skew, so it's lower than the median on the left-skewed data, and higher than the median on the right-skewed data. Because the mean is pulled around by the extreme values, it's better to use the median since it's less affected by outliers."
   ]
  },
  {
   "cell_type": "markdown",
   "metadata": {},
   "source": [
    "## Exercise\n",
    "\n",
    "### Mean and Median\n",
    "\n",
    "In this chapter, you'll be working with the [2018 Food Carbon Footprint Index](https://www.nu3.de/blogs/nutrition/food-carbon-footprint-index-2018) from nu3. The ``food_consumption`` dataset contains information about the kilograms of food consumed per person per year in each country in each food category (``consumption``) as well as information about the carbon footprint of that food category (``co2_emissions``) measured in kilograms of carbon dioxide, or CO2, per person per year in each country.\n",
    "\n",
    "In this exercise, you'll compute measures of center to compare food consumption in the US and Belgium using your ``pandas`` and ``numpy`` skills."
   ]
  },
  {
   "cell_type": "code",
   "execution_count": 1,
   "metadata": {},
   "outputs": [
    {
     "data": {
      "text/html": [
       "<div>\n",
       "<style scoped>\n",
       "    .dataframe tbody tr th:only-of-type {\n",
       "        vertical-align: middle;\n",
       "    }\n",
       "\n",
       "    .dataframe tbody tr th {\n",
       "        vertical-align: top;\n",
       "    }\n",
       "\n",
       "    .dataframe thead th {\n",
       "        text-align: right;\n",
       "    }\n",
       "</style>\n",
       "<table border=\"1\" class=\"dataframe\">\n",
       "  <thead>\n",
       "    <tr style=\"text-align: right;\">\n",
       "      <th></th>\n",
       "      <th>Unnamed: 0</th>\n",
       "      <th>country</th>\n",
       "      <th>food_category</th>\n",
       "      <th>consumption</th>\n",
       "      <th>co2_emission</th>\n",
       "    </tr>\n",
       "  </thead>\n",
       "  <tbody>\n",
       "    <tr>\n",
       "      <th>0</th>\n",
       "      <td>1</td>\n",
       "      <td>Argentina</td>\n",
       "      <td>pork</td>\n",
       "      <td>10.51</td>\n",
       "      <td>37.20</td>\n",
       "    </tr>\n",
       "    <tr>\n",
       "      <th>1</th>\n",
       "      <td>2</td>\n",
       "      <td>Argentina</td>\n",
       "      <td>poultry</td>\n",
       "      <td>38.66</td>\n",
       "      <td>41.53</td>\n",
       "    </tr>\n",
       "    <tr>\n",
       "      <th>2</th>\n",
       "      <td>3</td>\n",
       "      <td>Argentina</td>\n",
       "      <td>beef</td>\n",
       "      <td>55.48</td>\n",
       "      <td>1712.00</td>\n",
       "    </tr>\n",
       "    <tr>\n",
       "      <th>3</th>\n",
       "      <td>4</td>\n",
       "      <td>Argentina</td>\n",
       "      <td>lamb_goat</td>\n",
       "      <td>1.56</td>\n",
       "      <td>54.63</td>\n",
       "    </tr>\n",
       "    <tr>\n",
       "      <th>4</th>\n",
       "      <td>5</td>\n",
       "      <td>Argentina</td>\n",
       "      <td>fish</td>\n",
       "      <td>4.36</td>\n",
       "      <td>6.96</td>\n",
       "    </tr>\n",
       "  </tbody>\n",
       "</table>\n",
       "</div>"
      ],
      "text/plain": [
       "   Unnamed: 0    country food_category  consumption  co2_emission\n",
       "0           1  Argentina          pork        10.51         37.20\n",
       "1           2  Argentina       poultry        38.66         41.53\n",
       "2           3  Argentina          beef        55.48       1712.00\n",
       "3           4  Argentina     lamb_goat         1.56         54.63\n",
       "4           5  Argentina          fish         4.36          6.96"
      ]
     },
     "execution_count": 1,
     "metadata": {},
     "output_type": "execute_result"
    }
   ],
   "source": [
    "# Import Packages\n",
    "import pandas as pd\n",
    "import numpy as np\n",
    "\n",
    "# Food Consumption Dataset\n",
    "food_consumption = pd.read_csv('datasets/food_consumption.csv')\n",
    "\n",
    "# Display the head of DataFrame\n",
    "food_consumption.head()"
   ]
  },
  {
   "cell_type": "code",
   "execution_count": 12,
   "metadata": {},
   "outputs": [
    {
     "name": "stdout",
     "output_type": "stream",
     "text": [
      "42.132727272727266\n",
      "12.59\n"
     ]
    }
   ],
   "source": [
    "# Filter for Belgium\n",
    "be_consumption = food_consumption[food_consumption['country'] == 'Belgium']\n",
    "\n",
    "# Filter for USA\n",
    "usa_consumption = food_consumption[food_consumption['country'] == 'USA']\n",
    "\n",
    "# Calculate mean and median consumption in Belgium\n",
    "print(be_consumption['consumption'].mean())\n",
    "print(be_consumption['consumption'].median())"
   ]
  },
  {
   "cell_type": "code",
   "execution_count": 13,
   "metadata": {},
   "outputs": [
    {
     "name": "stdout",
     "output_type": "stream",
     "text": [
      "44.650000000000006\n",
      "14.58\n"
     ]
    }
   ],
   "source": [
    "# Calculate mean and median consumption in USA\n",
    "print(usa_consumption['consumption'].mean())\n",
    "print(usa_consumption['consumption'].median())"
   ]
  },
  {
   "cell_type": "code",
   "execution_count": 15,
   "metadata": {},
   "outputs": [
    {
     "data": {
      "text/html": [
       "<div>\n",
       "<style scoped>\n",
       "    .dataframe tbody tr th:only-of-type {\n",
       "        vertical-align: middle;\n",
       "    }\n",
       "\n",
       "    .dataframe tbody tr th {\n",
       "        vertical-align: top;\n",
       "    }\n",
       "\n",
       "    .dataframe thead th {\n",
       "        text-align: right;\n",
       "    }\n",
       "</style>\n",
       "<table border=\"1\" class=\"dataframe\">\n",
       "  <thead>\n",
       "    <tr style=\"text-align: right;\">\n",
       "      <th></th>\n",
       "      <th>mean</th>\n",
       "      <th>median</th>\n",
       "    </tr>\n",
       "    <tr>\n",
       "      <th>country</th>\n",
       "      <th></th>\n",
       "      <th></th>\n",
       "    </tr>\n",
       "  </thead>\n",
       "  <tbody>\n",
       "    <tr>\n",
       "      <th>Belgium</th>\n",
       "      <td>42.132727</td>\n",
       "      <td>12.59</td>\n",
       "    </tr>\n",
       "    <tr>\n",
       "      <th>USA</th>\n",
       "      <td>44.650000</td>\n",
       "      <td>14.58</td>\n",
       "    </tr>\n",
       "  </tbody>\n",
       "</table>\n",
       "</div>"
      ],
      "text/plain": [
       "              mean  median\n",
       "country                   \n",
       "Belgium  42.132727   12.59\n",
       "USA      44.650000   14.58"
      ]
     },
     "execution_count": 15,
     "metadata": {},
     "output_type": "execute_result"
    }
   ],
   "source": [
    "# Subset for Belgium and USA only\n",
    "be_and_usa = food_consumption[(food_consumption['country'] == 'Belgium') | (food_consumption['country'] == 'USA')]\n",
    "\n",
    "# Group by country, select consumption column, and compute mean and median\n",
    "be_and_usa.groupby('country')['consumption'].agg(['mean', 'median'])"
   ]
  },
  {
   "cell_type": "markdown",
   "metadata": {},
   "source": [
    "### Means vs. Median\n",
    "\n",
    "In the video, you learned that the mean is the sum of all the data points divided by the total number of data points, and the median is the middle value of the dataset where 50% of the data is less than the median, and 50% of the data is greater than the median. In this exercise, you'll compare these two measures of center."
   ]
  },
  {
   "cell_type": "code",
   "execution_count": 19,
   "metadata": {},
   "outputs": [
    {
     "data": {
      "image/png": "[encoded data removed]",
      "text/plain": [
       "<Figure size 432x288 with 1 Axes>"
      ]
     },
     "metadata": {
      "needs_background": "light"
     },
     "output_type": "display_data"
    }
   ],
   "source": [
    "# Import matplotlib\n",
    "import matplotlib.pyplot as plt\n",
    "\n",
    "# Subset for food_category equals rice\n",
    "rice_consumption = food_consumption[food_consumption['food_category'] == 'rice']\n",
    "\n",
    "# Histogram of co2_emission for rice and show plot\n",
    "rice_consumption.co2_emission.hist()\n",
    "plt.show()"
   ]
  },
  {
   "cell_type": "code",
   "execution_count": 21,
   "metadata": {},
   "outputs": [
    {
     "data": {
      "text/plain": [
       "mean      37.591615\n",
       "median    15.200000\n",
       "Name: co2_emission, dtype: float64"
      ]
     },
     "execution_count": 21,
     "metadata": {},
     "output_type": "execute_result"
    }
   ],
   "source": [
    "# Calculate mean and median of co2_emission with .agg()\n",
    "rice_consumption.co2_emission.agg(['mean', 'median'])"
   ]
  }
 ],
 "metadata": {
  "kernelspec": {
   "display_name": "Python 3.8.13 ('base')",
   "language": "python",
   "name": "python3"
  },
  "language_info": {
   "codemirror_mode": {
    "name": "ipython",
    "version": 3
   },
   "file_extension": ".py",
   "mimetype": "text/x-python",
   "name": "python",
   "nbconvert_exporter": "python",
   "pygments_lexer": "ipython3",
   "version": "3.8.13"
  },
  "orig_nbformat": 4,
  "vscode": {
   "interpreter": {
    "hash": "4c59e6e5379e7fd956ce48a476e9664867cfb6229c9530fa6fd87fb84f21040f"
   }
  }
 },
 "nbformat": 4,
 "nbformat_minor": 2
}
