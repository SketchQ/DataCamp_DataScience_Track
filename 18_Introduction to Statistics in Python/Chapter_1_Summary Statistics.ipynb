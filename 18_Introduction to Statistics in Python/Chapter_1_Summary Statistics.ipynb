{
 "cells": [
  {
   "cell_type": "markdown",
   "metadata": {},
   "source": [
    "# Course Description\n",
    "\n",
    "Statistics is the study of how to collect, analyze, and draw conclusions from data. It’s a hugely valuable tool that you can use to bring the future into focus and infer the answer to tons of questions. For example, what is the likelihood of someone purchasing your product, how many calls will your support team receive, and how many jeans sizes should you manufacture to fit 95% of the population? In this course, you'll discover how to answer questions like these as you grow your statistical skills and learn how to calculate averages, use scatterplots to show the relationship between numeric values, and calculate correlation. You'll also tackle probability, the backbone of statistical reasoning, and learn how to use Python to conduct a well-designed study to draw your own conclusions from data.\n",
    "\n",
    "# Lesson I\n",
    "\n",
    "Summary statistics gives you the tools you need to boil down massive datasets to reveal the highlights. In this chapter, you'll explore summary statistics including mean, median, and standard deviation, and learn how to accurately interpret them. You'll also develop your critical thinking skills, allowing you to choose the best summary statistics for your data.\n",
    "\n",
    "## What is Statistics?\n",
    "\n",
    "* **The Field of Statistics**: the practice and study of collecting and analyzing data\n",
    "* **A summary Statistics**: a fact about or summary of some data\n",
    "\n",
    "## What can Statistics do?\n",
    "\n",
    "* How likely is someone to purchase a product? Are people more likely to purchase it if they can use a different payment system?\n",
    "* How many occupants will your hotel have? How can you optimize occupancy?\n",
    "* How many sizes of jeans need to be manufactured so they can fit 95% of the population? Should the same number of each size be produced?\n",
    "* A/B tests: Which ad is more effective in getting people to purchase a product?\n",
    "\n",
    "## What can't Statistics Do?\n",
    "\n",
    "* *Why* is *Game of Thrones* so popular?\n",
    "\n",
    "**Instead...**\n",
    "\n",
    "* Are series with more violent scenes viewed by more people?\n",
    "\n",
    "**But...**\n",
    "\n",
    "* Even so, this can't tell us if more violent scenes lead to more views.\n",
    "\n",
    "## Type Of Statistics\n",
    "\n",
    "| **Descriptive Statistics** | **Inferential Statiscits** |\n",
    "|----------------------------|----------------------------|\n",
    "| * *Describe* and *summarize* data | * Use a sample of data to make *inferences*  about a larger population |\n",
    "| * 50% of friends drive to work. | What percent of people drive to work? |\n",
    "| * 25% take the bus | to make inferences about larger population |\n",
    "| * 25% bike |\n",
    "\n",
    "## Types of Data\n",
    "\n",
    "There are two main types of data Numeric and Categorical.\n",
    "\n",
    "Numeric : is made up of numeric values\n",
    "Categorical: is made up of values that belong to distinct groups.\n",
    "\n",
    "| **Numeric (Quantitative)** ||\n",
    "|---------------------------|------------------------|\n",
    "| **Continuous (Measured)** | **Discreate (Counted)**|\n",
    "| Airplaine Speed | Number of Pets |\n",
    "| time Spent waiting in line | Number of packages shipped |\n",
    "\n",
    "<br>\n",
    "\n",
    "</br>\n",
    "\n",
    "| **Categorical (Qualitive)** | |\n",
    "|-----------------------------|--------------------|\n",
    "| **Nominal (Unordered)** | **Ordinal (Ordered)** |\n",
    "| Married / unmarried | <img src='pictures/odered.jpg' width=250 /> |\n",
    "| Country of Residence |\n",
    "\n",
    "### Categorical Data Can be represented as Numbers\n",
    "\n",
    "Sometimes, categorical variables are represented using numbers. \n",
    "\n",
    "Married and unmarried can be represented using 1 and 0, or an agreement scale could be represented with numbers 1 through 5. \n",
    "\n",
    "However, it's important to note that this doesn't necessarily make them numeric variables.\n",
    "\n",
    "## Why does data type matter?\n",
    "\n",
    "Being able to identify data types is important since the type of data you're working with will dictate what kinds of summary statistics and visualizations make sense for your data, so this is an important skill to master. \n",
    "\n",
    "For numerical data, we can use summary statistics like mean, and plots like scatter plots, but these don't make a ton of sense for categorical data.\n",
    "\n",
    "Similarly, things like counts and barplots don't make much sense for numeric data."
   ]
  },
  {
   "cell_type": "markdown",
   "metadata": {},
   "source": [
    "# Lesson II\n",
    "\n",
    "## Measures of center\n",
    "\n",
    "In this lesson, we'll begin to discuss summary statistics, some of which you may already be familiar with, like mean and median.\n",
    "\n",
    "## Mammal Sleep Data\n",
    "\n",
    "In this lesson, we'll look at data about different mammals' sleep habits.\n",
    "\n",
    "```python\n",
    "    print(msleep)\n",
    "```\n",
    "\n",
    "<img src='pictures/mammals.jpg' />\n",
    "\n",
    "### Histogram\n",
    "\n",
    "Before we dive in, let's remind ourselves how histograms work. A histogram takes a bunch of data points and separates them into bins, or ranges of values.\n",
    "\n",
    "<img src='pictures/mammalshist.jpg' />\n",
    "\n",
    "Here, there's a bin for 0 to 2 hours, 2 to 4 hours, and so on. The heights of the bars represent the number of data points that fall into that bin, so there's one mammal in the dataset that sleeps between 0 to 2 hours, and nine mammals that sleep two to four hours. \n",
    "\n",
    "Histograms are a great way to visually summarize the data, but we can use numerical summary statistics to summarize even further.\n",
    "\n",
    "## How long do mammals in this dataset typcially sleep?\n",
    "\n",
    "***What's a typical value?***\n",
    "\n",
    "***Where is the center of the data?***\n",
    "\n",
    "* Mean\n",
    "* Median\n",
    "* Mode\n",
    "\n",
    "### Measures of center : Mean\n",
    "\n",
    "The mean, often called the average, is one of the most common ways of summarizing data. To calculate mean, we add up all the numbers of interest and divide by the total number of data points.\n",
    "\n",
    "### Measures of center : Median\n",
    "\n",
    "Another measure of center is the median. The median is the value where 50% of the data is lower than it, and 50% of the data is higher. We can calculate this by sorting all the data points and taking the middle one.\n",
    "\n",
    "### Measures of center : Mode\n",
    "\n",
    "The mode is the most frequent value in the data.\n",
    "\n",
    "***Mean is much more sensitive to extreme values than the median.***\n",
    "\n",
    "Since the mean is more sensitive to extreme values, it works better for symmetrical data.\n",
    "\n",
    "## Skew\n",
    "\n",
    "However, if the data is skewed, meaning it's not symmetrical, median is usually better to use.\n",
    "\n",
    "In a histogram, If the data is piled up on the right, with a tail on the left. Data that looks like this is called left-skewed data. \n",
    "\n",
    "When data is piled up on the left with a tail on the right, it's right-skewed.\n",
    "\n",
    "When data is skewed, the mean and median are different. The mean is pulled in the direction of the skew, so it's lower than the median on the left-skewed data, and higher than the median on the right-skewed data. Because the mean is pulled around by the extreme values, it's better to use the median since it's less affected by outliers."
   ]
  },
  {
   "cell_type": "markdown",
   "metadata": {},
   "source": [
    "## Exercise\n",
    "\n",
    "### Mean and Median\n",
    "\n",
    "In this chapter, you'll be working with the [2018 Food Carbon Footprint Index](https://www.nu3.de/blogs/nutrition/food-carbon-footprint-index-2018) from nu3. The ``food_consumption`` dataset contains information about the kilograms of food consumed per person per year in each country in each food category (``consumption``) as well as information about the carbon footprint of that food category (``co2_emissions``) measured in kilograms of carbon dioxide, or CO2, per person per year in each country.\n",
    "\n",
    "In this exercise, you'll compute measures of center to compare food consumption in the US and Belgium using your ``pandas`` and ``numpy`` skills."
   ]
  },
  {
   "cell_type": "code",
   "execution_count": 1,
   "metadata": {},
   "outputs": [
    {
     "data": {
      "text/html": [
       "<div>\n",
       "<style scoped>\n",
       "    .dataframe tbody tr th:only-of-type {\n",
       "        vertical-align: middle;\n",
       "    }\n",
       "\n",
       "    .dataframe tbody tr th {\n",
       "        vertical-align: top;\n",
       "    }\n",
       "\n",
       "    .dataframe thead th {\n",
       "        text-align: right;\n",
       "    }\n",
       "</style>\n",
       "<table border=\"1\" class=\"dataframe\">\n",
       "  <thead>\n",
       "    <tr style=\"text-align: right;\">\n",
       "      <th></th>\n",
       "      <th>Unnamed: 0</th>\n",
       "      <th>country</th>\n",
       "      <th>food_category</th>\n",
       "      <th>consumption</th>\n",
       "      <th>co2_emission</th>\n",
       "    </tr>\n",
       "  </thead>\n",
       "  <tbody>\n",
       "    <tr>\n",
       "      <th>0</th>\n",
       "      <td>1</td>\n",
       "      <td>Argentina</td>\n",
       "      <td>pork</td>\n",
       "      <td>10.51</td>\n",
       "      <td>37.20</td>\n",
       "    </tr>\n",
       "    <tr>\n",
       "      <th>1</th>\n",
       "      <td>2</td>\n",
       "      <td>Argentina</td>\n",
       "      <td>poultry</td>\n",
       "      <td>38.66</td>\n",
       "      <td>41.53</td>\n",
       "    </tr>\n",
       "    <tr>\n",
       "      <th>2</th>\n",
       "      <td>3</td>\n",
       "      <td>Argentina</td>\n",
       "      <td>beef</td>\n",
       "      <td>55.48</td>\n",
       "      <td>1712.00</td>\n",
       "    </tr>\n",
       "    <tr>\n",
       "      <th>3</th>\n",
       "      <td>4</td>\n",
       "      <td>Argentina</td>\n",
       "      <td>lamb_goat</td>\n",
       "      <td>1.56</td>\n",
       "      <td>54.63</td>\n",
       "    </tr>\n",
       "    <tr>\n",
       "      <th>4</th>\n",
       "      <td>5</td>\n",
       "      <td>Argentina</td>\n",
       "      <td>fish</td>\n",
       "      <td>4.36</td>\n",
       "      <td>6.96</td>\n",
       "    </tr>\n",
       "  </tbody>\n",
       "</table>\n",
       "</div>"
      ],
      "text/plain": [
       "   Unnamed: 0    country food_category  consumption  co2_emission\n",
       "0           1  Argentina          pork        10.51         37.20\n",
       "1           2  Argentina       poultry        38.66         41.53\n",
       "2           3  Argentina          beef        55.48       1712.00\n",
       "3           4  Argentina     lamb_goat         1.56         54.63\n",
       "4           5  Argentina          fish         4.36          6.96"
      ]
     },
     "execution_count": 1,
     "metadata": {},
     "output_type": "execute_result"
    }
   ],
   "source": [
    "# Import Packages\n",
    "import pandas as pd\n",
    "import numpy as np\n",
    "\n",
    "# Food Consumption Dataset\n",
    "food_consumption = pd.read_csv('datasets/food_consumption.csv')\n",
    "\n",
    "# Display the head of DataFrame\n",
    "food_consumption.head()"
   ]
  },
  {
   "cell_type": "code",
   "execution_count": 12,
   "metadata": {},
   "outputs": [
    {
     "name": "stdout",
     "output_type": "stream",
     "text": [
      "42.132727272727266\n",
      "12.59\n"
     ]
    }
   ],
   "source": [
    "# Filter for Belgium\n",
    "be_consumption = food_consumption[food_consumption['country'] == 'Belgium']\n",
    "\n",
    "# Filter for USA\n",
    "usa_consumption = food_consumption[food_consumption['country'] == 'USA']\n",
    "\n",
    "# Calculate mean and median consumption in Belgium\n",
    "print(be_consumption['consumption'].mean())\n",
    "print(be_consumption['consumption'].median())"
   ]
  },
  {
   "cell_type": "code",
   "execution_count": 13,
   "metadata": {},
   "outputs": [
    {
     "name": "stdout",
     "output_type": "stream",
     "text": [
      "44.650000000000006\n",
      "14.58\n"
     ]
    }
   ],
   "source": [
    "# Calculate mean and median consumption in USA\n",
    "print(usa_consumption['consumption'].mean())\n",
    "print(usa_consumption['consumption'].median())"
   ]
  },
  {
   "cell_type": "code",
   "execution_count": 15,
   "metadata": {},
   "outputs": [
    {
     "data": {
      "text/html": [
       "<div>\n",
       "<style scoped>\n",
       "    .dataframe tbody tr th:only-of-type {\n",
       "        vertical-align: middle;\n",
       "    }\n",
       "\n",
       "    .dataframe tbody tr th {\n",
       "        vertical-align: top;\n",
       "    }\n",
       "\n",
       "    .dataframe thead th {\n",
       "        text-align: right;\n",
       "    }\n",
       "</style>\n",
       "<table border=\"1\" class=\"dataframe\">\n",
       "  <thead>\n",
       "    <tr style=\"text-align: right;\">\n",
       "      <th></th>\n",
       "      <th>mean</th>\n",
       "      <th>median</th>\n",
       "    </tr>\n",
       "    <tr>\n",
       "      <th>country</th>\n",
       "      <th></th>\n",
       "      <th></th>\n",
       "    </tr>\n",
       "  </thead>\n",
       "  <tbody>\n",
       "    <tr>\n",
       "      <th>Belgium</th>\n",
       "      <td>42.132727</td>\n",
       "      <td>12.59</td>\n",
       "    </tr>\n",
       "    <tr>\n",
       "      <th>USA</th>\n",
       "      <td>44.650000</td>\n",
       "      <td>14.58</td>\n",
       "    </tr>\n",
       "  </tbody>\n",
       "</table>\n",
       "</div>"
      ],
      "text/plain": [
       "              mean  median\n",
       "country                   \n",
       "Belgium  42.132727   12.59\n",
       "USA      44.650000   14.58"
      ]
     },
     "execution_count": 15,
     "metadata": {},
     "output_type": "execute_result"
    }
   ],
   "source": [
    "# Subset for Belgium and USA only\n",
    "be_and_usa = food_consumption[(food_consumption['country'] == 'Belgium') | (food_consumption['country'] == 'USA')]\n",
    "\n",
    "# Group by country, select consumption column, and compute mean and median\n",
    "be_and_usa.groupby('country')['consumption'].agg(['mean', 'median'])"
   ]
  },
  {
   "cell_type": "markdown",
   "metadata": {},
   "source": [
    "### Means vs. Median\n",
    "\n",
    "In the video, you learned that the mean is the sum of all the data points divided by the total number of data points, and the median is the middle value of the dataset where 50% of the data is less than the median, and 50% of the data is greater than the median. In this exercise, you'll compare these two measures of center."
   ]
  },
  {
   "cell_type": "code",
   "execution_count": 19,
   "metadata": {},
   "outputs": [
    {
     "data": {
      "image/png": "[encoded data removed]",
      "text/plain": [
       "<Figure size 432x288 with 1 Axes>"
      ]
     },
     "metadata": {
      "needs_background": "light"
     },
     "output_type": "display_data"
    }
   ],
   "source": [
    "# Import matplotlib\n",
    "import matplotlib.pyplot as plt\n",
    "\n",
    "# Subset for food_category equals rice\n",
    "rice_consumption = food_consumption[food_consumption['food_category'] == 'rice']\n",
    "\n",
    "# Histogram of co2_emission for rice and show plot\n",
    "rice_consumption.co2_emission.hist()\n",
    "plt.show()"
   ]
  },
  {
   "cell_type": "code",
   "execution_count": 21,
   "metadata": {},
   "outputs": [
    {
     "data": {
      "text/plain": [
       "mean      37.591615\n",
       "median    15.200000\n",
       "Name: co2_emission, dtype: float64"
      ]
     },
     "execution_count": 21,
     "metadata": {},
     "output_type": "execute_result"
    }
   ],
   "source": [
    "# Calculate mean and median of co2_emission with .agg()\n",
    "rice_consumption.co2_emission.agg(['mean', 'median'])"
   ]
  },
  {
   "cell_type": "markdown",
   "metadata": {},
   "source": [
    "# Lesson III\n",
    "\n",
    "## Measures of Spread\n",
    "\n",
    "Spread is just what it sounds like - it describes how spread apart or close together the data points are. Just like measures of center, there are a few different measures of spread.\n",
    "\n",
    "* Variance\n",
    "* Standart Deviation\n",
    "* Quantiles\n",
    "* IQR (Interquartile Range)\n",
    "* Outliers\n",
    "\n",
    "## Variance\n",
    "\n",
    "*Average distance from each data point to the data's mean*\n",
    "\n",
    "### Calculating variance\n",
    "\n",
    "1. **Substract mean from each data point**\n",
    "\n",
    "```python\n",
    "    dists = msleep['sleep_total'] - \n",
    "            np.mean(msleep['sleep_total'])\n",
    "```\n",
    "\n",
    "2. **Square each distance**\n",
    "\n",
    "```python\n",
    "    sq_dists = dists**2\n",
    "```\n",
    "\n",
    "3. **Sum Squared distances**\n",
    "\n",
    "```python\n",
    "    sum_sq_dists = np.sum(sq_dists)\n",
    "```\n",
    "\n",
    "4. **Divide by number of data points - 1**\n",
    "\n",
    "```python\n",
    "    variance = sum_sq_dists / (83 - 1)\n",
    "```\n",
    "\n",
    "The higher the variance, the more spread out the data is. \n",
    "\n",
    "***It's important to note that the units of variance are squared***\n",
    "\n",
    "\n",
    "We can calculate the variance in one step using ``np.var()``, setting the ``ddof`` argument to 1.\n",
    "\n",
    "```python\n",
    "    np.var(msleep['sleep_total'], ddof=1)\n",
    "```\n",
    "\n",
    "***If we don't specify ddof equals 1, a slightly different formula is used to calculate variance that should only be used on a full population, not a sample.***\n",
    "\n",
    "## Standart Deviation\n",
    "\n",
    "The standard deviation is another measure of spread, calculated by taking the square root of the variance. \n",
    "\n",
    "```python\n",
    "    np.sqrt(np.var(msleep['sleep_total'], ddof=1))\n",
    "```\n",
    "It can be calculated using ``np.std()``. Just like ``np.var()``, we need to set ``ddof`` to 1.\n",
    "\n",
    "```python\n",
    "    np.std(msleep['sleep_total'], ddof=1)\n",
    "```\n",
    "The nice thing about standard deviation is that the units are usually easier to understand since they're not squared. \n",
    "\n",
    "### Mean absolute deviation\n",
    "\n",
    "Mean absolute deviation takes the absolute value of the distances to the mean, and then takes the mean of those differences. \n",
    "\n",
    "```python\n",
    "    dists = msleep['sleep_total'] - mean(msleep$sleep_total)\n",
    "    np.mean(np.abs(dists))\n",
    "```\n",
    "\n",
    "**Standart Deviation vs. Mean Absolute deviation**\n",
    "\n",
    "While this is similar to standard deviation, it's not exactly the same. \n",
    "\n",
    "* Standard deviation squares distances, so longer distances are penalized more than shorter ones, \n",
    "* mean absolute deviation penalizes each distance equally.\n",
    "* One isn't better than the other, but SD is more common than MAD.\n",
    "\n",
    "## Quantiles\n",
    "\n",
    "Quantiles, also called percentiles, split up the data into some number of equal parts. \n",
    "\n",
    "```python\n",
    "    np.quantile(msleep['sleep_total'], 0.5)\n",
    "    # Output\n",
    "    '''\n",
    "    10.1\n",
    "    '''\n",
    "```\n",
    "\n",
    "Here, we call ``np.quantile()``, passing in the column of interest, followed by ``.5``. This gives us ``10.1`` hours, so 50% of mammals in the dataset sleep less than ``10.1`` hours a day, and the other 50% sleep more than ``10.1`` hours, so ***this is exactly the same as the median***. \n",
    "\n",
    "```python\n",
    "    np.quantile(msleep['sleep_total'], [0, 0.25, 0.5, 0.75, 1])\n",
    "    # Output\n",
    "    '''\n",
    "    array([1.9, 7.85, 10.1, 13.75, 19.9])\n",
    "```\n",
    "\n",
    "We can also pass in a list of numbers to get multiple quantiles at once. Here, we split the data into 4 equal parts. These are also called **quartiles**. This means that 25% of the data is between ``1.9`` and ``7.85``, another 25% is between ``7.85`` and ``10.10``, and so on.\n",
    "\n",
    "### Boxplots use quartiles\n",
    "\n",
    "The boxes in box plots represent quartiles. The bottom of the box is the first quartile, and the top of the box is the third quartile. The middle line is the second quartile, or the median.\n",
    "\n",
    "```python\n",
    "    import matplotlib.pyplot as plt\n",
    "    plt.boxplot(msleep['sleep_total'])\n",
    "    plt.show()\n",
    "```\n",
    "\n",
    "<img src='pictures/quartiles.jpg' />\n",
    "\n",
    "### Quantiles using np.linspace()\n",
    "\n",
    "```python\n",
    "    np.quantile(msleep['sleep_total'], [0, 0.2, 0.4, 0.6, 0.8, 1])\n",
    "    # Output\n",
    "    '''\n",
    "    array([1.9, 6.24, 9.48, 11.14, 14.4, 19.9])\n",
    "    '''\n",
    "```\n",
    "\n",
    "Here, we split the data in five equal pieces, but we can also use ``np.linspace()`` as a shortcut, which takes in the *starting number*, the *stopping number*, and the *number intervals*. \n",
    "\n",
    "```python\n",
    "np.linspace(start, stop, num)\n",
    "```\n",
    "\n",
    "We can compute the same quantiles using ``np.linspace()`` starting at ``0``, stopping at ``1``, splitting into ``5`` different intervals.\n",
    "\n",
    "```python\n",
    "    np.quantile(msleep['sleep_total'], np.linspace(0, 1, 5))\n",
    "    # Output\n",
    "    '''\n",
    "    array([1.9, 6.24, 9.48, 11.14, 14.4, 19.9])\n",
    "    '''\n",
    "```\n",
    "\n",
    "## Interquartile Range (IQR)\n",
    "\n",
    "The interquartile range, or IQR, is another measure of spread. It's the distance between the 25th and 75th percentile, which is also the **height of the box** in a boxplot. \n",
    "\n",
    "```python\n",
    "    np.quantile(msleep['sleep_total'], 0.75) - np.quantile(msleep['sleep_total'], 0.25)\n",
    "    # Output\n",
    "    '''\n",
    "    5.9\n",
    "    '''\n",
    "```\n",
    "\n",
    "We can calculate it using the ``quantile()`` function, or using the ``iqr`` function from ``scipy.stats`` to get ``5.9`` hours.\n",
    "\n",
    "```python\n",
    "    from scipy.stats import iqr\n",
    "    iqr(msleep['sleep_total'])\n",
    "    # Output\n",
    "    '''\n",
    "    5.9\n",
    "    '''\n",
    "```\n",
    "\n",
    "## Outliers\n",
    "\n",
    "Outliers are data points that are substantially different from the others. But how do we know what a substantial difference is? \n",
    "\n",
    "* data < Q1 - 1.5 x IQR or\n",
    "* data > Q3 + 1.5 x IQR\n",
    "\n",
    "A rule that's often used is that any data point less than the *first quartile - 1.5* times the IQR is an outlier, as well as any point greater than the *third quartile + 1.5* times the IQR.\n",
    "\n",
    "### Finding Outliers\n",
    "\n",
    "To find outliers, we'll start by calculating the IQR of the mammals' body weights. We can then calculate the lower and upper thresholds following the formulas from the previous slide. \n",
    "\n",
    "```python\n",
    "    from scipy.stats import iqr\n",
    "    iqr = iqr(msleep['bodywt'])\n",
    "    lower_threshold = np.quantile(msleep['bodywt'], 0.25) - 1.5 * iqr\n",
    "    upper_threshold = np.quantile(msleep['bodywt'], 0.75) + 1.5 * iqr\n",
    "```\n",
    "We can now subset the DataFrame to find mammals whose body weight is below or above the thresholds. There are eleven body weight outliers in this dataset, including the cow and the Asian elephant.\n",
    "\n",
    "```python\n",
    "    msleep[(msleep['bodywt'] < lower_threshold) | (msleep['bodywt'] > upper_threshold)]\n",
    "```\n",
    "\n",
    "<img src='pictures/outliers.jpg' />\n",
    "\n",
    "## All in one go\n",
    "\n",
    "Many of the summary statistics we've covered so far can all be calculated in just one line of code using the ``.describe()`` method, so it's convenient to use when you want to get a general sense of your data."
   ]
  },
  {
   "cell_type": "markdown",
   "metadata": {},
   "source": [
    "## Exercise\n",
    "\n",
    "### Quartiles, quantiles, and quintiles\n",
    "\n",
    "Quantiles are a great way of summarizing numerical data since they can be used to measure center and spread, as well as to get a sense of where a data point stands in relation to the rest of the data set. For example, you might want to give a discount to the 10% most active users on a website.\n",
    "\n",
    "In this exercise, you'll calculate quartiles, quintiles, and deciles, which split up a dataset into 4, 5, and 10 pieces, respectively."
   ]
  },
  {
   "cell_type": "code",
   "execution_count": 22,
   "metadata": {},
   "outputs": [
    {
     "data": {
      "text/plain": [
       "array([   0.    ,    5.21  ,   16.53  ,   62.5975, 1712.    ])"
      ]
     },
     "execution_count": 22,
     "metadata": {},
     "output_type": "execute_result"
    }
   ],
   "source": [
    "# Calculate the quartiles of co2_emission\n",
    "np.quantile(food_consumption['co2_emission'], np.linspace(0, 1, 5))"
   ]
  },
  {
   "cell_type": "code",
   "execution_count": 23,
   "metadata": {},
   "outputs": [
    {
     "data": {
      "text/plain": [
       "array([   0.   ,    3.54 ,   11.026,   25.59 ,   99.978, 1712.   ])"
      ]
     },
     "execution_count": 23,
     "metadata": {},
     "output_type": "execute_result"
    }
   ],
   "source": [
    "# Calculate the quintiles of co2_emission\n",
    "np.quantile(food_consumption['co2_emission'], np.linspace(0, 1, 6))"
   ]
  },
  {
   "cell_type": "code",
   "execution_count": 25,
   "metadata": {},
   "outputs": [
    {
     "data": {
      "text/plain": [
       "array([0.00000e+00, 6.68000e-01, 3.54000e+00, 7.04000e+00, 1.10260e+01,\n",
       "       1.65300e+01, 2.55900e+01, 4.42710e+01, 9.99780e+01, 2.03629e+02,\n",
       "       1.71200e+03])"
      ]
     },
     "execution_count": 25,
     "metadata": {},
     "output_type": "execute_result"
    }
   ],
   "source": [
    "# Calculate the deciles of co2_emission\n",
    "np.quantile(food_consumption['co2_emission'], np.linspace(0, 1, 11))"
   ]
  },
  {
   "cell_type": "markdown",
   "metadata": {},
   "source": [
    "### variance and standart deviation\n",
    "\n",
    "Variance and standard deviation are two of the most common ways to measure the spread of a variable, and you'll practice calculating these in this exercise. Spread is important since it can help inform expectations. For example, if a salesperson sells a mean of 20 products a day, but has a standard deviation of 10 products, there will probably be days where they sell 40 products, but also days where they only sell one or two. Information like this is important, especially when making predictions."
   ]
  },
  {
   "cell_type": "code",
   "execution_count": 26,
   "metadata": {},
   "outputs": [
    {
     "data": {
      "text/html": [
       "<div>\n",
       "<style scoped>\n",
       "    .dataframe tbody tr th:only-of-type {\n",
       "        vertical-align: middle;\n",
       "    }\n",
       "\n",
       "    .dataframe tbody tr th {\n",
       "        vertical-align: top;\n",
       "    }\n",
       "\n",
       "    .dataframe thead th {\n",
       "        text-align: right;\n",
       "    }\n",
       "</style>\n",
       "<table border=\"1\" class=\"dataframe\">\n",
       "  <thead>\n",
       "    <tr style=\"text-align: right;\">\n",
       "      <th></th>\n",
       "      <th>var</th>\n",
       "      <th>std</th>\n",
       "    </tr>\n",
       "    <tr>\n",
       "      <th>food_category</th>\n",
       "      <th></th>\n",
       "      <th></th>\n",
       "    </tr>\n",
       "  </thead>\n",
       "  <tbody>\n",
       "    <tr>\n",
       "      <th>beef</th>\n",
       "      <td>88748.408132</td>\n",
       "      <td>297.906710</td>\n",
       "    </tr>\n",
       "    <tr>\n",
       "      <th>dairy</th>\n",
       "      <td>17671.891985</td>\n",
       "      <td>132.935669</td>\n",
       "    </tr>\n",
       "    <tr>\n",
       "      <th>eggs</th>\n",
       "      <td>21.371819</td>\n",
       "      <td>4.622966</td>\n",
       "    </tr>\n",
       "    <tr>\n",
       "      <th>fish</th>\n",
       "      <td>921.637349</td>\n",
       "      <td>30.358481</td>\n",
       "    </tr>\n",
       "    <tr>\n",
       "      <th>lamb_goat</th>\n",
       "      <td>16475.518363</td>\n",
       "      <td>128.356996</td>\n",
       "    </tr>\n",
       "    <tr>\n",
       "      <th>nuts</th>\n",
       "      <td>35.639652</td>\n",
       "      <td>5.969895</td>\n",
       "    </tr>\n",
       "    <tr>\n",
       "      <th>pork</th>\n",
       "      <td>3094.963537</td>\n",
       "      <td>55.632396</td>\n",
       "    </tr>\n",
       "    <tr>\n",
       "      <th>poultry</th>\n",
       "      <td>245.026801</td>\n",
       "      <td>15.653332</td>\n",
       "    </tr>\n",
       "    <tr>\n",
       "      <th>rice</th>\n",
       "      <td>2281.376243</td>\n",
       "      <td>47.763754</td>\n",
       "    </tr>\n",
       "    <tr>\n",
       "      <th>soybeans</th>\n",
       "      <td>0.879882</td>\n",
       "      <td>0.938020</td>\n",
       "    </tr>\n",
       "    <tr>\n",
       "      <th>wheat</th>\n",
       "      <td>71.023937</td>\n",
       "      <td>8.427570</td>\n",
       "    </tr>\n",
       "  </tbody>\n",
       "</table>\n",
       "</div>"
      ],
      "text/plain": [
       "                        var         std\n",
       "food_category                          \n",
       "beef           88748.408132  297.906710\n",
       "dairy          17671.891985  132.935669\n",
       "eggs              21.371819    4.622966\n",
       "fish             921.637349   30.358481\n",
       "lamb_goat      16475.518363  128.356996\n",
       "nuts              35.639652    5.969895\n",
       "pork            3094.963537   55.632396\n",
       "poultry          245.026801   15.653332\n",
       "rice            2281.376243   47.763754\n",
       "soybeans           0.879882    0.938020\n",
       "wheat             71.023937    8.427570"
      ]
     },
     "execution_count": 26,
     "metadata": {},
     "output_type": "execute_result"
    }
   ],
   "source": [
    "# Print variance and sd of co2_emission for each food_category\n",
    "food_consumption.groupby('food_category')['co2_emission'].agg(['var', 'std'])"
   ]
  },
  {
   "cell_type": "code",
   "execution_count": 35,
   "metadata": {},
   "outputs": [
    {
     "data": {
      "image/png": "[encoded data removed]",
      "text/plain": [
       "<Figure size 432x288 with 1 Axes>"
      ]
     },
     "metadata": {
      "needs_background": "light"
     },
     "output_type": "display_data"
    }
   ],
   "source": [
    "# Create histogram of co2_emission for food_category 'beef'\n",
    "food_consumption[food_consumption['food_category'] == 'beef']['co2_emission'].hist()\n",
    "\n",
    "# Show plot\n",
    "plt.show()"
   ]
  },
  {
   "cell_type": "code",
   "execution_count": 36,
   "metadata": {},
   "outputs": [
    {
     "data": {
      "image/png": "[encoded data removed]",
      "text/plain": [
       "<Figure size 432x288 with 1 Axes>"
      ]
     },
     "metadata": {
      "needs_background": "light"
     },
     "output_type": "display_data"
    }
   ],
   "source": [
    "# Create histogram of co2_emission for food_category 'eggs'\n",
    "food_consumption[food_consumption['food_category'] == 'eggs']['co2_emission'].hist()\n",
    "\n",
    "# Show plot\n",
    "plt.show()"
   ]
  },
  {
   "cell_type": "markdown",
   "metadata": {},
   "source": [
    "### Finding outliers using IQR\n",
    "\n",
    "Outliers can have big effects on statistics like mean, as well as statistics that rely on the mean, such as variance and standard deviation. Interquartile range, or IQR, is another way of measuring spread that's less influenced by outliers. \n",
    "\n",
    "In fact, this is how the lengths of the whiskers in a matplotlib box plot are calculated. In this exercise, you'll calculate IQR and use it to find some outliers."
   ]
  },
  {
   "cell_type": "code",
   "execution_count": 38,
   "metadata": {},
   "outputs": [
    {
     "data": {
      "text/plain": [
       "country\n",
       "Albania      1777.85\n",
       "Algeria       707.88\n",
       "Angola        412.99\n",
       "Argentina    2172.40\n",
       "Armenia      1109.93\n",
       "              ...   \n",
       "Uruguay      1634.91\n",
       "Venezuela    1104.10\n",
       "Vietnam       641.51\n",
       "Zambia        225.30\n",
       "Zimbabwe      350.33\n",
       "Name: co2_emission, Length: 130, dtype: float64"
      ]
     },
     "execution_count": 38,
     "metadata": {},
     "output_type": "execute_result"
    }
   ],
   "source": [
    "# Calculate total co2_emission per country\n",
    "emissions_by_country = food_consumption.groupby('country')['co2_emission'].sum()\n",
    "\n",
    "emissions_by_country"
   ]
  },
  {
   "cell_type": "code",
   "execution_count": 52,
   "metadata": {},
   "outputs": [
    {
     "data": {
      "text/plain": [
       "country\n",
       "Argentina    2172.4\n",
       "Name: co2_emission, dtype: float64"
      ]
     },
     "execution_count": 52,
     "metadata": {},
     "output_type": "execute_result"
    }
   ],
   "source": [
    "# Compute the first and third quartiles and IQR of emissions_by_country\n",
    "q1 = np.quantile(emissions_by_country, 0.25)\n",
    "q3 = np.quantile(emissions_by_country, 0.75)\n",
    "iqr = q3 - q1\n",
    "\n",
    "# Calculate the lower and upper cutoffs for outliers\n",
    "lower = q1 - 1.5 * iqr\n",
    "upper = q3 + 1.5 * iqr\n",
    "\n",
    "\n",
    "# Subset emissions_by_country to find outliers\n",
    "outliers = emissions_by_country[(emissions_by_country < lower) | (emissions_by_country > upper)]\n",
    "\n",
    "outliers"
   ]
  }
 ],
 "metadata": {
  "kernelspec": {
   "display_name": "Python 3.8.13 ('base')",
   "language": "python",
   "name": "python3"
  },
  "language_info": {
   "codemirror_mode": {
    "name": "ipython",
    "version": 3
   },
   "file_extension": ".py",
   "mimetype": "text/x-python",
   "name": "python",
   "nbconvert_exporter": "python",
   "pygments_lexer": "ipython3",
   "version": "3.8.13"
  },
  "orig_nbformat": 4,
  "vscode": {
   "interpreter": {
    "hash": "4c59e6e5379e7fd956ce48a476e9664867cfb6229c9530fa6fd87fb84f21040f"
   }
  }
 },
 "nbformat": 4,
 "nbformat_minor": 2
}
