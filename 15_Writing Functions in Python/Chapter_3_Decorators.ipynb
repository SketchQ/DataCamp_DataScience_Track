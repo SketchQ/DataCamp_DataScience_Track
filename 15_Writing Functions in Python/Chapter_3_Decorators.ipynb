{
 "cells": [
  {
   "cell_type": "markdown",
   "metadata": {},
   "source": [
    "# Lesson I \n",
    "\n",
    "## Functions are Objects\n",
    "\n",
    "In this chapter, you are going to learn about decorators, a powerful way of modifying the behavior of functions. But first, we need to build up some foundational concepts that will make decorators easier to understand.\n",
    "\n",
    "The main thing you should take away from this lesson is that functions are just like any other object in Python. They are not fundamentally different from lists, dictionaries, DataFrames, strings, integers, floats, modules, or anything else in Python.\n",
    "\n",
    "**Python Objects:**\n",
    "\n",
    "```python\n",
    "    def x():\n",
    "        pass\n",
    "    x = [1, 2, 3]\n",
    "    x = {'Foo': 42}\n",
    "    x = pandas.DataFrame()\n",
    "    x = 'Hello World'\n",
    "    x = 42\n",
    "    x = 3.14159265359\n",
    "    import x\n",
    "```\n",
    "\n",
    "### Functions as Variables\n",
    "\n",
    "And because functions are just another type of object, you can do anything to or with them that you would do with any other kind of object. You can take a function and assign it to a variable, like ``\"x\"``. Then, if you wanted to, you could call ``x()`` instead of ``my_function()``. "
   ]
  },
  {
   "cell_type": "code",
   "execution_count": 3,
   "metadata": {},
   "outputs": [
    {
     "data": {
      "text/plain": [
       "function"
      ]
     },
     "metadata": {},
     "output_type": "display_data"
    },
    {
     "name": "stdout",
     "output_type": "stream",
     "text": [
      "Hello\n"
     ]
    },
    {
     "data": {
      "text/plain": [
       "None"
      ]
     },
     "metadata": {},
     "output_type": "display_data"
    }
   ],
   "source": [
    "def my_function():\n",
    "    print('Hello')\n",
    "    \n",
    "x = my_function\n",
    "display(type(x))    \n",
    "\n",
    "display(x())"
   ]
  },
  {
   "cell_type": "markdown",
   "metadata": {},
   "source": [
    "It doesn't have to be a function you defined, either. If you felt so inclined, you could assign the ``print()`` function to ``PrintyMcPrintface``, and use it as your ``print()`` function."
   ]
  },
  {
   "cell_type": "code",
   "execution_count": 4,
   "metadata": {},
   "outputs": [
    {
     "name": "stdout",
     "output_type": "stream",
     "text": [
      "Hello World!\n"
     ]
    }
   ],
   "source": [
    "PrintMcPrintface = print\n",
    "PrintMcPrintface('Hello World!')"
   ]
  },
  {
   "cell_type": "markdown",
   "metadata": {},
   "source": [
    "### Lists and dictionaries of functions\n",
    "\n",
    "You can also add functions to a list or dictionary. Here, we've added the functions ``my_function()``, ``open()``, and ``print()`` to the list ``\"list_of_functions\"``. We can call an element of the list, and pass it arguments."
   ]
  },
  {
   "cell_type": "code",
   "execution_count": 5,
   "metadata": {},
   "outputs": [
    {
     "name": "stdout",
     "output_type": "stream",
     "text": [
      "I am printing with an element of a list!\n"
     ]
    }
   ],
   "source": [
    "list_of_functions = [my_function, open, print]\n",
    "list_of_functions[2]('I am printing with an element of a list!')"
   ]
  },
  {
   "cell_type": "markdown",
   "metadata": {},
   "source": [
    "Since the third element of the list is the ``print()`` function, it prints the string argument to the console. \n",
    "\n",
    "Below that, we've added the same three functions to a dictionary, under the keys ``\"func1\"``, ``\"func2\"``, and ``\"func3\"``. Since the ``print()`` function is stored under the key ``\"func3\"``, we can reference it and use it as if we were calling the function directly."
   ]
  },
  {
   "cell_type": "code",
   "execution_count": 6,
   "metadata": {},
   "outputs": [
    {
     "name": "stdout",
     "output_type": "stream",
     "text": [
      "I am printing with a value of a dict!\n"
     ]
    }
   ],
   "source": [
    "dict_of_functions = {\n",
    "    'func1' : my_function,\n",
    "    'func2' : open,\n",
    "    'func3' : print\n",
    "}\n",
    "\n",
    "dict_of_functions['func3']('I am printing with a value of a dict!')"
   ]
  },
  {
   "cell_type": "markdown",
   "metadata": {},
   "source": [
    "#### Referencing Functions\n",
    "\n",
    "Notice that when you assign a function to a variable, you do not include the parentheses after the function name. This is a subtle but very important distinction.\n",
    "\n",
    "When you type ``my_function()`` *with* the parentheses, you are *calling that function*. It evaluates to the value that the function returns. \n",
    "\n",
    "However, when you type ``\"my_function\"`` *without* the parentheses, you are referencing the function itself. It evaluates to a **function object**."
   ]
  },
  {
   "cell_type": "code",
   "execution_count": 7,
   "metadata": {},
   "outputs": [
    {
     "data": {
      "text/plain": [
       "42"
      ]
     },
     "execution_count": 7,
     "metadata": {},
     "output_type": "execute_result"
    }
   ],
   "source": [
    "def my_function():\n",
    "    return 42\n",
    "\n",
    "x = my_function\n",
    "my_function()"
   ]
  },
  {
   "cell_type": "code",
   "execution_count": 8,
   "metadata": {},
   "outputs": [
    {
     "data": {
      "text/plain": [
       "<function __main__.my_function()>"
      ]
     },
     "execution_count": 8,
     "metadata": {},
     "output_type": "execute_result"
    }
   ],
   "source": [
    "my_function"
   ]
  },
  {
   "cell_type": "markdown",
   "metadata": {},
   "source": [
    "#### Functions as arguments\n",
    "\n",
    "Here's where things get really fun. Since a function is just an object like anything else in Python, you can pass one as an argument to another function."
   ]
  },
  {
   "cell_type": "code",
   "execution_count": 9,
   "metadata": {},
   "outputs": [],
   "source": [
    "def has_docstring(func):\n",
    "    \"\"\"Check to see if the function\n",
    "    'func' has a docstring\n",
    "    \n",
    "    Args:\n",
    "        func (callable): A Function\n",
    "        \n",
    "    Returns:\n",
    "        bool    \n",
    "    \"\"\"\n",
    "    return func.__doc__ is not None"
   ]
  },
  {
   "cell_type": "markdown",
   "metadata": {},
   "source": [
    "The ``has_docstring()`` function checks to see whether the function that is passed to it has a docstring or not."
   ]
  },
  {
   "cell_type": "code",
   "execution_count": 10,
   "metadata": {},
   "outputs": [],
   "source": [
    "def no():\n",
    "    return 42\n",
    "\n",
    "def yes():\n",
    "    \"\"\"Return thje value 42\n",
    "    \"\"\"\n",
    "    return 42\n",
    "\n"
   ]
  },
  {
   "cell_type": "markdown",
   "metadata": {},
   "source": [
    "We could define these two functions, ``no()`` and ``yes()``, and pass them as arguments to the ``has_docstring()`` function. \n",
    "\n",
    "Since the ``no()`` function doesn't have a docstring, the ``has_docstring()`` function returns **False**. Likewise, ``has_docstring()`` returns **True** for the ``yes()`` function."
   ]
  },
  {
   "cell_type": "code",
   "execution_count": 11,
   "metadata": {},
   "outputs": [
    {
     "data": {
      "text/plain": [
       "False"
      ]
     },
     "metadata": {},
     "output_type": "display_data"
    },
    {
     "data": {
      "text/plain": [
       "True"
      ]
     },
     "metadata": {},
     "output_type": "display_data"
    }
   ],
   "source": [
    "display(has_docstring(no))\n",
    "\n",
    "display(has_docstring(yes))"
   ]
  },
  {
   "cell_type": "markdown",
   "metadata": {},
   "source": [
    "### Defining a function inside another function\n",
    "\n",
    "Functions can also be defined inside other functions. These kinds of functions are called *nested functions*, although you may also hear them called *inner functions*, *helper functions*, or *child functions*.\n",
    "\n",
    "```python\n",
    "    def foo():\n",
    "        x = [3, 6, 9]\n",
    "\n",
    "        def bar(y):\n",
    "            print(y)\n",
    "\n",
    "        for value in x:\n",
    "            bar(x)    \n",
    "```\n",
    "\n",
    "A nested function can make your code easier to read. \n",
    "\n",
    "In the example below, if ``x`` and ``y`` are within some bounds, ``foo()`` prints x times y. We can make that if statement easier to read by defining an ``in_range()`` function."
   ]
  },
  {
   "cell_type": "code",
   "execution_count": 12,
   "metadata": {},
   "outputs": [],
   "source": [
    "# Harder to read\n",
    "def foo(x, y):\n",
    "    if x > 4 and x < 10 and y > 4 and y < 10:\n",
    "        print(x * y)\n",
    "        \n",
    "# Easier to read\n",
    "def foo(x, y):\n",
    "    def in_range(v):\n",
    "        return v > 4 and v < 10\n",
    "    \n",
    "    if in_range(x) and in_range(y):\n",
    "        print(x * y)        \n",
    "        \n",
    "        "
   ]
  },
  {
   "cell_type": "markdown",
   "metadata": {},
   "source": [
    "### Functions as return values\n",
    "\n",
    "There's also nothing stopping us from returning a function. For instance, the function ``get_function()`` creates a new function, ``print_me()``, and then returns it."
   ]
  },
  {
   "cell_type": "code",
   "execution_count": 13,
   "metadata": {},
   "outputs": [],
   "source": [
    "def get_function():\n",
    "    def print_me(s):\n",
    "        print(s)\n",
    "        \n",
    "    return print_me    "
   ]
  },
  {
   "cell_type": "markdown",
   "metadata": {},
   "source": [
    "If we assign the result of calling ``get_function()`` to the variable ``\"new_func\"``, we are assigning the return value, ``\"print_me()\"`` to ``\"new_func\"``. We can then call ``new_func()`` as if it were the ``print_me()`` function."
   ]
  },
  {
   "cell_type": "code",
   "execution_count": 14,
   "metadata": {},
   "outputs": [
    {
     "name": "stdout",
     "output_type": "stream",
     "text": [
      "This is a sentence\n"
     ]
    }
   ],
   "source": [
    "new_func = get_function()\n",
    "new_func('This is a sentence')"
   ]
  }
 ],
 "metadata": {
  "kernelspec": {
   "display_name": "Python 3.9.12 ('Py3')",
   "language": "python",
   "name": "python3"
  },
  "language_info": {
   "codemirror_mode": {
    "name": "ipython",
    "version": 3
   },
   "file_extension": ".py",
   "mimetype": "text/x-python",
   "name": "python",
   "nbconvert_exporter": "python",
   "pygments_lexer": "ipython3",
   "version": "3.9.12"
  },
  "orig_nbformat": 4,
  "vscode": {
   "interpreter": {
    "hash": "73990f7905ce18e2def91a603fe09ae38383e0aba9dfcdeb23468ee256a89966"
   }
  }
 },
 "nbformat": 4,
 "nbformat_minor": 2
}
