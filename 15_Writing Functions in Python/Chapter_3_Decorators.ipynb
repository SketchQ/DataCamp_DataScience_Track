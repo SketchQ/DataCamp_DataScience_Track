{
 "cells": [
  {
   "cell_type": "markdown",
   "metadata": {},
   "source": [
    "# Lesson I \n",
    "\n",
    "## Functions are Objects\n",
    "\n",
    "In this chapter, you are going to learn about decorators, a powerful way of modifying the behavior of functions. But first, we need to build up some foundational concepts that will make decorators easier to understand.\n",
    "\n",
    "The main thing you should take away from this lesson is that functions are just like any other object in Python. They are not fundamentally different from lists, dictionaries, DataFrames, strings, integers, floats, modules, or anything else in Python.\n",
    "\n",
    "**Python Objects:**\n",
    "\n",
    "```python\n",
    "    def x():\n",
    "        pass\n",
    "    x = [1, 2, 3]\n",
    "    x = {'Foo': 42}\n",
    "    x = pandas.DataFrame()\n",
    "    x = 'Hello World'\n",
    "    x = 42\n",
    "    x = 3.14159265359\n",
    "    import x\n",
    "```\n",
    "\n",
    "### Functions as Variables\n",
    "\n",
    "And because functions are just another type of object, you can do anything to or with them that you would do with any other kind of object. You can take a function and assign it to a variable, like ``\"x\"``. Then, if you wanted to, you could call ``x()`` instead of ``my_function()``. "
   ]
  },
  {
   "cell_type": "code",
   "execution_count": 3,
   "metadata": {},
   "outputs": [
    {
     "data": {
      "text/plain": [
       "function"
      ]
     },
     "metadata": {},
     "output_type": "display_data"
    },
    {
     "name": "stdout",
     "output_type": "stream",
     "text": [
      "Hello\n"
     ]
    },
    {
     "data": {
      "text/plain": [
       "None"
      ]
     },
     "metadata": {},
     "output_type": "display_data"
    }
   ],
   "source": [
    "def my_function():\n",
    "    print('Hello')\n",
    "    \n",
    "x = my_function\n",
    "display(type(x))    \n",
    "\n",
    "display(x())"
   ]
  },
  {
   "cell_type": "markdown",
   "metadata": {},
   "source": [
    "It doesn't have to be a function you defined, either. If you felt so inclined, you could assign the ``print()`` function to ``PrintyMcPrintface``, and use it as your ``print()`` function."
   ]
  },
  {
   "cell_type": "code",
   "execution_count": 4,
   "metadata": {},
   "outputs": [
    {
     "name": "stdout",
     "output_type": "stream",
     "text": [
      "Hello World!\n"
     ]
    }
   ],
   "source": [
    "PrintMcPrintface = print\n",
    "PrintMcPrintface('Hello World!')"
   ]
  },
  {
   "cell_type": "markdown",
   "metadata": {},
   "source": [
    "### Lists and dictionaries of functions\n",
    "\n",
    "You can also add functions to a list or dictionary. Here, we've added the functions ``my_function()``, ``open()``, and ``print()`` to the list ``\"list_of_functions\"``. We can call an element of the list, and pass it arguments."
   ]
  },
  {
   "cell_type": "code",
   "execution_count": 5,
   "metadata": {},
   "outputs": [
    {
     "name": "stdout",
     "output_type": "stream",
     "text": [
      "I am printing with an element of a list!\n"
     ]
    }
   ],
   "source": [
    "list_of_functions = [my_function, open, print]\n",
    "list_of_functions[2]('I am printing with an element of a list!')"
   ]
  },
  {
   "cell_type": "markdown",
   "metadata": {},
   "source": [
    "Since the third element of the list is the ``print()`` function, it prints the string argument to the console. \n",
    "\n",
    "Below that, we've added the same three functions to a dictionary, under the keys ``\"func1\"``, ``\"func2\"``, and ``\"func3\"``. Since the ``print()`` function is stored under the key ``\"func3\"``, we can reference it and use it as if we were calling the function directly."
   ]
  },
  {
   "cell_type": "code",
   "execution_count": 6,
   "metadata": {},
   "outputs": [
    {
     "name": "stdout",
     "output_type": "stream",
     "text": [
      "I am printing with a value of a dict!\n"
     ]
    }
   ],
   "source": [
    "dict_of_functions = {\n",
    "    'func1' : my_function,\n",
    "    'func2' : open,\n",
    "    'func3' : print\n",
    "}\n",
    "\n",
    "dict_of_functions['func3']('I am printing with a value of a dict!')"
   ]
  },
  {
   "cell_type": "markdown",
   "metadata": {},
   "source": [
    "#### Referencing Functions\n",
    "\n",
    "Notice that when you assign a function to a variable, you do not include the parentheses after the function name. This is a subtle but very important distinction.\n",
    "\n",
    "When you type ``my_function()`` *with* the parentheses, you are *calling that function*. It evaluates to the value that the function returns. \n",
    "\n",
    "However, when you type ``\"my_function\"`` *without* the parentheses, you are referencing the function itself. It evaluates to a **function object**."
   ]
  },
  {
   "cell_type": "code",
   "execution_count": 7,
   "metadata": {},
   "outputs": [
    {
     "data": {
      "text/plain": [
       "42"
      ]
     },
     "execution_count": 7,
     "metadata": {},
     "output_type": "execute_result"
    }
   ],
   "source": [
    "def my_function():\n",
    "    return 42\n",
    "\n",
    "x = my_function\n",
    "my_function()"
   ]
  },
  {
   "cell_type": "code",
   "execution_count": 8,
   "metadata": {},
   "outputs": [
    {
     "data": {
      "text/plain": [
       "<function __main__.my_function()>"
      ]
     },
     "execution_count": 8,
     "metadata": {},
     "output_type": "execute_result"
    }
   ],
   "source": [
    "my_function"
   ]
  },
  {
   "cell_type": "markdown",
   "metadata": {},
   "source": [
    "#### Functions as arguments\n",
    "\n",
    "Here's where things get really fun. Since a function is just an object like anything else in Python, you can pass one as an argument to another function."
   ]
  },
  {
   "cell_type": "code",
   "execution_count": 9,
   "metadata": {},
   "outputs": [],
   "source": [
    "def has_docstring(func):\n",
    "    \"\"\"Check to see if the function\n",
    "    'func' has a docstring\n",
    "    \n",
    "    Args:\n",
    "        func (callable): A Function\n",
    "        \n",
    "    Returns:\n",
    "        bool    \n",
    "    \"\"\"\n",
    "    return func.__doc__ is not None"
   ]
  },
  {
   "cell_type": "markdown",
   "metadata": {},
   "source": [
    "The ``has_docstring()`` function checks to see whether the function that is passed to it has a docstring or not."
   ]
  },
  {
   "cell_type": "code",
   "execution_count": 10,
   "metadata": {},
   "outputs": [],
   "source": [
    "def no():\n",
    "    return 42\n",
    "\n",
    "def yes():\n",
    "    \"\"\"Return thje value 42\n",
    "    \"\"\"\n",
    "    return 42\n",
    "\n"
   ]
  },
  {
   "cell_type": "markdown",
   "metadata": {},
   "source": [
    "We could define these two functions, ``no()`` and ``yes()``, and pass them as arguments to the ``has_docstring()`` function. \n",
    "\n",
    "Since the ``no()`` function doesn't have a docstring, the ``has_docstring()`` function returns **False**. Likewise, ``has_docstring()`` returns **True** for the ``yes()`` function."
   ]
  },
  {
   "cell_type": "code",
   "execution_count": 11,
   "metadata": {},
   "outputs": [
    {
     "data": {
      "text/plain": [
       "False"
      ]
     },
     "metadata": {},
     "output_type": "display_data"
    },
    {
     "data": {
      "text/plain": [
       "True"
      ]
     },
     "metadata": {},
     "output_type": "display_data"
    }
   ],
   "source": [
    "display(has_docstring(no))\n",
    "\n",
    "display(has_docstring(yes))"
   ]
  },
  {
   "cell_type": "markdown",
   "metadata": {},
   "source": [
    "### Defining a function inside another function\n",
    "\n",
    "Functions can also be defined inside other functions. These kinds of functions are called *nested functions*, although you may also hear them called *inner functions*, *helper functions*, or *child functions*.\n",
    "\n",
    "```python\n",
    "    def foo():\n",
    "        x = [3, 6, 9]\n",
    "\n",
    "        def bar(y):\n",
    "            print(y)\n",
    "\n",
    "        for value in x:\n",
    "            bar(x)    \n",
    "```\n",
    "\n",
    "A nested function can make your code easier to read. \n",
    "\n",
    "In the example below, if ``x`` and ``y`` are within some bounds, ``foo()`` prints x times y. We can make that if statement easier to read by defining an ``in_range()`` function."
   ]
  },
  {
   "cell_type": "code",
   "execution_count": 12,
   "metadata": {},
   "outputs": [],
   "source": [
    "# Harder to read\n",
    "def foo(x, y):\n",
    "    if x > 4 and x < 10 and y > 4 and y < 10:\n",
    "        print(x * y)\n",
    "        \n",
    "# Easier to read\n",
    "def foo(x, y):\n",
    "    def in_range(v):\n",
    "        return v > 4 and v < 10\n",
    "    \n",
    "    if in_range(x) and in_range(y):\n",
    "        print(x * y)        \n",
    "        \n",
    "        "
   ]
  },
  {
   "cell_type": "markdown",
   "metadata": {},
   "source": [
    "### Functions as return values\n",
    "\n",
    "There's also nothing stopping us from returning a function. For instance, the function ``get_function()`` creates a new function, ``print_me()``, and then returns it."
   ]
  },
  {
   "cell_type": "code",
   "execution_count": 13,
   "metadata": {},
   "outputs": [],
   "source": [
    "def get_function():\n",
    "    def print_me(s):\n",
    "        print(s)\n",
    "        \n",
    "    return print_me    "
   ]
  },
  {
   "cell_type": "markdown",
   "metadata": {},
   "source": [
    "If we assign the result of calling ``get_function()`` to the variable ``\"new_func\"``, we are assigning the return value, ``\"print_me()\"`` to ``\"new_func\"``. We can then call ``new_func()`` as if it were the ``print_me()`` function."
   ]
  },
  {
   "cell_type": "code",
   "execution_count": 14,
   "metadata": {},
   "outputs": [
    {
     "name": "stdout",
     "output_type": "stream",
     "text": [
      "This is a sentence\n"
     ]
    }
   ],
   "source": [
    "new_func = get_function()\n",
    "new_func('This is a sentence')"
   ]
  },
  {
   "cell_type": "markdown",
   "metadata": {},
   "source": [
    "# Lesson II \n",
    "\n",
    "## Scope\n",
    "\n",
    "Before we can dig into decorators, we must understand how scope works in Python. Scope determines which variables can be accessed at different points in your code.\n",
    "\n",
    "Names are very useful things, both in Python and in the real world.\n",
    "\n",
    "Python has names in shape of variable names.\n",
    "\n",
    "```python\n",
    "    x = 42\n",
    "    y = 'Hello World'\n",
    "    z = [1, 2, 3]\n",
    "    print(x)\n",
    "    print(y)\n",
    "    print(z)\n",
    "```\n",
    "\n",
    "When we say ``print(x)`` here, Python knows we mean the x that we just defined. What happens if we redefine x inside the function ``foo()`` though?\n",
    "\n",
    "```python\n",
    "    def foo():\n",
    "        x = 42\n",
    "        print(x)\n",
    "        print(y)\n",
    "```\n",
    "\n",
    "n foo()'s print() statement, do we mean the x that equals 42 or the x that equals 7? Python assumes we mean the x that was defined right there in the function.\n",
    "\n",
    "However, there is no y defined in the function foo(), so it looks outside the function for a definition when asked to print y. \n",
    "\n",
    "Note that setting x equal to 42 inside the function foo() doesn't change the value of x that we set earlier outside of the function.\n",
    "\n",
    "Python has to have strict rules about which variable you are referring to when using a particular variable name. So when we typed print(x) in the function foo(), the interpreter had to follow those rules to determine which x we meant.\n",
    "\n",
    "* First, the interpreter looks in the local scope. When you are inside a function, the local scope is made up of the arguments and any variables defined inside the function.\n",
    "\n",
    "* In the case of nested functions, where one function is defined inside another function, Python will check the scope of the parent function before checking the global scope. This is called the nonlocal scope to show that it is not the local scope of the child function and not the global scope.\n",
    "\n",
    "* If the interpreter can't find the variable in the local scope, it expands its search to the global scope. These are the things defined outside the function.\n",
    "\n",
    "* Finally, if it can't find the thing it is looking for in the global scope, the interpreter checks the builtin scope. These are things that are always available in Python. For instance, the print() function is in the builtin scope, which is why we are able to use it in our foo() function.\n",
    "\n",
    "<img src='pictures/scope.jpg' />\n",
    "\n",
    "### Global Keyword\n",
    "\n",
    "Note that Python only gives you read access to variables defined outside of your current scope.\n",
    "\n",
    "In ``foo()`` when we set ``x`` equal to ``42``, Python assumed we wanted a new variable in the local scope, not the ``x`` in the *global scope*. If what we had really wanted was to change the value of ``x`` in the *global scope*, then we have to declare that we mean the *global* ``x`` by using the ``global`` keyword.\n",
    "\n",
    "```python\n",
    "    x = 7\n",
    "\n",
    "    def foo():\n",
    "        x = 42\n",
    "        print(x)\n",
    "\n",
    "    foo()\n",
    "    # Output: 42 \n",
    "\n",
    "    print(x)\n",
    "    # Output: 7    \n",
    "```\n",
    "\n",
    "```python\n",
    "    x = 7\n",
    "\n",
    "    def foo():\n",
    "        global x\n",
    "        x = 42\n",
    "        print(x)\n",
    "\n",
    "    foo()\n",
    "    # Output: 42 \n",
    "\n",
    "    print(x)\n",
    "    # Output: 42    \n",
    "```\n",
    "\n",
    "### The nonlocal Keyword\n",
    "\n",
    "And if we ever want to modify a variable that is defined in the *nonlocal* scope, we have to use the ``\"nonlocal\"`` keyword. It works exactly the same as the ``\"global\"`` keyword, but it is used when you are inside a nested function, and you want to update a variable that is defined inside your parent function.\n",
    "\n",
    "```python\n",
    "    def foo():\n",
    "        x = 18\n",
    "\n",
    "        def bar():\n",
    "            x = 200\n",
    "            print(x)\n",
    "\n",
    "        bar()\n",
    "        print(x)\n",
    "\n",
    "    foo()\n",
    "    # Output: 200\n",
    "    # Output: 18        \n",
    "```\n",
    "\n",
    "```python\n",
    "    def foo():\n",
    "        x = 18\n",
    "\n",
    "        def bar():\n",
    "            nonlocal x\n",
    "            x = 200\n",
    "            print(x)\n",
    "\n",
    "        bar()\n",
    "        print(x)\n",
    "\n",
    "    foo()\n",
    "    # Output: 200\n",
    "    # Output: 200        \n",
    "```"
   ]
  },
  {
   "cell_type": "markdown",
   "metadata": {},
   "source": [
    "# Lesson III\n",
    "\n",
    "## Closures\n",
    "\n",
    "A closure in Python is a tuple of variables that are no longer in scope, but that a function needs in order to run. Let's explain this with an example. "
   ]
  },
  {
   "cell_type": "code",
   "execution_count": 15,
   "metadata": {},
   "outputs": [
    {
     "name": "stdout",
     "output_type": "stream",
     "text": [
      "5\n"
     ]
    }
   ],
   "source": [
    "def foo():\n",
    "    a = 5\n",
    "    def bar():\n",
    "        print(a)\n",
    "    return bar\n",
    "\n",
    "func = foo()\n",
    "\n",
    "func()    "
   ]
  },
  {
   "cell_type": "markdown",
   "metadata": {},
   "source": [
    "The function ``foo()`` defines a nested function ``bar()`` that prints the value of ``\"a\"``. ``foo()`` returns this new function, so when we say ``\"func = foo()\"`` we are assigning the ``bar()`` function to the variable ``\"func\"``. \n",
    "Now what happens when we call ``func()``? As expected, it prints the value of variable ``\"a\"``, which is *5*. But wait a minute, how does function ``\"func()\"`` know anything about variable ``\"a\"``? ``\"a\"`` is defined in ``foo()``'s scope, not ``bar()``'s. \n",
    "\n",
    "You would think that ``\"a\"`` would not be observable outside of the scope of ``foo()``. That's where **closures** come in. \n",
    "\n",
    "When ``foo()`` returned the new ``bar()`` function, Python helpfully attached any nonlocal variable that ``bar()`` was going to need to the function object. \n",
    "Those variables get stored in a tuple in the ``\"__closure__\"`` attribute of the function"
   ]
  },
  {
   "cell_type": "code",
   "execution_count": 16,
   "metadata": {},
   "outputs": [
    {
     "data": {
      "text/plain": [
       "tuple"
      ]
     },
     "execution_count": 16,
     "metadata": {},
     "output_type": "execute_result"
    }
   ],
   "source": [
    "type(func.__closure__)"
   ]
  },
  {
   "cell_type": "code",
   "execution_count": 17,
   "metadata": {},
   "outputs": [
    {
     "data": {
      "text/plain": [
       "1"
      ]
     },
     "execution_count": 17,
     "metadata": {},
     "output_type": "execute_result"
    }
   ],
   "source": [
    "len(func.__closure__)"
   ]
  },
  {
   "cell_type": "markdown",
   "metadata": {},
   "source": [
    "The closure for ``\"func\"`` has one variable, and you can view the value of that variable by accessing the ``\"cell_contents\"`` of the item."
   ]
  },
  {
   "cell_type": "code",
   "execution_count": 18,
   "metadata": {},
   "outputs": [
    {
     "data": {
      "text/plain": [
       "5"
      ]
     },
     "execution_count": 18,
     "metadata": {},
     "output_type": "execute_result"
    }
   ],
   "source": [
    "func.__closure__[0].cell_contents"
   ]
  },
  {
   "cell_type": "markdown",
   "metadata": {},
   "source": [
    "### Closures and deletion\n",
    "\n",
    "Let's examine this bit of code:"
   ]
  },
  {
   "cell_type": "code",
   "execution_count": 19,
   "metadata": {},
   "outputs": [],
   "source": [
    "x = 25\n",
    "\n",
    "def foo(value):\n",
    "    def bar():\n",
    "        print(value)\n",
    "    return bar\n",
    "\n",
    "    "
   ]
  },
  {
   "cell_type": "markdown",
   "metadata": {},
   "source": [
    "Here, ``x`` is defined in the *global* scope. ``foo()`` creates a function ``bar()`` that prints whatever argument was passed to ``foo()``. \n",
    "\n",
    "When we call ``foo()`` and assign the result to ``\"my_func\"``, we pass in ``\"x\"``. So, as expected, calling ``my_func()`` prints the value of ``x``"
   ]
  },
  {
   "cell_type": "code",
   "execution_count": 20,
   "metadata": {},
   "outputs": [
    {
     "name": "stdout",
     "output_type": "stream",
     "text": [
      "25\n"
     ]
    }
   ],
   "source": [
    "my_func = foo(x)\n",
    "my_func()"
   ]
  },
  {
   "cell_type": "markdown",
   "metadata": {},
   "source": [
    "Now let's delete ``x`` and call ``my_func()`` again. What do you think will happen this time?"
   ]
  },
  {
   "cell_type": "code",
   "execution_count": 21,
   "metadata": {},
   "outputs": [
    {
     "name": "stdout",
     "output_type": "stream",
     "text": [
      "25\n"
     ]
    }
   ],
   "source": [
    "del(x)\n",
    "my_func()"
   ]
  },
  {
   "cell_type": "markdown",
   "metadata": {},
   "source": [
    "If you guessed that we would still print 25, then you are correct. \n",
    "\n",
    "That's because ``foo()``'s ``\"value\"`` argument gets added to the closure attached to the new ``\"my_func\"`` function. So even though x doesn't exist anymore, the value persists in its closure."
   ]
  },
  {
   "cell_type": "code",
   "execution_count": 22,
   "metadata": {},
   "outputs": [
    {
     "data": {
      "text/plain": [
       "1"
      ]
     },
     "execution_count": 22,
     "metadata": {},
     "output_type": "execute_result"
    }
   ],
   "source": [
    "len(my_func.__closure__)"
   ]
  },
  {
   "cell_type": "code",
   "execution_count": 23,
   "metadata": {},
   "outputs": [
    {
     "data": {
      "text/plain": [
       "25"
      ]
     },
     "execution_count": 23,
     "metadata": {},
     "output_type": "execute_result"
    }
   ],
   "source": [
    "my_func.__closure__[0].cell_contents"
   ]
  },
  {
   "cell_type": "markdown",
   "metadata": {},
   "source": [
    "### Closures and overwriting\n",
    "\n",
    "Notice that nothing changes if we *overwrite* ``\"x\"`` instead of deleting it: "
   ]
  },
  {
   "cell_type": "code",
   "execution_count": 24,
   "metadata": {},
   "outputs": [
    {
     "name": "stdout",
     "output_type": "stream",
     "text": [
      "25\n"
     ]
    }
   ],
   "source": [
    "x = 25\n",
    "\n",
    "def foo(value):\n",
    "    def bar():\n",
    "        print(value)\n",
    "    return bar\n",
    "\n",
    "x = foo(x)\n",
    "x()    "
   ]
  },
  {
   "cell_type": "markdown",
   "metadata": {},
   "source": [
    "Here we've passed ``x`` into ``foo()`` and then assigned the new function to the variable ``x``. The old value of ``\"x\"``, *25*, is still stored in the new function's closure, even though the new function is now stored in the ``\"x\"`` variable. \n",
    "\n",
    "***This is going to be important to remember when we talk about decorators in the next lesson.***"
   ]
  },
  {
   "cell_type": "markdown",
   "metadata": {},
   "source": [
    "## Definitions - Nested Function\n",
    "\n",
    "**Nested functions** are functions that are defined inside another function.\n",
    "\n",
    "```python\n",
    "    # Outer function\n",
    "    def parent():\n",
    "        # nested function\n",
    "        def child():\n",
    "            pass\n",
    "        return child\n",
    "``` \n",
    "\n",
    "## Definitions - nonlocal variables\n",
    "\n",
    "**Nonlocal variables** : Variables defined in the parent function that are used in the nested function.\n",
    "\n",
    "```python\n",
    "    def parent(arg_1, arg_2):\n",
    "        # From child()'s point of view,\n",
    "        # 'value' and 'my_dict' are nonlocal variables.\n",
    "        # as are 'arg_1' and 'arg_2'.\n",
    "        value = 22\n",
    "        my_dict = {'chocolate': 'yummy'}\n",
    "\n",
    "        def child():\n",
    "            print(2 * value)\n",
    "            print(my_dict['chocolate'])\n",
    "            print(arg_1 + arg_2)\n",
    "\n",
    "        return child    \n",
    "```\n",
    "\n",
    "## Definitions - Closures\n",
    "\n",
    "**Closure** : A tuple of variables that are no longer in scope, but that a function needs in order to run.\n",
    "\n",
    "```python\n",
    "    def parent(arg_1, arg_2):\n",
    "        value = 22\n",
    "        my_dict = {'chocolate': 'yummy'}\n",
    "\n",
    "        def child():\n",
    "            print(2 * value)\n",
    "            print(my_dict['chocolate'])\n",
    "            print(arg_1 + arg_2)\n",
    "\n",
    "        return child\n",
    "\n",
    "    new_func = parent(1, 2)\n",
    "\n",
    "    print([cell.cell_contents for cell in new_func.__closure__])\n",
    "\n",
    "    # Output: [22, 'yummy', 3]        \n",
    "```\n",
    "\n",
    "## Why does all of this matter?\n",
    "\n",
    "We've gone pretty deep into the internals of how Python works, and you must be wondering, \"Why does all of this matter?\" Well, in the next lesson we'll finally get to talk about decorators. In order to work, decorators have to make use of all of these concepts: \n",
    "\n",
    "* Functions as objects\n",
    "* Nested functions\n",
    "* Nonlocal variables\n",
    "* Closures"
   ]
  },
  {
   "cell_type": "markdown",
   "metadata": {},
   "source": [
    "# Lesson IV\n",
    "\n",
    "## Decorators\n",
    "\n",
    "Now that you know functions can be passed around as variables, and you understand scope and closures, we can talk about decorators.\n",
    "\n",
    "So what is a decorator? Let's say you have a function that takes some inputs and returns some outputs.\n",
    "\n",
    "A decorator is a wrapper that you can place around a function that changes that function's behavior.\n",
    "\n",
    "<img src='pictures/decorator.jpg' />\n",
    "\n",
    "You can modify the inputs, modify the outputs, or even change the behavior of the function itself.\n",
    "\n",
    "### What does a decorator look like?\n",
    "\n",
    "You may have seen decorators in Python before. When you use them, you type the ``\"@\"`` symbol followed by the decorator's name on the line directly above the function you are decorating.\n",
    "\n",
    "```python\n",
    "    @double_args\n",
    "    def multiply(x, y):\n",
    "        return x * y\n",
    "\n",
    "    multiply(1, 5)\n",
    "    # Output: 20    \n",
    "```\n",
    "\n",
    "Here, the ``\"double_args\"`` decorator modifies the behavior of the ``multiply()`` function. ``double_args`` is a decorator that multiplies every argument by two before passing them to the decorated function. So *1 times 5 becomes 2 times 10, which equals 20*. \n",
    "\n",
    "That seems kind of magical that we can alter the behavior of functions, so let's peel back the layers and see how it works. We will build the ``double_args`` decorator together in this lesson.`\n",
    "\n",
    "### The double_args decorator\n",
    "\n",
    "Let's continue to use the ``multiply()`` function as the function we are decorating. Now, decorators are just functions that take a function as an argument and return a modified version of that function.\n",
    "\n",
    "To start off, let's not have ``double_args`` modify anything. It just takes a function and immediately returns it\n",
    "\n",
    "If we call this version of ``double_args()`` that does nothing and pass it the multiply function and then assign the result to the variable ``\"new_multiply\"``, then we can call ``new_multiply(1, 5)`` and get the same value we would have gotten from ``multiply(1, 5)``."
   ]
  },
  {
   "cell_type": "code",
   "execution_count": 25,
   "metadata": {},
   "outputs": [
    {
     "data": {
      "text/plain": [
       "5"
      ]
     },
     "execution_count": 25,
     "metadata": {},
     "output_type": "execute_result"
    }
   ],
   "source": [
    "def multiply(a, b):\n",
    "    return a * b\n",
    "\n",
    "def double_args(func):\n",
    "    return func\n",
    "\n",
    "new_multiply = double_args(multiply)\n",
    "new_multiply(1, 5)"
   ]
  },
  {
   "cell_type": "code",
   "execution_count": 26,
   "metadata": {},
   "outputs": [
    {
     "data": {
      "text/plain": [
       "5"
      ]
     },
     "execution_count": 26,
     "metadata": {},
     "output_type": "execute_result"
    }
   ],
   "source": [
    "multiply(1, 5)"
   ]
  },
  {
   "cell_type": "markdown",
   "metadata": {},
   "source": [
    "In order for your decorator to return a modified function, it is usually helpful for it to define a new function to return. We'll call that nested function ``\"wrapper()\"``.\n",
    "\n",
    "All ``wrapper()`` does is take *two* arguments and passes them on to whatever function was passed to ``double_args()`` in the first place.\n",
    "\n",
    "If ``double_args()`` then returns the *new* ``wrapper()`` function, the return value acts exactly the same as whatever function was passed to ``double_args()``, assuming that the function passed to ``double_args()`` also takes exactly *two* arguments\n",
    "\n",
    "So, ``double_args()`` is still not doing anything to actually modify the function it is decorating.\n",
    "\n",
    "Once again, we'll pass ``multiply()`` to ``double_args()`` and assign the result to ``new_multiply()``. \n",
    "If we then call ``new_multiply()``, which is now equal to the ``wrapper()`` function, ``wrapper()`` calls ``multiply()`` because it is the function that was passed to ``double_args()``. So ``wrapper()`` calls ``multiply()`` with the arguments *1 and 5*, which returns *5*."
   ]
  },
  {
   "cell_type": "code",
   "execution_count": 27,
   "metadata": {},
   "outputs": [
    {
     "data": {
      "text/plain": [
       "5"
      ]
     },
     "execution_count": 27,
     "metadata": {},
     "output_type": "execute_result"
    }
   ],
   "source": [
    "def multiply(a, b):\n",
    "    return a * b\n",
    "def double_args(func):\n",
    "    # Define a new function that we can modify\n",
    "    def wrapper(a, b):\n",
    "        # For now, just call the unmodified function\n",
    "        return func(a, b)\n",
    "    # Return the new function\n",
    "    return wrapper\n",
    "\n",
    "new_multiply = double_args(multiply)\n",
    "new_multiply(1, 5)    "
   ]
  },
  {
   "cell_type": "markdown",
   "metadata": {},
   "source": [
    "Now let's actually modify the function our decorator is decorating. This time, ``wrapper()`` will still call whatever function is passed to ``double_args()``, but it will **double** every argument when it calls the original function.\n",
    "\n",
    "As usual, we will call ``double_args()`` on the ``multiply()`` function and assign the result to ``new_multiply()``. Now, what happens when we call ``new_multiply()`` with *1 and 5* as arguments?\n",
    "\n",
    "Well, ``new_multiply()`` is equal to ``wrapper()``, which calls ``multiply()`` after doubling each argument. ***So 1 becomes 2 and 5 becomes 10, giving us 2 times 10, which equals 20***."
   ]
  },
  {
   "cell_type": "code",
   "execution_count": 28,
   "metadata": {},
   "outputs": [
    {
     "data": {
      "text/plain": [
       "20"
      ]
     },
     "execution_count": 28,
     "metadata": {},
     "output_type": "execute_result"
    }
   ],
   "source": [
    "def multiply(a, b):\n",
    "    return a * b\n",
    "def double_args(func):\n",
    "    def wrapper(a, b):\n",
    "        # Call the passed in function, but double each argument\n",
    "        return func(a * 2, b * 2)\n",
    "    return wrapper\n",
    "\n",
    "new_multiply = double_args(multiply)\n",
    "new_multiply(1, 5)"
   ]
  },
  {
   "cell_type": "markdown",
   "metadata": {},
   "source": [
    "We're almost there. This time, instead of assigning the new function to ``\"new_multiply\"``, we're going to overwrite the ``\"multiply\"`` variable. \n",
    "\n",
    "Now calling ``multiply()`` with arguments *1 and 5 gives us 20 instead of 5*. \n",
    "\n",
    "Remember that we can do this because Python stores the original multiply function in the new function's closure."
   ]
  },
  {
   "cell_type": "code",
   "execution_count": 29,
   "metadata": {},
   "outputs": [
    {
     "data": {
      "text/plain": [
       "20"
      ]
     },
     "execution_count": 29,
     "metadata": {},
     "output_type": "execute_result"
    }
   ],
   "source": [
    "def multiply(a, b):\n",
    "    return a * b\n",
    "def double_args(func):\n",
    "    def wrapper(a, b):\n",
    "        return func(a * 2, b * 2)\n",
    "    return wrapper\n",
    "\n",
    "multiply = double_args(multiply)\n",
    "multiply(1, 5)\n",
    "    "
   ]
  },
  {
   "cell_type": "markdown",
   "metadata": {},
   "source": [
    "### Decorator Syntax\n",
    "\n",
    "When I first showed you the ``double_args()`` decorator at the beginning of this lecture, I used ``\"@double_args\"`` on the line before the definition of ``multiply()``. \n",
    "This is just a Python convenience for saying ``\"multiply\"`` equals the value returned by calling ``double_args()`` with ``\"multiply\"`` as the only argument\n",
    "\n",
    "The code shown below is exactly equivalent to the code above."
   ]
  },
  {
   "cell_type": "code",
   "execution_count": 30,
   "metadata": {},
   "outputs": [
    {
     "data": {
      "text/plain": [
       "20"
      ]
     },
     "execution_count": 30,
     "metadata": {},
     "output_type": "execute_result"
    }
   ],
   "source": [
    "def double_args(func):\n",
    "    def wrapper(a, b):\n",
    "        return func(a * 2, b * 2)\n",
    "    return wrapper\n",
    "\n",
    "@double_args\n",
    "def multiply(a, b):\n",
    "    return a * b\n",
    "\n",
    "multiply(1, 5)"
   ]
  }
 ],
 "metadata": {
  "kernelspec": {
   "display_name": "Python 3.9.12 ('Py3')",
   "language": "python",
   "name": "python3"
  },
  "language_info": {
   "codemirror_mode": {
    "name": "ipython",
    "version": 3
   },
   "file_extension": ".py",
   "mimetype": "text/x-python",
   "name": "python",
   "nbconvert_exporter": "python",
   "pygments_lexer": "ipython3",
   "version": "3.9.12"
  },
  "orig_nbformat": 4,
  "vscode": {
   "interpreter": {
    "hash": "73990f7905ce18e2def91a603fe09ae38383e0aba9dfcdeb23468ee256a89966"
   }
  }
 },
 "nbformat": 4,
 "nbformat_minor": 2
}
