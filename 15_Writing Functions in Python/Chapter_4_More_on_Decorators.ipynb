{
 "cells": [
  {
   "cell_type": "markdown",
   "metadata": {},
   "source": [
    "# Lesson I\n",
    "\n",
    "## Real-world Examples\n",
    "\n",
    "You've learned a lot about how decorators work. This lesson will walk you through some real-world decorators so that you can start to recognize common decorator patterns.\n",
    "\n",
    "### Time a function\n",
    "\n",
    "The ``timer()`` decorator runs the decorated function and then prints how long it took for the function to run. I usually wind up adding some version of this to all of my projects because it is a pretty easy way to figure out where your computational bottlenecks are. \n",
    "\n",
    "```python\n",
    "    import time\n",
    "\n",
    "    def timer(func):\n",
    "        \"\"\"A decorator that prints how long a function took to run.\n",
    "\n",
    "        Args:\n",
    "            func (callable): The function being decorated.\n",
    "\n",
    "        Returns:\n",
    "            callable: The decorated function.\n",
    "        \"\"\"    \n",
    "```\n",
    "\n",
    "All decorators have fairly similar-looking docstrings because they all take and return a single function. For brevity, I will only include the description of the function in the docstrings of the examples that follow.\n",
    "\n"
   ]
  },
  {
   "cell_type": "code",
   "execution_count": 6,
   "metadata": {},
   "outputs": [],
   "source": [
    "import time\n",
    "\n",
    "def timer(func):\n",
    "    \"\"\"A decorator that prints how long a function took to run.\"\"\"\n",
    "    # Define the wrapper function to return.\n",
    "    def wrapper(*args, **kwargs):\n",
    "        # When wrapper() is called, get the current time\n",
    "        t_start = time.time()\n",
    "        # Call the decorated function and store the result.\n",
    "        result = func(*args, **kwargs)\n",
    "        # Get the total time it took to run, and print it.\n",
    "        t_total = time.time() - t_start\n",
    "        print('{} took {}s'.format(func.__name__, t_total))\n",
    "        return result\n",
    "    return wrapper\n",
    "    "
   ]
  },
  {
   "cell_type": "markdown",
   "metadata": {},
   "source": [
    "Like most decorators, we'll start off by defining a ``wrapper()`` function. This is the function that the decorator will return. ``wrapper()`` takes any number of positional and keyword arguments so that it can be used to decorate any function. \n",
    "\n",
    "The first thing the new function will do is record the time that it was called with the ``time()`` function. Then ``wrapper()`` gets the result of calling the decorated function. We don't return that value yet though. \n",
    "\n",
    "After calling the decorated function, ``wrapper()`` checks the time again, and prints a message about how long it took to run the decorated function. Once we've done that, we need to return the value that the decorated function calculated."
   ]
  },
  {
   "cell_type": "code",
   "execution_count": 7,
   "metadata": {},
   "outputs": [
    {
     "name": "stdout",
     "output_type": "stream",
     "text": [
      "sleep_n_seconds took 5.011141538619995s\n",
      "None\n",
      "sleep_n_seconds took 10.015560150146484s\n",
      "None\n"
     ]
    }
   ],
   "source": [
    "@timer\n",
    "def sleep_n_seconds(n):\n",
    "    time.sleep(n)\n",
    "    \n",
    "print(sleep_n_seconds(5))\n",
    "\n",
    "print(sleep_n_seconds(10))    "
   ]
  },
  {
   "cell_type": "markdown",
   "metadata": {},
   "source": [
    "So if we decorate this simple ``sleep_n_seconds()`` function, you can see that sleeping for 5 seconds takes about 5 seconds, and sleeping for 10 seconds takes about 10 seconds. This is a trivial use of the decorator to show it working, but it can be very useful for finding the slow parts of your code.\n",
    "\n",
    "## Memoizing\n",
    "\n",
    "Memoizing is the process of storing the results of a function so that the next time the function is called with the same arguments; you can just look up the answer."
   ]
  },
  {
   "cell_type": "code",
   "execution_count": 8,
   "metadata": {},
   "outputs": [],
   "source": [
    "def memoize(func):\n",
    "    \"\"\"Store the result of the decorated function for fast lookup\n",
    "    \"\"\"\n",
    "    # Store results in a dict that maps arguments to results\n",
    "    cache = {}\n",
    "    # Define the wrapper function to return.\n",
    "    def wrapper(*args, **kwargs):\n",
    "        # If these arguments haven't been seen before,\n",
    "        if (args, kwargs) not in cache:\n",
    "            # Call func() and store the result.\n",
    "            cache [(args, kwargs)] = func(*args, **kwargs)\n",
    "        return cache[(args, kwargs)]\n",
    "    return wrapper    "
   ]
  },
  {
   "cell_type": "markdown",
   "metadata": {},
   "source": [
    "We start by setting up a dictionary that will map arguments to results. Then, as usual, we create ``wrapper()`` to be the new decorated function that this decorator returns. \n",
    "\n",
    "When the new function gets called, we check to see whether we've ever seen these arguments before. If we haven't, we send them to the decorated function and store the result in the ``\"cache\"`` dictionary. \n",
    "\n",
    "Now we can look up the return value quickly in a dictionary of results. The next time we call this function with those same arguments, the return value will already be in the dictionary."
   ]
  },
  {
   "cell_type": "code",
   "execution_count": null,
   "metadata": {},
   "outputs": [],
   "source": [
    "@memoize\n",
    "def slow_function(a, b):\n",
    "    print('Sleeping...')\n",
    "    time.sleep(5)\n",
    "    return a + b\n",
    "\n",
    "slow_function(3, 4)"
   ]
  },
  {
   "cell_type": "markdown",
   "metadata": {},
   "source": [
    "Here we are memoizing ``slow_function()``. ``slow_function()`` simply returns the sum of its arguments. In order to simulate a slow function, we have it sleep for 5 seconds before returning. \n",
    "\n",
    "If we call ``slow_function()`` with the arguments *3 and 4, it will sleep for 5 seconds and then return 7*. But if we call ``slow_function()`` with the arguments 3 and 4 again, it will immediately return 7. Because we've stored the answer in the cache, the decorated function doesn't even have to call the original ``slow_function()`` function.\n",
    "\n",
    "## When to use decorators\n",
    "\n",
    "So when is it appropriate to use a decorator? You should consider using a decorator when you want to add some common bit of code to multiple functions. \n",
    "\n",
    "* Add common behavior to multiple functions\n",
    "\n",
    "```python\n",
    "    @timer\n",
    "    def foo():\n",
    "        # Do some computation\n",
    "\n",
    "    @timer\n",
    "    def bar():\n",
    "        # Do some computation\n",
    "\n",
    "    @timer\n",
    "    def baz():\n",
    "        # Do some computation        \n",
    "```\n",
    "\n",
    "We could have added timing code in the body of all three of these functions, but that would violate the principle of Don't Repeat Yourself. Adding a decorator is a better choice."
   ]
  },
  {
   "cell_type": "markdown",
   "metadata": {},
   "source": [
    "# Lesson II\n",
    "\n",
    "## Decorators and Metadata\n",
    "\n",
    "One of the problems with decorators is that they obscure the decorated function's metadata. In this lesson, I'll show you why it's a problem and how to fix it.\n",
    "\n",
    "Here we have a nice function, ``sleep_n_seconds()``, with a *docstring* that explains exactly what it does. If we look at the ``docstring`` attribute, we can see the text of the *docstring*."
   ]
  },
  {
   "cell_type": "code",
   "execution_count": null,
   "metadata": {},
   "outputs": [
    {
     "name": "stdout",
     "output_type": "stream",
     "text": [
      "Pause processing for n seconds.\n",
      "    \n",
      "    Args:\n",
      "        n (int) : The number of seconds to pause for.\n",
      "    \n"
     ]
    }
   ],
   "source": [
    "def sleep_n_seconds(n=10):\n",
    "    \"\"\"Pause processing for n seconds.\n",
    "    \n",
    "    Args:\n",
    "        n (int) : The number of seconds to pause for.\n",
    "    \"\"\"\n",
    "    time.sleep(n)\n",
    "    \n",
    "print(sleep_n_seconds.__doc__)    "
   ]
  },
  {
   "cell_type": "markdown",
   "metadata": {},
   "source": [
    "We can also access other metadata for the function, like its name and default arguments."
   ]
  },
  {
   "cell_type": "code",
   "execution_count": null,
   "metadata": {},
   "outputs": [
    {
     "name": "stdout",
     "output_type": "stream",
     "text": [
      "sleep_n_seconds\n",
      "(10,)\n"
     ]
    }
   ],
   "source": [
    "print(sleep_n_seconds.__name__)\n",
    "\n",
    "print(sleep_n_seconds.__defaults__)"
   ]
  },
  {
   "cell_type": "markdown",
   "metadata": {},
   "source": [
    "But watch what happens when we decorate ``sleep_n_seconds()`` with the ``timer()`` decorator as we've done here. \n",
    "\n",
    "When we try to *print* the *docstring*, we get *nothing back*. Even stranger, when we try to look up the function's name, Python tells us that ``sleep_n_seconds()``'s name is ``\"wrapper\"``."
   ]
  },
  {
   "cell_type": "code",
   "execution_count": 10,
   "metadata": {},
   "outputs": [
    {
     "name": "stdout",
     "output_type": "stream",
     "text": [
      "None\n",
      "wrapper\n"
     ]
    }
   ],
   "source": [
    "@timer\n",
    "def sleep_n_seconds(n=10):\n",
    "    \"\"\"Pause processing for n seconds.\n",
    "    \n",
    "    Args:\n",
    "        n (int) : The number of seconds to pause for.\n",
    "    \"\"\"\n",
    "    time.sleep(n)\n",
    "    \n",
    "print(sleep_n_seconds.__doc__)\n",
    "\n",
    "print(sleep_n_seconds.__name__)    "
   ]
  },
  {
   "cell_type": "markdown",
   "metadata": {},
   "source": [
    "To understand why we have to examine the ``timer()`` decorator. \n",
    "\n",
    "```python\n",
    "    def timer(func):\n",
    "        def wrapper(*args, **kwargs):\n",
    "            start = time.time()\n",
    "            result = func(*args, **kwargs)\n",
    "            end = time.time()\n",
    "            print(f\"{func.__name__} took {end - start} seconds\")\n",
    "            return result\n",
    "        return wrapper\n",
    "```\n",
    "\n",
    "Remember that when we write decorators, we almost always define a nested function to return. Because the decorator overwrites the ``sleep_n_seconds()`` function, when you ask for ``sleep_n_seconds()``'s docstring or name, you are actually referencing the nested function that was returned by the decorator. In this case, the nested function was called ``wrapper()`` and it didn't have a docstring.\n",
    "\n",
    "## functools.wraps()\n",
    "\n",
    "Fortunately, Python provides us with an easy way to fix this. The ``wraps()`` function from the ``functools`` module is a decorator that you use when defining a decorator. \n",
    "\n",
    "If you use it to decorate the wrapper function that your decorator returns, it will modify ``wrapper()``'s metadata to look like the function you are decorating."
   ]
  },
  {
   "cell_type": "code",
   "execution_count": 11,
   "metadata": {},
   "outputs": [],
   "source": [
    "from functools import wraps\n",
    "def timer(func):\n",
    "    \"\"\"A decorator that prints how long a function took to run\"\"\"\n",
    "    \n",
    "    @wraps(func)\n",
    "    def wrapper(*args, **kwargs):\n",
    "        t_start = time.time()\n",
    "        \n",
    "        result = func(*args, **kwargs)\n",
    "        \n",
    "        t_total = time.time() - t_start\n",
    "        print('{} took {}s'.format(func.__name__, t_total))\n",
    "        \n",
    "        return result\n",
    "    return wrapper\n",
    "\n"
   ]
  },
  {
   "cell_type": "markdown",
   "metadata": {},
   "source": [
    "Notice that the ``wraps()`` decorator takes the function you are decorating as an argument.\n",
    "\n",
    "If we use this updated version of the ``timer()`` decorator to decorate ``sleep_n_seconds()`` and then try to print ``sleep_n_seconds()``'s docstring, we get the result we expect."
   ]
  },
  {
   "cell_type": "code",
   "execution_count": 14,
   "metadata": {},
   "outputs": [
    {
     "name": "stdout",
     "output_type": "stream",
     "text": [
      "Pause processing for n seconds.\n",
      "    \n",
      "    \n",
      "    Args:\n",
      "        n (int) : The number of seconds to pause for.\n",
      "    \n"
     ]
    }
   ],
   "source": [
    "@timer\n",
    "def sleep_n_seconds(n=10):\n",
    "    \"\"\"Pause processing for n seconds.\n",
    "    \n",
    "    \n",
    "    Args:\n",
    "        n (int) : The number of seconds to pause for.\n",
    "    \"\"\"\n",
    "    time.sleep(n)\n",
    "    \n",
    "    \n",
    "print(sleep_n_seconds.__doc__)   "
   ]
  },
  {
   "cell_type": "markdown",
   "metadata": {},
   "source": [
    "Likewise, printing the name or any other metadata now gives you the metadata from the function being decorated rather than the metadata of the ``wrapper()`` function."
   ]
  },
  {
   "cell_type": "code",
   "execution_count": 15,
   "metadata": {},
   "outputs": [
    {
     "name": "stdout",
     "output_type": "stream",
     "text": [
      "sleep_n_seconds\n",
      "None\n"
     ]
    }
   ],
   "source": [
    "print(sleep_n_seconds.__name__)\n",
    "\n",
    "print(sleep_n_seconds.__defaults__)"
   ]
  },
  {
   "cell_type": "markdown",
   "metadata": {},
   "source": [
    "### Access to original function\n",
    "\n",
    "As an added bonus, using ``wraps()`` when creating your decorator also gives you easy access to the original undecorated function via the ``__wrapped__`` attribute. Of course, you always had access to this function via the closure, but this is an easy way to get to it if you need it."
   ]
  },
  {
   "cell_type": "code",
   "execution_count": 16,
   "metadata": {},
   "outputs": [
    {
     "name": "stdout",
     "output_type": "stream",
     "text": [
      "<function sleep_n_seconds at 0x00000200221A6700>\n"
     ]
    }
   ],
   "source": [
    "print(sleep_n_seconds.__wrapped__)"
   ]
  },
  {
   "cell_type": "markdown",
   "metadata": {},
   "source": [
    "# Lesson III\n",
    "\n",
    "## Decorators that take arguments\n",
    "\n",
    "Sometimes it would be nice to add arguments to our decorators. To do that, we need another level of function nesting."
   ]
  },
  {
   "cell_type": "code",
   "execution_count": 18,
   "metadata": {},
   "outputs": [
    {
     "name": "stdout",
     "output_type": "stream",
     "text": [
      "8\n",
      "8\n",
      "8\n"
     ]
    }
   ],
   "source": [
    "def run_three_times(func):\n",
    "    def wrapper(*args, **kwargs):\n",
    "        for i in range(3):\n",
    "            func(*args, **kwargs)\n",
    "    return wrapper\n",
    "\n",
    "@run_three_times\n",
    "def print_sum(a, b):\n",
    "    print(a + b)\n",
    "    \n",
    "print_sum(3, 5)            "
   ]
  },
  {
   "cell_type": "markdown",
   "metadata": {},
   "source": [
    "Let's consider this silly ``run_three_times()`` decorator. If you use it to decorate a function, it will run that function three times. \n",
    "If we use it to decorate the ``print_sum()`` function and then run ``print_sum(3,5)``, it will print 8 three times.\n",
    "\n",
    "Let's think about what we would need to change if we wanted to write a ``run_n_times()`` decorator. We want to pass ``\"n\"`` as an argument, instead of hard-coding it in the decorator.\n",
    "\n",
    "```python\n",
    "    def run_n_times(func):\n",
    "        def wrapper(*args, **kwargs):\n",
    "            # How do we pass 'n' into this function?\n",
    "            for i in range(???):\n",
    "                func(*args, **kwargs)\n",
    "        return wrapper\n",
    "```               \n",
    "\n",
    "If we had some way to pass n into the decorator, we could decorate ``print_sum()`` so that it gets run three times and decorate ``print_hello()`` to run five times.\n",
    "\n",
    "```python\n",
    "    @run_n_times(3)\n",
    "    def print_sum(a, b):\n",
    "        print(a + b)\n",
    "\n",
    "    @run_n_times(5)\n",
    "    def print_hello():\n",
    "        print(\"Hello\")    \n",
    "```\n",
    "\n",
    "But a decorator is only supposed to take one argument - the function it is decorating. Also, when you use decorator syntax, you're not supposed to use the parentheses. So what gives?\n",
    "\n",
    "### A decorator factory\n",
    "\n",
    "To make ``run_n_times()`` work, we have to turn it into a function that returns a decorator, rather than a function **that is** a decorator. \n",
    "\n",
    "So let's start by redefining ``run_n_times()`` so that it takes ``n`` as an *argument*, instead of ``func``. Then, inside of ``run_n_times()``, we'll define a new *decorator* function... "
   ]
  },
  {
   "cell_type": "code",
   "execution_count": 19,
   "metadata": {},
   "outputs": [],
   "source": [
    "def run_n_times(n):\n",
    "    \"\"\"Define and return a decorator\"\"\"\n",
    "    def decorator(func):\n",
    "        def wrapper(*args, **kwargs):\n",
    "            for i in range(n):\n",
    "                func(*args, **kwargs)\n",
    "        return wrapper\n",
    "    return decorator\n",
    "\n",
    "        "
   ]
  },
  {
   "cell_type": "markdown",
   "metadata": {},
   "source": [
    "This function takes ``\"func\"`` as an argument because it is the function that will be acting as our decorator. \n",
    "\n",
    "We start our new decorator with a nested ``wrapper()`` function, as usual. Now, since we are still inside the ``run_n_times()`` function, we have access to the ``n`` parameter that was passed to ``run_n_times()``. \n",
    "\n",
    "We can use that to control how many times we repeat the loop that calls our decorated function. As usual for any decorator, we return the new ``wrapper()`` function. And, if ``run_n_times()`` returns the ``decorator()`` function we just defined, then we can use that return value as a decorator. \n"
   ]
  },
  {
   "cell_type": "code",
   "execution_count": 20,
   "metadata": {},
   "outputs": [
    {
     "name": "stdout",
     "output_type": "stream",
     "text": [
      "8\n",
      "8\n",
      "8\n"
     ]
    }
   ],
   "source": [
    "@run_n_times(3)\n",
    "def print_sum(a, b):\n",
    "    print(a + b)\n",
    "    \n",
    "print_sum(3, 5)    "
   ]
  },
  {
   "cell_type": "markdown",
   "metadata": {},
   "source": [
    "To prove to you that it works the way we expect here is ``print_sum()`` decorated with ``run_n_times(3)``. When we call ``print_sum()`` with the arguments *3* and *5*, it prints *8* *three* times. "
   ]
  },
  {
   "cell_type": "code",
   "execution_count": 21,
   "metadata": {},
   "outputs": [
    {
     "name": "stdout",
     "output_type": "stream",
     "text": [
      "Hello!\n",
      "Hello!\n",
      "Hello!\n",
      "Hello!\n",
      "Hello!\n"
     ]
    }
   ],
   "source": [
    "@run_n_times(5)\n",
    "def print_hello():\n",
    "    print('Hello!')\n",
    "    \n",
    "print_hello()    "
   ]
  },
  {
   "cell_type": "markdown",
   "metadata": {},
   "source": [
    "And we can just as easily decorate ``print_hello()``, which prints a hello message, with ``run_n_times(5)``. When we call ``print_hello()``, we get *five* hello messages, as expected."
   ]
  },
  {
   "cell_type": "markdown",
   "metadata": {},
   "source": [
    "# Lesson IV\n",
    "\n",
    "## Timeout(): a real world example\n",
    "\n",
    "We're going to finish up by looking at an example of a real-world decorator that takes an argument to give you a better sense of how they work.\n",
    "\n",
    "For our first example, let's imagine that we have some functions that occasionally either run for longer than we want them to or just hang and never return.\n",
    "\n",
    "```python\n",
    "    def function1():\n",
    "        # This function sometimes\n",
    "        # runs for a loooooong time\n",
    "\n",
    "\n",
    "    def function2():\n",
    "        # This function sometimes\n",
    "        # hangs and never returns    \n",
    "```\n",
    "\n",
    "It would be nice if we could add some kind of ``timeout()`` decorator to those functions that will raise an error if the function runs for longer than expected.\n",
    "\n",
    "\n",
    "### Timeout - Background info\n",
    "\n",
    "To create the ``timeout()`` decorator, we are going to use some functions from Python's ``signal`` module. These functions have nothing to do with decorators, but understanding them will help you understand the ``timeout()`` decorator.\n",
    "\n",
    "```python\n",
    "    import signal\n",
    "    def raise_timeout(*args, **kwargs):\n",
    "        raise TimeoutError        \n",
    "```\n",
    "\n",
    "The ``raise_timeout()`` function simply raises a *TimeoutError* when it is called.\n",
    "\n",
    "```python\n",
    "    # When an 'alarm' signal goes off, call raise_timeout()\n",
    "    signal.signal(signnalum=signal.SIGALRM, handler=raise_timeout)\n",
    "```\n",
    "\n",
    "The ``signal()`` function tells Python, *\"When you see the signal whose number is signalnum, call the handler function.\"* In this case, we tell Python to call ``raise_timeout()`` whenever it sees the alarm signal. \n",
    "\n",
    "```python\n",
    "    # Set off an alarm in 5 seconds\n",
    "    signal.alarm(5)\n",
    "\n",
    "    # Cancel the alarm\n",
    "    signal.alarm(0)\n",
    "```\n",
    "\n",
    "The ``alarm()`` function lets us set an alarm for some number of seconds in the future. Passing ``0`` to the ``alarm()`` function cancels the alarm.\n",
    "\n",
    "### Timeout in 5 seconds\n",
    "\n",
    "We'll start by creating a decorator that times out in exactly 5 seconds, and then build from there to create a decorator that takes the timeout length as an argument. "
   ]
  },
  {
   "cell_type": "code",
   "execution_count": 29,
   "metadata": {},
   "outputs": [],
   "source": [
    "import signal\n",
    "\n",
    "def timeout_in_5s(func):\n",
    "    @wraps(func)\n",
    "    def wrapper(*args, **kwargs):\n",
    "        # Set an alarm for 5 seconds\n",
    "        signal.alarm(5)\n",
    "        try:\n",
    "            # Call the decorated func\n",
    "            return func(*args, **kwargs)\n",
    "        finally:\n",
    "            # Cancel alarm\n",
    "            signal.alarm(0)\n",
    "    return wrapper\n",
    "        "
   ]
  },
  {
   "cell_type": "markdown",
   "metadata": {},
   "source": [
    "Our ``timeout_in_5s()`` decorator starts off by defining a ``wrapper()`` function to return as the new decorated function.\n",
    "\n",
    "Returning this function is what makes ``timeout_in_5s()`` a *decorator*. First ``wrapper()`` sets an alarm for 5 seconds in the future. \n",
    "\n",
    "Then it calls the function being decorated. It wraps that call in a try block so that in a finally block we can cancel the alarm. This ensures that the alarm either rings or gets canceled.\n",
    "\n",
    "*Remember, when the alarm rings, Python calls the ``raise_timeout()`` function.*\n",
    "\n",
    "Let's use ``timeout_in_5s()`` to decorate a function that **will definitely timeout**. "
   ]
  },
  {
   "cell_type": "code",
   "execution_count": null,
   "metadata": {},
   "outputs": [],
   "source": [
    "@timeout_in_5s\n",
    "def foo():\n",
    "    time.sleep(10)\n",
    "    print('Foo')\n",
    "    \n",
    "foo()    "
   ]
  },
  {
   "cell_type": "markdown",
   "metadata": {},
   "source": [
    "``foo()`` sleeps for 10 seconds and then prints ``\"foo!\"``. If we call ``foo()``, the 5-second alarm will ring before it finishes sleeping, and Python will raise a ``TimeoutErrror``.\n",
    "\n",
    "Now let's create a more useful version of the ``timeout()`` decorator. This decorator takes an argument. To decorate ``foo()`` we'll set the timeout to 5 seconds like we did previously. But when decorating ``bar()``, we can set the timeout to 20 seconds. \n",
    "\n",
    "This allows us to set a timeout that is appropriate for each function. ``timeout()`` is a function that returns a ``decorator``. I like to think of it as a decorator factory. \n",
    "\n",
    "When you call ``timeout()``, it cranks out a brand new decorator that times out in 5 seconds, or 20 seconds, or whatever value we pass as ``n_seconds``.\n",
    " \n",
    " ```python\n",
    "    def timeout(n_seconds):\n",
    "        def decorator(func):\n",
    "            @wraps(func)\n",
    "            def wrapper(*args, **kwargs):\n",
    "                # Set an alarm for n_seconds\n",
    "                signal.signal(signal.SIGALRM, raise_timeout)\n",
    "                signal.alarm(n_seconds)\n",
    "                try:\n",
    "                    # Call the function being decorated\n",
    "                    return func(*args, **kwargs)\n",
    "                finally:\n",
    "                    # Cancel the alarm\n",
    "                    signal.alarm(0)\n",
    "                return wrapper\n",
    "            return decorator        \n",
    " ```\n",
    "\n",
    "The first thing we need to do is define this new decorator that it will return. That decorator begins, like all of our decorators, by defining a ``wrapper()`` function to return. \n",
    "\n",
    "Now because ``n_seconds`` is available to the ``wrapper()`` function we can set an alarm for ``n_seconds`` in the future. \n",
    "\n",
    "The rest of the ``wrapper()`` function looks exactly like the ``wrapper()`` function from the ``timeout_in_5s()`` function. Notice that ``wrapper()`` returns the result of calling ``func()``, ``decorator()`` returns *wrapper*, and ``timeout()`` returns *decorator*. \n",
    "\n",
    "```python\n",
    "    @timeout(5)\n",
    "    def foo():\n",
    "        time.sleep(10)\n",
    "        print(\"foo!\")\n",
    "\n",
    "    @timeout(20)\n",
    "    def bar():\n",
    "        time.sleep(10)\n",
    "        print(\"bar!\")\n",
    "\n",
    "    # foo() will raise a TimeoutError\n",
    "    # bar() will print \"bar!\"\n",
    "```\n",
    "\n",
    "So when we call ``foo()``, which has a 5-second timeout, it will timeout like before. But ``bar()``, which has a 20-second timeout, prints its message in 10 seconds, so the alarm gets canceled."
   ]
  }
 ],
 "metadata": {
  "kernelspec": {
   "display_name": "Python 3.9.12 ('Py3')",
   "language": "python",
   "name": "python3"
  },
  "language_info": {
   "codemirror_mode": {
    "name": "ipython",
    "version": 3
   },
   "file_extension": ".py",
   "mimetype": "text/x-python",
   "name": "python",
   "nbconvert_exporter": "python",
   "pygments_lexer": "ipython3",
   "version": "3.9.12"
  },
  "orig_nbformat": 4,
  "vscode": {
   "interpreter": {
    "hash": "73990f7905ce18e2def91a603fe09ae38383e0aba9dfcdeb23468ee256a89966"
   }
  }
 },
 "nbformat": 4,
 "nbformat_minor": 2
}
