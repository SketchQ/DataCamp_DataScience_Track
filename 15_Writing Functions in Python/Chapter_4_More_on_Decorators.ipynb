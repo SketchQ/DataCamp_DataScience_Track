{
 "cells": [
  {
   "cell_type": "markdown",
   "metadata": {},
   "source": [
    "# Lesson I\n",
    "\n",
    "## Real-world Examples\n",
    "\n",
    "You've learned a lot about how decorators work. This lesson will walk you through some real-world decorators so that you can start to recognize common decorator patterns.\n",
    "\n",
    "### Time a function\n",
    "\n",
    "The ``timer()`` decorator runs the decorated function and then prints how long it took for the function to run. I usually wind up adding some version of this to all of my projects because it is a pretty easy way to figure out where your computational bottlenecks are. \n",
    "\n",
    "```python\n",
    "    import time\n",
    "\n",
    "    def timer(func):\n",
    "        \"\"\"A decorator that prints how long a function took to run.\n",
    "\n",
    "        Args:\n",
    "            func (callable): The function being decorated.\n",
    "\n",
    "        Returns:\n",
    "            callable: The decorated function.\n",
    "        \"\"\"    \n",
    "```\n",
    "\n",
    "All decorators have fairly similar-looking docstrings because they all take and return a single function. For brevity, I will only include the description of the function in the docstrings of the examples that follow.\n",
    "\n"
   ]
  },
  {
   "cell_type": "code",
   "execution_count": 6,
   "metadata": {},
   "outputs": [],
   "source": [
    "import time\n",
    "\n",
    "def timer(func):\n",
    "    \"\"\"A decorator that prints how long a function took to run.\"\"\"\n",
    "    # Define the wrapper function to return.\n",
    "    def wrapper(*args, **kwargs):\n",
    "        # When wrapper() is called, get the current time\n",
    "        t_start = time.time()\n",
    "        # Call the decorated function and store the result.\n",
    "        result = func(*args, **kwargs)\n",
    "        # Get the total time it took to run, and print it.\n",
    "        t_total = time.time() - t_start\n",
    "        print('{} took {}s'.format(func.__name__, t_total))\n",
    "        return result\n",
    "    return wrapper\n",
    "    "
   ]
  },
  {
   "cell_type": "markdown",
   "metadata": {},
   "source": [
    "Like most decorators, we'll start off by defining a ``wrapper()`` function. This is the function that the decorator will return. ``wrapper()`` takes any number of positional and keyword arguments so that it can be used to decorate any function. \n",
    "\n",
    "The first thing the new function will do is record the time that it was called with the ``time()`` function. Then ``wrapper()`` gets the result of calling the decorated function. We don't return that value yet though. \n",
    "\n",
    "After calling the decorated function, ``wrapper()`` checks the time again, and prints a message about how long it took to run the decorated function. Once we've done that, we need to return the value that the decorated function calculated."
   ]
  },
  {
   "cell_type": "code",
   "execution_count": 7,
   "metadata": {},
   "outputs": [
    {
     "name": "stdout",
     "output_type": "stream",
     "text": [
      "sleep_n_seconds took 5.011141538619995s\n",
      "None\n",
      "sleep_n_seconds took 10.015560150146484s\n",
      "None\n"
     ]
    }
   ],
   "source": [
    "@timer\n",
    "def sleep_n_seconds(n):\n",
    "    time.sleep(n)\n",
    "    \n",
    "print(sleep_n_seconds(5))\n",
    "\n",
    "print(sleep_n_seconds(10))    "
   ]
  },
  {
   "cell_type": "markdown",
   "metadata": {},
   "source": [
    "So if we decorate this simple ``sleep_n_seconds()`` function, you can see that sleeping for 5 seconds takes about 5 seconds, and sleeping for 10 seconds takes about 10 seconds. This is a trivial use of the decorator to show it working, but it can be very useful for finding the slow parts of your code.\n",
    "\n",
    "## Memoizing\n",
    "\n",
    "Memoizing is the process of storing the results of a function so that the next time the function is called with the same arguments; you can just look up the answer."
   ]
  },
  {
   "cell_type": "code",
   "execution_count": 8,
   "metadata": {},
   "outputs": [],
   "source": [
    "def memoize(func):\n",
    "    \"\"\"Store the result of the decorated function for fast lookup\n",
    "    \"\"\"\n",
    "    # Store results in a dict that maps arguments to results\n",
    "    cache = {}\n",
    "    # Define the wrapper function to return.\n",
    "    def wrapper(*args, **kwargs):\n",
    "        # If these arguments haven't been seen before,\n",
    "        if (args, kwargs) not in cache:\n",
    "            # Call func() and store the result.\n",
    "            cache [(args, kwargs)] = func(*args, **kwargs)\n",
    "        return cache[(args, kwargs)]\n",
    "    return wrapper    "
   ]
  },
  {
   "cell_type": "markdown",
   "metadata": {},
   "source": [
    "We start by setting up a dictionary that will map arguments to results. Then, as usual, we create ``wrapper()`` to be the new decorated function that this decorator returns. \n",
    "\n",
    "When the new function gets called, we check to see whether we've ever seen these arguments before. If we haven't, we send them to the decorated function and store the result in the ``\"cache\"`` dictionary. \n",
    "\n",
    "Now we can look up the return value quickly in a dictionary of results. The next time we call this function with those same arguments, the return value will already be in the dictionary."
   ]
  },
  {
   "cell_type": "code",
   "execution_count": null,
   "metadata": {},
   "outputs": [],
   "source": [
    "@memoize\n",
    "def slow_function(a, b):\n",
    "    print('Sleeping...')\n",
    "    time.sleep(5)\n",
    "    return a + b\n",
    "\n",
    "slow_function(3, 4)"
   ]
  },
  {
   "cell_type": "markdown",
   "metadata": {},
   "source": [
    "Here we are memoizing ``slow_function()``. ``slow_function()`` simply returns the sum of its arguments. In order to simulate a slow function, we have it sleep for 5 seconds before returning. \n",
    "\n",
    "If we call ``slow_function()`` with the arguments *3 and 4, it will sleep for 5 seconds and then return 7*. But if we call ``slow_function()`` with the arguments 3 and 4 again, it will immediately return 7. Because we've stored the answer in the cache, the decorated function doesn't even have to call the original ``slow_function()`` function.\n",
    "\n",
    "## When to use decorators\n",
    "\n",
    "So when is it appropriate to use a decorator? You should consider using a decorator when you want to add some common bit of code to multiple functions. \n",
    "\n",
    "* Add common behavior to multiple functions\n",
    "\n",
    "```python\n",
    "    @timer\n",
    "    def foo():\n",
    "        # Do some computation\n",
    "\n",
    "    @timer\n",
    "    def bar():\n",
    "        # Do some computation\n",
    "\n",
    "    @timer\n",
    "    def baz():\n",
    "        # Do some computation        \n",
    "```\n",
    "\n",
    "We could have added timing code in the body of all three of these functions, but that would violate the principle of Don't Repeat Yourself. Adding a decorator is a better choice."
   ]
  },
  {
   "cell_type": "markdown",
   "metadata": {},
   "source": [
    "# Lesson II\n",
    "\n",
    "## Decorators and Metadata\n",
    "\n",
    "One of the problems with decorators is that they obscure the decorated function's metadata. In this lesson, I'll show you why it's a problem and how to fix it.\n",
    "\n",
    "Here we have a nice function, ``sleep_n_seconds()``, with a *docstring* that explains exactly what it does. If we look at the ``docstring`` attribute, we can see the text of the *docstring*."
   ]
  },
  {
   "cell_type": "code",
   "execution_count": null,
   "metadata": {},
   "outputs": [
    {
     "name": "stdout",
     "output_type": "stream",
     "text": [
      "Pause processing for n seconds.\n",
      "    \n",
      "    Args:\n",
      "        n (int) : The number of seconds to pause for.\n",
      "    \n"
     ]
    }
   ],
   "source": [
    "def sleep_n_seconds(n=10):\n",
    "    \"\"\"Pause processing for n seconds.\n",
    "    \n",
    "    Args:\n",
    "        n (int) : The number of seconds to pause for.\n",
    "    \"\"\"\n",
    "    time.sleep(n)\n",
    "    \n",
    "print(sleep_n_seconds.__doc__)    "
   ]
  },
  {
   "cell_type": "markdown",
   "metadata": {},
   "source": [
    "We can also access other metadata for the function, like its name and default arguments."
   ]
  },
  {
   "cell_type": "code",
   "execution_count": null,
   "metadata": {},
   "outputs": [
    {
     "name": "stdout",
     "output_type": "stream",
     "text": [
      "sleep_n_seconds\n",
      "(10,)\n"
     ]
    }
   ],
   "source": [
    "print(sleep_n_seconds.__name__)\n",
    "\n",
    "print(sleep_n_seconds.__defaults__)"
   ]
  },
  {
   "cell_type": "markdown",
   "metadata": {},
   "source": [
    "But watch what happens when we decorate ``sleep_n_seconds()`` with the ``timer()`` decorator as we've done here. \n",
    "\n",
    "When we try to *print* the *docstring*, we get *nothing back*. Even stranger, when we try to look up the function's name, Python tells us that ``sleep_n_seconds()``'s name is ``\"wrapper\"``."
   ]
  },
  {
   "cell_type": "code",
   "execution_count": 10,
   "metadata": {},
   "outputs": [
    {
     "name": "stdout",
     "output_type": "stream",
     "text": [
      "None\n",
      "wrapper\n"
     ]
    }
   ],
   "source": [
    "@timer\n",
    "def sleep_n_seconds(n=10):\n",
    "    \"\"\"Pause processing for n seconds.\n",
    "    \n",
    "    Args:\n",
    "        n (int) : The number of seconds to pause for.\n",
    "    \"\"\"\n",
    "    time.sleep(n)\n",
    "    \n",
    "print(sleep_n_seconds.__doc__)\n",
    "\n",
    "print(sleep_n_seconds.__name__)    "
   ]
  },
  {
   "cell_type": "markdown",
   "metadata": {},
   "source": [
    "To understand why we have to examine the ``timer()`` decorator. \n",
    "\n",
    "```python\n",
    "    def timer(func):\n",
    "        def wrapper(*args, **kwargs):\n",
    "            start = time.time()\n",
    "            result = func(*args, **kwargs)\n",
    "            end = time.time()\n",
    "            print(f\"{func.__name__} took {end - start} seconds\")\n",
    "            return result\n",
    "        return wrapper\n",
    "```\n",
    "\n",
    "Remember that when we write decorators, we almost always define a nested function to return. Because the decorator overwrites the ``sleep_n_seconds()`` function, when you ask for ``sleep_n_seconds()``'s docstring or name, you are actually referencing the nested function that was returned by the decorator. In this case, the nested function was called ``wrapper()`` and it didn't have a docstring.\n",
    "\n",
    "## functools.wraps()\n",
    "\n",
    "Fortunately, Python provides us with an easy way to fix this. The ``wraps()`` function from the ``functools`` module is a decorator that you use when defining a decorator. \n",
    "\n",
    "If you use it to decorate the wrapper function that your decorator returns, it will modify ``wrapper()``'s metadata to look like the function you are decorating."
   ]
  },
  {
   "cell_type": "code",
   "execution_count": 11,
   "metadata": {},
   "outputs": [],
   "source": [
    "from functools import wraps\n",
    "def timer(func):\n",
    "    \"\"\"A decorator that prints how long a function took to run\"\"\"\n",
    "    \n",
    "    @wraps(func)\n",
    "    def wrapper(*args, **kwargs):\n",
    "        t_start = time.time()\n",
    "        \n",
    "        result = func(*args, **kwargs)\n",
    "        \n",
    "        t_total = time.time() - t_start\n",
    "        print('{} took {}s'.format(func.__name__, t_total))\n",
    "        \n",
    "        return result\n",
    "    return wrapper\n",
    "\n"
   ]
  },
  {
   "cell_type": "markdown",
   "metadata": {},
   "source": [
    "Notice that the ``wraps()`` decorator takes the function you are decorating as an argument.\n",
    "\n",
    "If we use this updated version of the ``timer()`` decorator to decorate ``sleep_n_seconds()`` and then try to print ``sleep_n_seconds()``'s docstring, we get the result we expect."
   ]
  },
  {
   "cell_type": "code",
   "execution_count": 14,
   "metadata": {},
   "outputs": [
    {
     "name": "stdout",
     "output_type": "stream",
     "text": [
      "Pause processing for n seconds.\n",
      "    \n",
      "    \n",
      "    Args:\n",
      "        n (int) : The number of seconds to pause for.\n",
      "    \n"
     ]
    }
   ],
   "source": [
    "@timer\n",
    "def sleep_n_seconds(n=10):\n",
    "    \"\"\"Pause processing for n seconds.\n",
    "    \n",
    "    \n",
    "    Args:\n",
    "        n (int) : The number of seconds to pause for.\n",
    "    \"\"\"\n",
    "    time.sleep(n)\n",
    "    \n",
    "    \n",
    "print(sleep_n_seconds.__doc__)   "
   ]
  },
  {
   "cell_type": "markdown",
   "metadata": {},
   "source": [
    "Likewise, printing the name or any other metadata now gives you the metadata from the function being decorated rather than the metadata of the ``wrapper()`` function."
   ]
  },
  {
   "cell_type": "code",
   "execution_count": 15,
   "metadata": {},
   "outputs": [
    {
     "name": "stdout",
     "output_type": "stream",
     "text": [
      "sleep_n_seconds\n",
      "None\n"
     ]
    }
   ],
   "source": [
    "print(sleep_n_seconds.__name__)\n",
    "\n",
    "print(sleep_n_seconds.__defaults__)"
   ]
  },
  {
   "cell_type": "markdown",
   "metadata": {},
   "source": [
    "### Access to original function\n",
    "\n",
    "As an added bonus, using ``wraps()`` when creating your decorator also gives you easy access to the original undecorated function via the ``__wrapped__`` attribute. Of course, you always had access to this function via the closure, but this is an easy way to get to it if you need it."
   ]
  },
  {
   "cell_type": "code",
   "execution_count": 16,
   "metadata": {},
   "outputs": [
    {
     "name": "stdout",
     "output_type": "stream",
     "text": [
      "<function sleep_n_seconds at 0x00000200221A6700>\n"
     ]
    }
   ],
   "source": [
    "print(sleep_n_seconds.__wrapped__)"
   ]
  }
 ],
 "metadata": {
  "kernelspec": {
   "display_name": "Python 3.9.12 ('Py3')",
   "language": "python",
   "name": "python3"
  },
  "language_info": {
   "codemirror_mode": {
    "name": "ipython",
    "version": 3
   },
   "file_extension": ".py",
   "mimetype": "text/x-python",
   "name": "python",
   "nbconvert_exporter": "python",
   "pygments_lexer": "ipython3",
   "version": "3.9.12"
  },
  "orig_nbformat": 4,
  "vscode": {
   "interpreter": {
    "hash": "73990f7905ce18e2def91a603fe09ae38383e0aba9dfcdeb23468ee256a89966"
   }
  }
 },
 "nbformat": 4,
 "nbformat_minor": 2
}
