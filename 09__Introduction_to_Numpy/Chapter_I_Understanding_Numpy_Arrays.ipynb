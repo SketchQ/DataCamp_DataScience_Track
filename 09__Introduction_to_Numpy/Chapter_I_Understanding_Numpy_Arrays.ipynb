{
 "cells": [
  {
   "cell_type": "markdown",
   "metadata": {},
   "source": [
    "# Lesson I\n",
    "\n",
    "## Introducing Arrays\n",
    "\n",
    "**NumPy** is the core library for scientific computing in Python. Foundational Python libraries such as, **pandas, SciPy and Matplotlib** are built on top of NumPy's API.\n",
    "\n",
    "As well as machine learning libraries such as, **TensorFlow and scikit-learn**, which use NumPy arrays as inputs.\n",
    "\n",
    "The **array** is the main **object** in NumPy; it's a grid-like structure that holds data.\n",
    "\n",
    "To get started,\n",
    "\n",
    "```python\n",
    "import numPy as np\n",
    "```\n",
    "\n",
    "### Creating 1D arrays from lists\n",
    "\n",
    "We can create **arrays** from Python lists by passing a **list** as an argument to the ```np.array()``` function.\n",
    "\n",
    "The data type of this array is a ```numpy.ndarray```.\n"
   ]
  },
  {
   "cell_type": "code",
   "execution_count": 1,
   "metadata": {},
   "outputs": [
    {
     "data": {
      "text/plain": [
       "array([3, 2, 5, 8, 4, 9, 7, 6, 1])"
      ]
     },
     "execution_count": 1,
     "metadata": {},
     "output_type": "execute_result"
    }
   ],
   "source": [
    "import numpy as np\n",
    "\n",
    "python_list = [3, 2, 5, 8, 4, 9, 7, 6, 1]\n",
    "array = np.array(python_list)\n",
    "array"
   ]
  },
  {
   "cell_type": "code",
   "execution_count": 2,
   "metadata": {},
   "outputs": [
    {
     "data": {
      "text/plain": [
       "numpy.ndarray"
      ]
     },
     "execution_count": 2,
     "metadata": {},
     "output_type": "execute_result"
    }
   ],
   "source": [
    "type(array)"
   ]
  },
  {
   "cell_type": "markdown",
   "metadata": {},
   "source": [
    "### Creating 2D arrays from lists\n",
    "\n",
    "To create a **2D array**, pass ```np.array()``` a **list of lists**. As you might expect, a list of list of lists would generate 3D array."
   ]
  },
  {
   "cell_type": "code",
   "execution_count": 5,
   "metadata": {},
   "outputs": [
    {
     "name": "stdout",
     "output_type": "stream",
     "text": [
      "[[3 2 5]\n",
      " [9 7 1]\n",
      " [4 3 6]]\n"
     ]
    }
   ],
   "source": [
    "python_list_of_lists = [[3, 2, 5],\n",
    "                        [9, 7, 1],\n",
    "                        [4, 3, 6]]\n",
    "\n",
    "print(np.array(python_list_of_lists))\n"
   ]
  },
  {
   "cell_type": "markdown",
   "metadata": {},
   "source": [
    "### Arrays vs. Python Lists\n",
    "\n",
    "**Python Lists**\n",
    "\n",
    "* Can contain **many different** data types\n",
    "\n",
    "**NumPy arrays**\n",
    "\n",
    "* Can contain only a **single** data type\n",
    "\n",
    "* Use less space in memory\n",
    "\n",
    "### Creating arrays from Scratch\n",
    "\n",
    "there are many NumPy functions used to create arrays from scratch, including:\n",
    "\n",
    "* ```np.zeros()```\n",
    "* ```np.random.random()```\n",
    "* ```np.arange()```\n",
    "\n",
    "#### Creating Arrays: np.zeros()\n",
    "\n",
    "```np.zeros()``` creates an array full of **zeros**. We can use the zeros array just as we might use an empty Python list, filling it with data later on. We tell ```np.zeros()``` the shape of the desired array using a **tuple** of integers, each representing the length of a given dimension."
   ]
  },
  {
   "cell_type": "code",
   "execution_count": 6,
   "metadata": {},
   "outputs": [
    {
     "name": "stdout",
     "output_type": "stream",
     "text": [
      "[[0. 0. 0.]\n",
      " [0. 0. 0.]\n",
      " [0. 0. 0.]\n",
      " [0. 0. 0.]\n",
      " [0. 0. 0.]]\n"
     ]
    }
   ],
   "source": [
    "# Creating a array of zeros 5 rows, 3 columns\n",
    "print(np.zeros((5, 3)))"
   ]
  },
  {
   "cell_type": "markdown",
   "metadata": {},
   "source": [
    "#### Creating arrays: np.random.random()\n",
    "\n",
    "```np.random.random()``` also accepts a **tuple** with desired array's shape. The array will be made up of random **floats** between zero and one."
   ]
  },
  {
   "cell_type": "code",
   "execution_count": 7,
   "metadata": {},
   "outputs": [
    {
     "name": "stdout",
     "output_type": "stream",
     "text": [
      "[[0.63323539 0.25892717 0.24879212 0.72989884]\n",
      " [0.7430869  0.67392921 0.65229753 0.99421837]]\n"
     ]
    }
   ],
   "source": [
    "# Creating array from np.random module using random() function\n",
    "print(np.random.random((2, 4)))"
   ]
  },
  {
   "cell_type": "markdown",
   "metadata": {},
   "source": [
    "#### Creating arrays: np.arange()\n",
    "\n",
    "```np.arange()``` creates an **evenly-spaced** array of numbers based on given start and stop values. By default, ```np.arange()``` creates an array of **sequential integers**. ***The start value is included in the array but the stop value is not.***\n",
    "\n",
    "The start value can be omitted if the range begins with zero.\n",
    "\n",
    "If a **third** argument is passed, it is interpreted as the **step value**.\n",
    "\n",
    "```np.arange()``` is particularly useful for plotting!"
   ]
  },
  {
   "cell_type": "code",
   "execution_count": 8,
   "metadata": {},
   "outputs": [
    {
     "name": "stdout",
     "output_type": "stream",
     "text": [
      "[-3 -2 -1  0  1  2  3]\n"
     ]
    }
   ],
   "source": [
    "# Starts from -3, does not include 4!\n",
    "print(np.arange(-3, 4))"
   ]
  },
  {
   "cell_type": "code",
   "execution_count": 9,
   "metadata": {},
   "outputs": [
    {
     "name": "stdout",
     "output_type": "stream",
     "text": [
      "[0 1 2 3]\n"
     ]
    }
   ],
   "source": [
    "# Start value can be omitted\n",
    "print(np.arange(4))"
   ]
  },
  {
   "cell_type": "code",
   "execution_count": 11,
   "metadata": {},
   "outputs": [
    {
     "name": "stdout",
     "output_type": "stream",
     "text": [
      "[-3  0  3]\n"
     ]
    }
   ],
   "source": [
    "# Adding a step value of 3, so it increases by 3 'till stop value\n",
    "print(np.arange(-3, 4, 3))"
   ]
  },
  {
   "cell_type": "code",
   "execution_count": 13,
   "metadata": {},
   "outputs": [
    {
     "data": {
      "image/png": "[encoded data removed]",
      "text/plain": [
       "<Figure size 432x288 with 1 Axes>"
      ]
     },
     "metadata": {
      "needs_background": "light"
     },
     "output_type": "display_data"
    }
   ],
   "source": [
    "import matplotlib.pyplot as plt \n",
    "# np.arange() is usefull for plotting!\n",
    "plt.scatter(np.arange(0, 7), # x value\n",
    "            np.arange(-3, 4)) # y value\n",
    "\n",
    "plt.show()"
   ]
  },
  {
   "cell_type": "markdown",
   "metadata": {},
   "source": [
    "## Exercise I \n",
    "\n",
    "### Your First NumPy array\n",
    "\n",
    "Once you're comfortable with NumPy, you'll find yourself converting Python lists into NumPy arrays\n",
    "all the time for increased speed and access to NumPy's excellent array methods.\n",
    "\n",
    "```sudoku_list``` is a Python list containing a sudoku game:\n",
    "\n",
    "```python\n",
    "[[0, 0, 4, 3, 0, 0, 2, 0, 9],\n",
    " [0, 0, 5, 0, 0, 9, 0, 0, 1],\n",
    " [0, 7, 0, 0, 6, 0, 0, 4, 3],\n",
    " [0, 0, 6, 0, 0, 2, 0, 8, 7],\n",
    " [1, 9, 0, 0, 0, 7, 4, 0, 0],\n",
    " [0, 5, 0, 0, 8, 3, 0, 0, 0],\n",
    " [6, 0, 0, 0, 0, 0, 1, 0, 5],\n",
    " [0, 0, 3, 5, 0, 8, 6, 9, 0],\n",
    " [0, 4, 2, 9, 1, 0, 3, 0, 0]]\n",
    "```"
   ]
  },
  {
   "cell_type": "code",
   "execution_count": 14,
   "metadata": {},
   "outputs": [
    {
     "name": "stdout",
     "output_type": "stream",
     "text": [
      "<class 'numpy.ndarray'>\n"
     ]
    }
   ],
   "source": [
    "# Sudoku_list\n",
    "sudoku_list = [[0, 0, 4, 3, 0, 0, 2, 0, 9],\n",
    "               [0, 0, 5, 0, 0, 9, 0, 0, 1],\n",
    "               [0, 7, 0, 0, 6, 0, 0, 4, 3],\n",
    "               [0, 0, 6, 0, 0, 2, 0, 8, 7],\n",
    "               [1, 9, 0, 0, 0, 7, 4, 0, 0],\n",
    "               [0, 5, 0, 0, 8, 3, 0, 0, 0],\n",
    "               [6, 0, 0, 0, 0, 0, 1, 0, 5],\n",
    "               [0, 0, 3, 5, 0, 8, 6, 9, 0],\n",
    "               [0, 4, 2, 9, 1, 0, 3, 0, 0]]\n",
    "\n",
    "# Convert sudoku_list into an array\n",
    "sudoku_array = np.array(sudoku_list)\n",
    "\n",
    "# print the type of sudoku_array\n",
    "print(type(sudoku_array))"
   ]
  },
  {
   "cell_type": "markdown",
   "metadata": {},
   "source": [
    "### Creating Arrays from Scratch\n",
    "\n",
    "It can be helpful to know how to create quick NumPy arrays from scratch in order to test your code. For example, when you are doing math with large multi-dimensional arrays, it's nice to check whether the math works as expected on small test arrays before applying your code to the larger arrays. NumPy has many options for creating smaller synthetic arrays.\n"
   ]
  },
  {
   "cell_type": "code",
   "execution_count": 15,
   "metadata": {},
   "outputs": [
    {
     "name": "stdout",
     "output_type": "stream",
     "text": [
      "[[0. 0. 0. 0.]\n",
      " [0. 0. 0. 0.]]\n"
     ]
    }
   ],
   "source": [
    "# Create an array of zeros which has for columns and two rows\n",
    "zero_array = np.zeros((2, 4))\n",
    "print(zero_array)"
   ]
  },
  {
   "cell_type": "code",
   "execution_count": 16,
   "metadata": {},
   "outputs": [
    {
     "name": "stdout",
     "output_type": "stream",
     "text": [
      "[[0.81479782 0.15105501 0.79867033 0.02558881 0.47058997 0.66989623]\n",
      " [0.79791236 0.45002186 0.94377725 0.77731496 0.31728616 0.14833584]\n",
      " [0.28597872 0.36648522 0.82999191 0.9505086  0.20316673 0.79228257]]\n"
     ]
    }
   ],
   "source": [
    "# Create an array of random floats which has six columns and three rows\n",
    "random_array = np.random.random((3, 6))\n",
    "print(random_array)"
   ]
  },
  {
   "cell_type": "markdown",
   "metadata": {},
   "source": [
    "### A Range Array\n",
    "\n",
    "```np.arange()``` has useful applications in graphing. Your task is to create a scatter plot with values from ```doubling_array``` on the y-axis.\n",
    "\n",
    "```python\n",
    "doubling_array = [1, 2, 4, 8, 16, 32, 64, 128, 256, 512]\n",
    "```"
   ]
  },
  {
   "cell_type": "code",
   "execution_count": 17,
   "metadata": {},
   "outputs": [
    {
     "data": {
      "image/png": "[encoded data removed]",
      "text/plain": [
       "<Figure size 432x288 with 1 Axes>"
      ]
     },
     "metadata": {
      "needs_background": "light"
     },
     "output_type": "display_data"
    }
   ],
   "source": [
    "# Doubling array\n",
    "doubling_array = [1, 2, 4, 8, 16, 32, 64, 128, 256, 512]\n",
    "\n",
    "# Create an array of integers from one to ten\n",
    "one_to_ten = np.arange(1, 11)\n",
    "\n",
    "# Create your scatterplot\n",
    "plt.scatter(one_to_ten,\n",
    "            doubling_array)\n",
    "\n",
    "# Show plot\n",
    "plt.show()"
   ]
  },
  {
   "cell_type": "markdown",
   "metadata": {},
   "source": [
    "# Lesson II \n",
    "\n",
    "## Array dimensionality\n",
    "\n",
    "Let's dive into one of NumPy's key strenghts: the ability to handle data on any dimenstion. Since data saved in higher dimension can be harder to work with, we will also learn how to inspect and update array shapes.\n",
    "\n",
    "### 3D Arrays\n",
    "\n",
    "Just as we can create a 2D array by feeding NumPy a list of lists, we can create a 3D array by creating a list of lists of lists.\n",
    "\n",
    "We can visualize a 3D array as bunch of 2D arrays with the same shape stacked on top of each other."
   ]
  },
  {
   "cell_type": "code",
   "execution_count": 18,
   "metadata": {},
   "outputs": [
    {
     "name": "stdout",
     "output_type": "stream",
     "text": [
      "[[[1 2]\n",
      "  [5 7]]\n",
      "\n",
      " [[8 9]\n",
      "  [5 7]]\n",
      "\n",
      " [[1 2]\n",
      "  [5 7]]]\n"
     ]
    }
   ],
   "source": [
    "# 3D arrays\n",
    "array_1_2D = np.array([[1, 2], [5, 7]])\n",
    "array_2_2D = np.array([[8, 9], [5, 7]])\n",
    "array_3_2d = np.array([[1, 2], [5, 7]])\n",
    "\n",
    "array_3D = np.array([array_1_2D, array_2_2D, array_3_2d])\n",
    "\n",
    "print(array_3D)"
   ]
  },
  {
   "cell_type": "markdown",
   "metadata": {},
   "source": [
    "### 4D arrays\n",
    "\n",
    "Four dimensional arrays can be harder to visualize since we don't have a forth dimension. Think of a 4D array as a 2D array filled with 3D arrays.\n",
    "\n",
    "### Vector Arrays\n",
    "\n",
    "Programmers and the NumPy documentation sometimes refer to arrays as ***vectors, matrices, or tensors***. These are *mathematical* terms rather than *NumPy* terms; they all describe types of arrays.\n",
    "\n",
    "A **vector** refers to an array with *one dimension*. There is no difference between row and column vectors in NumPy since no second axis is specified 1D arrays.\n",
    "\n",
    "To create an array that *explicitly* horizontal or vertical, it must be a 2D array so that NumPy understands what axis it lies on. Since these arrays are two-dimensional rather than one, it would not be correct to call them vectors.\n",
    "\n",
    "### Matrix and tensor arrays\n",
    "\n",
    "Instead, in mathematics, a two-dimensional array is called **matrix**. And an array with three or more dimensions is called a **tensor**.\n",
    "\n",
    "## ShapeShifting\n",
    "\n",
    "We're ready to learn our first array attribute and array methods!\n",
    "\n",
    "**Array attributes are properties of an instance of an array.**\n",
    "\n",
    "* ```.shape```\n",
    "\n",
    "**Array methods are called directly on the array object itself rather than passing the array as an argument like we do with NumPy functions such as np.array()**\n",
    "\n",
    "* ```.flatten()```\n",
    "* ```.reshape()```\n",
    "\n",
    "### Finding an array's shape\n",
    "\n",
    "```.shape``` describes the shape of an array and returns a **tuple** of the lengths of each dimension. A shape of (3, 5) indicates a 2D array with three rows and five columns."
   ]
  },
  {
   "cell_type": "code",
   "execution_count": 19,
   "metadata": {},
   "outputs": [
    {
     "name": "stdout",
     "output_type": "stream",
     "text": [
      "[[0. 0. 0. 0. 0.]\n",
      " [0. 0. 0. 0. 0.]\n",
      " [0. 0. 0. 0. 0.]]\n"
     ]
    }
   ],
   "source": [
    "array = np.zeros((3, 5))\n",
    "print(array)"
   ]
  },
  {
   "cell_type": "code",
   "execution_count": 20,
   "metadata": {},
   "outputs": [
    {
     "data": {
      "text/plain": [
       "(3, 5)"
      ]
     },
     "execution_count": 20,
     "metadata": {},
     "output_type": "execute_result"
    }
   ],
   "source": [
    "array.shape"
   ]
  },
  {
   "cell_type": "markdown",
   "metadata": {},
   "source": [
    "### Rows and columns\n",
    "\n",
    "**In 2D arrays...**\n",
    "\n",
    "* Rows are the first dimension\n",
    "\n",
    "* Columns are the second dimension\n",
    "\n",
    "But it is common to call them row and columns in 2D arrays.\n",
    "\n",
    "### Flattening an array\n",
    "\n",
    "It's often easier to manipulate one-dimensional data than large multi-dimensional arrays. **np.flatten()** can help here:\n",
    "\n",
    "It takes all array elements and puts them in just one-dimension inside 1D array."
   ]
  },
  {
   "cell_type": "code",
   "execution_count": 26,
   "metadata": {},
   "outputs": [
    {
     "name": "stdout",
     "output_type": "stream",
     "text": [
      "[[1 2]\n",
      " [5 7]\n",
      " [6 6]]\n",
      "\n",
      "-----\n",
      "\n",
      "[1 2 5 7 6 6]\n"
     ]
    }
   ],
   "source": [
    "array = np.array([[1, 2], [5, 7], [6, 6]])\n",
    "\n",
    "print(array)\n",
    "print(\"\\n-----\\n\")\n",
    "print(array.flatten())"
   ]
  },
  {
   "cell_type": "markdown",
   "metadata": {},
   "source": [
    "### Reshaping an array\n",
    "\n",
    "The **.reshape()** method allows us to redefine the shape of an array without changing the elements that make up the array.\n",
    "\n",
    "In this example, we take a 2D array with *three rows and two columns* and change it into a 2D array with *two rows and three columns*."
   ]
  },
  {
   "cell_type": "code",
   "execution_count": 27,
   "metadata": {},
   "outputs": [
    {
     "name": "stdout",
     "output_type": "stream",
     "text": [
      "[[1 2]\n",
      " [5 7]\n",
      " [6 6]]\n",
      "\n",
      " ------- \n",
      "\n",
      "[[1 2 5]\n",
      " [7 6 6]]\n"
     ]
    }
   ],
   "source": [
    "array = np.array([[1, 2], [5, 7], [6, 6,]])\n",
    "print(array)\n",
    "print(\"\\n ------- \\n\")\n",
    "print(array.reshape((2, 3)))"
   ]
  },
  {
   "cell_type": "markdown",
   "metadata": {},
   "source": [
    "The shape tuple passed to **.reshape()** must be compatible with the number of elements in an array. This array could **not** be reshaped to a shape of *(3, 3)*, since the array has only **six** elements."
   ]
  },
  {
   "cell_type": "code",
   "execution_count": 29,
   "metadata": {},
   "outputs": [
    {
     "ename": "ValueError",
     "evalue": "cannot reshape array of size 6 into shape (3,3)",
     "output_type": "error",
     "traceback": [
      "\u001b[1;31m---------------------------------------------------------------------------\u001b[0m",
      "\u001b[1;31mValueError\u001b[0m                                Traceback (most recent call last)",
      "\u001b[1;32mc:\\Users\\devil\\Desktop\\Software Eğitimler\\DataCamp - Python\\Courses\\9__Introduction_to_Numpy\\Chapter_I_Understanding_Numpy_Arrays.ipynb Hücre 32\u001b[0m in \u001b[0;36m<cell line: 1>\u001b[1;34m()\u001b[0m\n\u001b[1;32m----> <a href='vscode-notebook-cell:/c%3A/Users/devil/Desktop/Software%20E%C4%9Fitimler/DataCamp%20-%20Python/Courses/9__Introduction_to_Numpy/Chapter_I_Understanding_Numpy_Arrays.ipynb#ch0000031?line=0'>1</a>\u001b[0m array\u001b[39m.\u001b[39;49mreshape((\u001b[39m3\u001b[39;49m, \u001b[39m3\u001b[39;49m))\n",
      "\u001b[1;31mValueError\u001b[0m: cannot reshape array of size 6 into shape (3,3)"
     ]
    }
   ],
   "source": [
    "array.reshape((3, 3))"
   ]
  },
  {
   "cell_type": "markdown",
   "metadata": {},
   "source": [
    "## Exercise II \n",
    "\n",
    "### 3D array Creation\n",
    "\n",
    "In the first lesson, you created a ```sudoku_game``` two-dimensional NumPy array. \n",
    "Perhaps you have hundreds of sudoku game arrays, and you'd like to save the solution for this one,\n",
    "```sudoku_solution```, as part of the same array as its corresponding game in order to organize your\n",
    "sudoku data better.\n",
    "You could accomplish this by stacking the two 2D arrays on top of each other to create a 3D array."
   ]
  },
  {
   "cell_type": "code",
   "execution_count": 35,
   "metadata": {},
   "outputs": [
    {
     "name": "stdout",
     "output_type": "stream",
     "text": [
      "[[[0 0 5 0 0 9 0 0 1]\n",
      "  [0 7 0 0 6 0 0 4 3]\n",
      "  [0 0 6 0 0 2 0 8 7]\n",
      "  [1 9 0 0 0 7 4 0 0]\n",
      "  [0 5 0 0 8 3 0 0 0]\n",
      "  [6 0 0 0 0 0 1 0 5]\n",
      "  [0 0 3 5 0 8 6 9 0]\n",
      "  [0 4 2 9 1 0 3 0 0]]\n",
      "\n",
      " [[3 2 5 8 4 9 7 6 1]\n",
      "  [9 7 1 2 6 5 8 4 3]\n",
      "  [4 3 6 1 9 2 5 8 7]\n",
      "  [1 9 8 6 5 7 4 3 2]\n",
      "  [2 5 7 4 8 3 9 1 6]\n",
      "  [6 8 9 7 3 4 1 2 5]\n",
      "  [7 1 3 5 2 8 6 9 4]\n",
      "  [5 4 2 9 1 6 3 7 8]]]\n"
     ]
    }
   ],
   "source": [
    "# Loading NumPy arrays from files\n",
    "sudoku_solution = np.load('datasets/sudoku_solution.npy')\n",
    "sudoku_game = np.load('datasets/sudoku_game.npy')\n",
    "\n",
    "# Create the game_and_solution 3D aray\n",
    "game_and_solution = np.array([sudoku_game, sudoku_solution])\n",
    "\n",
    "# print game_solution\n",
    "print(game_and_solution)"
   ]
  },
  {
   "cell_type": "markdown",
   "metadata": {},
   "source": [
    "### The Fourth dimension\n",
    "\n",
    "Printing arrays is a good way to check code output for small arrays like \n",
    "```sudoku_game_and_solution```, but it becomes unwieldy when dealing with bigger arrays and those with higher dimensions. Another important check is to look at the array's ```.shape```.\n",
    "\n",
    "Now, you'll create a 4D array that contains two sudoku games and their solutions."
   ]
  },
  {
   "cell_type": "code",
   "execution_count": 37,
   "metadata": {},
   "outputs": [
    {
     "name": "stdout",
     "output_type": "stream",
     "text": [
      "(2, 2, 8, 9)\n"
     ]
    }
   ],
   "source": [
    "# Create a second 3D array of another game and its solution\n",
    "new_game_and_solution = np.array([sudoku_game, sudoku_solution])\n",
    "\n",
    "# Create a 4D array of both game and solution 3D arrays\n",
    "game_and_solutions = np.array([game_and_solution, new_game_and_solution])\n",
    "\n",
    "# Print the shape of your 4D array\n",
    "print(game_and_solutions.shape)"
   ]
  },
  {
   "cell_type": "markdown",
   "metadata": {},
   "source": [
    "(2, 2, 8, 9) means that there are two sets of game/solution pair, arrays have 8 rows and 9 columns.\n",
    "\n",
    "If there were ten game/solution pairs, the ```.shape```would be:\n",
    "\n",
    "* **(10, 2, 9, 9)**"
   ]
  },
  {
   "cell_type": "markdown",
   "metadata": {},
   "source": [
    "# Lesson III\n",
    "\n",
    "## NumPy data types\n",
    "\n",
    "We know that NumPy arrays can come in all shapes and sizes. But what data types can they store?\n",
    "\n",
    "### NumPy vs Python data types\n",
    "\n",
    "NumPy data types are more specific that Python data types in that NumPy data types include both the type of data and the amount of memory available in bits.\n",
    "\n",
    "| Sample Python data types | Sample NumPy data types |\n",
    "| ------------------------:|------------------------:|\n",
    "| **int** | **np.int64** |\n",
    "| **float** | **np.int32** |\n",
    "|   |   **np.float64** |\n",
    "|   |   **np.float32** |\n",
    "\n",
    "#### Bits and bytes\n",
    "\n",
    "**Bit** is short for *binary digit*. A bit can hold only values of *zero or one*; it is the **smallest** unit of memory data available on a computer.\n",
    "\n",
    "A **byte** is a sequence of *eight bits*.\n",
    "\n",
    "**NumPy's 32-bit integer** can store two to the 32nd power numbers since this is the number of possible combinations of zeros and ones available in 32bits. This mean that np.int32 can hold over *four billion integers*.\n",
    "\n",
    "### The .dtype attribute\n",
    "\n",
    "We can find the data type o elements in an array using the **.dtype** array attribute. **float64** is the *default* for an array made of Python floats."
   ]
  },
  {
   "cell_type": "code",
   "execution_count": 38,
   "metadata": {},
   "outputs": [
    {
     "data": {
      "text/plain": [
       "dtype('float64')"
      ]
     },
     "execution_count": 38,
     "metadata": {},
     "output_type": "execute_result"
    }
   ],
   "source": [
    "np.array([1.32, 5.78, 175.55]).dtype"
   ]
  },
  {
   "cell_type": "markdown",
   "metadata": {},
   "source": [
    "NumPy chooses data type based on the data in the array creation. Here, NumPy detects integers in a Python list."
   ]
  },
  {
   "cell_type": "code",
   "execution_count": 39,
   "metadata": {},
   "outputs": [
    {
     "data": {
      "text/plain": [
       "dtype('int32')"
      ]
     },
     "execution_count": 39,
     "metadata": {},
     "output_type": "execute_result"
    }
   ],
   "source": [
    "int_array = np.array([[1, 2, 3], [4, 5, 6]])\n",
    "int_array.dtype"
   ]
  },
  {
   "cell_type": "markdown",
   "metadata": {},
   "source": [
    "### String data\n",
    "\n",
    "Strings work a little differently. NumPy selects a string data type with capacity large enough for the longest string. here, U12 indicates that the data type is a Unicode string with maximum length 12."
   ]
  },
  {
   "cell_type": "code",
   "execution_count": 40,
   "metadata": {},
   "outputs": [
    {
     "data": {
      "text/plain": [
       "dtype('<U12')"
      ]
     },
     "execution_count": 40,
     "metadata": {},
     "output_type": "execute_result"
    }
   ],
   "source": [
    "np.array([\"Introduction\", \"to\", \"NumPy\"]).dtype"
   ]
  },
  {
   "cell_type": "markdown",
   "metadata": {},
   "source": [
    "### dtype as an argument\n",
    "\n",
    "Rather than changing an array's data type after creation, it's possible to declare a data type when you create the array using the *optional* **dtype** *keyword argument*.\n",
    "\n",
    "The **dtype keyword argument** exists in many NumPy functions, including ***np.zeros(), np.random.random(), and np.arange()***"
   ]
  },
  {
   "cell_type": "code",
   "execution_count": 41,
   "metadata": {},
   "outputs": [
    {
     "data": {
      "text/plain": [
       "dtype('float32')"
      ]
     },
     "execution_count": 41,
     "metadata": {},
     "output_type": "execute_result"
    }
   ],
   "source": [
    "float32_array = np.array([1.32, 5.78, 175.55], dtype=np.float32)\n",
    "float32_array.dtype"
   ]
  },
  {
   "cell_type": "markdown",
   "metadata": {},
   "source": [
    "## Type Conversion\n",
    "\n",
    "Type conversion occurs when we explicitly tell NumPy to convert the data type of elements within an array. This is done with **.astype() method**."
   ]
  },
  {
   "cell_type": "code",
   "execution_count": 43,
   "metadata": {},
   "outputs": [
    {
     "name": "stdout",
     "output_type": "stream",
     "text": [
      "bool\n"
     ]
    }
   ],
   "source": [
    "boolean_array = np.array([[True, False], [False, False]], dtype=np.bool_)\n",
    "print(boolean_array.dtype)"
   ]
  },
  {
   "cell_type": "code",
   "execution_count": 46,
   "metadata": {},
   "outputs": [
    {
     "data": {
      "text/plain": [
       "array([[1, 0],\n",
       "       [0, 0]])"
      ]
     },
     "execution_count": 46,
     "metadata": {},
     "output_type": "execute_result"
    }
   ],
   "source": [
    "boolean_array.astype(np.int32)"
   ]
  },
  {
   "cell_type": "markdown",
   "metadata": {},
   "source": [
    "### Type coercion\n",
    "\n",
    "What happens if we try to make an array out of a Python list with several data types?\n",
    "\n",
    "**All the data changes to one data type!**\n",
    "\n",
    "Since NumPy did this without us telling it to, this is called **type coercion**. NumPy did this becouse while numbers are easily cast into strings, strings are not easily cast into numbers."
   ]
  },
  {
   "cell_type": "code",
   "execution_count": 47,
   "metadata": {},
   "outputs": [
    {
     "data": {
      "text/plain": [
       "array(['True', 'Boop', '42', '42.42'], dtype='<U32')"
      ]
     },
     "execution_count": 47,
     "metadata": {},
     "output_type": "execute_result"
    }
   ],
   "source": [
    "np.array([True, \"Boop\", 42, 42.42])"
   ]
  },
  {
   "cell_type": "markdown",
   "metadata": {},
   "source": [
    "#### Type coercion hierarchy\n",
    "\n",
    "Adding a float to an array of integers will change all integers into floats :"
   ]
  },
  {
   "cell_type": "code",
   "execution_count": 48,
   "metadata": {},
   "outputs": [
    {
     "data": {
      "text/plain": [
       "dtype('float64')"
      ]
     },
     "execution_count": 48,
     "metadata": {},
     "output_type": "execute_result"
    }
   ],
   "source": [
    "np.array([0, 42, 42.42]).dtype"
   ]
  },
  {
   "cell_type": "markdown",
   "metadata": {},
   "source": [
    "Adding an integer to an array of booleans will change all booleans in to integers:"
   ]
  },
  {
   "cell_type": "code",
   "execution_count": 49,
   "metadata": {},
   "outputs": [
    {
     "data": {
      "text/plain": [
       "dtype('int32')"
      ]
     },
     "execution_count": 49,
     "metadata": {},
     "output_type": "execute_result"
    }
   ],
   "source": [
    "np.array([True, False, 42]).dtype"
   ]
  },
  {
   "cell_type": "markdown",
   "metadata": {},
   "source": [
    "## Exercise III\n",
    "\n",
    "### The dtype Argument\n",
    "\n",
    "One way to control the data type of a NumPy array is to declare it when the array is created using \n",
    "the ```dtype``` keyword argument.\n",
    "Take a look at the data type NumPy uses by default when creating an array with ```np.zeros()```."
   ]
  },
  {
   "cell_type": "code",
   "execution_count": 50,
   "metadata": {},
   "outputs": [
    {
     "name": "stdout",
     "output_type": "stream",
     "text": [
      "float64\n"
     ]
    }
   ],
   "source": [
    "# Create an array of zeros with three rows and two columns\n",
    "zero_array = np.zeros((3, 2))\n",
    "\n",
    "# print the data type of zero_array\n",
    "print(zero_array.dtype)"
   ]
  },
  {
   "cell_type": "code",
   "execution_count": 51,
   "metadata": {},
   "outputs": [
    {
     "name": "stdout",
     "output_type": "stream",
     "text": [
      "int32\n"
     ]
    }
   ],
   "source": [
    "# Create a new array of int32 zeros with three rows and two columns\n",
    "zero_int_array = np.zeros((3, 2), dtype=np.int32)\n",
    "\n",
    "# Print the data type of zero_int_array\n",
    "print(zero_int_array.dtype)"
   ]
  },
  {
   "cell_type": "markdown",
   "metadata": {},
   "source": [
    "### A Smaller sudoku game\n",
    "\n",
    "NumPy data types, which emphasize speed, are more specific than Python data types, which emphasize \n",
    "flexibility. When working with large amounts of data in NumPy, it's good practice to check the data \n",
    "type and consider whether a smaller data type is large enough for your data, since smaller data \n",
    "types use less memory."
   ]
  },
  {
   "cell_type": "code",
   "execution_count": 52,
   "metadata": {},
   "outputs": [
    {
     "name": "stdout",
     "output_type": "stream",
     "text": [
      "int64\n"
     ]
    }
   ],
   "source": [
    "# print the data type of sudoku_game\n",
    "print(sudoku_game.dtype)"
   ]
  },
  {
   "cell_type": "code",
   "execution_count": 53,
   "metadata": {},
   "outputs": [
    {
     "name": "stdout",
     "output_type": "stream",
     "text": [
      "int8\n"
     ]
    }
   ],
   "source": [
    "# Change the data type of sudoku_game to int8\n",
    "small_sudoku_game = sudoku_game.astype(np.int8)\n",
    "\n",
    "# print the data type of small_sudoku_game\n",
    "print(small_sudoku_game.dtype)"
   ]
  }
 ],
 "metadata": {
  "kernelspec": {
   "display_name": "Python 3.8.8 ('base')",
   "language": "python",
   "name": "python3"
  },
  "language_info": {
   "codemirror_mode": {
    "name": "ipython",
    "version": 3
   },
   "file_extension": ".py",
   "mimetype": "text/x-python",
   "name": "python",
   "nbconvert_exporter": "python",
   "pygments_lexer": "ipython3",
   "version": "3.8.8"
  },
  "orig_nbformat": 4,
  "vscode": {
   "interpreter": {
    "hash": "4c59e6e5379e7fd956ce48a476e9664867cfb6229c9530fa6fd87fb84f21040f"
   }
  }
 },
 "nbformat": 4,
 "nbformat_minor": 2
}
