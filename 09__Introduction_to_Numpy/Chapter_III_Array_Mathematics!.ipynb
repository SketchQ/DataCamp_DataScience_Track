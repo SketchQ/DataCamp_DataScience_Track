{
 "cells": [
  {
   "cell_type": "markdown",
   "metadata": {},
   "source": [
    "# Lesson I\n",
    "\n",
    "## Summarizing Data\n",
    "\n",
    "### Aggregating Methods\n",
    "\n",
    "NumPy has several ways to summarize array information:\n",
    "\n",
    "- .sum()\n",
    "- .min()\n",
    "- .max()\n",
    "- .mean()\n",
    "- .cumsum()\n",
    "\n",
    "#### Our Data\n",
    "\n",
    "Let's imagine we run a data security firm with three large clients.We have a count of data breaches foreach client by year in a NumPy array. Each row of this data represents the security breaches that happened in a given year, and each column represents the breaches that occured for each client.\n"
   ]
  },
  {
   "cell_type": "code",
   "execution_count": 7,
   "metadata": {},
   "outputs": [
    {
     "name": "stdout",
     "output_type": "stream",
     "text": [
      "Each row is given year\n",
      "Each column is given client\n",
      "[[0 5 1]\n",
      " [0 2 0]\n",
      " [1 1 2]\n",
      " [2 2 1]\n",
      " [0 0 0]]\n"
     ]
    }
   ],
   "source": [
    "import numpy as np\n",
    "\n",
    "# Security breeches array\n",
    "security_breeches = np.array([[0, 5, 1],\n",
    "                              [0, 2, 0],\n",
    "                             [1, 1, 2],\n",
    "                             [2, 2, 1],\n",
    "                             [0, 0, 0]])\n",
    "\n",
    "print(\"Each row is given year\\nEach column is given client\")\n",
    "print(security_breeches)"
   ]
  },
  {
   "cell_type": "markdown",
   "metadata": {},
   "source": [
    "#### Summing Data\n",
    "\n",
    "First aggregating method, **.sum()**, adds up all elements in the entire array.\n",
    "\n",
    "Throughout the five years our firm has been tracking breaches, our three clients have seen 17 total security breaches.\n"
   ]
  },
  {
   "cell_type": "code",
   "execution_count": 8,
   "metadata": {},
   "outputs": [
    {
     "name": "stdout",
     "output_type": "stream",
     "text": [
      "17\n"
     ]
    }
   ],
   "source": [
    "print(security_breeches.sum())"
   ]
  },
  {
   "cell_type": "markdown",
   "metadata": {},
   "source": [
    "We can control which axis to sum across with the **axis** argument. Setting the axis keyword argument equal to **zero** sums the value of all rows in each column, _creating column totals_.\n",
    "\n",
    "Setting axis equal to **one** will sum the calues of all columns in each row, _creating row totals_.\n"
   ]
  },
  {
   "cell_type": "code",
   "execution_count": 9,
   "metadata": {},
   "outputs": [
    {
     "name": "stdout",
     "output_type": "stream",
     "text": [
      "Column Totals:\n",
      "[ 3 10  4]\n",
      "Row Totals:\n",
      "[6 2 4 5 0]\n"
     ]
    }
   ],
   "source": [
    "# Column totals\n",
    "print(\"Column Totals:\")\n",
    "print(security_breeches.sum(axis=0))\n",
    "# Row totals\n",
    "print(\"Row Totals:\")\n",
    "print(security_breeches.sum(axis=1))"
   ]
  },
  {
   "cell_type": "markdown",
   "metadata": {},
   "source": [
    "#### Minimum and Maximum Values\n",
    "\n",
    "**.min()** and **.max()** find the minimum or maximum of an entire array if no axis argument is set.\n",
    "\n",
    "We can return the min or max of each column or each row if the axis argument is set to zero or one.\n"
   ]
  },
  {
   "cell_type": "code",
   "execution_count": 10,
   "metadata": {},
   "outputs": [
    {
     "name": "stdout",
     "output_type": "stream",
     "text": [
      "0\n",
      "5\n",
      "[0 0 0]\n",
      "[0 0 1 1 0]\n",
      "[2 5 2]\n",
      "[5 2 2 2 0]\n"
     ]
    }
   ],
   "source": [
    "# Min Value of array\n",
    "print(security_breeches.min())\n",
    "# Max Value of Array\n",
    "print(security_breeches.max())\n",
    "# Min value in columns\n",
    "print(security_breeches.min(axis=0))\n",
    "# Min Value in rows\n",
    "print(security_breeches.min(axis=1))\n",
    "# Max Value in Columns\n",
    "print(security_breeches.max(axis=0))\n",
    "# Max Value in Rows\n",
    "print(security_breeches.max(axis=1))"
   ]
  },
  {
   "cell_type": "markdown",
   "metadata": {},
   "source": [
    "#### Finding the Mean\n",
    "\n",
    "**.mean()** operates the same way. The avarage number of security breaches that a client can expect in a year is about _1.13_.\n",
    "\n",
    "Setting axis argument equal to one finds the mean breaches by year accross all clients. For example, the avarage number of breaches in the first year was _two_.\n"
   ]
  },
  {
   "cell_type": "code",
   "execution_count": 11,
   "metadata": {},
   "outputs": [
    {
     "name": "stdout",
     "output_type": "stream",
     "text": [
      "1.1333333333333333\n",
      "[2.         0.66666667 1.33333333 1.66666667 0.        ]\n",
      "[0.6 2.  0.8]\n"
     ]
    }
   ],
   "source": [
    "# Mean of Array\n",
    "print(security_breeches.mean())\n",
    "# Mean of a Row\n",
    "print(security_breeches.mean(axis=1))\n",
    "# Mean of a Column\n",
    "print(security_breeches.mean(axis=0))"
   ]
  },
  {
   "cell_type": "markdown",
   "metadata": {},
   "source": [
    "#### The keepdims argument\n",
    "\n",
    "**.sum(), .min(), .max()**, and **.mean()** all have an optional _keepdims_ keyword argument. If keepdims is set to _True_, then dimensions that are collapsed when aggregating are left in the output array and set to one.\n",
    "\n",
    "**_This is useful for dimension compatibility!_**\n"
   ]
  },
  {
   "cell_type": "code",
   "execution_count": 12,
   "metadata": {},
   "outputs": [
    {
     "name": "stdout",
     "output_type": "stream",
     "text": [
      "[[6]\n",
      " [2]\n",
      " [4]\n",
      " [5]\n",
      " [0]]\n"
     ]
    }
   ],
   "source": [
    "print(security_breeches.sum(axis=1, keepdims=True))"
   ]
  },
  {
   "cell_type": "markdown",
   "metadata": {},
   "source": [
    "#### Cumulative Sums\n",
    "\n",
    "**.cumsum()** returns the cumulative sum of elements along a given axis. For example, when the axis keyword argument is set to _zero_, **np.cumsum()** returns the number of security breaches a client has ever had up to that year.\n"
   ]
  },
  {
   "cell_type": "code",
   "execution_count": 13,
   "metadata": {},
   "outputs": [
    {
     "data": {
      "text/plain": [
       "array([[ 0,  5,  1],\n",
       "       [ 0,  7,  1],\n",
       "       [ 1,  8,  3],\n",
       "       [ 3, 10,  4],\n",
       "       [ 3, 10,  4]], dtype=int32)"
      ]
     },
     "execution_count": 13,
     "metadata": {},
     "output_type": "execute_result"
    }
   ],
   "source": [
    "security_breeches.cumsum(axis=0)    "
   ]
  },
  {
   "cell_type": "markdown",
   "metadata": {},
   "source": [
    "##### Graphing summary values\n",
    "\n",
    "Summary information is often best communicated in graphs!\n",
    "\n",
    "For example, we can graph the cumulative sum of breaches for one client along with the average of the cumulative sums to see how a single client's security breaches over time differ from the mean.\n"
   ]
  },
  {
   "cell_type": "code",
   "execution_count": 14,
   "metadata": {},
   "outputs": [
    {
     "data": {
      "image/png": "[encoded data removed]",
      "text/plain": [
       "<Figure size 432x288 with 1 Axes>"
      ]
     },
     "metadata": {
      "needs_background": "light"
     },
     "output_type": "display_data"
    }
   ],
   "source": [
    "import matplotlib.pyplot as plt\n",
    "\n",
    "cum_sums_by_client = security_breeches.cumsum(axis=0)\n",
    "\n",
    "plt.plot(np.arange(1, 6), cum_sums_by_client[:, 0], label=\"Client 1\")\n",
    "plt.plot(np.arange(1, 6), cum_sums_by_client.mean(axis=1), label=\"Average\")\n",
    "plt.legend()\n",
    "\n",
    "plt.show()"
   ]
  },
  {
   "cell_type": "markdown",
   "metadata": {},
   "source": [
    "## Exercise I\n",
    "\n",
    "### Sales totals\n",
    "\n",
    "The dataset you'll be working with during this chapter is one year's sales data by month for three\n",
    "different industries. Each row in this `monthly_sales` array represents a **month** from January to December. The **first column** has monthly sales data for _liquor stores_, the **second column** has data for _restaurants_, and the **last column** tracks sales for _department stores_.\n"
   ]
  },
  {
   "cell_type": "code",
   "execution_count": 17,
   "metadata": {},
   "outputs": [
    {
     "name": "stdout",
     "output_type": "stream",
     "text": [
      "[[ 4134 23925  8657]\n",
      " [ 4116 23875  9142]\n",
      " [ 4673 27197 10645]\n",
      " [ 4580 25637 10456]\n",
      " [ 5109 27995 11299]\n",
      " [ 5011 27419 10625]\n",
      " [ 5245 27305 10630]\n",
      " [ 5270 27760 11550]\n",
      " [ 4680 24988  9762]\n",
      " [ 4913 25802 10456]\n",
      " [ 5312 25405 13401]\n",
      " [ 6630 27797 18403]]\n"
     ]
    }
   ],
   "source": [
    "# Sales data\n",
    "monthly_sales = np.load('datasets/monthly_sales.npy')\n",
    "\n",
    "print(monthly_sales)"
   ]
  },
  {
   "cell_type": "markdown",
   "metadata": {},
   "source": [
    "Your task is to create an array with all the information from `monthly_sales` as well as a fourth column which totals the monthly sales across industries for each month.\n"
   ]
  },
  {
   "cell_type": "code",
   "execution_count": 22,
   "metadata": {},
   "outputs": [
    {
     "name": "stdout",
     "output_type": "stream",
     "text": [
      "[[36716]\n",
      " [37133]\n",
      " [42515]\n",
      " [40673]\n",
      " [44403]\n",
      " [43055]\n",
      " [43180]\n",
      " [44580]\n",
      " [39430]\n",
      " [41171]\n",
      " [44118]\n",
      " [52830]]\n",
      "[[ 4134 23925  8657 36716]\n",
      " [ 4116 23875  9142 37133]\n",
      " [ 4673 27197 10645 42515]\n",
      " [ 4580 25637 10456 40673]\n",
      " [ 5109 27995 11299 44403]\n",
      " [ 5011 27419 10625 43055]\n",
      " [ 5245 27305 10630 43180]\n",
      " [ 5270 27760 11550 44580]\n",
      " [ 4680 24988  9762 39430]\n",
      " [ 4913 25802 10456 41171]\n",
      " [ 5312 25405 13401 44118]\n",
      " [ 6630 27797 18403 52830]]\n"
     ]
    }
   ],
   "source": [
    "# Create a 2D array of total monthly sales across industries\n",
    "monthly_industry_sales = monthly_sales.sum(axis=1, keepdims=True)\n",
    "# print monthly_industry_sales\n",
    "print(monthly_industry_sales)\n",
    "\n",
    "# Add this column as the last column in monthly_sales\n",
    "monthly_sales_with_total = np.concatenate((monthly_sales, monthly_industry_sales), axis=1)\n",
    "# Print Total\n",
    "print(monthly_sales_with_total)"
   ]
  },
  {
   "cell_type": "markdown",
   "metadata": {},
   "source": [
    "### Plotting Averages\n",
    "\n",
    "Perhaps you have a hunch that department stores see greater increased sales than average during the\n",
    "end of the year as people rush to buy gifts. You'd like to test this theory by comparing monthly\n",
    "department store sales to average sales across all three industries.\n"
   ]
  },
  {
   "cell_type": "code",
   "execution_count": 25,
   "metadata": {},
   "outputs": [
    {
     "name": "stdout",
     "output_type": "stream",
     "text": [
      "[12238.66666667 12377.66666667 14171.66666667 13557.66666667\n",
      " 14801.         14351.66666667 14393.33333333 14860.\n",
      " 13143.33333333 13723.66666667 14706.         17610.        ]\n"
     ]
    },
    {
     "data": {
      "image/png": "[encoded data removed]",
      "text/plain": [
       "<Figure size 432x288 with 1 Axes>"
      ]
     },
     "metadata": {
      "needs_background": "light"
     },
     "output_type": "display_data"
    }
   ],
   "source": [
    "# Create the 1D array avg monthly sales\n",
    "avg_monthly_sales = monthly_sales.mean(axis=1)\n",
    "# Print average\n",
    "print(avg_monthly_sales)\n",
    "\n",
    "# Plot avg_monthly_sales by month\n",
    "plt.plot(np.arange(1, 13), avg_monthly_sales, label=\"Average sales across industries\")\n",
    "# Plot department store sales by month\n",
    "plt.plot(np.arange(1, 13), monthly_sales[:, 2], label=\"Department store sales\")\n",
    "\n",
    "plt.legend()\n",
    "plt.show()"
   ]
  },
  {
   "cell_type": "markdown",
   "metadata": {},
   "source": [
    "### Cumulative sales\n",
    "\n",
    "In the last exercise, you established that December is a big month for department stores. Are there\n",
    "other months where sales increase or decrease significantly?\n",
    "\n",
    "Your task now is to look at monthly cumulative sales for each industry. The slope of the cumulative\n",
    "sales line will explain a lot about how steady sales are over time: a straight line will indicate\n",
    "steady growth, and changes in slope will indicate relative increases or decreases in sales.\n"
   ]
  },
  {
   "cell_type": "code",
   "execution_count": 28,
   "metadata": {},
   "outputs": [
    {
     "name": "stdout",
     "output_type": "stream",
     "text": [
      "[[  4134  23925   8657]\n",
      " [  8250  47800  17799]\n",
      " [ 12923  74997  28444]\n",
      " [ 17503 100634  38900]\n",
      " [ 22612 128629  50199]\n",
      " [ 27623 156048  60824]\n",
      " [ 32868 183353  71454]\n",
      " [ 38138 211113  83004]\n",
      " [ 42818 236101  92766]\n",
      " [ 47731 261903 103222]\n",
      " [ 53043 287308 116623]\n",
      " [ 59673 315105 135026]]\n"
     ]
    },
    {
     "data": {
      "image/png": "[encoded data removed]",
      "text/plain": [
       "<Figure size 432x288 with 1 Axes>"
      ]
     },
     "metadata": {
      "needs_background": "light"
     },
     "output_type": "display_data"
    }
   ],
   "source": [
    "# Find cumulative monthly sales for each industry\n",
    "cumulative_monthly_industry_sales = monthly_sales.cumsum(axis=0)\n",
    "# Print Result\n",
    "print(cumulative_monthly_industry_sales)\n",
    "\n",
    "# Plot each industry's cumulative sales by month as separate lines\n",
    "plt.plot(np.arange(1, 13), cumulative_monthly_industry_sales[:, 0], label=\"Liquor Stores\")\n",
    "plt.plot(np.arange(1, 13), cumulative_monthly_industry_sales[:, 1], label=\"Restaurants\")\n",
    "plt.plot(np.arange(1, 13), cumulative_monthly_industry_sales[:, 2], label=\"Department stores\")\n",
    "\n",
    "plt.legend()\n",
    "plt.show()"
   ]
  },
  {
   "cell_type": "markdown",
   "metadata": {},
   "source": [
    "# Lesson II\n",
    "\n",
    "## Vectorized Operations\n",
    "\n",
    "When NumPy sums elements in an array. It does not add each element one by one but rather adds all of them together at once. How? Recall NumPy's rule that all elements in an array must be the same data type. Because of this rule, NumPy is able to outsource tasks to C, programming language. Delegating tasks to C is a big reason for NumPy's own efficiency!\n",
    "\n",
    "Employing the help of optimized C code this way is knows as **vectorization**. This all occurs without the user having to prompt NumPy to vectorize.\n",
    "\n",
    "For example, the `.sum()` method uses C under the hood to sum quickly and efficiently.\n"
   ]
  },
  {
   "cell_type": "code",
   "execution_count": 29,
   "metadata": {},
   "outputs": [
    {
     "data": {
      "text/plain": [
       "704982704"
      ]
     },
     "execution_count": 29,
     "metadata": {},
     "output_type": "execute_result"
    }
   ],
   "source": [
    "np.arange(100000).sum()"
   ]
  },
  {
   "cell_type": "markdown",
   "metadata": {},
   "source": [
    "### Speed Compared to Python\n",
    "\n",
    "It depends on the task, but the time that NumPy takes to perform a task can be anywhere from ten to a hundred times faster. Plus, using vectorized operations greatly reduces the amount of code we have to write!\n",
    "\n",
    "For example, using Python to add the number three to each element in an array requires writing a for loop. It's a lot of code for an uncomplicated task, and for loops are slow by their very nature.\n"
   ]
  },
  {
   "cell_type": "code",
   "execution_count": 31,
   "metadata": {},
   "outputs": [
    {
     "name": "stdout",
     "output_type": "stream",
     "text": [
      "[[4 5 6]\n",
      " [7 8 9]]\n"
     ]
    }
   ],
   "source": [
    "# Adding number three using Python is slow!\n",
    "array = np.array([[1, 2, 3], [4, 5, 6]])\n",
    "for row in range(array.shape[0]):\n",
    "    for column in range(array.shape[1]):\n",
    "        array[row][column] += 3\n",
    "        \n",
    "print(array)        "
   ]
  },
  {
   "cell_type": "markdown",
   "metadata": {},
   "source": [
    "### NumPy syntax\n",
    "\n",
    "In NumPy, the syntax is more efficent: we use a _plus(+)_ sign and tell NumPy which single number we'd like to add to all array elements.\n",
    "\n",
    "In mathematics, a single number is often referred to as a **scalar**. NumPy uses this vocabulary as well: we've just added a scalar, three, to each element in our array, leveraging the power of C.\n"
   ]
  },
  {
   "cell_type": "code",
   "execution_count": 32,
   "metadata": {},
   "outputs": [
    {
     "name": "stdout",
     "output_type": "stream",
     "text": [
      "[[4 5 6]\n",
      " [7 8 9]]\n"
     ]
    }
   ],
   "source": [
    "array = np.array([[1, 2, 3], [4, 5, 6]])\n",
    "print(array + 3)"
   ]
  },
  {
   "cell_type": "markdown",
   "metadata": {},
   "source": [
    "#### Multiplying by a scalar\n",
    "\n",
    "We can use similar syntax to multiply an array by a scalar.\n"
   ]
  },
  {
   "cell_type": "code",
   "execution_count": 33,
   "metadata": {},
   "outputs": [
    {
     "name": "stdout",
     "output_type": "stream",
     "text": [
      "[[ 3  6  9]\n",
      " [12 15 18]]\n"
     ]
    }
   ],
   "source": [
    "array = np.array([[1, 2, 3], [4, 5, 6]])\n",
    "print(array * 3)"
   ]
  },
  {
   "cell_type": "markdown",
   "metadata": {},
   "source": [
    "#### Adding two arrays together\n",
    "\n",
    "We can also use vectorized operations between arrays of the same shape. Here, when we add two arrays of the same shape together, NumPy will add each element in the first array to the element at the same location in the second array.\n"
   ]
  },
  {
   "cell_type": "code",
   "execution_count": 34,
   "metadata": {},
   "outputs": [
    {
     "name": "stdout",
     "output_type": "stream",
     "text": [
      "[[1 3 3]\n",
      " [5 5 7]]\n"
     ]
    }
   ],
   "source": [
    "array_a = np.array([[1, 2, 3], [4, 5, 6]])\n",
    "array_b = np.array([[0, 1, 0], [1, 0, 1]])\n",
    "\n",
    "print(array_a + array_b)"
   ]
  },
  {
   "cell_type": "markdown",
   "metadata": {},
   "source": [
    "#### Multiplying two arrays together\n",
    "\n",
    "The same principle holds true for multiplying two arrays together, as well as substracting and dividing operations: the operation will be performed between elements at corresponding locations in each array.\n"
   ]
  },
  {
   "cell_type": "code",
   "execution_count": 35,
   "metadata": {},
   "outputs": [
    {
     "name": "stdout",
     "output_type": "stream",
     "text": [
      "[[0 2 0]\n",
      " [4 0 6]]\n"
     ]
    }
   ],
   "source": [
    "print(array_a * array_b)"
   ]
  },
  {
   "cell_type": "markdown",
   "metadata": {},
   "source": [
    "### Not Just for Math\n",
    "\n",
    "While vectorized operations work extremely well with math and numbers, they are leveraged throughout NumPy: we used them to create Boolean masks and filter arrays back in the last chapter!\n",
    "\n",
    "Here's a Boolean mask indicating where array elements are greater than two, filtered using vectorized syntax.\n"
   ]
  },
  {
   "cell_type": "code",
   "execution_count": 36,
   "metadata": {},
   "outputs": [
    {
     "name": "stdout",
     "output_type": "stream",
     "text": [
      "[[False False  True]\n",
      " [ True  True  True]]\n"
     ]
    }
   ],
   "source": [
    "array = np.array([[1, 2, 3], [4, 5, 6]])\n",
    "print(array > 2)"
   ]
  },
  {
   "cell_type": "markdown",
   "metadata": {},
   "source": [
    "#### Vectorize Python Code!\n",
    "\n",
    "We can even create out own vectorized functions from Python functions using `np.vectorize()`.\n",
    "\n",
    "For example, let's check whether each string element in an array has a _length greater than two_. We might expect the NumPy vectorized syntax for this to check whether the len of each element in the array is greater than two. But this doesn't work; instead, the code returns **True**, because the array has more than two elements.\n"
   ]
  },
  {
   "cell_type": "code",
   "execution_count": 37,
   "metadata": {},
   "outputs": [
    {
     "data": {
      "text/plain": [
       "True"
      ]
     },
     "execution_count": 37,
     "metadata": {},
     "output_type": "execute_result"
    }
   ],
   "source": [
    "array = np.array([\"NumPy\", \"is\", \"awesome\"])\n",
    "len(array) > 2"
   ]
  },
  {
   "cell_type": "markdown",
   "metadata": {},
   "source": [
    "The reason our code behaved this way is that **_len is a Python function, not a NumPy function_**, so it can't vectorize.\n",
    "\n",
    "By feeding len without its trailing parentheses to `np.vectorize()`, we can convert it into a vectorized NumPy function! Then, passing the array as an argument yields the results we hoped for.\n"
   ]
  },
  {
   "cell_type": "code",
   "execution_count": 38,
   "metadata": {},
   "outputs": [
    {
     "name": "stdout",
     "output_type": "stream",
     "text": [
      "[ True False  True]\n"
     ]
    }
   ],
   "source": [
    "vectorized_len = np.vectorize(len)\n",
    "\n",
    "print(vectorized_len(array) > 2)"
   ]
  },
  {
   "cell_type": "markdown",
   "metadata": {},
   "source": [
    "## Exercise II\n",
    "\n",
    "### Tax calculations\n",
    "\n",
    "It's possible to use vectorized operations to calculate taxes for the _liquor_, _restaurant_, and\n",
    "_department store_ industries! We'll simplify the tax calculation process here and assume that\n",
    "government collects **5%** of all sales across these industries as tax revenue.\n",
    "\n",
    "Your task is to calculate the tax owed by each industry related to each month's sales.\n"
   ]
  },
  {
   "cell_type": "code",
   "execution_count": 40,
   "metadata": {},
   "outputs": [
    {
     "name": "stdout",
     "output_type": "stream",
     "text": [
      "[[ 206.7  1196.25  432.85]\n",
      " [ 205.8  1193.75  457.1 ]\n",
      " [ 233.65 1359.85  532.25]\n",
      " [ 229.   1281.85  522.8 ]\n",
      " [ 255.45 1399.75  564.95]\n",
      " [ 250.55 1370.95  531.25]\n",
      " [ 262.25 1365.25  531.5 ]\n",
      " [ 263.5  1388.    577.5 ]\n",
      " [ 234.   1249.4   488.1 ]\n",
      " [ 245.65 1290.1   522.8 ]\n",
      " [ 265.6  1270.25  670.05]\n",
      " [ 331.5  1389.85  920.15]]\n",
      "[[ 4340.7  25121.25  9089.85]\n",
      " [ 4321.8  25068.75  9599.1 ]\n",
      " [ 4906.65 28556.85 11177.25]\n",
      " [ 4809.   26918.85 10978.8 ]\n",
      " [ 5364.45 29394.75 11863.95]\n",
      " [ 5261.55 28789.95 11156.25]\n",
      " [ 5507.25 28670.25 11161.5 ]\n",
      " [ 5533.5  29148.   12127.5 ]\n",
      " [ 4914.   26237.4  10250.1 ]\n",
      " [ 5158.65 27092.1  10978.8 ]\n",
      " [ 5577.6  26675.25 14071.05]\n",
      " [ 6961.5  29186.85 19323.15]]\n"
     ]
    }
   ],
   "source": [
    "# Create an array of tax collected by industry and month\n",
    "tax_collected = monthly_sales * 0.05\n",
    "# Print result\n",
    "print(tax_collected)\n",
    "\n",
    "# Create an array of sales revenue plus tax collected by industry and month\n",
    "total_tax_and_revenue = monthly_sales + tax_collected\n",
    "# Print Result\n",
    "print(total_tax_and_revenue)"
   ]
  },
  {
   "cell_type": "markdown",
   "metadata": {},
   "source": [
    "### Projecting sales\n",
    "\n",
    "You'd like to be able to plan for next year's operations by projecting what sales will be, and\n",
    "you've gathered multipliers specific to each month and industry. These multipliers are saved in an\n",
    "array called `monthly_industry_multipliers`. For example, the multiplier at\n",
    "`monthly_industry_multipliers[0, 0]` of `0.98` means that the liquor store industry is projected to have 98% of this January's sales in January of next year.\n"
   ]
  },
  {
   "cell_type": "code",
   "execution_count": 44,
   "metadata": {},
   "outputs": [
    {
     "name": "stdout",
     "output_type": "stream",
     "text": [
      "[[ 4051.32 24403.5   8657.  ]\n",
      " [ 4116.   24113.75  8867.74]\n",
      " [ 4953.38 28012.91 10432.1 ]\n",
      " [ 4946.4  25893.37 10246.88]\n",
      " [ 5517.72 27435.1  11073.02]\n",
      " [ 5512.1  27144.81 10518.75]\n",
      " [ 5874.4  27578.05 10630.  ]\n",
      " [ 5797.   28315.2  11550.  ]\n",
      " [ 5194.8  25237.88  9859.62]\n",
      " [ 5306.04 25543.98 10142.32]\n",
      " [ 5790.08 25405.   13669.02]\n",
      " [ 7491.9  28630.91 18771.06]]\n"
     ]
    },
    {
     "data": {
      "image/png": "[encoded data removed]",
      "text/plain": [
       "<Figure size 432x288 with 1 Axes>"
      ]
     },
     "metadata": {
      "needs_background": "light"
     },
     "output_type": "display_data"
    }
   ],
   "source": [
    "# Monthly multipliers\n",
    "monthly_industry_multipliers = np.array([[0.98, 1.02, 1.  ],\n",
    "                                         [1.00, 1.01, 0.97],\n",
    "                                         [1.06, 1.03, 0.98],\n",
    "                                         [1.08, 1.01, 0.98],\n",
    "                                         [1.08, 0.98, 0.98],\n",
    "                                         [1.1 , 0.99, 0.99],\n",
    "                                         [1.12, 1.01, 1.  ],\n",
    "                                         [1.1 , 1.02, 1.  ],\n",
    "                                         [1.11, 1.01, 1.01],\n",
    "                                         [1.08, 0.99, 0.97],\n",
    "                                         [1.09, 1.  , 1.02],\n",
    "                                         [1.13, 1.03, 1.02]])\n",
    "\n",
    "# Create an array of monthly projected sales for all industries\n",
    "projected_monthly_sales = monthly_sales * monthly_industry_multipliers\n",
    "# Print result\n",
    "print(projected_monthly_sales)\n",
    "\n",
    "# Grapgh current liquor store sales and projected liquor store sales by month\n",
    "plt.plot(np.arange(1, 13), monthly_sales[:, 0], label=\"Current liquor store sales\")\n",
    "plt.plot(np.arange(1, 13), projected_monthly_sales[:, 0], label=\"Projected liquor store sales\")\n",
    "\n",
    "plt.legend()\n",
    "plt.show()"
   ]
  },
  {
   "cell_type": "markdown",
   "metadata": {},
   "source": [
    "### Vectorizing.upper()\n",
    "\n",
    "There are many situations where you might want to use Python methods and functions on array elements \n",
    "in NumPy. You can always write a ```for``` loop to do this, but vectorized operations are much faster and more efficient, so consider using ```np.vectorize()```!\n",
    "\n",
    "* We got array called ```names``` which contains first and last names:"
   ]
  },
  {
   "cell_type": "code",
   "execution_count": 45,
   "metadata": {},
   "outputs": [],
   "source": [
    "names = np.array([[\"Izzy\", \"Monica\", \"Marvin\"],\n",
    "                  [\"Weber\", \"Patel\", \"Hernandez\"]])"
   ]
  },
  {
   "cell_type": "markdown",
   "metadata": {},
   "source": [
    "You'd like to use one of the Python methods you learned on DataCamp, ```.upper()```, to make all the \n",
    "letters of every name in the array uppercase. As a reminder, ```.upper()``` is a *string method*, meaning that it must be called on an instance of a string: ```str.upper()```.\n",
    "\n",
    "Your task is to vectorize this Python method. "
   ]
  },
  {
   "cell_type": "code",
   "execution_count": 46,
   "metadata": {},
   "outputs": [
    {
     "name": "stdout",
     "output_type": "stream",
     "text": [
      "[['IZZY' 'MONICA' 'MARVIN']\n",
      " ['WEBER' 'PATEL' 'HERNANDEZ']]\n"
     ]
    }
   ],
   "source": [
    "# Vectorize the .upper() string method\n",
    "vectorized_upper = np.vectorize(str.upper)\n",
    "\n",
    "# Apply vectorized_upper to names array\n",
    "uppercase_names = vectorized_upper(names)\n",
    "# Print result\n",
    "print(uppercase_names)"
   ]
  },
  {
   "cell_type": "markdown",
   "metadata": {},
   "source": [
    "# Lesson III\n",
    "\n",
    "## Broadcasting\n",
    "\n",
    "Broadcasting takes vectorized operations to the next level!\n",
    "\n",
    "Previously, we covered vectorized operations between arrays of the same size or between an array and a scalar. It's also possible to perform mathematical operations between arrays of different shapes. Since this involves **\"broadcasting\"**, or stretching the smallar array across the larger one, the conventions that govern this type of array math are called **\"broadcasting\"**.\n",
    "\n",
    "In fact, adding a scalar to an array uses broadcasting. Here, the scalar two that we add to each element in the array is broadcast across the array so that the result is the same as though the array had been added to an array full of twos.\n",
    "\n",
    "### Compatibility rules\n",
    "\n",
    "Broadcasting only works with compatible arrays.\n",
    "\n",
    "* NumPy compares sets of array dimensions from right to left\n",
    "\n",
    "```python\n",
    "shape(10, 5) # Right value is 5\n",
    "shape(10, 1) # Right value is 1\n",
    "```\n",
    "---\n",
    "* Two dimensions are compatible when...\n",
    "    - One of them has alength of one or\n",
    "    - They are of equal lengths  \n",
    "* All dimension sets must be compatible\n",
    "\n",
    "### Broadcastable or not?\n",
    "\n",
    "| Broadcastable shapes | Shapes which are not broadcastable |\n",
    "| --------------------:|-----------------------------------:|\n",
    "| ```(10, 5)``` and ```(10, 1)``` | ```(10, 5)``` and ```(5, 10)``` |\n",
    "| ```(10, 5)``` and ```(5, )``` | ```(10, 5)``` and ```(10, )``` |\n",
    "\n",
    "## Broadcasting rows\n",
    "\n",
    "Let's add an array holding the numbers *zero through four* to a **2D** array holding the numbers *zero through nine* with *two rows and five columns*. These arrays are broadcastable because both have a trailing dimension of five."
   ]
  },
  {
   "cell_type": "code",
   "execution_count": 47,
   "metadata": {},
   "outputs": [
    {
     "name": "stdout",
     "output_type": "stream",
     "text": [
      "[[ 0  2  4  6  8]\n",
      " [ 5  7  9 11 13]]\n"
     ]
    }
   ],
   "source": [
    "array = np.arange(10).reshape((2, 5))\n",
    "print(array + np.array([0, 1, 2, 3, 4]))"
   ]
  },
  {
   "cell_type": "markdown",
   "metadata": {},
   "source": [
    "NumPy broadcasts the 1D array by operating as though there is a copy of the 1D array for each row in the 2D array, then adding the two together.\n",
    "\n",
    "### Incompatible broadcasting\n",
    "\n",
    "NumPy's default assumption is that the user is attempting to broadcast **row-wise**, as we saw in the previous example. Thus, a 1D array of *two elements* is **not** broadcastable across an array with *two rows and five columns*, because the right-most dimension of each array is **not** the same."
   ]
  },
  {
   "cell_type": "code",
   "execution_count": 48,
   "metadata": {},
   "outputs": [
    {
     "ename": "ValueError",
     "evalue": "operands could not be broadcast together with shapes (2,5) (2,) ",
     "output_type": "error",
     "traceback": [
      "\u001b[1;31m---------------------------------------------------------------------------\u001b[0m",
      "\u001b[1;31mValueError\u001b[0m                                Traceback (most recent call last)",
      "\u001b[1;32mc:\\Users\\devil\\Desktop\\Software Eğitimler\\DataCamp - Python\\Courses\\9__Introduction_to_Numpy\\Chapter_III_Array_Mathematics!.ipynb Hücre 54\u001b[0m in \u001b[0;36m<cell line: 2>\u001b[1;34m()\u001b[0m\n\u001b[0;32m      <a href='vscode-notebook-cell:/c%3A/Users/devil/Desktop/Software%20E%C4%9Fitimler/DataCamp%20-%20Python/Courses/9__Introduction_to_Numpy/Chapter_III_Array_Mathematics%21.ipynb#ch0000054?line=0'>1</a>\u001b[0m array \u001b[39m=\u001b[39m np\u001b[39m.\u001b[39marange(\u001b[39m10\u001b[39m)\u001b[39m.\u001b[39mreshape((\u001b[39m2\u001b[39m, \u001b[39m5\u001b[39m))\n\u001b[1;32m----> <a href='vscode-notebook-cell:/c%3A/Users/devil/Desktop/Software%20E%C4%9Fitimler/DataCamp%20-%20Python/Courses/9__Introduction_to_Numpy/Chapter_III_Array_Mathematics%21.ipynb#ch0000054?line=1'>2</a>\u001b[0m \u001b[39mprint\u001b[39m(array \u001b[39m+\u001b[39;49m np\u001b[39m.\u001b[39;49marray([\u001b[39m0\u001b[39;49m, \u001b[39m1\u001b[39;49m]))\n",
      "\u001b[1;31mValueError\u001b[0m: operands could not be broadcast together with shapes (2,5) (2,) "
     ]
    }
   ],
   "source": [
    "array = np.arange(10).reshape((2, 5))\n",
    "print(array + np.array([0, 1]))"
   ]
  },
  {
   "cell_type": "markdown",
   "metadata": {},
   "source": [
    "## Broadcasting Columns\n",
    "\n",
    "We can broadcast an array of two elements across an array with two rows by changing its shape using ```.reshape()``` so that the trailing dimensions are compatible. Now, the array to be stretched has two rows and one column. Since a trailing dimension of one is compatible with any other trailing dimension, the arrays are broadcastable together."
   ]
  },
  {
   "cell_type": "code",
   "execution_count": 50,
   "metadata": {},
   "outputs": [
    {
     "name": "stdout",
     "output_type": "stream",
     "text": [
      "[[ 0  1  2  3  4]\n",
      " [ 6  7  8  9 10]]\n"
     ]
    }
   ],
   "source": [
    "array = np.arange(10).reshape((2, 5))\n",
    "print(array + np.array([0, 1]).reshape((2, 1)))"
   ]
  },
  {
   "cell_type": "markdown",
   "metadata": {},
   "source": [
    "Again, the math is performed as though the single-column array has been stretched across an array of the same shape as the larger array. NumPy has done this without actually creating the stretched array; the benefits of broadcasting grow with the size of the data we work with!\n",
    "\n",
    "### Other Operators\n",
    "\n",
    "The same logic applies to multiplying and substracting!"
   ]
  },
  {
   "cell_type": "markdown",
   "metadata": {},
   "source": [
    "## Exercise III\n",
    "\n",
    "### Broadcasting across columns\n",
    "\n",
    "Recall that when broadcasting across columns, NumPy requires you to be explicit that it should \n",
    "broadcast a vertical array, and horizontal and vertical 1D arrays do not exist in NumPy. Instead, \n",
    "you must first create a 2D array to declare that you have vertical data. Then, NumPy creates a copy \n",
    "of this 2D vertical array for each column and applies the desired operation.\n",
    "\n",
    "A Python list called ```monthly_growth_rate``` with ```len()``` of **12** is available. This list represents monthly year-over-year expected growth for the economy; your task is to use broadcasting to multiply this list by each column in the ```monthly_sales``` array. \n"
   ]
  },
  {
   "cell_type": "code",
   "execution_count": 58,
   "metadata": {},
   "outputs": [
    {
     "name": "stdout",
     "output_type": "stream",
     "text": [
      "[[     0      0      0]\n",
      " [  4116  23875   9142]\n",
      " [  9346  54394  21290]\n",
      " [ 13740  76911  31368]\n",
      " [ 20436 111980  45196]\n",
      " [ 25055 137095  53125]\n",
      " [ 31470 163830  63780]\n",
      " [ 36890 194320  80850]\n",
      " [ 37440 199904  78096]\n",
      " [ 44217 232218  94104]\n",
      " [ 53120 254050 134010]\n",
      " [ 72930 305767 202433]]\n"
     ]
    }
   ],
   "source": [
    "monthly_growth_rate = list(range(12))   \n",
    "\n",
    "# Convert montly_growth_rate into a NumPy array\n",
    "monthly_growth_1D = np.array(monthly_growth_rate)\n",
    "# Reshape monthly_growth_1D\n",
    "monthly_growth_2D = monthly_growth_1D.reshape((12, 1))\n",
    "# Multipyly each column in monthly sales by monthly_growth_2D\n",
    "print(monthly_sales * monthly_growth_2D)"
   ]
  },
  {
   "cell_type": "markdown",
   "metadata": {},
   "source": [
    "### Broadcasting across rows\n",
    "\n",
    "In the last set of exercises, you used ```monthly_industry_multipliers```, to create sales predictions. Recall that ```monthly_industry_multipliers``` looks like this:"
   ]
  },
  {
   "cell_type": "code",
   "execution_count": 59,
   "metadata": {},
   "outputs": [
    {
     "data": {
      "text/plain": [
       "array([[0.98, 1.02, 1.  ],\n",
       "       [1.  , 1.01, 0.97],\n",
       "       [1.06, 1.03, 0.98],\n",
       "       [1.08, 1.01, 0.98],\n",
       "       [1.08, 0.98, 0.98],\n",
       "       [1.1 , 0.99, 0.99],\n",
       "       [1.12, 1.01, 1.  ],\n",
       "       [1.1 , 1.02, 1.  ],\n",
       "       [1.11, 1.01, 1.01],\n",
       "       [1.08, 0.99, 0.97],\n",
       "       [1.09, 1.  , 1.02],\n",
       "       [1.13, 1.03, 1.02]])"
      ]
     },
     "execution_count": 59,
     "metadata": {},
     "output_type": "execute_result"
    }
   ],
   "source": [
    "monthly_industry_multipliers"
   ]
  },
  {
   "cell_type": "markdown",
   "metadata": {},
   "source": [
    "Assume you're not comfortable being so specific with your estimates. Rather, you'd like to use \n",
    "```monthly_industry_multipliers``` to find a single average multiplier for each industry. Then \n",
    "you'll use that multiplier to project next year's sales."
   ]
  },
  {
   "cell_type": "code",
   "execution_count": 64,
   "metadata": {},
   "outputs": [
    {
     "name": "stdout",
     "output_type": "stream",
     "text": [
      "[1.0775     1.00833333 0.99333333]\n",
      "(3,) (12, 3)\n",
      "[[ 4454.385      24124.375       8599.28666667]\n",
      " [ 4434.99       24073.95833333  9081.05333333]\n",
      " [ 5035.1575     27423.64166667 10574.03333333]\n",
      " [ 4934.95       25850.64166667 10386.29333333]\n",
      " [ 5504.9475     28228.29166667 11223.67333333]\n",
      " [ 5399.3525     27647.49166667 10554.16666667]\n",
      " [ 5651.4875     27532.54166667 10559.13333333]\n",
      " [ 5678.425      27991.33333333 11473.        ]\n",
      " [ 5042.7        25196.23333333  9696.92      ]\n",
      " [ 5293.7575     26017.01666667 10386.29333333]\n",
      " [ 5723.68       25616.70833333 13311.66      ]\n",
      " [ 7143.825      28028.64166667 18280.31333333]]\n"
     ]
    }
   ],
   "source": [
    "# Find the mean sales projection multiplier for each industry\n",
    "mean_multipliers = monthly_industry_multipliers.mean(axis=0)\n",
    "# Print Result\n",
    "print(mean_multipliers)\n",
    "\n",
    "# Print the shapes of mean multipliers and monthly sales\n",
    "print(mean_multipliers.shape, monthly_sales.shape)\n",
    "\n",
    "# Multiply each value by the multiplier for that industry\n",
    "projected_sales = mean_multipliers * monthly_sales\n",
    "# Print Result\n",
    "print(projected_sales)"
   ]
  }
 ],
 "metadata": {
  "kernelspec": {
   "display_name": "Python 3.8.8 ('base')",
   "language": "python",
   "name": "python3"
  },
  "language_info": {
   "codemirror_mode": {
    "name": "ipython",
    "version": 3
   },
   "file_extension": ".py",
   "mimetype": "text/x-python",
   "name": "python",
   "nbconvert_exporter": "python",
   "pygments_lexer": "ipython3",
   "version": "3.8.8"
  },
  "orig_nbformat": 4,
  "vscode": {
   "interpreter": {
    "hash": "4c59e6e5379e7fd956ce48a476e9664867cfb6229c9530fa6fd87fb84f21040f"
   }
  }
 },
 "nbformat": 4,
 "nbformat_minor": 2
}
