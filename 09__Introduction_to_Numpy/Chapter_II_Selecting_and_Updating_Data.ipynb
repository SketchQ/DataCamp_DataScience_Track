{
 "cells": [
  {
   "cell_type": "markdown",
   "metadata": {},
   "source": [
    "# Lesson I\n",
    "\n",
    "## Indexing and Slicing Arrays\n",
    "\n",
    "### Indexing 1D arrays\n",
    "\n",
    "NumPy indexing is zero-based, meaning the first index is zero. Array indexing uses square brackets, similiar to Python lists."
   ]
  },
  {
   "cell_type": "code",
   "execution_count": 2,
   "metadata": {},
   "outputs": [
    {
     "name": "stdout",
     "output_type": "stream",
     "text": [
      "8\n"
     ]
    }
   ],
   "source": [
    "import numpy as np\n",
    "\n",
    "array = np.array([2, 4, 6, 8, 10])\n",
    "print(array[3])"
   ]
  },
  {
   "cell_type": "markdown",
   "metadata": {},
   "source": [
    "### Indexing elements in 2D\n",
    "\n",
    "When indexing a 2D array, give NumPy both row and column index in order to return a single element. Here, like everywhere else in NumPy, row information comes before column information."
   ]
  },
  {
   "cell_type": "code",
   "execution_count": 3,
   "metadata": {},
   "outputs": [
    {
     "name": "stdout",
     "output_type": "stream",
     "text": [
      "0\n"
     ]
    }
   ],
   "source": [
    "# Sudoku game array\n",
    "sudoku_game = np.load('datasets/sudoku_game.npy')\n",
    "\n",
    "print(sudoku_game[2, 4])"
   ]
  },
  {
   "cell_type": "markdown",
   "metadata": {},
   "source": [
    "If we give NumPy just one index when indexing a 2D array, it assumes that the index is a row index. For example asking for index 0 will return the first row."
   ]
  },
  {
   "cell_type": "code",
   "execution_count": 4,
   "metadata": {},
   "outputs": [
    {
     "name": "stdout",
     "output_type": "stream",
     "text": [
      "[0 0 5 0 0 9 0 0 1]\n"
     ]
    }
   ],
   "source": [
    "print(sudoku_game[0])"
   ]
  },
  {
   "cell_type": "markdown",
   "metadata": {},
   "source": [
    "To index a column, indicate a column index byu providing a colon in place of any row index. The colon by itself tells NumPy that we are looking for all row information."
   ]
  },
  {
   "cell_type": "code",
   "execution_count": 5,
   "metadata": {},
   "outputs": [
    {
     "name": "stdout",
     "output_type": "stream",
     "text": [
      "[0 0 0 0 0 0 5 9]\n"
     ]
    }
   ],
   "source": [
    "print(sudoku_game[:, 3])"
   ]
  },
  {
   "cell_type": "markdown",
   "metadata": {},
   "source": [
    "### Slicing 1D arrays\n",
    "\n",
    "Slicing extracts a subset of data based on given indices from one array and creates a new array with the sliced data. To slice, provide a start and stop value, seperated by colon and enclosed in square brackets. The element at the start index is **included** in result, but the one at the stop index is **not**."
   ]
  },
  {
   "cell_type": "code",
   "execution_count": 6,
   "metadata": {},
   "outputs": [
    {
     "name": "stdout",
     "output_type": "stream",
     "text": [
      "[6 8]\n"
     ]
    }
   ],
   "source": [
    "array = np.array([2, 4, 6, 8, 10])\n",
    "print(array[2:4])"
   ]
  },
  {
   "cell_type": "markdown",
   "metadata": {},
   "source": [
    "### Slicing 2D arrays\n",
    "\n",
    "To slice in 2D, we'll need to give NumPy information on how both the rows and columns should be sliced. Row start and stop indices will be followed by column start and stop indices, **seperated by a comma**."
   ]
  },
  {
   "cell_type": "code",
   "execution_count": 7,
   "metadata": {},
   "outputs": [
    {
     "name": "stdout",
     "output_type": "stream",
     "text": [
      "[[0 0 7]\n",
      " [0 8 3]\n",
      " [0 0 0]]\n"
     ]
    }
   ],
   "source": [
    "print(sudoku_game[3:6, 3:6])"
   ]
  },
  {
   "cell_type": "markdown",
   "metadata": {},
   "source": [
    "In addition, we can give NumPy a third number: **step value**. For example, below we are only looking at **corner** values of the middle sudoku square."
   ]
  },
  {
   "cell_type": "code",
   "execution_count": 8,
   "metadata": {},
   "outputs": [
    {
     "name": "stdout",
     "output_type": "stream",
     "text": [
      "[[0 7]\n",
      " [0 0]]\n"
     ]
    }
   ],
   "source": [
    "print(sudoku_game[3:6:2, 3:6:2])"
   ]
  },
  {
   "cell_type": "markdown",
   "metadata": {},
   "source": [
    "### Sorting arrays\n",
    "\n",
    "The **np.sort()** function sorts an array along a given axis. Here, NumPy has sorted the array along columns, with the highes number from each row in the far right."
   ]
  },
  {
   "cell_type": "code",
   "execution_count": 9,
   "metadata": {},
   "outputs": [
    {
     "name": "stdout",
     "output_type": "stream",
     "text": [
      "Before Sorting\n",
      "[[0 0 5 0 0 9 0 0 1]\n",
      " [0 7 0 0 6 0 0 4 3]\n",
      " [0 0 6 0 0 2 0 8 7]\n",
      " [1 9 0 0 0 7 4 0 0]\n",
      " [0 5 0 0 8 3 0 0 0]\n",
      " [6 0 0 0 0 0 1 0 5]\n",
      " [0 0 3 5 0 8 6 9 0]\n",
      " [0 4 2 9 1 0 3 0 0]]\n"
     ]
    }
   ],
   "source": [
    "print(\"Before Sorting\")\n",
    "print(sudoku_game)"
   ]
  },
  {
   "cell_type": "code",
   "execution_count": 10,
   "metadata": {},
   "outputs": [
    {
     "name": "stdout",
     "output_type": "stream",
     "text": [
      "After Sorting\n",
      "[[0 0 0 0 0 0 1 5 9]\n",
      " [0 0 0 0 0 3 4 6 7]\n",
      " [0 0 0 0 0 2 6 7 8]\n",
      " [0 0 0 0 0 1 4 7 9]\n",
      " [0 0 0 0 0 0 3 5 8]\n",
      " [0 0 0 0 0 0 1 5 6]\n",
      " [0 0 0 0 3 5 6 8 9]\n",
      " [0 0 0 0 1 2 3 4 9]]\n"
     ]
    }
   ],
   "source": [
    "print(\"After Sorting\")\n",
    "print(np.sort(sudoku_game))"
   ]
  },
  {
   "cell_type": "markdown",
   "metadata": {},
   "source": [
    "### Axis order\n",
    "\n",
    "What if we want to sort by row? To do that, we need to understand NumPy axis labels.\n",
    "\n",
    "In 2D array, the direction along **row** is axis zero. The direction along **columns** is axis one.\n",
    "\n",
    "***Remember, Column looks like number 1!***\n",
    "\n",
    "#### Sorting by axis\n",
    "\n",
    "The default axis in **np.sort()** is the last axis of the array passed to it. if a 2D array is being sorted, NumPy sorts by column, since columns are axis 1 and rows are axis 0. This is why previous **np.sort()**, sorted the array so that the highest number from each row are in the far-right column.\n",
    "\n",
    "To sort the array by *row*, so that the highest numbers in each column are at the bottom of the array, we set the ***axis keyword argument to zero***."
   ]
  },
  {
   "cell_type": "code",
   "execution_count": 12,
   "metadata": {},
   "outputs": [
    {
     "name": "stdout",
     "output_type": "stream",
     "text": [
      "Sorted by axis\n",
      "[[0 0 0 0 0 0 0 0 0]\n",
      " [0 0 0 0 0 0 0 0 0]\n",
      " [0 0 0 0 0 0 0 0 0]\n",
      " [0 0 0 0 0 2 0 0 0]\n",
      " [0 4 2 0 0 3 1 0 1]\n",
      " [0 5 3 0 1 7 3 4 3]\n",
      " [1 7 5 5 6 8 4 8 5]\n",
      " [6 9 6 9 8 9 6 9 7]]\n"
     ]
    }
   ],
   "source": [
    "print(\"Sorted by axis\")\n",
    "print(np.sort(sudoku_game, axis=0))  "
   ]
  },
  {
   "cell_type": "markdown",
   "metadata": {},
   "source": [
    "## Exercise I \n",
    "\n",
    "###  Slicing and indexing trees\n",
    "\n",
    "Imagine you are a researcher working with data from New York City's tree census. Each row of the \n",
    "```tree_census``` 2D array lists information for a different tree: *the tree ID, block ID, trunk diameter, and stump diameter* in that order. Living trees do not have stump diameters, which explains why there are so many zeros in that column. *Column order is important because NumPy does **not** have ****column names!***** \n",
    "\n",
    "The first and last three rows of ```three_census``` are shown below."
   ]
  },
  {
   "cell_type": "code",
   "execution_count": 13,
   "metadata": {},
   "outputs": [
    {
     "name": "stdout",
     "output_type": "stream",
     "text": [
      "[[     3 501451     24      0]\n",
      " [     4 501451     20      0]\n",
      " [     7 501911      3      0]\n",
      " ...\n",
      " [  1198 227387     11      0]\n",
      " [  1199 227387     11      0]\n",
      " [  1210 227386      6      0]]\n"
     ]
    }
   ],
   "source": [
    "# Ney York City's tree census data\n",
    "tree_census = np.load('datasets/tree_census.npy')\n",
    "print(tree_census)"
   ]
  },
  {
   "cell_type": "markdown",
   "metadata": {},
   "source": [
    "In this exercise, you'll be working specifically with the second column, representing block IDs: \n",
    "your research requires you to select specific city blocks for further analysis using NumPy slicing \n",
    "and indexing."
   ]
  },
  {
   "cell_type": "code",
   "execution_count": 18,
   "metadata": {},
   "outputs": [
    {
     "name": "stdout",
     "output_type": "stream",
     "text": [
      "[501451 501451 501911 501911 501911]\n",
      "501911\n",
      "[501911 501911 501911 501909 501909]\n"
     ]
    }
   ],
   "source": [
    "# Select all rows of the block ID data from the second column\n",
    "block_ids = tree_census[:, 1]\n",
    "# Print the first five block_ids\n",
    "print(block_ids[:5])\n",
    "# Select the tenth block Id from block_ids\n",
    "tenth_block_id = block_ids[11]\n",
    "# Print the tenth block Id\n",
    "print(tenth_block_id)\n",
    "# Select five block IDs from block_ids starting with the tenth ID\n",
    "block_id_slice = block_ids[9:14]\n",
    "# Print block_id_slice\n",
    "print(block_id_slice)"
   ]
  },
  {
   "cell_type": "markdown",
   "metadata": {},
   "source": [
    "### Stepping into 2D\n",
    "\n",
    "Now assume that your research requires you to take an admittedly unrepresentative sample of trunk \n",
    "diameters, which are located in the third column of ```tree_census```. Getting just a selection of trunk diameters can be done with NumPy's slicing and stepping functionality.\n"
   ]
  },
  {
   "cell_type": "code",
   "execution_count": 26,
   "metadata": {},
   "outputs": [
    {
     "name": "stdout",
     "output_type": "stream",
     "text": [
      "[24 20  3  3  4  4  4  4  4  3  3  4  2  2  3  4  4  4  0 14  3  4  7  8\n",
      "  7  8  7  5  6  5  5 17  0 19 21 18  4  5  3  4  3  4 13 13 13  5  4  4\n",
      "  4 11  5  4  5  8 51  7  4 15  3  8  6  6  3  4  3  2  3  3  6  5  5  5\n",
      "  5  9  4  4  7  7  6  5  4  4  5  5  5  7  3  5  3  3  6  6  8  7  4  5\n",
      "  4  4  4  4]\n",
      "[ 5  5 51  4  3  6  3  3  3  6  5  5  4  7  6  4  5  5  3  3  6  8  4  4\n",
      "  4  6]\n"
     ]
    }
   ],
   "source": [
    "# Create an array of the first 100 trunk diameters from tree_census\n",
    "hundred_diameters = tree_census[:100, 2]\n",
    "# Print hundred_diameters\n",
    "print(hundred_diameters)\n",
    "# Create an array of trunk diameters with event row indices from 50 to 100 inclusive\n",
    "every_other_diameter = tree_census[50:101:2, 2]\n",
    "# print every other diameter\n",
    "print(every_other_diameter)"
   ]
  },
  {
   "cell_type": "markdown",
   "metadata": {},
   "source": [
    "### Sorting trees\n",
    "\n",
    "Sometimes it's easiest to understand data when it is sorted according to the value you are most \n",
    "interested in. Your new research task is to create an array containing the trunk diameters in the \n",
    "New York City tree census, sorted in order from smallest to largest."
   ]
  },
  {
   "cell_type": "code",
   "execution_count": 27,
   "metadata": {},
   "outputs": [
    {
     "name": "stdout",
     "output_type": "stream",
     "text": [
      "[ 0  0  0  0  0  0  0  0  0  0  0  0  0  0  0  0  0  0  0  0  0  0  0  0\n",
      "  0  0  0  0  0  0  0  0  0  0  0  0  1  1  1  1  1  1  2  2  2  2  2  2\n",
      "  2  2  2  2  2  2  2  2  2  2  2  2  2  2  2  2  2  2  2  2  2  2  2  2\n",
      "  2  2  2  2  2  2  2  2  2  2  2  2  2  2  2  2  2  2  2  2  2  2  2  2\n",
      "  2  2  2  2  2  2  2  2  3  3  3  3  3  3  3  3  3  3  3  3  3  3  3  3\n",
      "  3  3  3  3  3  3  3  3  3  3  3  3  3  3  3  3  3  3  3  3  3  3  3  3\n",
      "  3  3  3  3  3  3  3  3  3  3  3  3  3  3  3  3  3  3  3  3  3  3  3  3\n",
      "  3  3  3  3  3  3  3  3  3  3  3  3  3  3  3  3  3  3  3  3  4  4  4  4\n",
      "  4  4  4  4  4  4  4  4  4  4  4  4  4  4  4  4  4  4  4  4  4  4  4  4\n",
      "  4  4  4  4  4  4  4  4  4  4  4  4  4  4  4  4  4  4  4  4  4  4  4  4\n",
      "  4  4  4  4  4  4  4  4  4  4  4  4  4  4  4  4  4  4  4  4  4  4  4  4\n",
      "  4  4  4  4  4  4  4  4  4  4  4  4  4  4  4  4  4  4  4  4  4  4  4  4\n",
      "  4  4  4  4  4  4  4  4  5  5  5  5  5  5  5  5  5  5  5  5  5  5  5  5\n",
      "  5  5  5  5  5  5  5  5  5  5  5  5  5  5  5  5  5  5  5  5  5  5  5  5\n",
      "  5  5  5  5  5  5  5  5  5  5  5  5  5  5  5  5  5  5  5  5  5  5  5  5\n",
      "  5  5  5  5  5  5  5  5  5  5  6  6  6  6  6  6  6  6  6  6  6  6  6  6\n",
      "  6  6  6  6  6  6  6  6  6  6  6  6  6  6  6  6  6  6  6  6  6  6  6  6\n",
      "  6  6  6  6  6  6  6  6  6  6  6  6  6  6  6  6  6  7  7  7  7  7  7  7\n",
      "  7  7  7  7  7  7  7  7  7  7  7  7  7  7  7  7  7  7  7  7  7  7  7  7\n",
      "  7  7  7  7  7  7  7  7  7  7  7  7  7  7  7  7  7  7  7  7  8  8  8  8\n",
      "  8  8  8  8  8  8  8  8  8  8  8  8  8  8  8  8  8  8  8  8  8  8  8  8\n",
      "  8  8  8  8  8  8  8  8  9  9  9  9  9  9  9  9  9  9  9  9  9  9  9  9\n",
      "  9  9  9  9  9  9  9  9  9  9  9  9  9  9  9  9  9  9  9  9  9  9  9  9\n",
      "  9 10 10 10 10 10 10 10 10 10 10 10 10 10 10 10 10 10 10 10 10 10 10 10\n",
      " 10 10 10 10 10 10 10 11 11 11 11 11 11 11 11 11 11 11 11 11 11 11 11 11\n",
      " 11 11 11 11 11 11 11 11 11 11 11 11 11 11 11 11 11 11 11 11 11 11 11 11\n",
      " 11 11 11 11 11 11 11 11 11 11 11 11 11 11 11 12 12 12 12 12 12 12 12 12\n",
      " 12 12 12 12 12 12 12 12 12 12 12 12 12 12 12 12 12 12 12 12 12 12 12 12\n",
      " 12 12 12 12 12 12 12 12 12 12 13 13 13 13 13 13 13 13 13 13 13 13 13 13\n",
      " 13 13 13 13 13 13 13 13 13 13 13 13 13 13 13 13 13 13 13 13 13 13 14 14\n",
      " 14 14 14 14 14 14 14 14 14 14 14 14 14 14 14 14 14 14 14 14 14 14 14 14\n",
      " 14 14 14 14 14 14 14 14 14 14 15 15 15 15 15 15 15 15 15 15 15 15 15 15\n",
      " 15 15 15 15 15 15 15 15 15 15 15 15 15 15 15 15 15 15 15 15 15 16 16 16\n",
      " 16 16 16 16 16 16 16 16 16 16 16 16 16 16 16 16 17 17 17 17 17 17 17 17\n",
      " 17 17 17 17 17 17 17 17 17 17 17 17 17 17 17 17 17 17 17 17 17 18 18 18\n",
      " 18 18 18 18 18 18 18 18 18 18 18 18 18 18 18 18 18 18 18 18 18 18 18 18\n",
      " 19 19 19 19 19 19 19 19 19 19 19 19 19 19 19 19 19 19 19 19 19 19 19 19\n",
      " 19 19 19 20 20 20 20 20 20 20 20 20 20 20 20 20 20 20 20 20 20 20 20 20\n",
      " 20 20 21 21 21 21 21 21 21 21 21 21 21 21 21 21 21 21 21 21 21 22 22 22\n",
      " 22 22 22 22 22 22 22 22 22 22 22 22 22 22 23 23 23 23 23 23 23 23 23 23\n",
      " 23 24 24 24 24 24 24 24 24 25 25 25 25 25 25 25 25 25 25 25 26 26 26 26\n",
      " 26 26 27 27 27 28 28 28 30 30 33 34 38 39 44 51]\n"
     ]
    }
   ],
   "source": [
    "# Extract trunk diameters information and sort from smallest to largest\n",
    "sorted_trunk_diameters = np.sort(tree_census[:, 2], axis=0)\n",
    "# print sorted trunk diameters\n",
    "print(sorted_trunk_diameters)"
   ]
  },
  {
   "cell_type": "markdown",
   "metadata": {},
   "source": [
    "# Lesson II \n",
    "\n",
    "## Filtering Arrays\n",
    "\n",
    "Filtering is selecting data based on whether data meets a condition.\n",
    "\n",
    "There are two ways to filter in NumPy; each is useful in different situations.\n",
    "\n",
    "* Masks and fancy indexing\n",
    "\n",
    "* ```np.where()```\n",
    "\n",
    "### Boolean Masks\n",
    "\n",
    "The code to create a mask checks whether a condition is true for each element in an array. The mask itself is an array of Booleans with the same shape as the evaluated array."
   ]
  },
  {
   "cell_type": "code",
   "execution_count": 28,
   "metadata": {},
   "outputs": [
    {
     "name": "stdout",
     "output_type": "stream",
     "text": [
      "[1 2 3 4 5]\n"
     ]
    }
   ],
   "source": [
    "# Creating a 1D array from 1 to 5\n",
    "one_to_five = np.arange(1, 6)\n",
    "print(one_to_five)"
   ]
  },
  {
   "cell_type": "code",
   "execution_count": 29,
   "metadata": {},
   "outputs": [
    {
     "name": "stdout",
     "output_type": "stream",
     "text": [
      "[False  True False  True False]\n"
     ]
    }
   ],
   "source": [
    "# Creating a masks that selects only the even numbers\n",
    "mask = one_to_five % 2 == 0\n",
    "print(mask)"
   ]
  },
  {
   "cell_type": "markdown",
   "metadata": {},
   "source": [
    "#### Filtering with fancy indexing\n",
    "\n",
    "Once we have a Boolean mask indicating which elements the condition holds true for, we can index the array using the mask. This is called **fancy indexing**, and its useful when we are only interested in the elements that meet a condition."
   ]
  },
  {
   "cell_type": "code",
   "execution_count": 30,
   "metadata": {},
   "outputs": [
    {
     "name": "stdout",
     "output_type": "stream",
     "text": [
      "[2 4]\n"
     ]
    }
   ],
   "source": [
    "print(one_to_five[mask])"
   ]
  },
  {
   "cell_type": "markdown",
   "metadata": {},
   "source": [
    "### 2D fancy indexing\n",
    "\n",
    "We may want to filter based on a condition in one row or column but return data from another. Let's say we are assigning partners in a school, and we want to know which class ids have even number of students.\n",
    "\n",
    "Class ids are in the left column and class sizes are in the right."
   ]
  },
  {
   "cell_type": "code",
   "execution_count": 31,
   "metadata": {},
   "outputs": [
    {
     "name": "stdout",
     "output_type": "stream",
     "text": [
      "[[ 1 22]\n",
      " [ 2 21]\n",
      " [ 3 27]\n",
      " [ 4 26]]\n"
     ]
    }
   ],
   "source": [
    "classroom_ids_and_sizes = np.array([[1, 22], [2, 21], [3, 27], [4, 26]])\n",
    "print(classroom_ids_and_sizes)"
   ]
  },
  {
   "cell_type": "markdown",
   "metadata": {},
   "source": [
    "First, we create a mask which checks which values in the second column are divisible by two."
   ]
  },
  {
   "cell_type": "code",
   "execution_count": 32,
   "metadata": {},
   "outputs": [
    {
     "data": {
      "text/plain": [
       "array([ True, False, False,  True])"
      ]
     },
     "execution_count": 32,
     "metadata": {},
     "output_type": "execute_result"
    }
   ],
   "source": [
    "classroom_ids_and_sizes[:, 1] % 2 == 0"
   ]
  },
  {
   "cell_type": "markdown",
   "metadata": {},
   "source": [
    "Then , index the first column using that mask so that we return class ids for rows where the class size in the second column meets the condition."
   ]
  },
  {
   "cell_type": "code",
   "execution_count": 33,
   "metadata": {},
   "outputs": [
    {
     "data": {
      "text/plain": [
       "array([1, 4])"
      ]
     },
     "execution_count": 33,
     "metadata": {},
     "output_type": "execute_result"
    }
   ],
   "source": [
    "classroom_ids_and_sizes[:, 0][classroom_ids_and_sizes[:, 1] % 2 == 0]"
   ]
  },
  {
   "cell_type": "markdown",
   "metadata": {},
   "source": [
    "### Fancy indexing vs np.where()\n",
    "\n",
    "We've seen that fancy indexing returns a filtered array of elements which meet a condition. **np.where()** returns an *array of indices of elements* which meet the condition. This can be useful when indices are needed later to direct NumPy where to apply code.\n",
    "\n",
    "**np.where()** can also be used for combining data as well as filtering arrays: it can pull different elements into a new array based on whether a condition is met.\n",
    "\n",
    "| Fancy Indexing | ```np.where()``` |\n",
    "| ---------------|------------------|\n",
    "| Returns array of elements | Returns array of indices |\n",
    "|   | Can create an array based on whether elements do or don't meet condition |\n",
    "\n",
    "### Filtering with np.where()\n",
    "\n",
    "Using *np.where()* in the classroom example returns indices indicating that the classroom at indices *zero* and *three* have even numbers of students. Notice the array of indicies is enclosed in parentheses: the ***np.where() function actually returns a tuple of arrays.***\n",
    "\n",
    "Why? Because when we the filtered array is multi-dimensional, each element can only be located by including an index for every dimension."
   ]
  },
  {
   "cell_type": "code",
   "execution_count": 34,
   "metadata": {},
   "outputs": [
    {
     "data": {
      "text/plain": [
       "(array([0, 3], dtype=int64),)"
      ]
     },
     "execution_count": 34,
     "metadata": {},
     "output_type": "execute_result"
    }
   ],
   "source": [
    "np.where(classroom_ids_and_sizes[:, 1] % 2 == 0)"
   ]
  },
  {
   "cell_type": "markdown",
   "metadata": {},
   "source": [
    "#### np.where() element retrieval\n",
    "\n",
    "Let's look at using np.where() to return the indices of zeros in our sudoku game.\n",
    "\n",
    "##### A tuple of indices\n",
    "\n",
    "**np.where()** returns two sets of indices - one for row indices and one for column indices- \n",
    "\n",
    "Because of this, it's helpful to unpack the results of *np.where()* into different variables."
   ]
  },
  {
   "cell_type": "code",
   "execution_count": 35,
   "metadata": {},
   "outputs": [
    {
     "name": "stdout",
     "output_type": "stream",
     "text": [
      "[0 0 0 0 0 0 1 1 1 1 1 2 2 2 2 2 3 3 3 3 3 4 4 4 4 4 4 5 5 5 5 5 5 6 6 6 6\n",
      " 7 7 7 7]\n",
      "[0 1 3 4 6 7 0 2 3 5 6 0 1 3 4 6 2 3 4 7 8 0 2 3 6 7 8 1 2 3 4 5 7 0 1 4 8\n",
      " 0 5 7 8]\n"
     ]
    }
   ],
   "source": [
    "row_ind, column_ind = np.where(sudoku_game == 0)\n",
    "print(row_ind)\n",
    "print(column_ind)"
   ]
  },
  {
   "cell_type": "markdown",
   "metadata": {},
   "source": [
    "##### Find and replace\n",
    "\n",
    "The real power of np.where() is its ability to check whether rows, columns or elements meet a condition and then pull one element if the condition is met and another if not.\n",
    "\n",
    "To replace all zeros in sudoku_game with empty strings, pass an empty strings as the **second argument** to *np.where()*. The **third argument** specifies how to change the element if it does not meet the condition."
   ]
  },
  {
   "cell_type": "code",
   "execution_count": 36,
   "metadata": {},
   "outputs": [
    {
     "data": {
      "text/plain": [
       "array([[' ', ' ', '5', ' ', ' ', '9', ' ', ' ', '1'],\n",
       "       [' ', '7', ' ', ' ', '6', ' ', ' ', '4', '3'],\n",
       "       [' ', ' ', '6', ' ', ' ', '2', ' ', '8', '7'],\n",
       "       ['1', '9', ' ', ' ', ' ', '7', '4', ' ', ' '],\n",
       "       [' ', '5', ' ', ' ', '8', '3', ' ', ' ', ' '],\n",
       "       ['6', ' ', ' ', ' ', ' ', ' ', '1', ' ', '5'],\n",
       "       [' ', ' ', '3', '5', ' ', '8', '6', '9', ' '],\n",
       "       [' ', '4', '2', '9', '1', ' ', '3', ' ', ' ']], dtype='<U21')"
      ]
     },
     "execution_count": 36,
     "metadata": {},
     "output_type": "execute_result"
    }
   ],
   "source": [
    "np.where(sudoku_game == 0, \" \" , sudoku_game)"
   ]
  },
  {
   "cell_type": "markdown",
   "metadata": {},
   "source": [
    "## Exercise II \n",
    "\n",
    "### Filtering with Masks\n",
    "\n",
    "In the last lesson, you sorted trees from smallest to largest. Now, you'll use fancy indexing to \n",
    "return the row of data representing the largest tree in tree_census. You'll also examine other trees \n",
    "located on the same block as the largest tree: are they also large?"
   ]
  },
  {
   "cell_type": "code",
   "execution_count": 47,
   "metadata": {},
   "outputs": [
    {
     "name": "stdout",
     "output_type": "stream",
     "text": [
      "[[    61 501882     51      0]]\n",
      "[501882]\n",
      "[[    60 501882      8      0]\n",
      " [    61 501882     51      0]\n",
      " [    62 501882      7      0]\n",
      " [    63 501882      4      0]\n",
      " [    64 501882     15      0]\n",
      " [    65 501882      3      0]\n",
      " [    66 501882      8      0]\n",
      " [    67 501882      6      0]\n",
      " [    68 501882      6      0]\n",
      " [    69 501882      3      0]]\n"
     ]
    }
   ],
   "source": [
    "# Create an array which contains row data on the largest tree in tree_census\n",
    "largest_tree_data = tree_census[:][tree_census[:, 2] == 51]\n",
    "# print largest tree data\n",
    "print(largest_tree_data)\n",
    "# Slice largest tree data to get only the block id\n",
    "largest_tree_data_id = largest_tree_data[:, 1]\n",
    "# Print largest tree data id\n",
    "print(largest_tree_data_id)\n",
    "# Create an array which contains row data on all trees with largest tree block id\n",
    "trees_on_largest_tree_block = tree_census[:][tree_census[:, 1] == 501882]\n",
    "# print the trees on largest tree block\n",
    "print(trees_on_largest_tree_block)"
   ]
  },
  {
   "cell_type": "markdown",
   "metadata": {},
   "source": [
    "### Fancy indexing vs. np.where()\n",
    "\n",
    "You and your tree research team are double-checking collection data by visiting a few trees in \n",
    "person to confirm their measurements. You've been assigned to check the data for trees on block \n",
    "313879, and you'd like to make a small array of just the tree data that relates to your work."
   ]
  },
  {
   "cell_type": "code",
   "execution_count": 50,
   "metadata": {},
   "outputs": [
    {
     "name": "stdout",
     "output_type": "stream",
     "text": [
      "[[  1115 313879      3      0]\n",
      " [  1116 313879     17      0]]\n"
     ]
    }
   ],
   "source": [
    "# Create the block 313879 array containing trees on block 313879 - Using fancy indexing -\n",
    "block_313879 = tree_census[:][tree_census[:, 1] == 313879]\n",
    "# Print the block\n",
    "print(block_313879)"
   ]
  },
  {
   "cell_type": "code",
   "execution_count": 55,
   "metadata": {},
   "outputs": [
    {
     "name": "stdout",
     "output_type": "stream",
     "text": [
      "[[  1115 313879      3      0]\n",
      " [  1116 313879     17      0]]\n"
     ]
    }
   ],
   "source": [
    "# Create an array of row indices for trees on block 313879\n",
    "row_indices = np.where(tree_census[:, 1] == 313879)\n",
    "# Create an array which only contains data for trees on block 313879\n",
    "block_313879 = tree_census[row_indices]\n",
    "# print block\n",
    "print(block_313879)"
   ]
  },
  {
   "cell_type": "markdown",
   "metadata": {},
   "source": [
    "### Creating arrays from conditions\n",
    "\n",
    "Currently, the stump diameter and trunk diameter values in tree_census are in two different columns. \n",
    "Living trees have a stump diameter of zero while stumps have a trunk diameter of zero. If you'd like \n",
    "to include both living trees and stumps in certain research calculations, it might be useful to have \n",
    "their diameters together in just one column."
   ]
  },
  {
   "cell_type": "code",
   "execution_count": 58,
   "metadata": {},
   "outputs": [
    {
     "name": "stdout",
     "output_type": "stream",
     "text": [
      "[24 20  3  3  4  4  4  4  4  3  3  4  2  2  3  4  4  4  3 14  3  4  7  8\n",
      "  7  8  7  5  6  5  5 17 31 19 21 18  4  5  3  4  3  4 13 13 13  5  4  4\n",
      "  4 11  5  4  5  8 51  7  4 15  3  8  6  6  3  4  3  2  3  3  6  5  5  5\n",
      "  5  9  4  4  7  7  6  5  4  4  5  5  5  7  3  5  3  3  6  6  8  7  4  5\n",
      "  4  4  4  4  6  5  3  4 12 12 12  5  6  6  6  6  6  5  5  6  7  7 25  5\n",
      "  5  4  6  6  7 11  6 17 13 14 14 20 15 13  7  7 10 17 14  4  6  7  8  7\n",
      "  7  6  7  5  2  2  2  2 26 25  2 15  6 20  5  9 15 13 15  3  2 13  6 12\n",
      " 15 18 22 18 18 15 17  7  3  7  8  4 12 11 12  3  9 12 11 10  8  6  6  7\n",
      "  7  3 15 12 12  4  5  5  5  4  4  5  4  9  2  4  4  6  5  5  2  5  5  4\n",
      "  4  5  5  6 11  4  5  7  3 14 11 10  7 15 10  5  6 10 10  6  5  4  4  3\n",
      "  5  4 14 12 11  8 14 12  9 12 11  7  8 10 10 12 11 12  5  5  6  9  9  8\n",
      "  5  5  5  6  6 12 12 11 12  8  9  5  5  5  8  2  2  2 14 18 14 14 22 15\n",
      " 19 14 18  7  7  7  8  8  5 10 14  2  2  2  2 11 12 12  3  3  3  3  3  6\n",
      "  6  8  2  2 11 11 11  9 11 12 13  9 11  6  4  5  5  2  2  8 10  7  9 11\n",
      " 11  1  2 26  4 13  2  4  3  4  4  4  4  3  4  2  2 12 13  5  4  2  3  3\n",
      " 25 11 11 14 22  2  3 10  2  2 13 19 26 21 19 14 14  5 19 15 11 15  6 19\n",
      " 17 12 13 15 12  2 16  2  2  2 25  2 21  2 15 16 14 13 11  8 11 13 12  7\n",
      " 24 19  3  3  4  6 11 17 19 19 17 15 13 15 27 16 15 20 17 16  4 10  9 14\n",
      " 11 12  8  9  9 13 14  7 11 14  3  7 16 17 13 14 16 12  4  5  3 16 11  9\n",
      "  9 10  8 10 11 11  8 11 11 11  9 11 10  9  5 12 11 13  9 15 16 12  7 10\n",
      "  6  9  5  9  6  6  3  3  5  4  4  4  4  6  4  7  6  7  6  5  7  8 20  9\n",
      " 11 11 10  9 11 12 10 18  7  4  4  4  4  3 19 12  3  4  5  4  4 17 15  8\n",
      "  4  5  6 25  6 11  3  3 15  4 14 12 15  2  3  2 11 11 14 12 15 12  8  9\n",
      "  9  8  7 12 15  4 11 10  6  7  9 38  6  3 15 11  5  4  2 13 21 26  4 18\n",
      " 10 17 20 19 21 19 18 18 17 24 27 22 21  9 17 17 19 28 21 11 23 28  7 33\n",
      " 30  5 26 27 22  2  2  2  3  4  3  3 12 17 15  2  3  3  6  6  6  6 18 13\n",
      " 25 25 22 25 21 19  3  3  3  4  4 19  4  4 24 27 20  3 19  5 12 26 13  7\n",
      " 13  4 20  5 14 20 11  3  4 19  4 17 22 24 15  7  5  4  5  5  4  4  4  8\n",
      "  4  4  7  6 10  8 11  2  9  8  4  3  3  2  2 22 22 24 23 20 21  5  6  7\n",
      "  4  2 15 19 20  4  4  7  2 17 10  3 11  2 10 11  4  4  3 13  3  3  3  3\n",
      "  4  3  3  3 14  3  9  9  9 10 20 14 19 16 22 22 17 18  9  9  7  9  3 14\n",
      " 13 15 16 18 21  3  8  3  9  8 11  9 10  5  5 11 16  3  4  3  4  5  4 10\n",
      " 10 12  9  9 13 11 10  3  3  3  4  3  4  4 10 25  5  5  1 34  1  1  1 15\n",
      " 11 11 13  7  7 12 13  3 17 14 18 15 17 14 13 20  9 11  4  9 13  9 19 20\n",
      "  8  8 20 19 13 44 17 25 14 12 14 15  6  6  7  5  5  5  5  3  9  9 17 13\n",
      "  3 13 20 20 18 18 21 20 19 22 18 21 25 21 21 18 20 18 23 23 23 18 24 22\n",
      "  2  7  2 11 19 21 14 20 13  2 18  2  2 31 25 31 25 11 22  2 18 17 18 21\n",
      " 22 16 16 18 15 23  5  6 13 19  7 16 16 20 15 18  1 15 10 24 18  2  3  2\n",
      " 17 12 14 17 23 18 12 13 23  3 17  8  8  8  4  9 22  2 14 23 20 23  3  7\n",
      "  3  6  4 12  4  4  2  6  4  3 17 19  4 19 15 14 17 20  2 16  3 12 10 11\n",
      "  4 11  4 30  8  4 39  3  7 11 18 22 19 21  7 21  2 16 11 20 21 22  8 16\n",
      "  2 23 14 14 13 20 21 15 19 28 17 16 12 11 11  6]\n"
     ]
    }
   ],
   "source": [
    "# Create and print a 1D array of tree and stump diameters\n",
    "trunk_stump_diameters = np.where(tree_census[:, 2] > 0, tree_census[:, 2], tree_census[:, 3])\n",
    "# print trunk stump diameters\n",
    "print(trunk_stump_diameters)"
   ]
  },
  {
   "cell_type": "markdown",
   "metadata": {},
   "source": [
    "# Lesson III\n",
    "\n",
    "## Adding and removing data\n",
    "\n",
    "Next stop on out NumPy tour is adding and deleting array elements, an important skill as data is almost never perfectly suited to a task right of the bat.\n",
    "\n",
    "### Concatenating in NumPy\n",
    "\n",
    "Concatenation refers to adding data to an array along any existing axis, such as adding columns to a 2D array. We concatenate using the **np.concatenate()** function.\n",
    "\n",
    "#### Concatenating Rows\n",
    "\n",
    "Let's go back to our classrom array and add information for two more classrooms, also stored in an array.\n",
    "\n",
    "To concatenate the two arrays, pass a tuple of the array names to **np.concatenate()**\n",
    "\n",
    "Since concatenating along the first axis is np.concatenate()'s default behaviour, we don't need to explicitly state which axis to concatenate along."
   ]
  },
  {
   "cell_type": "code",
   "execution_count": 60,
   "metadata": {},
   "outputs": [
    {
     "data": {
      "text/plain": [
       "array([[ 1, 22],\n",
       "       [ 2, 21],\n",
       "       [ 3, 27],\n",
       "       [ 4, 26],\n",
       "       [ 5, 30],\n",
       "       [ 5, 17]])"
      ]
     },
     "execution_count": 60,
     "metadata": {},
     "output_type": "execute_result"
    }
   ],
   "source": [
    "new_classrooms = np.array([[5, 30], [5, 17]])\n",
    "\n",
    "np.concatenate((classroom_ids_and_sizes, new_classrooms))"
   ]
  },
  {
   "cell_type": "markdown",
   "metadata": {},
   "source": [
    "#### Concatenating Columns\n",
    "\n",
    "To concatenate along other dimensions, set the **axis keyword** argument.\n",
    "\n",
    "For example to add column to a 2D array use **axis=1**, since column index is 1."
   ]
  },
  {
   "cell_type": "code",
   "execution_count": 62,
   "metadata": {},
   "outputs": [
    {
     "data": {
      "text/plain": [
       "array([['1', '22', '1', 'James'],\n",
       "       ['2', '21', '1', 'George'],\n",
       "       ['3', '27', '3', 'Amy'],\n",
       "       ['4', '26', '3', 'Meehir']], dtype='<U11')"
      ]
     },
     "execution_count": 62,
     "metadata": {},
     "output_type": "execute_result"
    }
   ],
   "source": [
    "grade_levels_and_teachers = np.array([[1, \"James\"], [1, \"George\"], [3, \"Amy\"], [3, \"Meehir\"]])\n",
    "\n",
    "np.concatenate((classroom_ids_and_sizes, grade_levels_and_teachers), axis=1)"
   ]
  },
  {
   "cell_type": "markdown",
   "metadata": {},
   "source": [
    "### Shape Compatibility\n",
    "\n",
    "The arrays to be concatenated **must** have compatible shapes. Specifically, they must have the same shape along all axes except the one being concatenated along.\n",
    "\n",
    "For example, three by three array cannot be concatenated with four by two array. But it can be concatenated with three by two array column-wise.\n",
    "\n",
    "The two arrays **must** also have the same number of **dimensions**. This is especially important to remember when concatenating a single row or column of data, usually held in a 1D array.\n",
    "\n",
    "Turn 1D array into a 2D array using **.reshape()** method before appending.\n",
    "\n",
    "To reshape a 1D array in preparation for concatenation with 2D array, indicate whether the data is vertical or horizontal by setting a value of one as the length of the flat dimension."
   ]
  },
  {
   "cell_type": "code",
   "execution_count": 64,
   "metadata": {},
   "outputs": [
    {
     "data": {
      "text/plain": [
       "array([[1],\n",
       "       [2],\n",
       "       [3]])"
      ]
     },
     "execution_count": 64,
     "metadata": {},
     "output_type": "execute_result"
    }
   ],
   "source": [
    "array_1D = np.array([1, 2, 3])\n",
    "column_array_2D = array_1D.reshape((3, 1))\n",
    "column_array_2D "
   ]
  },
  {
   "cell_type": "code",
   "execution_count": 65,
   "metadata": {},
   "outputs": [
    {
     "data": {
      "text/plain": [
       "array([[1, 2, 3]])"
      ]
     },
     "execution_count": 65,
     "metadata": {},
     "output_type": "execute_result"
    }
   ],
   "source": [
    "row_array_2D = array_1D.reshape((1, 3))\n",
    "row_array_2D"
   ]
  },
  {
   "cell_type": "markdown",
   "metadata": {},
   "source": [
    "It is **not** possible to add new dimensions with *np.concatenate()*, since the function only adds data along an existing data.\n",
    "\n",
    "### Deleting with np.delete()\n",
    "\n",
    "NumPy's np.delete() function takes three arguments:\n",
    "\n",
    "* The array to delete from\n",
    "\n",
    "* A slice, index, or array of indices to be deleted\n",
    "\n",
    "* The axis to be deleted along.\n",
    "\n",
    "For example, to delete the second row from 2D array, the index to delete will be one, and the deletion will occur along the first axis, represented with zero."
   ]
  },
  {
   "cell_type": "code",
   "execution_count": 69,
   "metadata": {},
   "outputs": [
    {
     "name": "stdout",
     "output_type": "stream",
     "text": [
      "[['1' '22' '1' 'James']\n",
      " ['2' '21' '1' 'George']\n",
      " ['3' '27' '3' 'Amy']\n",
      " ['4' '26' '3' 'Meehir']]\n"
     ]
    }
   ],
   "source": [
    "classroom_data = np.concatenate((classroom_ids_and_sizes, grade_levels_and_teachers), axis=1)\n",
    "print(classroom_data)"
   ]
  },
  {
   "cell_type": "code",
   "execution_count": 71,
   "metadata": {},
   "outputs": [
    {
     "name": "stdout",
     "output_type": "stream",
     "text": [
      "[['1' '22' '1' 'James']\n",
      " ['3' '27' '3' 'Amy']\n",
      " ['4' '26' '3' 'Meehir']]\n"
     ]
    }
   ],
   "source": [
    "# Deleting second row\n",
    "print(np.delete(classroom_data, 1, axis=0))"
   ]
  },
  {
   "cell_type": "markdown",
   "metadata": {},
   "source": [
    "To delete the second column update the axis keyword argument to one."
   ]
  },
  {
   "cell_type": "code",
   "execution_count": 73,
   "metadata": {},
   "outputs": [
    {
     "name": "stdout",
     "output_type": "stream",
     "text": [
      "[['1' '1' 'James']\n",
      " ['2' '1' 'George']\n",
      " ['3' '3' 'Amy']\n",
      " ['4' '3' 'Meehir']]\n"
     ]
    }
   ],
   "source": [
    "classroom_data = np.concatenate((classroom_ids_and_sizes, grade_levels_and_teachers), axis=1)\n",
    "\n",
    "# Delete the second column\n",
    "print(np.delete(classroom_data, 1, axis=1))"
   ]
  },
  {
   "cell_type": "markdown",
   "metadata": {},
   "source": [
    "If you do not specify axis keyword, NumPy deletes the indicated index or indices along a flattened version of the array."
   ]
  },
  {
   "cell_type": "code",
   "execution_count": 75,
   "metadata": {},
   "outputs": [
    {
     "name": "stdout",
     "output_type": "stream",
     "text": [
      "['1' '1' 'James' '2' '21' '1' 'George' '3' '27' '3' 'Amy' '4' '26' '3'\n",
      " 'Meehir']\n"
     ]
    }
   ],
   "source": [
    "classroom_data = np.concatenate((classroom_ids_and_sizes, grade_levels_and_teachers), axis=1)\n",
    "\n",
    "print(np.delete(classroom_data, 1))"
   ]
  },
  {
   "cell_type": "markdown",
   "metadata": {},
   "source": [
    "## Exercise III \n",
    "\n",
    "### Adding Rows\n",
    "\n",
    "The research team has discovered two trees that were left off the tree_census. Your task is to add \n",
    "rows containing the data for these new trees to the end of the tree_census array. "
   ]
  },
  {
   "cell_type": "code",
   "execution_count": 78,
   "metadata": {},
   "outputs": [
    {
     "name": "stdout",
     "output_type": "stream",
     "text": [
      "(1000, 4) (2, 4)\n",
      "[[     3 501451     24      0]\n",
      " [     4 501451     20      0]\n",
      " [     7 501911      3      0]\n",
      " ...\n",
      " [  1210 227386      6      0]\n",
      " [  1211 227386     20      0]\n",
      " [  1212 227386      8      0]]\n"
     ]
    }
   ],
   "source": [
    "# Trees to be added\n",
    "new_trees = np.array([[1211, 227386, 20, 0], [1212, 227386, 8, 0]])\n",
    "\n",
    "# Print the shapes of tree_census and new_trees\n",
    "print(tree_census.shape, new_trees.shape)\n",
    "\n",
    "# Add rows to tree census which contains data for the new trees\n",
    "updated_tree_census = np.concatenate((tree_census, new_trees), axis=0)\n",
    "# print the updated tree census\n",
    "print(updated_tree_census)"
   ]
  },
  {
   "cell_type": "markdown",
   "metadata": {},
   "source": [
    "### Adding Columns\n",
    "\n",
    "You finished the last set of exercises by creating an array called ```trunk_stump_diameters```, which combined data from the trunk diameter and stump diameter columns into a 1D array. Now, you'll add that 1D array as a column to the ```tree_census``` array."
   ]
  },
  {
   "cell_type": "code",
   "execution_count": 82,
   "metadata": {},
   "outputs": [
    {
     "name": "stdout",
     "output_type": "stream",
     "text": [
      "(1000, 4) (1000,)\n",
      "[[     3 501451     24      0     24]\n",
      " [     4 501451     20      0     20]\n",
      " [     7 501911      3      0      3]\n",
      " ...\n",
      " [  1198 227387     11      0     11]\n",
      " [  1199 227387     11      0     11]\n",
      " [  1210 227386      6      0      6]]\n"
     ]
    }
   ],
   "source": [
    "# Print the shapes of tree census and trunk stump diameters\n",
    "print(tree_census.shape, trunk_stump_diameters.shape)\n",
    "# Reshape trunk stump diameters\n",
    "reshaped_diameters = trunk_stump_diameters.reshape((1000, 1))\n",
    "# Concatenate reshaped_diameters to tree_census as the last column\n",
    "concatenated_tree_census = np.concatenate((tree_census, reshaped_diameters), axis=1)    \n",
    "# print the result\n",
    "print(concatenated_tree_census)"
   ]
  },
  {
   "cell_type": "markdown",
   "metadata": {},
   "source": [
    "### Deleting with np.delete()\n",
    "\n",
    "What if your tree research focuses only on living trees on publicly-owned city blocks? It might be \n",
    "helpful to delete some unneeded data like the stump diameter column and some trees located on \n",
    "private blocks.\n"
   ]
  },
  {
   "cell_type": "code",
   "execution_count": 84,
   "metadata": {},
   "outputs": [
    {
     "name": "stdout",
     "output_type": "stream",
     "text": [
      "(998, 3)\n"
     ]
    }
   ],
   "source": [
    "# Delete the stump diameter column from tree_census\n",
    "tree_census_no_stumps = np.delete(tree_census, 3, axis=1)\n",
    "# Save the indices of the trees on block 313879\n",
    "private_block_indices = np.where(tree_census[:, 1] == 313879)\n",
    "# Delete the rows for trees on block 313879 from tree_census_no_stumps\n",
    "tree_census_clean = np.delete(tree_census_no_stumps, private_block_indices, axis=0)\n",
    "# Print the shape of the tree_census_clean\n",
    "print(tree_census_clean.shape)"
   ]
  }
 ],
 "metadata": {
  "kernelspec": {
   "display_name": "Python 3.8.8 ('base')",
   "language": "python",
   "name": "python3"
  },
  "language_info": {
   "codemirror_mode": {
    "name": "ipython",
    "version": 3
   },
   "file_extension": ".py",
   "mimetype": "text/x-python",
   "name": "python",
   "nbconvert_exporter": "python",
   "pygments_lexer": "ipython3",
   "version": "3.8.8"
  },
  "orig_nbformat": 4,
  "vscode": {
   "interpreter": {
    "hash": "4c59e6e5379e7fd956ce48a476e9664867cfb6229c9530fa6fd87fb84f21040f"
   }
  }
 },
 "nbformat": 4,
 "nbformat_minor": 2
}
