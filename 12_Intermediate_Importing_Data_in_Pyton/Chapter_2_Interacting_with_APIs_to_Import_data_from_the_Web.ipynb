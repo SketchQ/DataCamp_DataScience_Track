{
 "cells": [
  {
   "cell_type": "markdown",
   "metadata": {},
   "source": [
    "# Lesson I \n",
    "\n",
    "## Introduction to APIs and JSONs\n",
    "\n",
    "In this chapter, we'll learn pulling data from the web even further by interacting with **APIs**\n",
    "\n",
    "### APIs\n",
    "\n",
    "* Application Programming Interface\n",
    "* API is set of protocols and routines for\n",
    "    - Building and interacting with software applications\n",
    "\n",
    "A standard form for transferring data through *APIs* is the **JSON** file format.\n",
    "\n",
    "### JSONs\n",
    "\n",
    "* JavaScript Object Notation\n",
    "* Real-time server-to-browser communication\n",
    "* Popularized by Douglas Crockford\n",
    "* It is human readable\n",
    "\n",
    "<img src='pictures/jsonfile.jpg' />\n",
    "\n",
    "*Here we see a JSON from the OMDB OR Open Movie Database API.*\n",
    "\n",
    "* First, notice that JSON consists of name-value pairs (Python Dict)\n",
    "* *Keys* in JSONs will **always** be strings\n",
    "* *Values* can be strings, integers, arrays or even objects (or another JSON as well)\n",
    "\n",
    "#### Loading JSONs in Python\n",
    "\n",
    "Lets say that we have a JSON stored in working directory as ```'snakes.json'```.\n",
    "\n",
    "```python\n",
    "import json\n",
    "with open('snakes.json', 'r') as json_file:\n",
    "    json_data = json.load(json_file)    \n",
    "```\n",
    "\n",
    "If I check the the datatype of ```json_data```, it will be imported as a **dictionary!**\n",
    "\n",
    "To ```print``` *key-value* pairs to the console, I can iterate over the *key-value* pairs using a **for loop**.\n",
    "\n",
    "```python\n",
    "for key, value in json_data.items():\n",
    "    print(key + ':' , value)\n",
    "```"
   ]
  },
  {
   "cell_type": "code",
   "execution_count": null,
   "metadata": {},
   "outputs": [],
   "source": []
  }
 ],
 "metadata": {
  "kernelspec": {
   "display_name": "Python 3.8.8 ('base')",
   "language": "python",
   "name": "python3"
  },
  "language_info": {
   "name": "python",
   "version": "3.8.8"
  },
  "orig_nbformat": 4,
  "vscode": {
   "interpreter": {
    "hash": "4c59e6e5379e7fd956ce48a476e9664867cfb6229c9530fa6fd87fb84f21040f"
   }
  }
 },
 "nbformat": 4,
 "nbformat_minor": 2
}
