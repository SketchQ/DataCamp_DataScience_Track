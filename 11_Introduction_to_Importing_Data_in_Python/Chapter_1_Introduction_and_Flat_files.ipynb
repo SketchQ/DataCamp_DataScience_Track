{
 "cells": [
  {
   "cell_type": "markdown",
   "metadata": {},
   "source": [
    "# Lesson I\n",
    "\n",
    "In this course, we'll learn how to import data from a large variety of import data sources, for example:\n",
    "\n",
    "* Flat Files : ```.txt```, ```.csv```\n",
    "* Files from other software : \"Excel Spreadsheets\" , Stata, SAS, and MATLAB files.\n",
    "* Relational databases : SQLite & PostgreSQL\n",
    "\n",
    "## Plain Text Files\n",
    "\n",
    "First off, we're going to learn how to import basic text files, which can broadly classify into 2 types of files.\n",
    "\n",
    "* Those containin plain text ```.txt```\n",
    "* Those containing records ```.csv``` - Also knows as flat file\n",
    "\n",
    "### Reading a Text file\n",
    "\n",
    "To read lines from a plain text file:\n",
    "\n",
    "* We can use Python's basic open function\n",
    "* Mode equals to 'r'\n",
    "* Close connection to the file using ```.close()```\n",
    "\n",
    "```python\n",
    "filename = 'huck_finn.txt'\n",
    "file = open(filename, mode='r') # 'r' is to read\n",
    "text = file.read()\n",
    "file.close()\n",
    "```\n",
    "\n",
    "You can then print the file to console with ```print(text)```.\n",
    "\n",
    "### Writing to a file\n",
    "\n",
    "* Use mode equals to 'w'\n",
    "\n",
    "```python\n",
    "filename = 'huck_finn.txt'\n",
    "file = open(filename, mode='w') # 'w' is to write\n",
    "file.close()\n",
    "```\n",
    "\n",
    "## Context Manager with\n",
    "\n",
    "When using a '```with```' statement will allows us to create a context in which we can execute commands with file the open. Once out of this *clause/context*, the file is no longer open and, for this reason, '```with```' is called a **Context Manager**.\n",
    "\n",
    "```python\n",
    "with open('huck_finn.txt', 'r') as file:\n",
    "    print(file.read())\n",
    "```"
   ]
  },
  {
   "cell_type": "markdown",
   "metadata": {},
   "source": [
    "# Lesson II\n",
    "\n",
    "## The importance of flat files in data Science\n",
    "\n",
    "Flat Files are basic text files containing records, that is, table data, wtihout structured relationships. This is in contrast to a relational database, for example, in which columns of distinct tables can be related.\n",
    "\n",
    "* Text Files containing records\n",
    "* That is, table data\n",
    "* Record: row of fields or attributes\n",
    "* Column: feature or attribute"
   ]
  },
  {
   "cell_type": "markdown",
   "metadata": {},
   "source": [
    "# Lesson III\n",
    "\n",
    "## Importing flat Files using NumPy\n",
    "\n",
    "If all tthe data are numerical, we can use the package numpy to import the data as a numpy array. NumPy arrays are the Python standart for storing numerical data. They are efficient, fast and clean. Secondly, NumPy arrays are often essential for other packages, such as scikit-learn, a popular Machine Learning package for Python.\n",
    "\n",
    "### NumPy Functions loadtxt() and genfromtxt()\n",
    "\n",
    "* Import Numpy\n",
    "* Call loadtxt() and pass it the filename as the first argument\n",
    "* delimiter as the 2nd argument. -Default delimiter is any white space so we'll usually need to specify it explicitly-\n",
    "\n",
    "```python\n",
    "import numpy as np\n",
    "filename= 'datasets/MNIST_test.txt'\n",
    "data = np.loadtxt(filename, delimiter=',')\n",
    "display(data)\n",
    "```"
   ]
  },
  {
   "cell_type": "markdown",
   "metadata": {},
   "source": [
    "### Customizing your NumPy Import\n",
    "\n",
    "If your data consists of numerics and your header has strings in it, you will want to skip the first row by calling the argument ```skiprows=1```.\n",
    "\n",
    "If you want only the 1st and 3rd columns of the data,\n",
    "set ```usecols=[0, 2]```\n",
    "\n",
    "Setting argument ```dtype='str'``` will ensure that all entries are imported as strings."
   ]
  },
  {
   "cell_type": "markdown",
   "metadata": {},
   "source": [
    "## Exercise\n",
    "\n",
    "### Importing Different datatypes\n",
    "\n",
    "File is : ```seaslug.txt```\n",
    "\n",
    "* has a text header, consisting of strings\n",
    "* is tab-delimited."
   ]
  },
  {
   "cell_type": "code",
   "execution_count": 2,
   "metadata": {},
   "outputs": [
    {
     "name": "stdout",
     "output_type": "stream",
     "text": [
      "['Time' 'Percent']\n",
      "[0.    0.357]\n"
     ]
    },
    {
     "data": {
      "image/png": "[encoded data removed]",
      "text/plain": [
       "<Figure size 432x288 with 1 Axes>"
      ]
     },
     "metadata": {
      "needs_background": "light"
     },
     "output_type": "display_data"
    }
   ],
   "source": [
    "import numpy as np\n",
    "# Assign filename: file\n",
    "file = 'datasets/seaslug.txt'\n",
    "\n",
    "# Import File: Data\n",
    "data = np.loadtxt(file, delimiter='\\t',\n",
    "                  dtype=str)\n",
    "\n",
    "# Print the First element of data\n",
    "print(data[0])\n",
    "\n",
    "# Import data as floats and skip the first row: data_float\n",
    "data_float = np.loadtxt(file, delimiter='\\t',\n",
    "                        dtype=float, skiprows=1)\n",
    "\n",
    "# print the 10th element of data_float\n",
    "print(data_float[9])\n",
    "\n",
    "# Plot a scatter plot of the data\n",
    "import matplotlib.pyplot as plt\n",
    "\n",
    "plt.scatter(data_float[:, 0], data_float[:, 1])\n",
    "plt.xlabel('time (min.)')\n",
    "plt.ylabel('percentage of larvae')\n",
    "plt.show()"
   ]
  },
  {
   "cell_type": "markdown",
   "metadata": {},
   "source": [
    "### Working with mixed datatypes\n",
    "\n",
    "```python\n",
    "data = np.genfromtxt('titanic.csv', delimiter=',', names=True, dtype=None)\n",
    "```\n",
    "\n",
    "You have just used ```np.genfromtxt()``` to import data containing mixed datatypes. There is also another function ```np.recfromcsv()``` that behaves similarly to ```np.genfromtxt()```, except that its default ```dtype``` is ```None```. In this exercise, you'll practice using this to achieve the same result."
   ]
  },
  {
   "cell_type": "code",
   "execution_count": 3,
   "metadata": {},
   "outputs": [
    {
     "name": "stdout",
     "output_type": "stream",
     "text": [
      "[(1, 0, 3, b'male', 22., 1, 0, b'A/5 21171',  7.25  , b'', b'S')\n",
      " (2, 1, 1, b'female', 38., 1, 0, b'PC 17599', 71.2833, b'C85', b'C')\n",
      " (3, 1, 3, b'female', 26., 0, 0, b'STON/O2. 3101282',  7.925 , b'', b'S')]\n"
     ]
    },
    {
     "name": "stderr",
     "output_type": "stream",
     "text": [
      "c:\\Users\\devil\\anaconda3\\lib\\site-packages\\numpy\\lib\\npyio.py:2407: VisibleDeprecationWarning: Reading unicode strings without specifying the encoding argument is deprecated. Set the encoding, use None for the system default.\n",
      "  output = genfromtxt(fname, **kwargs)\n"
     ]
    }
   ],
   "source": [
    "# Assign the filename : file\n",
    "file = 'datasets/titanic_sub.csv'\n",
    "\n",
    "# Import file using np.recfromcsv\n",
    "d = np.recfromcsv(file)\n",
    "\n",
    "# Print out first three entries of d\n",
    "print(d[:3])"
   ]
  },
  {
   "cell_type": "markdown",
   "metadata": {},
   "source": [
    "# Lesson IV\n",
    "\n",
    "## Importing flat files using pandas\n",
    "\n",
    "What a data Scientists need : \n",
    "\n",
    "* Two-dimensional labeled data structure(s)\n",
    "* Columns of potentially different types\n",
    "* Manipulate, slice, reshape, groupby, join, merge\n",
    "* Perform Statistics\n",
    "* Work with time series data\n",
    "\n",
    "### Pandas and the DataFrame\n",
    "\n",
    "<img src='pictures/pandas.jpg' />\n",
    "\n",
    "* DataFrame = pythonic analog of R's data frame\n",
    "\n",
    "### Manipulating pandas DataFrames\n",
    "\n",
    "* Exploratory data analysis\n",
    "* Data Wrangling\n",
    "* Data preprocessing\n",
    "* Building models\n",
    "* Visualization\n",
    "* Standart and best practice to use pandas\n",
    "\n",
    "### Importing using pandas"
   ]
  },
  {
   "cell_type": "code",
   "execution_count": 4,
   "metadata": {},
   "outputs": [
    {
     "data": {
      "text/html": [
       "<div>\n",
       "<style scoped>\n",
       "    .dataframe tbody tr th:only-of-type {\n",
       "        vertical-align: middle;\n",
       "    }\n",
       "\n",
       "    .dataframe tbody tr th {\n",
       "        vertical-align: top;\n",
       "    }\n",
       "\n",
       "    .dataframe thead th {\n",
       "        text-align: right;\n",
       "    }\n",
       "</style>\n",
       "<table border=\"1\" class=\"dataframe\">\n",
       "  <thead>\n",
       "    <tr style=\"text-align: right;\">\n",
       "      <th></th>\n",
       "      <th>PassengerId</th>\n",
       "      <th>Survived</th>\n",
       "      <th>Pclass</th>\n",
       "      <th>Sex</th>\n",
       "      <th>Age</th>\n",
       "      <th>SibSp</th>\n",
       "      <th>Parch</th>\n",
       "      <th>Ticket</th>\n",
       "      <th>Fare</th>\n",
       "      <th>Cabin</th>\n",
       "      <th>Embarked</th>\n",
       "    </tr>\n",
       "  </thead>\n",
       "  <tbody>\n",
       "    <tr>\n",
       "      <th>0</th>\n",
       "      <td>1</td>\n",
       "      <td>0</td>\n",
       "      <td>3</td>\n",
       "      <td>male</td>\n",
       "      <td>22.0</td>\n",
       "      <td>1</td>\n",
       "      <td>0</td>\n",
       "      <td>A/5 21171</td>\n",
       "      <td>7.2500</td>\n",
       "      <td>NaN</td>\n",
       "      <td>S</td>\n",
       "    </tr>\n",
       "    <tr>\n",
       "      <th>1</th>\n",
       "      <td>2</td>\n",
       "      <td>1</td>\n",
       "      <td>1</td>\n",
       "      <td>female</td>\n",
       "      <td>38.0</td>\n",
       "      <td>1</td>\n",
       "      <td>0</td>\n",
       "      <td>PC 17599</td>\n",
       "      <td>71.2833</td>\n",
       "      <td>C85</td>\n",
       "      <td>C</td>\n",
       "    </tr>\n",
       "    <tr>\n",
       "      <th>2</th>\n",
       "      <td>3</td>\n",
       "      <td>1</td>\n",
       "      <td>3</td>\n",
       "      <td>female</td>\n",
       "      <td>26.0</td>\n",
       "      <td>0</td>\n",
       "      <td>0</td>\n",
       "      <td>STON/O2. 3101282</td>\n",
       "      <td>7.9250</td>\n",
       "      <td>NaN</td>\n",
       "      <td>S</td>\n",
       "    </tr>\n",
       "    <tr>\n",
       "      <th>3</th>\n",
       "      <td>4</td>\n",
       "      <td>1</td>\n",
       "      <td>1</td>\n",
       "      <td>female</td>\n",
       "      <td>35.0</td>\n",
       "      <td>1</td>\n",
       "      <td>0</td>\n",
       "      <td>113803</td>\n",
       "      <td>53.1000</td>\n",
       "      <td>C123</td>\n",
       "      <td>S</td>\n",
       "    </tr>\n",
       "    <tr>\n",
       "      <th>4</th>\n",
       "      <td>5</td>\n",
       "      <td>0</td>\n",
       "      <td>3</td>\n",
       "      <td>male</td>\n",
       "      <td>35.0</td>\n",
       "      <td>0</td>\n",
       "      <td>0</td>\n",
       "      <td>373450</td>\n",
       "      <td>8.0500</td>\n",
       "      <td>NaN</td>\n",
       "      <td>S</td>\n",
       "    </tr>\n",
       "  </tbody>\n",
       "</table>\n",
       "</div>"
      ],
      "text/plain": [
       "   PassengerId  Survived  Pclass     Sex   Age  SibSp  Parch  \\\n",
       "0            1         0       3    male  22.0      1      0   \n",
       "1            2         1       1  female  38.0      1      0   \n",
       "2            3         1       3  female  26.0      0      0   \n",
       "3            4         1       1  female  35.0      1      0   \n",
       "4            5         0       3    male  35.0      0      0   \n",
       "\n",
       "             Ticket     Fare Cabin Embarked  \n",
       "0         A/5 21171   7.2500   NaN        S  \n",
       "1          PC 17599  71.2833   C85        C  \n",
       "2  STON/O2. 3101282   7.9250   NaN        S  \n",
       "3            113803  53.1000  C123        S  \n",
       "4            373450   8.0500   NaN        S  "
      ]
     },
     "execution_count": 4,
     "metadata": {},
     "output_type": "execute_result"
    }
   ],
   "source": [
    "import pandas as pd\n",
    "\n",
    "filename = 'datasets/titanic_sub.csv'\n",
    "data = pd.read_csv(filename)\n",
    "data.head()"
   ]
  },
  {
   "cell_type": "code",
   "execution_count": 5,
   "metadata": {},
   "outputs": [],
   "source": [
    "# Converting dataframe into a numpy array\n",
    "data_array = data.values\n"
   ]
  }
 ],
 "metadata": {
  "kernelspec": {
   "display_name": "Python 3.8.8 ('base')",
   "language": "python",
   "name": "python3"
  },
  "language_info": {
   "codemirror_mode": {
    "name": "ipython",
    "version": 3
   },
   "file_extension": ".py",
   "mimetype": "text/x-python",
   "name": "python",
   "nbconvert_exporter": "python",
   "pygments_lexer": "ipython3",
   "version": "3.8.8"
  },
  "orig_nbformat": 4,
  "vscode": {
   "interpreter": {
    "hash": "4c59e6e5379e7fd956ce48a476e9664867cfb6229c9530fa6fd87fb84f21040f"
   }
  }
 },
 "nbformat": 4,
 "nbformat_minor": 2
}
