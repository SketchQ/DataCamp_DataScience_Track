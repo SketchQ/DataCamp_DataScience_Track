{
 "cells": [
  {
   "cell_type": "markdown",
   "metadata": {},
   "source": [
    "# Lesson I \n",
    "\n",
    "## Introduction to other file Types\n",
    "\n",
    "In this chapter, we will learn how to import :\n",
    "\n",
    "* Excel Spreadsheets\n",
    "* MATLAB files\n",
    "* SAS Files\n",
    "* Stata Files\n",
    "* HDF5 Files\n",
    "\n",
    "Another File type we'll learn about in this Chapter is that of a **'pickled'** file.\n",
    "\n",
    "### Pickled Files\n",
    "\n",
    "* File type native to Python\n",
    "* Motivation: many datatypes for which it isn't obvious how to store them\n",
    "* Pickled files are serialized\n",
    "* Serialize = convert object to bytestream\n",
    "\n",
    "As we've done before, when opening a such file, we'll want to specify that it is read only: We'll also want to specify that it is a binary file. To specify both read only and binary, we'll wanto to pass the string ```'rb'``` as the second argument of ```open```.\n",
    "\n",
    "```python\n",
    "import pickle\n",
    "with open('pickled_fruit.pkl', 'rb') as file:\n",
    "    data = pickle.load(file)\n",
    "\n",
    "print(data)    \n",
    "```\n",
    "\n",
    "### Excel Spreadsheets\n",
    "\n",
    "An Excel file generally consists of a number of sheets. There are many ways to import Excel Files and we'll use **pandas** to do so because it produces dataframes *natively*.\n",
    "\n",
    "```python\n",
    "import pandas as pd\n",
    "file = 'urbanpop.xlsx'\n",
    "data = pd.ExcelFile(file)\n",
    "print(data.sheet_names)\n",
    "\n",
    "'''\n",
    "['1960-1966', '1967-1974', '1975-2011']\n",
    "'''\n",
    "\n",
    "df1 = data.parse('1960-1966') # sheet name, as a string\n",
    "df2 = data.parse(0) # sheet index, as a float\n",
    "```\n",
    "\n",
    "We'll also learn:\n",
    "\n",
    "* How to customize your import\n",
    "* Skip rows\n",
    "* Import certain columns\n",
    "* Change column names"
   ]
  },
  {
   "cell_type": "markdown",
   "metadata": {},
   "source": [
    "# Exercise\n",
    "\n",
    "## Listing Sheets in Excel Files\n",
    "\n",
    "Whether you like it or not, any working data scientist will need to deal with Excel spreadsheets at some point in time. You won't always want to do so in Excel, however!\n",
    "\n",
    "Here, you'll learn how to use ```pandas``` to import Excel spreadsheets and how to list the names of the sheets in any loaded .xlsx file.\n",
    "\n",
    "Recall from the video that, given an Excel file imported into a variable ```spreadsheet```, you can retrieve a list of the sheet names using the attribute ```spreadsheet.sheet_names```.\n",
    "\n",
    "Specifically, you'll be loading and checking out the spreadsheet ```'battledeath.xlsx'```, modified from the Peace Research Institute Oslo's (PRIO) [dataset](https://www.prio.org/data). This data contains age-adjusted mortality rates due to war in various countries over several years.\n"
   ]
  },
  {
   "cell_type": "code",
   "execution_count": 3,
   "metadata": {},
   "outputs": [
    {
     "name": "stdout",
     "output_type": "stream",
     "text": [
      "['2002', '2004']\n"
     ]
    }
   ],
   "source": [
    "# Import pandas\n",
    "import pandas as pd\n",
    "\n",
    "# Assign spreadsheet filename: file\n",
    "file = 'datasets/battledeath.xlsx'\n",
    "\n",
    "# Load spreadsheet: xls\n",
    "xls = pd.ExcelFile(file)\n",
    "\n",
    "# print sheet names\n",
    "print(xls.sheet_names)"
   ]
  },
  {
   "cell_type": "markdown",
   "metadata": {},
   "source": [
    "## Importing sheets from Excel Files\n",
    "\n",
    "In the previous exercises, you saw that the Excel file contains two sheets, ```'2002'``` and ```'2004'```. The next step is to import these.\n",
    "\n",
    "In this exercise, you'll learn how to import any given sheet of your loaded .xlsx file as a *DataFrame*. You'll be able to do so by specifying either the sheet's name or its index.\n",
    "\n",
    "The spreadsheet ```'battledeath.xlsx'``` is already loaded as ```xls```."
   ]
  },
  {
   "cell_type": "code",
   "execution_count": 4,
   "metadata": {},
   "outputs": [
    {
     "name": "stdout",
     "output_type": "stream",
     "text": [
      "  War(country)      2004\n",
      "0  Afghanistan  9.451028\n",
      "1      Albania  0.130354\n",
      "2      Algeria  3.407277\n",
      "3      Andorra  0.000000\n",
      "4       Angola  2.597931\n",
      "  War, age-adjusted mortality due to       2002\n",
      "0                        Afghanistan  36.083990\n",
      "1                            Albania   0.128908\n",
      "2                            Algeria  18.314120\n",
      "3                            Andorra   0.000000\n",
      "4                             Angola  18.964560\n"
     ]
    }
   ],
   "source": [
    "# Load a sheet into a DataFrame by name: df1\n",
    "df1 = xls.parse('2004')\n",
    "\n",
    "# Print the head of the DataFrame df1\n",
    "print(df1.head())\n",
    "\n",
    "# Load a sheet into a DataFrame by index: df2\n",
    "df2 = xls.parse(0)\n",
    "\n",
    "# Print the head of the DataFrame df2\n",
    "print(df2.head())"
   ]
  },
  {
   "cell_type": "markdown",
   "metadata": {},
   "source": [
    "## Customizing your Spreadsheet\n",
    "\n",
    "Here, you'll parse your spreadsheets and use additional arguments to skip rows, rename columns and select only particular columns.\n",
    "\n",
    "The spreadsheet ```'battledeath.xlsx'``` is already loaded as ```xls```.\n",
    "\n",
    "As before, you'll use the method ```parse()```. This time, however, you'll add the additional arguments ```skiprows```, ```names``` and ```usecols```. These skip rows, name the columns and designate which columns to parse, respectively. All these arguments can be assigned to lists containing the specific row numbers, strings and column numbers, as appropriate.\n"
   ]
  },
  {
   "cell_type": "code",
   "execution_count": 5,
   "metadata": {},
   "outputs": [
    {
     "name": "stdout",
     "output_type": "stream",
     "text": [
      "               Country  AAM due to War (2002)\n",
      "0              Albania               0.128908\n",
      "1              Algeria              18.314120\n",
      "2              Andorra               0.000000\n",
      "3               Angola              18.964560\n",
      "4  Antigua and Barbuda               0.000000\n",
      "               Country\n",
      "0              Albania\n",
      "1              Algeria\n",
      "2              Andorra\n",
      "3               Angola\n",
      "4  Antigua and Barbuda\n"
     ]
    }
   ],
   "source": [
    "# Parse the first sheet and rename the columns: df1\n",
    "df1 = xls.parse(0, skiprows=[0], names=['Country', 'AAM due to War (2002)'])\n",
    "\n",
    "# Print the head of the DataFrame df1\n",
    "print(df1.head())\n",
    "\n",
    "# Parse the first column of the second sheet and rename the column: df2\n",
    "df2 = xls.parse(1, usecols=[0], skiprows=[0], names=['Country'])\n",
    "\n",
    "# Print the head of the DataFrame df2\n",
    "print(df2.head())"
   ]
  }
 ],
 "metadata": {
  "kernelspec": {
   "display_name": "Python 3.8.8 ('base')",
   "language": "python",
   "name": "python3"
  },
  "language_info": {
   "codemirror_mode": {
    "name": "ipython",
    "version": 3
   },
   "file_extension": ".py",
   "mimetype": "text/x-python",
   "name": "python",
   "nbconvert_exporter": "python",
   "pygments_lexer": "ipython3",
   "version": "3.8.8"
  },
  "orig_nbformat": 4,
  "vscode": {
   "interpreter": {
    "hash": "4c59e6e5379e7fd956ce48a476e9664867cfb6229c9530fa6fd87fb84f21040f"
   }
  }
 },
 "nbformat": 4,
 "nbformat_minor": 2
}
