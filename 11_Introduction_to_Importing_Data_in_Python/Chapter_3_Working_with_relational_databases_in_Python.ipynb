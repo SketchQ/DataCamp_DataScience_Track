{
 "cells": [
  {
   "cell_type": "markdown",
   "metadata": {},
   "source": [
    "# Lesson I \n",
    "\n",
    "## Introduction to Relational Databases\n",
    "\n",
    "**What is a relational database?**\n",
    "\n",
    "* Based on relational model of data\n",
    "* First described by Edgar \"Ted\" Codd\n",
    "\n",
    "The Northwind Traders database, a synthetic database that contains sales data for a fictitious company. Firstly, database consists of tables. \n",
    "\n",
    "<img src='pictures/NorthwindDatabase.jpg' />\n",
    "\n",
    "Here we can see 3 tables from the Northwind database:\n",
    "\n",
    "* Orders\n",
    "* Customers\n",
    "* Employees\n",
    "\n",
    "So what's a table? A table generally reprsents one entity type, such as **'Order'**. This table looks a great deal like a dataframe and that's the point.\n",
    "\n",
    "In relational databases you do not merely have a bunch of tables, but that tables are **linked**. See that the **'Orders'** table has both column called ```'CustomerID'``` and ```'EmployeeeID'```. These columns correspond precisely to the primary keys in the **'Customers'** and **'Employees'** tables, respectively.\n",
    "\n",
    "### Relational mode\n",
    "\n",
    "* Widely adopted\n",
    "\n",
    "* Codd's 12 Rules/Commandments\n",
    "    - Consists of 13 rules (zero-indexed)\n",
    "    - Describes what a Relational Database Management System should adhere to to be considered Relational.\n",
    "\n",
    "### Relational Database management Systems\n",
    "\n",
    "* PostreSQL\n",
    "* MySQL\n",
    "* SQLite\n",
    "* SQL = \"Structured Query Language\""
   ]
  },
  {
   "cell_type": "markdown",
   "metadata": {},
   "source": [
    "# Lesson II\n",
    "\n",
    "## Creating a database engine in Python\n",
    "\n",
    "Before we get data out of our databases using SQL, we're going to need to figure out how to connect to a database.\n",
    "\n",
    "There are times when you would prefer to use PostgreSQL or MySQL, but for our purposes here, a SQLite is perfect.\n",
    "\n",
    "* SQLite database\n",
    "    - Fast and simple\n",
    "\n",
    "There are many packages we could use to access an SQLite database such as sqlite3 and SQLAlchemy. We'll use SQLAlchemy as it works with many other Relational Database Management Systems, such as Postgres and MySQL.\n",
    "\n",
    "* SQLAlchemy\n",
    "    - Works with many Relational Database Management Systems\n",
    "\n",
    "To connect to ```'Northwind.sqlite'```:\n",
    "* we need to import the relevant function ```create_engine()``` from the package ```SQLAlchemy```.\n",
    "* We then use the function ```create_engine()``` to fire up an SQL engine that will communicate our queries to the database.\n",
    "* The only required argument of ```create_engine()``` is a *string* that indicates the *type* of database you're conntecting to and the *name* of the database.\n",
    "\n",
    "```python\n",
    "from sqlalchemy import create_engine\n",
    "engine = create_engine('sqlite:///Northwind.sqlite')\n",
    "```\n",
    "\n",
    "We would like to know the names of the tables database contains. To do this:\n",
    "* apply the method ```table_names``` to the *object* engine\n",
    "* This will returna *list* of table names that we can print to the console.\n",
    "\n",
    "```python\n",
    "table_names = engine.table_names()\n",
    "print(table_names)\n",
    "```"
   ]
  },
  {
   "cell_type": "markdown",
   "metadata": {},
   "source": [
    "# Exercise\n",
    "\n",
    "## Creating a database engine\n",
    "\n",
    "Here, you're going to fire up your very first SQL engine. You'll create an engine to connect to the SQLite database ```'Chinook.sqlite'```, which is in your working directory. Remember that to create an engine to connect to ```'Northwind.sqlite'```, Hugo executed the command:\n",
    "\n",
    "```python\n",
    "engine = create_engine('sqlite:///Northwind.sqlite')\n",
    "```\n",
    "Here, ```'sqlite:///Northwind.sqlite'``` is called the **connection string** to the SQLite database ```Northwind.sqlite```. A little bit of background on the [Chinook database](https://github.com/lerocha/chinook-database): the Chinook database contains information about a semi-fictional digital media store in which media data is real and customer, employee and sales data has been manually created.\n",
    "\n",
    "Why the name Chinook, you ask? According to their [website](https://github.com/lerocha/chinook-database),\n",
    "\n",
    "> The name of this sample database was based on the Northwind database. Chinooks are winds in the interior West of North America, where the Canadian Prairies and Great Plains meet various mountain ranges. Chinooks are most prevalent over southern Alberta in Canada. Chinook is a good name choice for a database that intends to be an alternative to Northwind.\n"
   ]
  },
  {
   "cell_type": "code",
   "execution_count": 1,
   "metadata": {},
   "outputs": [],
   "source": [
    "# Import necessary module\n",
    "from sqlalchemy import create_engine\n",
    "\n",
    "# Create engine: engine\n",
    "engine = create_engine('sqlite:///Chinook.sqlite')"
   ]
  },
  {
   "cell_type": "markdown",
   "metadata": {},
   "source": [
    "## What are the tables in the database?\n",
    "\n",
    "In this exercise, you'll once again create an engine to connect to ```'Chinook.sqlite'```. Before you can get any data out of the database, however, you'll need to know what tables it contains!\n",
    "\n",
    "To this end, you'll save the table names to a list using the method ```table_names()``` on the engine and then you will print the list."
   ]
  },
  {
   "cell_type": "code",
   "execution_count": 3,
   "metadata": {},
   "outputs": [
    {
     "name": "stdout",
     "output_type": "stream",
     "text": [
      "['Album', 'Artist', 'Customer', 'Employee', 'Genre', 'Invoice', 'InvoiceLine', 'MediaType', 'Playlist', 'PlaylistTrack', 'Track']\n"
     ]
    },
    {
     "name": "stderr",
     "output_type": "stream",
     "text": [
      "C:\\Users\\devil\\AppData\\Local\\Temp\\ipykernel_2396\\827030650.py:8: SADeprecationWarning: The Engine.table_names() method is deprecated and will be removed in a future release.  Please refer to Inspector.get_table_names(). (deprecated since: 1.4)\n",
      "  table_names = engine.table_names()\n"
     ]
    }
   ],
   "source": [
    "# Import necessary module\n",
    "from sqlalchemy import create_engine\n",
    "\n",
    "# Create engine: engine\n",
    "engine = create_engine('sqlite:///datasets/Chinook.sqlite')\n",
    "\n",
    "# Save the table names to a list: table_names\n",
    "table_names = engine.table_names()\n",
    "\n",
    "# Print the table names to the shell\n",
    "print(table_names)"
   ]
  },
  {
   "cell_type": "markdown",
   "metadata": {},
   "source": [
    "# Lesson III\n",
    "\n",
    "## Querying relational databases in Python\n",
    "\n",
    "It's time to connect to the engine and query the database. The term, **\"querying\"** is just a fancy way of saying getting data out from the database.\n",
    "\n",
    "### Basic SQL query\n",
    "\n",
    "The ```HELLO WORLD!``` of SQL qeueries is ```\"SELECT * FROM Table_name\"```, where ```'Table_name'``` is the name of any of the tables in the database.\n",
    "\n",
    "* This query returns all columns of all rows of the table of interest.\n",
    "\n",
    "Example: From the ```'Northwind.sqlite'``` :\n",
    "\n",
    "```python\n",
    "SELECT * FROM Orders\n",
    "```\n",
    "\n",
    "Will return all of the rows from the column ```'Orders'```\n",
    "\n",
    "* We'll also use SQLAlchemy and pandas\n",
    "\n",
    "### Workflow of SQL querying\n",
    "\n",
    "* Import packages and functions\n",
    "* Create the database engine\n",
    "* Connect to the engine\n",
    "* Query the database\n",
    "* Save query results to a DataFrame\n",
    "* Close the connection\n",
    "\n",
    "Let's now check out how to do each of these steps!\n",
    "\n",
    "```python\n",
    "from sqlalchemy import create_engine\n",
    "import pandas as pd\n",
    "engine = create_engine('sqlite:///Northwind.sqlite')\n",
    "con = engine.connect()\n",
    "rs = con.execute(\"SELECT * FROM Orders\")\n",
    "df = pd.DataFrame(rs.fetchall())\n",
    "con.close()\n",
    "```\n",
    "\n",
    "You can then print the head of the dataframe, as we have done before, as a sanity check:\n",
    "\n",
    "```python\n",
    "print(df.head())\n",
    "```\n",
    "\n",
    "Result of this, will be all of the rows look good but the columns names aren't correct. To fix this, before closing the connection, we can set the dataframe's columns names by executing ```df.columns = rs.keys```\n",
    "\n",
    "```python\n",
    "from sqlalchemy import create_engine\n",
    "import pandas as pd\n",
    "engine = create_engine('sqlite:///Northwind.sqlite')\n",
    "con = engine.connect()\n",
    "rs = con.execute(\"SELECT * FROM Orders\")\n",
    "df = pd.DataFrame(rs.fetchall())\n",
    "df.columns = rs.keys() # This will fixed the column names\n",
    "con.close()\n",
    "```\n",
    "\n",
    "We can also use the context manager construct to open a connection, which will save us the trouble of closing the connection later, or save the trouble of forgetting to close it!\n",
    "\n",
    "```python\n",
    "from sqlalchemy import create_engine\n",
    "import pandas as pd\n",
    "engine = create_engine('sqlite:///Northwind.sqlite')\n",
    "```\n",
    "\n",
    "```python\n",
    "with engine.connect() as con:\n",
    "    rs = con.execute(\"SELECT OrderID, OrderDate, ShipName FROM Orders\") # We import those specific columns from the database\n",
    "    df = pd.DataFrame(rs.fetchmany(size=5)) # we will only query 5 rows from database\n",
    "    df.columns = rs.keys()\n",
    "```"
   ]
  },
  {
   "cell_type": "markdown",
   "metadata": {},
   "source": [
    "# Exercise \n",
    "\n",
    "## The Hello World of SQL queries\n",
    "\n",
    "Now, it's time for liftoff! In this exercise, you'll perform the Hello World of SQL queries, ```SELECT```, in order to retrieve all columns of the table ```Album``` in the Chinook database. Recall that the query ```SELECT *``` selects all columns."
   ]
  },
  {
   "cell_type": "code",
   "execution_count": 4,
   "metadata": {},
   "outputs": [
    {
     "name": "stdout",
     "output_type": "stream",
     "text": [
      "   AlbumId                                  Title  ArtistId\n",
      "0        1  For Those About To Rock We Salute You         1\n",
      "1        2                      Balls to the Wall         2\n",
      "2        3                      Restless and Wild         2\n",
      "3        4                      Let There Be Rock         1\n",
      "4        5                               Big Ones         3\n"
     ]
    }
   ],
   "source": [
    "# Import packages\n",
    "from sqlalchemy import create_engine\n",
    "import pandas as pd\n",
    "\n",
    "# Create engine : engine\n",
    "engine = create_engine('sqlite:///datasets/Chinook.sqlite')\n",
    "\n",
    "# Open engine connection : con\n",
    "con = engine.connect()\n",
    "\n",
    "# Perform query : rs\n",
    "rs = con.execute(\"SELECT * FROM Album\")\n",
    "\n",
    "# Save results of the query to DataFrame : df\n",
    "df = pd.DataFrame(rs.fetchall())\n",
    "df.columns = rs.keys()\n",
    "\n",
    "# Close connection\n",
    "con.close()\n",
    "\n",
    "# Print head of DataFrame df\n",
    "print(df.head())"
   ]
  },
  {
   "cell_type": "markdown",
   "metadata": {},
   "source": [
    "## Customizing the Hello World of SQL Queries\n",
    "\n",
    "Congratulations on executing your first SQL query! Now you're going to figure out how to customize your query in order to:\n",
    "\n",
    "* Select specified columns from a table;\n",
    "* Select a specified number of rows;\n",
    "* Import column names from the database table.\n",
    "\n",
    "Recall that Hugo performed a very similar query customization in the video:\n",
    "\n",
    "```python\n",
    "engine = create_engine('sqlite:///Northwind.sqlite')\n",
    "\n",
    "with engine.connect() as con:\n",
    "    rs = con.execute(\"SELECT OrderID, OrderDate, ShipName FROM Orders\")\n",
    "    df = pd.DataFrame(rs.fetchmany(size=5))\n",
    "    df.columns = rs.keys()\n",
    "```\n",
    "\n",
    "Packages have already been imported as follows:\n",
    "\n",
    "```python\n",
    "from sqlalchemy import create_engine\n",
    "import pandas as pd\n",
    "```\n",
    "\n",
    "The engine has also already been created:\n",
    "\n",
    "```python\n",
    "engine = create_engine('sqlite:///Chinook.sqlite')\n",
    "```\n",
    "\n",
    "The engine connection is already open with the statement:\n",
    "\n",
    "```python\n",
    "with engine.connect() as con:\n",
    "```"
   ]
  },
  {
   "cell_type": "code",
   "execution_count": 5,
   "metadata": {},
   "outputs": [
    {
     "name": "stdout",
     "output_type": "stream",
     "text": [
      "3\n",
      "  LastName                Title\n",
      "0    Adams      General Manager\n",
      "1  Edwards        Sales Manager\n",
      "2  Peacock  Sales Support Agent\n"
     ]
    }
   ],
   "source": [
    "# Open engine in context manager\n",
    "# Perform query and save results to DataFrame: df\n",
    "with engine.connect() as con:\n",
    "    rs = con.execute(\"SELECT LastName, Title FROM Employee\")\n",
    "    df = pd.DataFrame(rs.fetchmany(size=3))\n",
    "    df.columns = rs.keys()\n",
    "    \n",
    "# Print the length of the DataFrame df\n",
    "print(len(df))\n",
    "\n",
    "# Print the head of the DataFrame df\n",
    "print(df.head())    "
   ]
  },
  {
   "cell_type": "markdown",
   "metadata": {},
   "source": [
    "## Filtering your Database records using SQL'S WHERE\n",
    "\n",
    "You can now execute a basic SQL query to select records from any table in your database and you can also perform simple query customizations to select particular columns and numbers of rows.\n",
    "\n",
    "There are a couple more standard SQL query chops that will aid you in your journey to becoming an SQL ninja.\n",
    "\n",
    "Let's say, for example that you wanted to get all records from the ```Customer``` table of the Chinook database for which the ```Country``` is ```'Canada'```. You can do this very easily in SQL using a ```SELECT``` statement followed by a ```WHERE``` clause as follows:\n",
    "\n",
    "```python\n",
    "SELECT * FROM Customer WHERE Country = 'Canada'\n",
    "```\n",
    "\n",
    "In fact, you can filter any ```SELECT``` statement by any condition using a ```WHERE``` clause. This is called *filtering* your records.\n",
    "\n",
    "In this exercise, you'll select all records of the ```Employee``` table for which ```'EmployeeId'``` is **greater than or equal** to ```6```.\n",
    "\n",
    "Packages are already imported as follows:\n",
    "\n",
    "```python\n",
    "import pandas as pd\n",
    "from sqlalchemy import create_engine\n",
    "```"
   ]
  },
  {
   "cell_type": "code",
   "execution_count": 6,
   "metadata": {},
   "outputs": [
    {
     "name": "stdout",
     "output_type": "stream",
     "text": [
      "   EmployeeId  LastName FirstName       Title  ReportsTo            BirthDate  \\\n",
      "0           6  Mitchell   Michael  IT Manager          1  1973-07-01 00:00:00   \n",
      "1           7      King    Robert    IT Staff          6  1970-05-29 00:00:00   \n",
      "2           8  Callahan     Laura    IT Staff          6  1968-01-09 00:00:00   \n",
      "\n",
      "              HireDate                      Address        City State Country  \\\n",
      "0  2003-10-17 00:00:00         5827 Bowness Road NW     Calgary    AB  Canada   \n",
      "1  2004-01-02 00:00:00  590 Columbia Boulevard West  Lethbridge    AB  Canada   \n",
      "2  2004-03-04 00:00:00                  923 7 ST NW  Lethbridge    AB  Canada   \n",
      "\n",
      "  PostalCode              Phone                Fax                    Email  \n",
      "0    T3B 0C5  +1 (403) 246-9887  +1 (403) 246-9899  michael@chinookcorp.com  \n",
      "1    T1K 5N8  +1 (403) 456-9986  +1 (403) 456-8485   robert@chinookcorp.com  \n",
      "2    T1H 1Y8  +1 (403) 467-3351  +1 (403) 467-8772    laura@chinookcorp.com  \n"
     ]
    }
   ],
   "source": [
    "# Create engine : engine\n",
    "engine = create_engine('sqlite:///datasets/Chinook.sqlite')\n",
    "\n",
    "# Open engine in context manager\n",
    "# Perform query and save results to DataFrame : df\n",
    "with engine.connect() as con:\n",
    "    rs = con.execute(\"SELECT * FROM Employee WHERE EmployeeId >= 6\")\n",
    "    df = pd.DataFrame(rs.fetchall())\n",
    "    df.columns = rs.keys()\n",
    "    \n",
    "# Print the head of the DataFrame df\n",
    "print(df.head())    "
   ]
  },
  {
   "cell_type": "markdown",
   "metadata": {},
   "source": [
    "## Ordering your SQL Recors with ORDER BY\n",
    "\n",
    "You can also order your SQL query results. For example, if you wanted to get all records from the ```Customer``` table of the Chinook database and order them in increasing order by the column ```SupportRepId```, you could do so with the following query:\n",
    "\n",
    "```python\n",
    "\"SELECT * FROM Customer ORDER BY SupportRepId\"\n",
    "```\n",
    "In fact, you can order any ```SELECT``` statement by any column.\n",
    "\n",
    "In this exercise, you'll select all records of the ```Employee``` table and order them in increasing order by the column ```BirthDate```.\n",
    "\n",
    "Packages are already imported as follows:\n",
    "\n",
    "```python\n",
    "import pandas as pd\n",
    "from sqlalchemy import create_engine\n",
    "```"
   ]
  },
  {
   "cell_type": "code",
   "execution_count": 7,
   "metadata": {},
   "outputs": [
    {
     "name": "stdout",
     "output_type": "stream",
     "text": [
      "   EmployeeId  LastName FirstName                Title  ReportsTo  \\\n",
      "0           4      Park  Margaret  Sales Support Agent        2.0   \n",
      "1           2   Edwards     Nancy        Sales Manager        1.0   \n",
      "2           1     Adams    Andrew      General Manager        NaN   \n",
      "3           5   Johnson     Steve  Sales Support Agent        2.0   \n",
      "4           8  Callahan     Laura             IT Staff        6.0   \n",
      "\n",
      "             BirthDate             HireDate              Address        City  \\\n",
      "0  1947-09-19 00:00:00  2003-05-03 00:00:00     683 10 Street SW     Calgary   \n",
      "1  1958-12-08 00:00:00  2002-05-01 00:00:00         825 8 Ave SW     Calgary   \n",
      "2  1962-02-18 00:00:00  2002-08-14 00:00:00  11120 Jasper Ave NW    Edmonton   \n",
      "3  1965-03-03 00:00:00  2003-10-17 00:00:00         7727B 41 Ave     Calgary   \n",
      "4  1968-01-09 00:00:00  2004-03-04 00:00:00          923 7 ST NW  Lethbridge   \n",
      "\n",
      "  State Country PostalCode              Phone                Fax  \\\n",
      "0    AB  Canada    T2P 5G3  +1 (403) 263-4423  +1 (403) 263-4289   \n",
      "1    AB  Canada    T2P 2T3  +1 (403) 262-3443  +1 (403) 262-3322   \n",
      "2    AB  Canada    T5K 2N1  +1 (780) 428-9482  +1 (780) 428-3457   \n",
      "3    AB  Canada    T3B 1Y7   1 (780) 836-9987   1 (780) 836-9543   \n",
      "4    AB  Canada    T1H 1Y8  +1 (403) 467-3351  +1 (403) 467-8772   \n",
      "\n",
      "                      Email  \n",
      "0  margaret@chinookcorp.com  \n",
      "1     nancy@chinookcorp.com  \n",
      "2    andrew@chinookcorp.com  \n",
      "3     steve@chinookcorp.com  \n",
      "4     laura@chinookcorp.com  \n"
     ]
    }
   ],
   "source": [
    "# Create engine : engine\n",
    "engine = create_engine(\"sqlite:///datasets/Chinook.sqlite\")\n",
    "\n",
    "# Open engine in context manager\n",
    "with engine.connect() as con:\n",
    "    rs = con.execute(\"SELECT * FROM Employee ORDER BY BirthDate\")\n",
    "    df = pd.DataFrame(rs.fetchall())    \n",
    "    df.columns = rs.keys()\n",
    "    \n",
    "# print head of DataFrame\n",
    "print(df.head())    \n",
    "    "
   ]
  },
  {
   "cell_type": "markdown",
   "metadata": {},
   "source": [
    "# Lesson IV\n",
    "\n",
    "## Querying relational databases directly with pandas\n",
    "\n",
    "After creating a database engine, we can get the results of any particular line using 4 lines of code:\n",
    "* Connecting\n",
    "* Executing a query\n",
    "* Passing the results\n",
    "* Naming the columns\n",
    "\n",
    "```python\n",
    "from sqlalchemy import create_engine\n",
    "import pandas as pd\n",
    "engine = create_engine('sqlite:///Northwind.sqlite')\n",
    "with engine.connect() as con:\n",
    "    rs = con.execute(\"SELECT * FROM Orders\")\n",
    "    df = pd.DataFrame(rs.fetchall())\n",
    "    df.columns = rs.keys()\n",
    "```\n",
    "\n",
    "We can actually do it in 1 line, utilizing the pandas function ```read_sql_query()``` and passing 2 arguments:\n",
    "\n",
    "* Query you wish to make\n",
    "* Engine you want to connect to\n",
    "\n",
    "```python\n",
    "df = pd.read_sql_query(\"SELECT * FROM Orders\", engine)\n",
    "```\n",
    "\n",
    "And thus you can achive the same results by executing single line. The power of pandas!"
   ]
  },
  {
   "cell_type": "markdown",
   "metadata": {},
   "source": [
    "# Exercise\n",
    "\n",
    "## Pandas and The Hello World of SQL Queries!\n",
    "\n",
    "Here, you'll take advantage of the power of ```pandas``` to write the results of your SQL query to a DataFrame in one swift line of Python code!\n",
    "\n",
    "You'll first import ```pandas``` and create the SQLite ```'Chinook.sqlite'``` engine. Then you'll query the database to select all records from the ```Album``` table.\n",
    "\n",
    "Recall that to select all records from the ```Orders``` table in the Northwind database, Hugo executed the following command:\n",
    "\n",
    "```python\n",
    "df = pd.read_sql_query(\"SELECT * FROM Orders\")\n",
    "```"
   ]
  },
  {
   "cell_type": "code",
   "execution_count": 8,
   "metadata": {},
   "outputs": [
    {
     "name": "stdout",
     "output_type": "stream",
     "text": [
      "   AlbumId                                  Title  ArtistId\n",
      "0        1  For Those About To Rock We Salute You         1\n",
      "1        2                      Balls to the Wall         2\n",
      "2        3                      Restless and Wild         2\n",
      "3        4                      Let There Be Rock         1\n",
      "4        5                               Big Ones         3\n"
     ]
    }
   ],
   "source": [
    "# import packages\n",
    "from sqlalchemy import create_engine\n",
    "import pandas as pd\n",
    "\n",
    "# Create engine : engine\n",
    "engine = create_engine('sqlite:///datasets/Chinook.sqlite')\n",
    "\n",
    "# Execute query and store records in DataFrame: df\n",
    "df = pd.read_sql_query(\"SELECT * FROM Album\", engine)\n",
    "\n",
    "# Print head of DataFrame\n",
    "print(df.head())    "
   ]
  },
  {
   "cell_type": "markdown",
   "metadata": {},
   "source": [
    "## Pandas for more complex Querying\n",
    "\n",
    "Here, you'll become more familiar with the pandas function ```read_sql_query()``` by using it to execute a more complex query: a ```SELECT``` statement followed by both a ```WHERE``` clause AND an ```ORDER BY``` clause.\n",
    "\n",
    "You'll build a DataFrame that contains the rows of the ```Employee``` table for which the ```EmployeeId``` is **greater than or equal** to ```6``` and you'll order these entries by ```BirthDate```."
   ]
  },
  {
   "cell_type": "code",
   "execution_count": 9,
   "metadata": {},
   "outputs": [
    {
     "name": "stdout",
     "output_type": "stream",
     "text": [
      "   EmployeeId  LastName FirstName       Title  ReportsTo            BirthDate  \\\n",
      "0           8  Callahan     Laura    IT Staff          6  1968-01-09 00:00:00   \n",
      "1           7      King    Robert    IT Staff          6  1970-05-29 00:00:00   \n",
      "2           6  Mitchell   Michael  IT Manager          1  1973-07-01 00:00:00   \n",
      "\n",
      "              HireDate                      Address        City State Country  \\\n",
      "0  2004-03-04 00:00:00                  923 7 ST NW  Lethbridge    AB  Canada   \n",
      "1  2004-01-02 00:00:00  590 Columbia Boulevard West  Lethbridge    AB  Canada   \n",
      "2  2003-10-17 00:00:00         5827 Bowness Road NW     Calgary    AB  Canada   \n",
      "\n",
      "  PostalCode              Phone                Fax                    Email  \n",
      "0    T1H 1Y8  +1 (403) 467-3351  +1 (403) 467-8772    laura@chinookcorp.com  \n",
      "1    T1K 5N8  +1 (403) 456-9986  +1 (403) 456-8485   robert@chinookcorp.com  \n",
      "2    T3B 0C5  +1 (403) 246-9887  +1 (403) 246-9899  michael@chinookcorp.com  \n"
     ]
    }
   ],
   "source": [
    "# Import packages\n",
    "from sqlalchemy import create_engine\n",
    "import pandas as pd\n",
    "\n",
    "# Create engine: engine\n",
    "engine = create_engine('sqlite:///datasets/Chinook.sqlite')\n",
    "\n",
    "# Execute query and store records in DataFrame:df\n",
    "df = pd.read_sql_query(\"SELECT * FROM Employee WHERE EmployeeId >= 6 ORDER BY BirthDate\", engine)\n",
    "\n",
    "# Print head of DataFrame\n",
    "print(df.head())"
   ]
  },
  {
   "cell_type": "markdown",
   "metadata": {},
   "source": [
    "# Lesson V\n",
    "\n",
    "## Advanced Querying: Exploting table relationships\n",
    "\n",
    "We have become familiar with querying individual tables of databases, such as ```'Orders'``` table of the *Northwind database*. However, that much of the power of relational databases stems from the fact that they can capture relationships between tables: ***the tables are linked!***\n",
    "\n",
    "As we saw earlier, the ```'Orders'``` table of the the *Northwind Traders database* has both a column called ```'CustomerID'``` and ```'EmployeeID'``` which correspond precisely to the primary keys in the ```'Customers'``` and ```'Employees'``` tables. This means that, given an *Order*, we can immediately look up details of the relevant *Customer* or *Employee* in the appropriate table.\n",
    "\n",
    "<img src='pictures/tableslinked.jpg' />\n",
    "\n",
    "### JOINing Tables\n",
    "\n",
    "Now what if we want to incorporate such information into our query? For example, if we want to query the ```'Orders'``` table and include, for each *Order*, information about the corresponding *Customer* from the ```'Customers'``` table?\n",
    "\n",
    "<img src='pictures/joiningtable.jpg' />\n",
    "\n",
    "Let's say that we wanted, for each *Order*, to get the ```OrderID``` and the ```CompanyName``` of the *Customer*. The ```OrderID``` lives in the ```'Orders'``` table while the ```CompanyName``` lives in the ```'Customers'``` table.\n",
    "\n",
    "*SQL* has a really clever way of doing this: it's called a **JOIN** because what we're really doing is *joining two tables together*, in this case the ```'Orders'``` and ```'Customers'``` tables.\n",
    "\n",
    "Specifically it's an **INNER JOIN**. As it's the *CustomerID* columns of the ```'Orders'``` and ```'Customers'``` tables that correspond to each, we'll want to **JOIN** the tables **ON** these columns and that is precisely what we have done in this code:\n",
    "\n",
    "```python\n",
    "from sqlalchemy import create_engine\n",
    "import pandas as pd\n",
    "\n",
    "engine = create_engine('sqlite:///Northwind.sqlite')\n",
    "df = pd.read_sql_query(\"SELECT OrderID, CompanyName FROM Orders INNER JOIN Customers on Orders.CustomerID = Customers.CustomerID\", engine)\n",
    "print(df.head())\n",
    "```"
   ]
  },
  {
   "cell_type": "markdown",
   "metadata": {},
   "source": [
    "# Exercise\n",
    "\n",
    "## The power of SQL lies in relationships between tables: INNER JOIN\n",
    "\n",
    "Here, you'll perform your first ```INNER JOIN```! You'll be working with your favourite SQLite database, ```Chinook.sqlite```. For each record in the ```Album``` table, you'll extract the ```Title``` along with the ```Name``` of the ```Artist```. The latter will come from the ```Artist``` table and so you will need to ```INNER JOIN``` these two tables on the ```ArtistID``` column of *both*.\n",
    "\n",
    "Recall that to ```INNER JOIN``` the ```Orders``` and ```Customers``` tables from the Northwind database, Hugo executed the following SQL query:\n",
    "\n",
    "```python\n",
    "\"SELECT OrderID, CompanyName FROM Orders INNER JOIN Customers on Orders.CustomerID = Customers.CustomerID\"\n",
    "```\n",
    "\n",
    "The following code has already been executed to import the necessary packages and to create the engine:\n",
    "\n",
    "```python\n",
    "import pandas as pd\n",
    "from sqlalchemy import create_engine\n",
    "engine = create_engine('sqlite:///Chinook.sqlite')\n",
    "```"
   ]
  },
  {
   "cell_type": "code",
   "execution_count": 10,
   "metadata": {},
   "outputs": [
    {
     "name": "stdout",
     "output_type": "stream",
     "text": [
      "                                   Title       Name\n",
      "0  For Those About To Rock We Salute You      AC/DC\n",
      "1                      Balls to the Wall     Accept\n",
      "2                      Restless and Wild     Accept\n",
      "3                      Let There Be Rock      AC/DC\n",
      "4                               Big Ones  Aerosmith\n"
     ]
    }
   ],
   "source": [
    "# Open engine in context manager\n",
    "# Perform query and save results to DataFrame: df\n",
    "with engine.connect() as con:\n",
    "    rs = con.execute(\"SELECT Title, Name FROM Album INNER JOIN Artist on Album.ArtistID = Artist.ArtistID\")\n",
    "    df = pd.DataFrame(rs.fetchall())\n",
    "    df.columns = rs.keys()\n",
    "    \n",
    "# Print head of DataFrame df\n",
    "print(df.head())    "
   ]
  },
  {
   "cell_type": "markdown",
   "metadata": {},
   "source": [
    "## Filtering your INNER JOIN\n",
    "\n",
    "Congrats on performing your first ```INNER JOIN```! You're now going to finish this chapter with one final exercise in which you perform an ```INNER JOIN``` and *filter* the result using a ```WHERE``` clause.\n",
    "\n",
    "Recall that to ```INNER JOIN``` the ```Orders``` and ```Customers``` tables from the Northwind database, Hugo executed the following SQL query:\n",
    "\n",
    "```python\n",
    "\"SELECT OrderID, CompanyName FROM Orders INNER JOIN Customers on Orders.CustomerID = Customers.CustomerID\"\n",
    "```\n",
    "\n",
    "The following code has already been executed to import the necessary packages and to create the engine:\n",
    "\n",
    "```python\n",
    "import pandas as pd\n",
    "from sqlalchemy import create_engine\n",
    "engine = create_engine('sqlite:///Chinook.sqlite')\n",
    "```"
   ]
  },
  {
   "cell_type": "code",
   "execution_count": 12,
   "metadata": {},
   "outputs": [
    {
     "name": "stdout",
     "output_type": "stream",
     "text": [
      "   PlaylistId  TrackId  TrackId              Name  AlbumId  MediaTypeId  \\\n",
      "0           1     3390     3390  One and the Same      271            2   \n",
      "1           1     3392     3392     Until We Fall      271            2   \n",
      "2           1     3393     3393     Original Fire      271            2   \n",
      "3           1     3394     3394       Broken City      271            2   \n",
      "4           1     3395     3395          Somedays      271            2   \n",
      "\n",
      "   GenreId Composer  Milliseconds    Bytes  UnitPrice  \n",
      "0       23     None        217732  3559040       0.99  \n",
      "1       23     None        230758  3766605       0.99  \n",
      "2       23     None        218916  3577821       0.99  \n",
      "3       23     None        228366  3728955       0.99  \n",
      "4       23     None        213831  3497176       0.99  \n"
     ]
    }
   ],
   "source": [
    "# Execute query and store records in DataFrame: df\n",
    "df = pd.read_sql_query(\"SELECT * FROM PlaylistTrack INNER JOIN Track on PlaylistTrack.TrackId = Track.TrackId WHERE Milliseconds < 250000\",engine)\n",
    "\n",
    "# Print head of DataFrame\n",
    "print(df.head())"
   ]
  }
 ],
 "metadata": {
  "kernelspec": {
   "display_name": "Python 3.8.8 ('base')",
   "language": "python",
   "name": "python3"
  },
  "language_info": {
   "codemirror_mode": {
    "name": "ipython",
    "version": 3
   },
   "file_extension": ".py",
   "mimetype": "text/x-python",
   "name": "python",
   "nbconvert_exporter": "python",
   "pygments_lexer": "ipython3",
   "version": "3.8.8"
  },
  "orig_nbformat": 4,
  "vscode": {
   "interpreter": {
    "hash": "4c59e6e5379e7fd956ce48a476e9664867cfb6229c9530fa6fd87fb84f21040f"
   }
  }
 },
 "nbformat": 4,
 "nbformat_minor": 2
}
