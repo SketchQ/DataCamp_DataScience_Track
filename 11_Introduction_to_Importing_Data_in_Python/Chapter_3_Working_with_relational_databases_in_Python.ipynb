{
 "cells": [
  {
   "cell_type": "markdown",
   "metadata": {},
   "source": [
    "# Lesson I \n",
    "\n",
    "## Introduction to Relational Databases\n",
    "\n",
    "**What is a relational database?**\n",
    "\n",
    "* Based on relational model of data\n",
    "* First described by Edgar \"Ted\" Codd\n",
    "\n",
    "The Northwind Traders database, a synthetic database that contains sales data for a fictitious company. Firstly, database consists of tables. \n",
    "\n",
    "<img src='pictures/NorthwindDatabase.jpg' />\n",
    "\n",
    "Here we can see 3 tables from the Northwind database:\n",
    "\n",
    "* Orders\n",
    "* Customers\n",
    "* Employees\n",
    "\n",
    "So what's a table? A table generally reprsents one entity type, such as **'Order'**. This table looks a great deal like a dataframe and that's the point.\n",
    "\n",
    "In relational databases you do not merely have a bunch of tables, but that tables are **linked**. See that the **'Orders'** table has both column called ```'CustomerID'``` and ```'EmployeeeID'```. These columns correspond precisely to the primary keys in the **'Customers'** and **'Employees'** tables, respectively.\n",
    "\n",
    "### Relational mode\n",
    "\n",
    "* Widely adopted\n",
    "\n",
    "* Codd's 12 Rules/Commandments\n",
    "    - Consists of 13 rules (zero-indexed)\n",
    "    - Describes what a Relational Database Management System should adhere to to be considered Relational.\n",
    "\n",
    "### Relational Database management Systems\n",
    "\n",
    "* PostreSQL\n",
    "* MySQL\n",
    "* SQLite\n",
    "* SQL = \"Structured Query Language\""
   ]
  },
  {
   "cell_type": "code",
   "execution_count": null,
   "metadata": {},
   "outputs": [],
   "source": []
  }
 ],
 "metadata": {
  "kernelspec": {
   "display_name": "Python 3.8.8 ('base')",
   "language": "python",
   "name": "python3"
  },
  "language_info": {
   "name": "python",
   "version": "3.8.8"
  },
  "orig_nbformat": 4,
  "vscode": {
   "interpreter": {
    "hash": "4c59e6e5379e7fd956ce48a476e9664867cfb6229c9530fa6fd87fb84f21040f"
   }
  }
 },
 "nbformat": 4,
 "nbformat_minor": 2
}
