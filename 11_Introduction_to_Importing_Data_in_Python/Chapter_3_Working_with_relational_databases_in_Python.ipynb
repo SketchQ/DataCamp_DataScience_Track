{
 "cells": [
  {
   "cell_type": "markdown",
   "metadata": {},
   "source": [
    "# Lesson I \n",
    "\n",
    "## Introduction to Relational Databases\n",
    "\n",
    "**What is a relational database?**\n",
    "\n",
    "* Based on relational model of data\n",
    "* First described by Edgar \"Ted\" Codd\n",
    "\n",
    "The Northwind Traders database, a synthetic database that contains sales data for a fictitious company. Firstly, database consists of tables. \n",
    "\n",
    "<img src='pictures/NorthwindDatabase.jpg' />\n",
    "\n",
    "Here we can see 3 tables from the Northwind database:\n",
    "\n",
    "* Orders\n",
    "* Customers\n",
    "* Employees\n",
    "\n",
    "So what's a table? A table generally reprsents one entity type, such as **'Order'**. This table looks a great deal like a dataframe and that's the point.\n",
    "\n",
    "In relational databases you do not merely have a bunch of tables, but that tables are **linked**. See that the **'Orders'** table has both column called ```'CustomerID'``` and ```'EmployeeeID'```. These columns correspond precisely to the primary keys in the **'Customers'** and **'Employees'** tables, respectively.\n",
    "\n",
    "### Relational mode\n",
    "\n",
    "* Widely adopted\n",
    "\n",
    "* Codd's 12 Rules/Commandments\n",
    "    - Consists of 13 rules (zero-indexed)\n",
    "    - Describes what a Relational Database Management System should adhere to to be considered Relational.\n",
    "\n",
    "### Relational Database management Systems\n",
    "\n",
    "* PostreSQL\n",
    "* MySQL\n",
    "* SQLite\n",
    "* SQL = \"Structured Query Language\""
   ]
  },
  {
   "cell_type": "markdown",
   "metadata": {},
   "source": [
    "# Lesson II\n",
    "\n",
    "## Creating a database engine in Python\n",
    "\n",
    "Before we get data out of our databases using SQL, we're going to need to figure out how to connect to a database.\n",
    "\n",
    "There are times when you would prefer to use PostgreSQL or MySQL, but for our purposes here, a SQLite is perfect.\n",
    "\n",
    "* SQLite database\n",
    "    - Fast and simple\n",
    "\n",
    "There are many packages we could use to access an SQLite database such as sqlite3 and SQLAlchemy. We'll use SQLAlchemy as it works with many other Relational Database Management Systems, such as Postgres and MySQL.\n",
    "\n",
    "* SQLAlchemy\n",
    "    - Works with many Relational Database Management Systems\n",
    "\n",
    "To connect to ```'Northwind.sqlite'```:\n",
    "* we need to import the relevant function ```create_engine()``` from the package ```SQLAlchemy```.\n",
    "* We then use the function ```create_engine()``` to fire up an SQL engine that will communicate our queries to the database.\n",
    "* The only required argument of ```create_engine()``` is a *string* that indicates the *type* of database you're conntecting to and the *name* of the database.\n",
    "\n",
    "```python\n",
    "from sqlalchemy import create_engine\n",
    "engine = create_engine('sqlite:///Northwind.sqlite')\n",
    "```\n",
    "\n",
    "We would like to know the names of the tables database contains. To do this:\n",
    "* apply the method ```table_names``` to the *object* engine\n",
    "* This will returna *list* of table names that we can print to the console.\n",
    "\n",
    "```python\n",
    "table_names = engine.table_names()\n",
    "print(table_names)\n",
    "```"
   ]
  },
  {
   "cell_type": "markdown",
   "metadata": {},
   "source": [
    "# Exercise\n",
    "\n",
    "## Creating a database engine\n",
    "\n",
    "Here, you're going to fire up your very first SQL engine. You'll create an engine to connect to the SQLite database ```'Chinook.sqlite'```, which is in your working directory. Remember that to create an engine to connect to ```'Northwind.sqlite'```, Hugo executed the command:\n",
    "\n",
    "```python\n",
    "engine = create_engine('sqlite:///Northwind.sqlite')\n",
    "```\n",
    "Here, ```'sqlite:///Northwind.sqlite'``` is called the **connection string** to the SQLite database ```Northwind.sqlite```. A little bit of background on the [Chinook database](https://github.com/lerocha/chinook-database): the Chinook database contains information about a semi-fictional digital media store in which media data is real and customer, employee and sales data has been manually created.\n",
    "\n",
    "Why the name Chinook, you ask? According to their [website](https://github.com/lerocha/chinook-database),\n",
    "\n",
    "> The name of this sample database was based on the Northwind database. Chinooks are winds in the interior West of North America, where the Canadian Prairies and Great Plains meet various mountain ranges. Chinooks are most prevalent over southern Alberta in Canada. Chinook is a good name choice for a database that intends to be an alternative to Northwind.\n"
   ]
  },
  {
   "cell_type": "code",
   "execution_count": 1,
   "metadata": {},
   "outputs": [],
   "source": [
    "# Import necessary module\n",
    "from sqlalchemy import create_engine\n",
    "\n",
    "# Create engine: engine\n",
    "engine = create_engine('sqlite:///Chinook.sqlite')"
   ]
  },
  {
   "cell_type": "markdown",
   "metadata": {},
   "source": [
    "## What are the tables in the database?\n",
    "\n",
    "In this exercise, you'll once again create an engine to connect to ```'Chinook.sqlite'```. Before you can get any data out of the database, however, you'll need to know what tables it contains!\n",
    "\n",
    "To this end, you'll save the table names to a list using the method ```table_names()``` on the engine and then you will print the list."
   ]
  },
  {
   "cell_type": "code",
   "execution_count": 3,
   "metadata": {},
   "outputs": [
    {
     "name": "stdout",
     "output_type": "stream",
     "text": [
      "['Album', 'Artist', 'Customer', 'Employee', 'Genre', 'Invoice', 'InvoiceLine', 'MediaType', 'Playlist', 'PlaylistTrack', 'Track']\n"
     ]
    },
    {
     "name": "stderr",
     "output_type": "stream",
     "text": [
      "C:\\Users\\devil\\AppData\\Local\\Temp\\ipykernel_2396\\827030650.py:8: SADeprecationWarning: The Engine.table_names() method is deprecated and will be removed in a future release.  Please refer to Inspector.get_table_names(). (deprecated since: 1.4)\n",
      "  table_names = engine.table_names()\n"
     ]
    }
   ],
   "source": [
    "# Import necessary module\n",
    "from sqlalchemy import create_engine\n",
    "\n",
    "# Create engine: engine\n",
    "engine = create_engine('sqlite:///datasets/Chinook.sqlite')\n",
    "\n",
    "# Save the table names to a list: table_names\n",
    "table_names = engine.table_names()\n",
    "\n",
    "# Print the table names to the shell\n",
    "print(table_names)"
   ]
  }
 ],
 "metadata": {
  "kernelspec": {
   "display_name": "Python 3.8.8 ('base')",
   "language": "python",
   "name": "python3"
  },
  "language_info": {
   "codemirror_mode": {
    "name": "ipython",
    "version": 3
   },
   "file_extension": ".py",
   "mimetype": "text/x-python",
   "name": "python",
   "nbconvert_exporter": "python",
   "pygments_lexer": "ipython3",
   "version": "3.8.8"
  },
  "orig_nbformat": 4,
  "vscode": {
   "interpreter": {
    "hash": "4c59e6e5379e7fd956ce48a476e9664867cfb6229c9530fa6fd87fb84f21040f"
   }
  }
 },
 "nbformat": 4,
 "nbformat_minor": 2
}
