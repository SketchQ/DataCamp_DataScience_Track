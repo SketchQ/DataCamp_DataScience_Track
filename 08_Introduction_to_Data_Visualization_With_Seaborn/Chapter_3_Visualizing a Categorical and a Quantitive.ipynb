{
 "cells": [
  {
   "cell_type": "markdown",
   "metadata": {},
   "source": [
    "# Chapter III - I - \n",
    "\n",
    "## Count plots and bar Plots\n",
    "\n",
    "The first two plots we'll look at are count plots and bar plots.\n",
    "\n",
    "### Categorical Plots\n",
    "\n",
    "Count plots and bar plots are two types of visualizations that Seaborn callls **\"categorical plots\"**. Categorical plots involve :\n",
    "\n",
    "* **Categorical variable**, which is a variable that consists of a fixed, typically small number of possible values, or categories.\n",
    "* These types of plots are commonly used when we want to make **comparisons** between different groups.\n",
    "\n",
    "### .catplot()\n",
    "\n",
    "**\"catplot()\"** offers the same flexibility that **\"relplot()\"** does, which means it will be easy to create subplots if we need to using the same **\"col\" and \"row\"** parameters.\n",
    "\n",
    "<img src='pictures\\countplotvscatplot.jpg' width=250 align=\"right\" />\n",
    "\n",
    "```python\n",
    "# countplot()   vs catplot()\n",
    "# To see how \"catplot() works, let's return to the masculinity count plot.\"\n",
    "\n",
    "import matplotlib.pyplot as plt \n",
    "import seaborn as sns\n",
    "\n",
    "sns.countplot(x=\"how_masculine\",\n",
    "              data=masculinty_data)\n",
    "\n",
    "plt.show()\n",
    "```\n",
    "</br>\n",
    "\n",
    "--- \n",
    "\n",
    "To make this plot with **\"catplot()\"**, we change the function name to catplot() and use the **\"kind\"** parameter to specify what kind of categorical plot to use.\n",
    "\n",
    "<img src='pictures\\catplot.jpg' width=250 align=\"right\" />\n",
    "\n",
    "\n",
    "```python\n",
    "import matplotlib.pyplot as plt\n",
    "import seaborn as sns\n",
    "\n",
    "sns.catplot(x=\"how_masculine\",\n",
    "            data=masculinity_data,\n",
    "            kind=\"count\")\n",
    "\n",
    "plt.show()            \n",
    "```\n",
    "\n",
    "</br>\n",
    "\n",
    "\n",
    "---\n",
    "\n",
    "### Changing the order\n",
    "\n",
    "Sometimes there is a specific ordering of categories that makes sense for these plots. In this case, it makes more sense for the categories to be in order from not masculine to very masculine. To change the order of the categories, create a list of category values in the order that you want them to appear, and then use the **\"order\"** parameter. This works for all types of categorical plots, not just count plots.\n",
    "\n",
    "<img src='pictures\\Changingorder.jpg' width=250 align=\"right\" />\n",
    "\n",
    "```python\n",
    "import matplotlib.pyplot as plt\n",
    "import seaborn as sns\n",
    "\n",
    "category_order = [\"No answer\",\n",
    "                  \"Not at all\",\n",
    "                  \"Not very\",\n",
    "                  \"Somewhat\",\n",
    "                  \"Very\"]\n",
    "\n",
    "sns.catplot(x=\"how_masculine\",\n",
    "            data=masculinity_data,\n",
    "            kind=\"count\",\n",
    "            order=category_order)\n",
    "\n",
    "plt.show()                              \n",
    "```\n",
    "\n",
    "</br>\n",
    "\n",
    "---\n",
    "\n",
    "### Bar plots\n",
    "\n",
    "Bar plots look similar to count plots, but instead of the count of observations in each category, they show the mean of a quantitative variable among observations in each category.\n",
    "\n",
    "This bar plot uses the **tips** dataset and shows the average bill paid among the people who visited the restaurant on each day of the week.\n",
    "\n",
    "To create this bar plot, we use \"catplot()\". Specify the categorical variable \"day\" on x-axis, the quantitative variable \"total bill\" on the y-axis, and set the \"kind\" parameter equal to \"bar\"."
   ]
  },
  {
   "cell_type": "code",
   "execution_count": 2,
   "metadata": {},
   "outputs": [
    {
     "data": {
      "image/png": "[encoded data removed]",
      "text/plain": [
       "<Figure size 360x360 with 1 Axes>"
      ]
     },
     "metadata": {
      "needs_background": "light"
     },
     "output_type": "display_data"
    }
   ],
   "source": [
    "import matplotlib.pyplot as plt\n",
    "import seaborn as sns\n",
    "\n",
    "# Tips Dataset\n",
    "tips = sns.load_dataset('tips')\n",
    "\n",
    "sns.catplot(x=\"day\",\n",
    "            y=\"total_bill\",\n",
    "            data=tips,\n",
    "            kind=\"bar\")\n",
    "\n",
    "plt.show()"
   ]
  },
  {
   "cell_type": "markdown",
   "metadata": {},
   "source": [
    "### Confidence Intervals\n",
    "\n",
    "Notice also that Seaborn automatically shows 95% confidence intervals for these means. Just like with line plots, these confidence intervals shows us the level of uncertainty we have about these estimates.\n",
    "\n",
    "Assuming our data is a random sample of some population, we can be 95% sure that the true population mean in each group lies within the confidence interval shown.\n",
    "\n",
    "If we want to turn off these confidence intervals, we can do this by setting the \"ci\" parameter equal to \"None\" - just like we did with line plots."
   ]
  },
  {
   "cell_type": "code",
   "execution_count": 3,
   "metadata": {},
   "outputs": [
    {
     "data": {
      "image/png": "[encoded data removed]",
      "text/plain": [
       "<Figure size 360x360 with 1 Axes>"
      ]
     },
     "metadata": {
      "needs_background": "light"
     },
     "output_type": "display_data"
    }
   ],
   "source": [
    "sns.catplot(x=\"day\",\n",
    "            y=\"total_bill\",\n",
    "            data=tips,\n",
    "            kind=\"bar\",\n",
    "            ci=None)\n",
    "\n",
    "plt.show()"
   ]
  },
  {
   "cell_type": "markdown",
   "metadata": {},
   "source": [
    "### Changing the orientation\n",
    "\n",
    "Finally, you can also change the orientation of the bars in bar plots and count plots by switching the x and y parameters. However, it is fairly common practice to put the categorical variable on the x-axis."
   ]
  },
  {
   "cell_type": "code",
   "execution_count": 4,
   "metadata": {},
   "outputs": [
    {
     "data": {
      "image/png": "[encoded data removed]",
      "text/plain": [
       "<Figure size 360x360 with 1 Axes>"
      ]
     },
     "metadata": {
      "needs_background": "light"
     },
     "output_type": "display_data"
    }
   ],
   "source": [
    "sns.catplot(x=\"total_bill\",\n",
    "            y=\"day\",\n",
    "            data=tips,\n",
    "            kind=\"bar\")\n",
    "\n",
    "plt.show()"
   ]
  },
  {
   "cell_type": "markdown",
   "metadata": {},
   "source": [
    "## Exercise I \n",
    "\n",
    "### Count Plots\n",
    "\n",
    "In this exercise, we'll return to exploring our dataset that contains the responses to a survey sent out to young people. \n",
    "\n",
    "We might suspect that young people spend a lot of time on the internet, but how much do they report using the internet each day?\n",
    "\n",
    "Let's use a count plot to break down the number of survey responses in each category and then explore wheter it changes based on age."
   ]
  },
  {
   "cell_type": "code",
   "execution_count": 5,
   "metadata": {},
   "outputs": [
    {
     "data": {
      "image/png": "[encoded data removed]",
      "text/plain": [
       "<Figure size 360x360 with 1 Axes>"
      ]
     },
     "metadata": {
      "needs_background": "light"
     },
     "output_type": "display_data"
    }
   ],
   "source": [
    "import matplotlib.pyplot as plt\n",
    "import seaborn as sns\n",
    "import pandas as pd\n",
    "\n",
    "# Dataset\n",
    "survey_data = pd.read_csv('datasets\\young-people-survey-responses.csv')\n",
    "\n",
    "# Create count plot of internet usage\n",
    "sns.catplot(x=\"Internet usage\",\n",
    "            data=survey_data,\n",
    "            kind=\"count\")\n",
    "# Show plot\n",
    "plt.show()"
   ]
  },
  {
   "cell_type": "code",
   "execution_count": 6,
   "metadata": {},
   "outputs": [
    {
     "data": {
      "image/png": "[encoded data removed]",
      "text/plain": [
       "<Figure size 720x360 with 2 Axes>"
      ]
     },
     "metadata": {
      "needs_background": "light"
     },
     "output_type": "display_data"
    }
   ],
   "source": [
    "# Create a new col based on age>21 and age<21\n",
    "survey_data['age_group'] = survey_data['Age'] > 21\n",
    "\n",
    "# Separate into column subplots based on age category\n",
    "sns.catplot(y=\"Internet usage\",\n",
    "            data=survey_data,\n",
    "            col=\"age_group\",\n",
    "            kind=\"count\")\n",
    "# Show the plot\n",
    "plt.show()"
   ]
  },
  {
   "cell_type": "markdown",
   "metadata": {},
   "source": [
    "## Exercise I\n",
    "\n",
    "### Bar plots with percentages\n",
    "\n",
    "Let's continue exploring the responses to a survey sent out to young people. The variable ```Interested in Math``` is ```True``` if the person reported being interested or very interested in mathematics, and ```False``` otherwise.\n",
    "\n",
    "What percantage of young people report being interested in math, and does this vary based on gender?"
   ]
  },
  {
   "cell_type": "code",
   "execution_count": 7,
   "metadata": {},
   "outputs": [
    {
     "data": {
      "image/png": "[encoded data removed]",
      "text/plain": [
       "<Figure size 360x360 with 1 Axes>"
      ]
     },
     "metadata": {
      "needs_background": "light"
     },
     "output_type": "display_data"
    }
   ],
   "source": [
    "# Creating a subplot \"Interested in Math\"\n",
    "survey_data['Interested in Maths'] = survey_data['Mathematics'] > 3\n",
    "# Create a bar plot of interest in math, separated by gender\n",
    "sns.catplot(x=\"Gender\",\n",
    "            y=\"Interested in Maths\",\n",
    "            data=survey_data,\n",
    "            kind=\"bar\")\n",
    "# Show plot\n",
    "plt.show()"
   ]
  },
  {
   "cell_type": "markdown",
   "metadata": {},
   "source": [
    "## Exercise I \n",
    "\n",
    "### Customizing bar plots\n",
    "\n",
    "In this exercise, we'll explore data from students in secondary school.\n",
    "\n",
    "The ```\"study_time\"```variable record each student's reported weekly study time as one of the following categories:\n",
    "\n",
    "* ```\"<2 hours\"```\n",
    "* ```\"2 to 5 hours\"```\n",
    "* ```\"5 to 10 hours\"```\n",
    "* ```\">10 hours\"```\n",
    "\n",
    "Do students who report higher amounts of studying tend to get better final grades?\n",
    "\n",
    "Let's compare the average final grade among students in each category using a bar plot."
   ]
  },
  {
   "cell_type": "code",
   "execution_count": 8,
   "metadata": {},
   "outputs": [
    {
     "data": {
      "image/png": "[encoded data removed]",
      "text/plain": [
       "<Figure size 360x360 with 1 Axes>"
      ]
     },
     "metadata": {
      "needs_background": "light"
     },
     "output_type": "display_data"
    }
   ],
   "source": [
    "# Dataset\n",
    "student_data = pd.read_csv('datasets\\student-alcohol-consumption.csv')\n",
    "\n",
    "# Create bar plot of average final grade in each study category\n",
    "sns.catplot(x=\"study_time\",\n",
    "            y=\"G3\",\n",
    "            data=student_data,\n",
    "            kind=\"bar\")\n",
    "\n",
    "# Show plot\n",
    "plt.show()\n"
   ]
  },
  {
   "cell_type": "code",
   "execution_count": 9,
   "metadata": {},
   "outputs": [
    {
     "data": {
      "image/png": "[encoded data removed]",
      "text/plain": [
       "<Figure size 360x360 with 1 Axes>"
      ]
     },
     "metadata": {
      "needs_background": "light"
     },
     "output_type": "display_data"
    }
   ],
   "source": [
    "# List of categories from lowest to highest\n",
    "category_order = [\"<2 hours\",\n",
    "                  \"2 to 5 hours\",\n",
    "                  \"5 to 10 hours\",\n",
    "                  \">10 hours\"]\n",
    "\n",
    "# Rearrange the categories\n",
    "sns.catplot(x=\"study_time\",\n",
    "            y=\"G3\",\n",
    "            data=student_data,\n",
    "            order=category_order,\n",
    "            # Update the plot so that it no longer displays confidence intervals\n",
    "            ci=None,\n",
    "            kind=\"bar\")\n",
    "\n",
    "# Show plot\n",
    "plt.show()"
   ]
  },
  {
   "cell_type": "markdown",
   "metadata": {},
   "source": [
    "# Chapter III -II-\n",
    "\n",
    "## Creating a Box Plot\n",
    "\n",
    "### What is a box plot?\n",
    "\n",
    "A box plot shows the distrubition of quantitative data. The colored box represents the 25th to 75th percentile, and the line in the middle of the box represents the median. The whiskers give a sense of the spread of the distrubition, and the floating points represent outliers. Box plots are commonly used as a way to compare the distribution of a quantitative variable accross different groups of a categorical variable.\n",
    "\n",
    "* Shows the distrubition of quantitative data\n",
    "\n",
    "* See median, spread, skewness, and outliers\n",
    "\n",
    "* Facilitates comparisons between groups"
   ]
  },
  {
   "cell_type": "code",
   "execution_count": 10,
   "metadata": {},
   "outputs": [
    {
     "data": {
      "image/png": "[encoded data removed]",
      "text/plain": [
       "<Figure size 360x360 with 1 Axes>"
      ]
     },
     "metadata": {
      "needs_background": "light"
     },
     "output_type": "display_data"
    }
   ],
   "source": [
    "# Dataset is tips\n",
    "\n",
    "# Create a box plot\n",
    "g = sns.catplot(x=\"day\",\n",
    "                y=\"total_bill\",\n",
    "                data=tips,\n",
    "                kind=\"box\")\n",
    "\n",
    "# Show the plot\n",
    "plt.show()"
   ]
  },
  {
   "cell_type": "markdown",
   "metadata": {},
   "source": [
    "### Omitting the outliers using \"sym\"\n",
    "\n",
    "You may want to omit the outliers from your box plot. You can do this using the **\"sym\"** parameter.\n",
    "\n",
    "If you pass an empty string into \"sym\", it will omit the outliers from your plot alltogether.\n",
    "\n",
    "\"Sym\" can also be used to change the appearance of the outliers instead of omitting them. "
   ]
  },
  {
   "cell_type": "code",
   "execution_count": 11,
   "metadata": {},
   "outputs": [
    {
     "data": {
      "image/png": "[encoded data removed]",
      "text/plain": [
       "<Figure size 360x360 with 1 Axes>"
      ]
     },
     "metadata": {
      "needs_background": "light"
     },
     "output_type": "display_data"
    }
   ],
   "source": [
    "g = sns.catplot(x=\"day\",\n",
    "                y=\"total_bill\",\n",
    "                data=tips,\n",
    "                kind=\"box\",\n",
    "                sym=\"\")\n",
    "\n",
    "plt.show()"
   ]
  },
  {
   "cell_type": "markdown",
   "metadata": {},
   "source": [
    "### Changing the whiskers using \"whis\"\n",
    "\n",
    "By default, the whiskers extend to 1 point 5 times the interquartile range, or **\"IQR\"**.\n",
    "\n",
    "* The IQR is the 25th to the 75th percentile of a distrubition of data\n",
    "\n",
    "If you want to change the way the whiskers in your box plot are defined, you can do this using the \"whis\" parameter.\n",
    "\n",
    "* Make them extend to 2.0 * IQR : ```whis=2.0```\n",
    "\n",
    "* Show the 5th and 95th percentiles: ```whis=[5, 95]```\n",
    "\n",
    "* Show min and max values: ```whis=[0, 100]```\n"
   ]
  },
  {
   "cell_type": "code",
   "execution_count": 12,
   "metadata": {},
   "outputs": [
    {
     "data": {
      "image/png": "[encoded data removed]",
      "text/plain": [
       "<Figure size 360x360 with 1 Axes>"
      ]
     },
     "metadata": {
      "needs_background": "light"
     },
     "output_type": "display_data"
    }
   ],
   "source": [
    "g = sns.catplot(x=\"day\",\n",
    "                y=\"total_bill\",\n",
    "                data=tips,\n",
    "                kind=\"box\",\n",
    "                whis=[0, 100])\n",
    "\n",
    "plt.show()"
   ]
  },
  {
   "cell_type": "markdown",
   "metadata": {},
   "source": [
    "## Exercise II\n",
    "\n",
    "### Create and interpret a box plot\n",
    "\n",
    "Let's continue using the ```student_data``` dataset. In an earlier execise, we explored the relationship between studying and final grade byu using a bar plot to compare the average final grade(```\"G3\"```) among students in different categories of ```\"study_time\"```"
   ]
  },
  {
   "cell_type": "code",
   "execution_count": 13,
   "metadata": {},
   "outputs": [
    {
     "data": {
      "image/png": "[encoded data removed]",
      "text/plain": [
       "<Figure size 360x360 with 1 Axes>"
      ]
     },
     "metadata": {
      "needs_background": "light"
     },
     "output_type": "display_data"
    }
   ],
   "source": [
    "# Specify the category ordering\n",
    "study_time_order = [\"<2 hours\", \"2 to 5 hours\",\n",
    "                    \"5 to 10 hours\", \">10 hours\"]\n",
    "\n",
    "# Create a box plot and set the order of the categories\n",
    "g = sns.catplot(x=\"study_time\",\n",
    "                y=\"G3\",\n",
    "                data=student_data,\n",
    "                kind=\"box\",\n",
    "                order=study_time_order)\n",
    "\n",
    "# Show plot\n",
    "plt.show()"
   ]
  },
  {
   "cell_type": "markdown",
   "metadata": {},
   "source": [
    "## Exercise II \n",
    "\n",
    "### Omitting outliers\n",
    "\n",
    "Let's use the ```student_data```dataset to compare the distrubition of final grades (```\"G3\"```) between students who have internet acces at home and those who don't.\n",
    "\n",
    "To do this, we'll use the ```\"internet\"``` variable, which is a binary (yes/no) indicator of whether the student has internet access at home.\n",
    "\n",
    "Since internet may be less accessible in rural areas, we'll add subgroups based on where the student lives. For this, we can use the ```\"location\"``` variable, which is an indicator of whether a student lives in an urban(\"Urban\") or rural(\"Rural\") location."
   ]
  },
  {
   "cell_type": "code",
   "execution_count": 14,
   "metadata": {},
   "outputs": [
    {
     "data": {
      "image/png": "[encoded data removed]",
      "text/plain": [
       "<Figure size 426.25x360 with 1 Axes>"
      ]
     },
     "metadata": {
      "needs_background": "light"
     },
     "output_type": "display_data"
    }
   ],
   "source": [
    "# Create a box plot with subgroups and omit the outliers\n",
    "g = sns.catplot(x=\"internet\",\n",
    "                y=\"G3\",\n",
    "                data=student_data,\n",
    "                kind=\"box\",\n",
    "                sym=\"\",\n",
    "                hue=\"location\")\n",
    "\n",
    "# Show plot\n",
    "plt.show()"
   ]
  },
  {
   "cell_type": "markdown",
   "metadata": {},
   "source": [
    "## Exercise II\n",
    "\n",
    "### Adjusting the whiskers\n",
    "\n",
    "In this exercise we'll continue to use the ```student_data``` dataset to compare the distrubition of final grades between students who are in a romantic relationship and those that are not.\n",
    "\n",
    "We'll use the ```\"romantic\"``` variable, which is a yes/no indicator of whether the student is in a romantic relationship."
   ]
  },
  {
   "cell_type": "code",
   "execution_count": 15,
   "metadata": {},
   "outputs": [
    {
     "data": {
      "image/png": "[encoded data removed]",
      "text/plain": [
       "<Figure size 360x360 with 1 Axes>"
      ]
     },
     "metadata": {
      "needs_background": "light"
     },
     "output_type": "display_data"
    }
   ],
   "source": [
    "# Set the whiskers to 0.5 * IQR\n",
    "sns.catplot(x=\"romantic\",\n",
    "            y=\"G3\",\n",
    "            data=student_data,\n",
    "            kind=\"box\",\n",
    "            whis=0.5)\n",
    "\n",
    "# Show plot\n",
    "plt.show()"
   ]
  },
  {
   "cell_type": "markdown",
   "metadata": {},
   "source": [
    "# Chapter III -III-\n",
    "\n",
    "## Point Plots\n",
    "\n",
    "### What are point plots?\n",
    "\n",
    "Point plot show the mean of quantitative variable for the observations in each category, plotted as a single point. \n",
    "\n",
    "The vertical bars extending above and below the mean represent the 95% confidence intervals for that mean."
   ]
  },
  {
   "cell_type": "code",
   "execution_count": 16,
   "metadata": {},
   "outputs": [
    {
     "data": {
      "image/png": "[encoded data removed]",
      "text/plain": [
       "<Figure size 360x360 with 1 Axes>"
      ]
     },
     "metadata": {
      "needs_background": "light"
     },
     "output_type": "display_data"
    }
   ],
   "source": [
    "sns.catplot(x=\"smoker\",\n",
    "            y=\"total_bill\",\n",
    "            data=tips,\n",
    "            kind=\"point\")\n",
    "\n",
    "plt.show()"
   ]
  },
  {
   "cell_type": "markdown",
   "metadata": {},
   "source": [
    "### Point plots vs Line plots\n",
    "\n",
    "Both line plots and point plots show the mean of a quantitative variable and 95% confidence intervals for the mean. However, there is a key difference. \n",
    "\n",
    "Line plots are relational plots, so both the x- and y-axis are quantitative variables. In a point plot, one axis - usually the x-axis - is a categorical variable, making it a categorical plot.\n",
    "\n",
    "Both show:\n",
    "\n",
    "* Mean of quantitative variable\n",
    "\n",
    "* 95% confidence intervals for the mean\n",
    "\n",
    "Differences: \n",
    "\n",
    "* Line plot has **quantitative** variable (usually time) on x-axis\n",
    "\n",
    "* Point plot has **categorical** variable on x-axis\n",
    "\n",
    "### Creating a point plot\n",
    "\n",
    "We use \"catplot\" and set \"kind\" equal to \"point\"\n",
    "\n",
    "### Disconnecting the points\n",
    "\n",
    "We set the \"join\" parameter equal to False.\n",
    "\n",
    "### Displaying the median\n",
    "\n",
    "Import the median function from the numpy library and set \"estimator\" equal to the numpy median function.\n",
    "\n",
    "Why might you want to use the median instead of mean?\n",
    "\n",
    "The median is more robust to outliers, so if your dataset has a lot of outliers, the median may be a better statistic to use.\n",
    "\n",
    "### Customizing the confidence intervals\n",
    "\n",
    "Set the \"capsize\" parameter equal to the desired width of the caps. Eg: 0.2\n",
    "\n",
    "### Turning of confidence intervals\n",
    "\n",
    "Set the \"ci\" parameter equal to None"
   ]
  },
  {
   "cell_type": "markdown",
   "metadata": {},
   "source": [
    "## Exercise III\n",
    "\n",
    "### Customizing point plots\n",
    "\n",
    "Let's continue to look at the data from students in secondary school, this time using a point plot to answer the question:\n",
    "\n",
    "Does the quality of the student's family relationship influence the number of absences the student has in school?\n",
    "\n",
    "Here, we'll use the ```\"famrel\"```variable, which describes the quality of a student's family relationship from 1(very bad) to 5(very good)."
   ]
  },
  {
   "cell_type": "code",
   "execution_count": 19,
   "metadata": {},
   "outputs": [
    {
     "data": {
      "image/png": "[encoded data removed]",
      "text/plain": [
       "<Figure size 360x360 with 1 Axes>"
      ]
     },
     "metadata": {
      "needs_background": "light"
     },
     "output_type": "display_data"
    }
   ],
   "source": [
    "# Create a point plot of family relationship vs. absences\n",
    "sns.catplot(x=\"famrel\",\n",
    "            y=\"absences\",\n",
    "            data=student_data,\n",
    "            kind=\"point\",\n",
    "            # Add caps to the confidence interval\n",
    "            capsize=0.2,\n",
    "            # Remove the lines joining the points\n",
    "            join= False)\n",
    "\n",
    "# Show plot\n",
    "plt.show()"
   ]
  },
  {
   "cell_type": "markdown",
   "metadata": {},
   "source": [
    "## Exercise III\n",
    "\n",
    "### Point plots with subgroups\n",
    "\n",
    "This time, we'll ask the question:\n",
    "\n",
    "Is being in a romantic relationship associated with higher or lower school attendance?\n",
    "\n",
    "and does this association differ by which school the students attend?\n",
    "\n",
    "Let's find out using a point plot."
   ]
  },
  {
   "cell_type": "code",
   "execution_count": 22,
   "metadata": {},
   "outputs": [
    {
     "data": {
      "image/png": "[encoded data removed]",
      "text/plain": [
       "<Figure size 410.875x360 with 1 Axes>"
      ]
     },
     "metadata": {
      "needs_background": "light"
     },
     "output_type": "display_data"
    }
   ],
   "source": [
    "# Import median function from numpy\n",
    "from numpy import median\n",
    "\n",
    "# Create a point plot that uses color to create subgroups\n",
    "sns.catplot(x=\"romantic\",\n",
    "            y=\"absences\",\n",
    "            data=student_data,\n",
    "            kind=\"point\",\n",
    "            hue=\"school\",\n",
    "            # turn off the confidence intervals for this plot\n",
    "            ci=None,\n",
    "            # Use the numpy median function to display median\n",
    "            estimator= median)\n",
    "\n",
    "# Show plot\n",
    "plt.show()"
   ]
  }
 ],
 "metadata": {
  "kernelspec": {
   "display_name": "Python 3.8.8 ('base')",
   "language": "python",
   "name": "python3"
  },
  "language_info": {
   "codemirror_mode": {
    "name": "ipython",
    "version": 3
   },
   "file_extension": ".py",
   "mimetype": "text/x-python",
   "name": "python",
   "nbconvert_exporter": "python",
   "pygments_lexer": "ipython3",
   "version": "3.8.8"
  },
  "orig_nbformat": 4,
  "vscode": {
   "interpreter": {
    "hash": "4c59e6e5379e7fd956ce48a476e9664867cfb6229c9530fa6fd87fb84f21040f"
   }
  }
 },
 "nbformat": 4,
 "nbformat_minor": 2
}
