{
 "cells": [
  {
   "cell_type": "markdown",
   "metadata": {},
   "source": [
    "# Lesson I \n",
    "\n",
    "## DataFrames and Series\n",
    "\n",
    "The goal of exploratory data analysis is to use data to answer questions and guide decision making.\n",
    "\n",
    "## Using data to answer questions\n",
    "\n",
    "What is the average birth weight of babies in the United States?\n",
    "\n",
    "* Find appropriate data, or collect it\n",
    "* Read data in your development environment\n",
    "* Clean and validate data\n",
    "\n",
    "### National Survey of Family Growth (NSFG)\n",
    "\n",
    "For this question we'll use data from the National Survey of Family Growth, which is available from the National Center for Health Statistics. The 2013-2015 dataset includes information about a representative sample of women in the U.S. and their children.\n",
    "\n",
    "> [NSFG](https://www.cdc.gov/nchs/nsfg/index.htm) data, from the National Center for Health statistics, nationally representative of women 15-44 years of age in the ... United states. has \"Information on family life, marriage and divorce, pregnancy, infertility, use of contraception, and general and reproductive health.\"\n",
    "\n",
    "\n",
    "## Reading Data\n",
    "\n",
    "``head()`` shows the first 5 rows of the DataFrame, which contains one row for each pregnancy for each of the women who participated in the survey, and one column for each variable.\n",
    "\n",
    "### Columns and rows\n",
    "\n",
    "The DataFrame has an *attribute* called ``.shape``, which is the number of rows and columns; there are *9358* rows in this dataset, one for each pregnancy, and *10* columns, one for each variable. \n",
    "\n",
    "The DataFrame also has an attribute called ```columns```, which is an Index. That's another Pandas data structure, similar to a list; in this case it's a list of variables names, which are strings.\n",
    "\n",
    "<img src='pictures/birthweight.jpg' />\n",
    "\n",
    "This figure shows an entry from the codebook for ``birthwgt_lb1``, which is the weight in pounds of the first baby from this pregnancy, for cases of live birth.\n",
    "\n",
    "#### Each Column is a Series\n",
    "\n",
    "In many ways a DataFrame is like a Python dictionary, where the variable names are the keys and the columns are the values. You can select a column from a DataFrame using the bracket``[]`` operator, with a *string* as the key. The result is a ``Series``, which is another Pandas data structure.\n",
    "\n",
    "``.head()`` shows the first five values in the *series*, the **name** of the series, and the **datatype**; ``float64`` means that these values are 64-bit floating-point numbers.\n",
    "\n",
    "``NaN``, which stands for *\"Not a Number\"*. ``NaN`` is a special value that can indicate invalid or missing data. "
   ]
  },
  {
   "cell_type": "markdown",
   "metadata": {},
   "source": [
    "## Exercise\n",
    "\n",
    "### Exploring the NSFG data\n",
    "\n",
    "To get the number of rows and columns in a DataFrame, you can read its ``shape`` attribute.\n",
    "\n",
    "To get the column names, you can read the ``columns`` attribute. \n",
    "The result is an Index, which is a Pandas data structure that is similar to a list. Let's begin exploring the NSFG data!"
   ]
  },
  {
   "cell_type": "code",
   "execution_count": 10,
   "metadata": {},
   "outputs": [],
   "source": [
    "# Import pandas\n",
    "import pandas as pd\n",
    "# NSFG data\n",
    "filename = 'datasets/nsfg.hdf5'\n",
    "nsfg = pd.read_hdf(filename)"
   ]
  },
  {
   "cell_type": "code",
   "execution_count": 11,
   "metadata": {},
   "outputs": [
    {
     "data": {
      "text/plain": [
       "(9358, 10)"
      ]
     },
     "execution_count": 11,
     "metadata": {},
     "output_type": "execute_result"
    }
   ],
   "source": [
    "# Display the number of rows and columns\n",
    "nsfg.shape "
   ]
  },
  {
   "cell_type": "code",
   "execution_count": 12,
   "metadata": {},
   "outputs": [
    {
     "data": {
      "text/plain": [
       "Index(['caseid', 'outcome', 'birthwgt_lb1', 'birthwgt_oz1', 'prglngth',\n",
       "       'nbrnaliv', 'agecon', 'agepreg', 'hpagelb', 'wgt2013_2015'],\n",
       "      dtype='object')"
      ]
     },
     "execution_count": 12,
     "metadata": {},
     "output_type": "execute_result"
    }
   ],
   "source": [
    "# Display the names of the columns\n",
    "nsfg.columns"
   ]
  },
  {
   "cell_type": "code",
   "execution_count": 16,
   "metadata": {},
   "outputs": [
    {
     "name": "stdout",
     "output_type": "stream",
     "text": [
      "0     4.0\n",
      "1    12.0\n",
      "2     4.0\n",
      "3     NaN\n",
      "4    13.0\n",
      "Name: birthwgt_oz1, dtype: float64\n"
     ]
    }
   ],
   "source": [
    "# Select Column birthwgt_oz1 : ounces\n",
    "ounces = nsfg['birthwgt_oz1']\n",
    "# Print the first 5 elements of ounces\n",
    "print(ounces.head())"
   ]
  },
  {
   "cell_type": "markdown",
   "metadata": {},
   "source": [
    "# Lesson II\n",
    "\n",
    "## Clean and Validate\n",
    "\n",
    "In the previous lesson, we read data from the National Survey of Family Growth and selected a column from a DataFrame. In this lesson, we'll check for errors and prepare the data for analysis.\n",
    "\n",
    "We'll use the same DataFrame we used in the previous lesson, ``nsfg``, which contains one row for each pregnancy in the survey. \n",
    "\n",
    "I'll select the variable ``birthwgt_lb1``, which contains the pound part of birth weight, and assign it to ``pounds``. And ``birthwgt_oz1`` contains the ounce part of birth weight, so I'll assign that to ``ounces``."
   ]
  },
  {
   "cell_type": "code",
   "execution_count": 17,
   "metadata": {},
   "outputs": [],
   "source": [
    "# Pounds\n",
    "pounds = nsfg['birthwgt_lb1']\n",
    "\n",
    "# Ounces\n",
    "ounces = nsfg['birthwgt_oz1']"
   ]
  },
  {
   "cell_type": "markdown",
   "metadata": {},
   "source": [
    "Before we do anything with this data, we have to **validate** it. One part of validation is confirming that we are interpreting the data correctly. We can use ``value_counts()`` to see what values appear in pounds and how many times each value appears. \n",
    "\n",
    "By default, the results are sorted with the most frequent value first, so I use ``sort_index()`` to sort them by value instead, with the lightest babies first and heaviest babies last."
   ]
  },
  {
   "cell_type": "code",
   "execution_count": 19,
   "metadata": {},
   "outputs": [
    {
     "data": {
      "text/plain": [
       "0.0        6\n",
       "1.0       34\n",
       "2.0       47\n",
       "3.0       67\n",
       "4.0      196\n",
       "5.0      586\n",
       "6.0     1666\n",
       "7.0     2146\n",
       "8.0     1168\n",
       "9.0      363\n",
       "10.0      82\n",
       "11.0      17\n",
       "12.0       7\n",
       "13.0       2\n",
       "14.0       2\n",
       "17.0       1\n",
       "98.0       1\n",
       "99.0      94\n",
       "Name: birthwgt_lb1, dtype: int64"
      ]
     },
     "execution_count": 19,
     "metadata": {},
     "output_type": "execute_result"
    }
   ],
   "source": [
    "pounds.value_counts().sort_index()"
   ]
  },
  {
   "cell_type": "markdown",
   "metadata": {},
   "source": [
    "As we'd expect, the most frequent values are 6-8 pounds, but there are some very light babies, a few very heavy babies, and two values, 98, and 99, that indicate missing data.\n",
    "\n",
    "<img src='pictures/birthweight.jpg' />\n",
    "\n",
    "We can validate the results by comparing them to the codebook, which lists the values and their frequencies. The results here agree with the codebook, so we have some confidence that we are reading and interpreting the data correctly.\n",
    "\n",
    "### Describe\n",
    "\n",
    "Another way to validate the data is with ``describe()``, which computes summary statistics like the *mean, standard deviation, min, and max*. Here are the results for pounds:"
   ]
  },
  {
   "cell_type": "code",
   "execution_count": 20,
   "metadata": {},
   "outputs": [
    {
     "data": {
      "text/plain": [
       "count    6485.000000\n",
       "mean        8.055204\n",
       "std        11.178893\n",
       "min         0.000000\n",
       "25%         6.000000\n",
       "50%         7.000000\n",
       "75%         8.000000\n",
       "max        99.000000\n",
       "Name: birthwgt_lb1, dtype: float64"
      ]
     },
     "execution_count": 20,
     "metadata": {},
     "output_type": "execute_result"
    }
   ],
   "source": [
    "pounds.describe()"
   ]
  },
  {
   "cell_type": "markdown",
   "metadata": {},
   "source": [
    "*count* is the number of values. \n",
    "\n",
    "The *minimum* and *maximum* values are 0 and 99, and the 50th percentile, which is the *median*, is 7. \n",
    "\n",
    "The *mean* is about 8.05, but that doesn't mean much because it includes the special values 98 and 99. \n",
    "\n",
    "Before we can really compute the mean, we have to replace those values with NaN to represent missing data.\n",
    "\n",
    "### Replace\n",
    "\n",
    "The ``replace()`` method does what we want; it takes a list of values we want to replace and the value we want to replace them with. \n",
    "\n",
    "``np.nan`` means we are getting the special value ``NaN`` from the ``NumPy`` library, which is imported as np. \n",
    "\n",
    "The result from ``replace()`` is a *new* Series, which I assign back to pounds. Remember that the mean of the original series was about 8 point 05 pounds:"
   ]
  },
  {
   "cell_type": "code",
   "execution_count": 21,
   "metadata": {},
   "outputs": [
    {
     "data": {
      "text/plain": [
       "6.703286384976526"
      ]
     },
     "metadata": {},
     "output_type": "display_data"
    }
   ],
   "source": [
    "# import numpy\n",
    "import numpy as np\n",
    "\n",
    "pounds = pounds.replace([98, 99], np.nan)\n",
    "display(pounds.mean())"
   ]
  },
  {
   "cell_type": "markdown",
   "metadata": {},
   "source": [
    "The *mean* of the new series is about 6 point 7 pounds. It makes a big difference when you remove a few 99-pound babies! \n",
    "\n",
    "Instead of making a new Series, you can call ``replace()`` with ``inplace=True``, which modifies the existing Series \"in place\", that is, without making a copy. \n",
    "\n",
    "Here's what that looks like for ounces. Since we didn't make a new series, we don't have to assign it back to ounces."
   ]
  },
  {
   "cell_type": "code",
   "execution_count": 22,
   "metadata": {},
   "outputs": [],
   "source": [
    "ounces.replace([98, 99], np.nan, inplace=True)"
   ]
  },
  {
   "cell_type": "markdown",
   "metadata": {},
   "source": [
    "## Arithemetic with Series\n",
    "\n",
    "Now we want to combine pounds and ounces into a single Series that contains total birth weight. Arithmetic operators work with Series objects; so, to convert from ounces to pounds, we can divide by 16 (there are 16 ounces in a pound). Then we can add the two Series objects to get the total. Here are the results:"
   ]
  },
  {
   "cell_type": "code",
   "execution_count": 23,
   "metadata": {},
   "outputs": [
    {
     "data": {
      "text/plain": [
       "count    6355.000000\n",
       "mean        7.120978\n",
       "std         1.422236\n",
       "min         0.000000\n",
       "25%         6.375000\n",
       "50%         7.187500\n",
       "75%         8.000000\n",
       "max        17.937500\n",
       "dtype: float64"
      ]
     },
     "metadata": {},
     "output_type": "display_data"
    }
   ],
   "source": [
    "birth_weight = pounds + ounces / 16\n",
    "display(birth_weight.describe())"
   ]
  },
  {
   "cell_type": "markdown",
   "metadata": {},
   "source": [
    "The mean is about 7 point 1, which is a little more than what we got before we added in the ounces part. \n",
    "\n",
    "Now we're close to answering our original question, the average birth weight for babies in the U.S., but as we'll see in the next lesson, we're not there yet."
   ]
  },
  {
   "cell_type": "markdown",
   "metadata": {},
   "source": [
    "## Exercise\n",
    "\n",
    "### Clean a variable\n",
    "\n",
    "In the NSFG dataset, the variable ``'nbrnaliv'`` records the number of babies born alive at the end of a pregnancy.\n",
    "\n",
    "If you use ``.value_counts()`` to view the responses, you'll see that the value *8* appears once, and if you consult the codebook, you'll see that this value indicates that the respondent refused to answer the question.\n",
    "\n",
    "Your job in this exercise is to replace this value with ``np.nan``. "
   ]
  },
  {
   "cell_type": "code",
   "execution_count": 26,
   "metadata": {},
   "outputs": [
    {
     "name": "stdout",
     "output_type": "stream",
     "text": [
      "1.0    6379\n",
      "2.0     100\n",
      "3.0       5\n",
      "Name: nbrnaliv, dtype: int64\n"
     ]
    }
   ],
   "source": [
    "# Replace the value 8 with NaN\n",
    "nsfg['nbrnaliv'].replace(8, np.nan, inplace=True)\n",
    "\n",
    "# Print the values and their frequencies\n",
    "print(nsfg['nbrnaliv'].value_counts())"
   ]
  },
  {
   "cell_type": "markdown",
   "metadata": {},
   "source": [
    "### Compute a variable\n",
    "\n",
    "For each pregnancy in the NSFG dataset, the variable ``'agecon'`` encodes the respondent's age at conception, and ``'agepreg'`` the respondent's age at the end of the pregnancy.\n",
    "\n",
    "Both variables are recorded as integers with two implicit decimal places, so the value *2575* means that the respondent's age was *25.75*."
   ]
  },
  {
   "cell_type": "code",
   "execution_count": 30,
   "metadata": {},
   "outputs": [
    {
     "name": "stdout",
     "output_type": "stream",
     "text": [
      "count    9109.000000\n",
      "mean        0.552069\n",
      "std         0.271479\n",
      "min         0.000000\n",
      "25%         0.250000\n",
      "50%         0.670000\n",
      "75%         0.750000\n",
      "max         0.920000\n",
      "dtype: float64\n"
     ]
    }
   ],
   "source": [
    "# Select the columns and divide by 100\n",
    "agecon = nsfg['agecon'] / 100\n",
    "agepreg = nsfg['agepreg'] / 100\n",
    "\n",
    "# Compute the difference\n",
    "preg_length = agepreg - agecon\n",
    "\n",
    "# Compute summary statistics\n",
    "print(preg_length.describe())"
   ]
  }
 ],
 "metadata": {
  "kernelspec": {
   "display_name": "Python 3.9.12 ('Py3')",
   "language": "python",
   "name": "python3"
  },
  "language_info": {
   "codemirror_mode": {
    "name": "ipython",
    "version": 3
   },
   "file_extension": ".py",
   "mimetype": "text/x-python",
   "name": "python",
   "nbconvert_exporter": "python",
   "pygments_lexer": "ipython3",
   "version": "3.9.12"
  },
  "orig_nbformat": 4,
  "vscode": {
   "interpreter": {
    "hash": "73990f7905ce18e2def91a603fe09ae38383e0aba9dfcdeb23468ee256a89966"
   }
  }
 },
 "nbformat": 4,
 "nbformat_minor": 2
}
