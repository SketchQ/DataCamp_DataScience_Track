{
 "cells": [
  {
   "cell_type": "markdown",
   "metadata": {},
   "source": [
    "# Lesson I\n",
    "\n",
    "## Limits of simple Regression\n",
    "\n",
    "In this chapter we'll get farther into regression, including multiple regression and logistic regression. But first let's understand the limits of simple regression.\n",
    "\n",
    "In a previous exercise, we made a scatter plot of vegetable consumption as a function of income, and plotted a line of best fit.\n",
    "\n",
    "Here's what it looks like:\n",
    "\n",
    "<img src='pictures/incomevegetables.jpg' />\n",
    "\n",
    "The slope of the line is **0.07**, which means that the difference between the lowest and highest income brackets is about **0.49** servings per day.\n",
    "\n",
    "It was an arbitrary choice to plot vegetables as a function of income. We could've plotted it the other way around, like this:\n",
    "\n",
    "<img src='pictures/vegetablesincome.jpg' />\n",
    "\n",
    "The slope of this line is **0.23**, which means that the difference between 0 and 8 servings per day is about 2 income codes, roughly from 5 to 7. If we check the codebook, income of 5 is : $30,000 per year and code 7 is : $65,000. \n",
    "\n",
    "So if we use vegetable consumption to predict income, we see a big difference. But when we used income to predict vegetable consumption, we saw a small difference.\n",
    "\n",
    "This example shows that ***regression is not symmetric***; the regression of A onto B is not same as the regression of B onto A.\n",
    "\n",
    "We can see that more clearly by putting two figures side by side and plotting both regression lines on both figures:\n",
    "\n",
    "<img src='pictures/notsymmetric.jpg' />\n",
    "\n",
    "* On the Left, we treat income as a known quantity and vegetable consumption as random.\n",
    "* On the right, vegetable consumption is known and income is random.\n",
    "\n",
    "This example meant to demonstrate another point, which is that ***regression doesn't tell you much about cousation.***\n",
    "\n",
    "If you think people with lower income can't afford vegetables, we might look at the figure on the left and conclude that it doesn't make much difference.\n",
    "\n",
    "If you think better diet increases income, the figure on the right might make you think it does.\n",
    "\n",
    "But in general, regression can't tell you what causes what.\n",
    "\n",
    "However, we have tools for teasing apart relationships amon multiple variables; one of the most important is ***multiple regression***. ``Scipy`` *doesn't* do multiple regression, so we have to use a different library, ``StatsModels``\n",
    "\n",
    "Here's the import statement and how to use it:\n",
    "\n",
    "```python\n",
    "    import statsmodels.formula.api as smf\n",
    "    results = smf.ols('INCOME2 ~ _VEGESU1', data=brfss).fit()\n",
    "    results.params\n",
    "\n",
    "    # Output:\n",
    "    '''\n",
    "    Intercept   5.399903\n",
    "    _VEGESU1    0.232515\n",
    "    dtype: float64\n",
    "    '''\n",
    "```\n",
    "\n",
    "``ols`` stants for : **\"Ordinary least Squares\"**, another name for regression.\n",
    "\n",
    "* First argument: formula string that specifies that we want to regress income asa function of vegetable consumption.\n",
    "* Second argument: BRFSS DataFrame\n",
    "\n",
    "The result from ``ols()`` represents the model; we have to run ``.fit()`` to get the results.\n",
    "\n",
    "The results object containt a lot of information, but first thing we'll look at the ``.params``, Which contains;\n",
    "* Estimated slope and intercept"
   ]
  },
  {
   "cell_type": "markdown",
   "metadata": {},
   "source": [
    "## Exercise\n",
    "\n",
    "### Using StatsModels\n",
    "\n",
    "Let's run the same regression using ``SciPy`` and ``StatsModels`` and confirm we get the same results."
   ]
  },
  {
   "cell_type": "code",
   "execution_count": 5,
   "metadata": {},
   "outputs": [],
   "source": [
    "# Import packages\n",
    "import pandas as pd\n",
    "import numpy as np\n",
    "import matplotlib.pyplot as plt\n",
    "from scipy.stats import linregress\n",
    "import statsmodels.formula.api as smf\n",
    "\n",
    "# BRFSS DataFRame\n",
    "brfss = pd.read_hdf('datasets/brfss.hdf5', 'brfss')\n",
    "# GSS DataFrame\n",
    "gss = pd.read_hdf('datasets/gss.hdf5', 'gss')"
   ]
  },
  {
   "cell_type": "code",
   "execution_count": 3,
   "metadata": {},
   "outputs": [
    {
     "name": "stdout",
     "output_type": "stream",
     "text": [
      "LinregressResult(slope=0.06988048092105006, intercept=1.5287786243363113, rvalue=0.11967005884864092, pvalue=1.378503916249654e-238, stderr=0.0021109763563323305, intercept_stderr=0.013196467544093591)\n",
      "Intercept    1.528779\n",
      "INCOME2      0.069880\n",
      "dtype: float64\n"
     ]
    }
   ],
   "source": [
    "# Run regression with linregress\n",
    "subset = brfss.dropna(subset=['INCOME2', '_VEGESU1'])\n",
    "xs = subset['INCOME2']\n",
    "ys = subset['_VEGESU1']\n",
    "res = linregress(xs, ys)\n",
    "print(res)\n",
    "\n",
    "# Run Regression with StatsModels\n",
    "results = smf.ols('_VEGESU1 ~ INCOME2', data=brfss).fit()\n",
    "print(results.params)"
   ]
  },
  {
   "cell_type": "markdown",
   "metadata": {},
   "source": [
    "# Lesson II\n",
    "\n",
    "## Multiple Regression\n",
    "\n",
    "We'll use data from the General Social Survey from chapter 2, and we'll explore variables that are related to income."
   ]
  },
  {
   "cell_type": "code",
   "execution_count": 6,
   "metadata": {},
   "outputs": [
    {
     "data": {
      "text/plain": [
       "Intercept   -11539.147837\n",
       "educ          3586.523659\n",
       "dtype: float64"
      ]
     },
     "execution_count": 6,
     "metadata": {},
     "output_type": "execute_result"
    }
   ],
   "source": [
    "# Regression of real income as a function of years of education.\n",
    "results = smf.ols('realinc ~ educ', data=gss).fit()\n",
    "# realinc is the variable we are trying to predict.\n",
    "# educ is the variable we are using to inform the predictions.\n",
    "results.params"
   ]
  },
  {
   "cell_type": "markdown",
   "metadata": {},
   "source": [
    "Estimated slope is : **3586**, which means:\n",
    "***each additional year of education is associated with an increase of almost $3600 of income.***\n",
    "\n",
    "Income also depens on age, so it would be good to include that in the model, too."
   ]
  },
  {
   "cell_type": "code",
   "execution_count": 7,
   "metadata": {},
   "outputs": [
    {
     "data": {
      "text/plain": [
       "Intercept   -16117.275684\n",
       "educ          3655.166921\n",
       "age             83.731804\n",
       "dtype: float64"
      ]
     },
     "execution_count": 7,
     "metadata": {},
     "output_type": "execute_result"
    }
   ],
   "source": [
    "# Adding Age\n",
    "results = smf.ols('realinc ~ educ + age', data=gss).fit()\n",
    "# We can list as many variables as we like\n",
    "# '+' sign : indicates that we expect the contributions of the two variables to be additive.\n",
    "results.params"
   ]
  },
  {
   "cell_type": "markdown",
   "metadata": {},
   "source": [
    "Estimated slope : **3655**, little bit higher than the previous model\n",
    "estimated slope for age : **$80**, which is small!\n",
    "\n",
    "To see what's going on, let's look more closely at the relationships between income and age. We'll use ``groupby()`` in this case."
   ]
  },
  {
   "cell_type": "code",
   "execution_count": 27,
   "metadata": {},
   "outputs": [
    {
     "data": {
      "image/png": "[encoded data removed]",
      "text/plain": [
       "<Figure size 432x288 with 1 Axes>"
      ]
     },
     "metadata": {
      "needs_background": "light"
     },
     "output_type": "display_data"
    }
   ],
   "source": [
    "# Grouped by age\n",
    "grouped = gss.groupby('age')\n",
    "\n",
    "# Calculate the mean of income by age\n",
    "mean_income_by_age = grouped['realinc'].mean()\n",
    "\n",
    "# Plot the data\n",
    "plt.plot(mean_income_by_age, 'o', alpha=0.5)\n",
    "\n",
    "# Label the Axes\n",
    "plt.xlabel('Age (years)')\n",
    "plt.ylabel('Income (1986 $)')\n",
    "\n",
    "# Show plot\n",
    "plt.show()"
   ]
  },
  {
   "cell_type": "markdown",
   "metadata": {},
   "source": [
    "Average income increases from age 20 to 50, then starts to fall. This explains why the estimated slope is so small, 'Cause relationship is **non-linear**.\n",
    "\n",
    "***Correlation and simple regression can't measure non-linear relationships. But multiple regression can!***\n",
    "\n",
    "To describe a non-linear relationship, one option is to add a new variable that is a non-linear combination of other variables."
   ]
  },
  {
   "cell_type": "code",
   "execution_count": 9,
   "metadata": {},
   "outputs": [
    {
     "data": {
      "text/plain": [
       "Intercept   -48058.679679\n",
       "educ          3442.447178\n",
       "age           1748.232631\n",
       "age2           -17.437552\n",
       "dtype: float64"
      ]
     },
     "execution_count": 9,
     "metadata": {},
     "output_type": "execute_result"
    }
   ],
   "source": [
    "# We'll create a new variable called age2 that equals age squared.\n",
    "gss['age2'] = gss['age']**2\n",
    "\n",
    "# Now we can run a regression with both 'age' and 'age2'\n",
    "model = smf.ols('realinc ~ educ + age + age2', data=gss)\n",
    "results = model.fit()\n",
    "\n",
    "results.params"
   ]
  },
  {
   "cell_type": "markdown",
   "metadata": {},
   "source": [
    "The slope associated with age is : **$1700**\n",
    "Slope associated with age2 is : **-17**\n",
    "\n",
    "In the next lesson we'll see methods to visualize regression results."
   ]
  },
  {
   "cell_type": "markdown",
   "metadata": {},
   "source": [
    "## Exercise\n",
    "\n",
    "### Plot income and education\n",
    "\n",
    "To get a closer look at the relationship between income and education. Use the variable ``educ`` to group the data, then plot the mean income in each group."
   ]
  },
  {
   "cell_type": "code",
   "execution_count": null,
   "metadata": {},
   "outputs": [],
   "source": [
    "# Group by educ\n",
    "grouped = gss['educ']\n",
    "\n",
    "# Compute mean income in each group\n",
    "mean_income_by_educ = grouped['realinc'].mean()\n",
    "\n",
    "# Plot mean income as a scatter plot\n",
    "plt.clf()\n",
    "plt.scatter(mean_income_by_educ, 'o', alpha=0.5)\n",
    "\n",
    "# Label the axes\n",
    "plt.xlabel('Education (years)')\n",
    "plt.ylabel('Income (1986 $)')\n",
    "\n",
    "# Show plot\n",
    "plt.show()"
   ]
  },
  {
   "cell_type": "code",
   "execution_count": 23,
   "metadata": {},
   "outputs": [
    {
     "data": {
      "text/plain": [
       "Intercept   -23241.884034\n",
       "educ          -528.309369\n",
       "educ2          159.966740\n",
       "age           1696.717149\n",
       "age2           -17.196984\n",
       "dtype: float64"
      ]
     },
     "execution_count": 23,
     "metadata": {},
     "output_type": "execute_result"
    }
   ],
   "source": [
    "# Add a new column with educ squared\n",
    "gss['educ2'] = gss['educ']**2\n",
    "\n",
    "# Run a regression model with educ, educ2, age, and  age2\n",
    "results = smf.ols('realinc ~ educ + educ2 + age + age2', data=gss).fit()\n",
    "\n",
    "# Print the results\n",
    "results.params"
   ]
  },
  {
   "cell_type": "markdown",
   "metadata": {},
   "source": [
    "# Lesson III\n",
    "\n",
    "## Visualizing Regression Results\n",
    "\n",
    "Previously, we ran a multiple regression model to characterize the relationship between income and age. Because the model is *non-linear*, the parameters are hard to interpret.\n",
    "\n",
    "In this lesson, we'll see a way to interpret them visually, and to validate them against data.\n",
    "\n",
    "Here's the model from previous exercise one again:"
   ]
  },
  {
   "cell_type": "code",
   "execution_count": 24,
   "metadata": {},
   "outputs": [
    {
     "name": "stdout",
     "output_type": "stream",
     "text": [
      "Intercept   -23241.884034\n",
      "educ          -528.309369\n",
      "educ2          159.966740\n",
      "age           1696.717149\n",
      "age2           -17.196984\n",
      "dtype: float64\n"
     ]
    }
   ],
   "source": [
    "# First we create new variables for educ squared and age squared\n",
    "gss['educ2'] = gss['educ']**2\n",
    "gss['age2'] = gss['age']**2\n",
    "\n",
    "# We run the regression model with educ, educ2, age, and age2\n",
    "model = smf.ols('realinc ~ educ + educ2 + age + age2', data=gss)\n",
    "results = model.fit()\n",
    "\n",
    "print(results.params)"
   ]
  },
  {
   "cell_type": "markdown",
   "metadata": {},
   "source": [
    "***The parameters are hard to interpret. Fortunately we don't have to!...***\n",
    "\n",
    "Sometimes best way to understand a model is by looking at its predictions rather than its parameters.\n",
    "\n",
    "### Generating Predictions\n",
    "\n",
    "*The regression results object* provides a method called ``predict()``, which uses the model to generate predictions.\n",
    "\n",
    "It takes a *DataFrame* as a parameter and returns a *Series* with a prediction for each row in the DataFrame."
   ]
  },
  {
   "cell_type": "code",
   "execution_count": 31,
   "metadata": {},
   "outputs": [],
   "source": [
    "# To use it we create a new DataFrame : df\n",
    "df = pd.DataFrame()\n",
    "\n",
    "# DataFrame consists of age from 18 to 85\n",
    "df['age'] = np.linspace(18, 85)\n",
    "# Squared age\n",
    "df['age2'] = df['age']**2\n",
    "\n",
    "# We pick a level for educ : \n",
    "# 12 : High School\n",
    "# 14 : Assosiate    \n",
    "# 16 : Bachelor\n",
    "df['educ'] = 12\n",
    "df['educ2'] = df['educ']**2\n",
    "\n",
    "# Predict the average income for each age group and holding education constant.\n",
    "pred12 = results.predict(df)"
   ]
  },
  {
   "cell_type": "markdown",
   "metadata": {},
   "source": [
    "### Plotting predictions\n",
    "\n",
    "The result from ``predict()`` is a Series with one predicion for each row. So we can plot like this:"
   ]
  },
  {
   "cell_type": "code",
   "execution_count": 34,
   "metadata": {},
   "outputs": [
    {
     "data": {
      "image/png": "[encoded data removed]",
      "text/plain": [
       "<Figure size 432x288 with 1 Axes>"
      ]
     },
     "metadata": {
      "needs_background": "light"
     },
     "output_type": "display_data"
    }
   ],
   "source": [
    "# Age on the X-axis, Predicted income for each age on y-axis\n",
    "plt.plot(df['age'], pred12, label='High School')\n",
    "\n",
    "# We can plot the data again for comparision\n",
    "# Grouped by age\n",
    "grouped = gss.groupby('age')\n",
    "\n",
    "# Calculate the mean of income by age\n",
    "mean_income_by_age = grouped['realinc'].mean()\n",
    "\n",
    "plt.plot(mean_income_by_age, 'o', alpha=0.5)\n",
    "\n",
    "# Label the axes\n",
    "plt.xlabel('Age (years)')\n",
    "plt.ylabel('Income (1986 $)')\n",
    "plt.legend()\n",
    "\n",
    "# Show the plot\n",
    "plt.show()\n"
   ]
  },
  {
   "cell_type": "markdown",
   "metadata": {},
   "source": [
    "The orange dots show the average income in each age group. Blue line shows the predictions generated by the model, holding education constant.\n",
    "\n",
    "We can do the same thing with other levels of education, like 14 years and 16 years."
   ]
  },
  {
   "cell_type": "code",
   "execution_count": 35,
   "metadata": {},
   "outputs": [
    {
     "data": {
      "image/png": "[encoded data removed]",
      "text/plain": [
       "<Figure size 432x288 with 1 Axes>"
      ]
     },
     "metadata": {
      "needs_background": "light"
     },
     "output_type": "display_data"
    }
   ],
   "source": [
    "# Education = 12\n",
    "plt.plot(df['age'], pred12, label='High School')\n",
    "\n",
    "# Education = 14\n",
    "df['educ'] = 14\n",
    "df['educ2'] = df['educ']**2\n",
    "pred14 = results.predict(df)\n",
    "plt.plot(df['age'], pred14, label='Associate')\n",
    "# Education = 16\n",
    "df['educ'] = 16\n",
    "df['educ2'] = df['educ']**2\n",
    "pred16 = results.predict(df)\n",
    "plt.plot(df['age'], pred16, label='Bachelor')\n",
    "\n",
    "# We can plot the data again for comparision\n",
    "# Grouped by age\n",
    "grouped = gss.groupby('age')\n",
    "\n",
    "# Calculate the mean of income by age\n",
    "mean_income_by_age = grouped['realinc'].mean()\n",
    "\n",
    "plt.plot(mean_income_by_age, 'o', alpha=0.5)\n",
    "\n",
    "# Label the axes\n",
    "plt.xlabel('Age (years)')\n",
    "plt.ylabel('Income (1986 $)')\n",
    "plt.legend()\n",
    "\n",
    "# Show the plot\n",
    "plt.show()"
   ]
  },
  {
   "cell_type": "markdown",
   "metadata": {},
   "source": [
    "And here are the results. The lines show mean income, as predicted by the model, as a function of age, for three levels of education. This visualization helps validate the model since we can compare the predictions with the data. And it helps us interpret the model since we can see the separate contributions of age and education."
   ]
  },
  {
   "cell_type": "markdown",
   "metadata": {},
   "source": [
    "# Lesson IV\n",
    "\n",
    "## Logistic Regression\n",
    "\n",
    "To understand logistic regression, we have to start with **categorical variables.**\n",
    "\n",
    "* **Numerical Variables** : income, age, years of education.\n",
    "* **Categorical Variables** : Sex, Race.\n",
    "\n",
    "With ``StatsModels``, it is easy to include a categorical variable as part of a regression model.\n",
    "\n",
    "Here's how:"
   ]
  },
  {
   "cell_type": "code",
   "execution_count": 36,
   "metadata": {},
   "outputs": [
    {
     "data": {
      "text/plain": [
       "Intercept     -22369.453641\n",
       "C(sex)[T.2]    -4156.113865\n",
       "educ            -310.247419\n",
       "educ2            150.514091\n",
       "age             1703.047502\n",
       "age2             -17.238711\n",
       "dtype: float64"
      ]
     },
     "execution_count": 36,
     "metadata": {},
     "output_type": "execute_result"
    }
   ],
   "source": [
    "# The letter 'C' indicates that sex is a categorical variable\n",
    "formula = 'realinc ~ educ + educ2 + age + age2 + C(sex)'\n",
    "results = smf.ols(formula, data=gss).fit()\n",
    "results.params"
   ]
  },
  {
   "cell_type": "markdown",
   "metadata": {},
   "source": [
    "The regression treats the value ``sex=1``, which is *male*, as the *default*, and reports the difference associated with the value ``sex=2``, which is *female*.\n",
    "\n",
    "So this result indicates that income for women is about *$4100* less than for men, after controlling for age and education.\n",
    "\n",
    "### Boolean Variable\n",
    "\n",
    "If a categorical variable has only two values, it's called a **boolean variable**. For example, one of the questions in the GSS is :\n",
    "> \"Would you favor or oppose a law which would require a person to obtain a police permit before he or she could by a gun?\"\n",
    "\n",
    "The answer to this question is in variable called ``gunlaw``.\n",
    "\n",
    "* 1 means yes\n",
    "* 2 means no\n",
    "\n",
    "To explore relationship between ``gunlaw`` and factors like age,sex and education, we can use logistic regression.\n",
    "\n",
    "``StatsModels`` provides logistic regression, but to use it, we have to recode the variable;\n",
    "\n",
    "so ``1`` means *yes* and ``0`` means *no*."
   ]
  },
  {
   "cell_type": "code",
   "execution_count": 38,
   "metadata": {},
   "outputs": [
    {
     "data": {
      "text/plain": [
       "1.0    30918\n",
       "0.0     9632\n",
       "Name: gunlaw, dtype: int64"
      ]
     },
     "execution_count": 38,
     "metadata": {},
     "output_type": "execute_result"
    }
   ],
   "source": [
    "# Recode the 'gunlaw' so '0' means no\n",
    "gss['gunlaw'].replace([2], [0], inplace=True)\n",
    "\n",
    "# Check the code\n",
    "gss['gunlaw'].value_counts()"
   ]
  },
  {
   "cell_type": "markdown",
   "metadata": {},
   "source": [
    "Now we can run the regression. Instead of ``ols()``, we use ``logit()``, which is name for **\"logit function\"**\n",
    "\n",
    "Other than that, everything is the same as what we have seen before..."
   ]
  },
  {
   "cell_type": "code",
   "execution_count": 40,
   "metadata": {},
   "outputs": [
    {
     "name": "stdout",
     "output_type": "stream",
     "text": [
      "Optimization terminated successfully.\n",
      "         Current function value: 0.533674\n",
      "         Iterations 6\n"
     ]
    },
    {
     "data": {
      "text/plain": [
       "Intercept      1.653862\n",
       "C(sex)[T.2]    0.757249\n",
       "age           -0.018849\n",
       "age2           0.000189\n",
       "educ          -0.124373\n",
       "educ2          0.006653\n",
       "dtype: float64"
      ]
     },
     "execution_count": 40,
     "metadata": {},
     "output_type": "execute_result"
    }
   ],
   "source": [
    "formula = 'gunlaw ~ age + age2 + educ + educ2 + C(sex)'\n",
    "\n",
    "results=smf.logit(formula, data=gss).fit()\n",
    "results.params"
   ]
  },
  {
   "cell_type": "markdown",
   "metadata": {},
   "source": [
    "And here are the results. The parameters are in the form of **\"log odds\"**, which you may or may not be familiar with. I won't explain them in detail here, except to say that positive values are associated with things that make the outcome more likely; negative values make the outcome less likely.\n",
    "\n",
    "For example, the parameter associated with ``sex=2`` is ``0.75``, which indicates that women are more likely to support this form of gun control. To see how much more likely, we can generate and plot predictions, as we did with linear regression.\n",
    "\n",
    "As an example, we'll generate predictions for different ages and sexes, with education held constant."
   ]
  },
  {
   "cell_type": "code",
   "execution_count": 41,
   "metadata": {},
   "outputs": [],
   "source": [
    "df = pd.DataFrame()\n",
    "df['age'] = np.linspace(18, 89)\n",
    "df['educ'] = 12\n",
    "\n",
    "df['age2'] = df['age']**2\n",
    "df['educ2'] = df['educ']**2\n",
    "\n",
    "# For Male\n",
    "df['sex'] = 1\n",
    "pred1 = results.predict(df)\n",
    "# For Female\n",
    "df['sex'] = 2\n",
    "pred2 = results.predict(df)"
   ]
  },
  {
   "cell_type": "markdown",
   "metadata": {},
   "source": [
    "### Visualizing Results"
   ]
  },
  {
   "cell_type": "code",
   "execution_count": 44,
   "metadata": {},
   "outputs": [
    {
     "data": {
      "image/png": "[encoded data removed]",
      "text/plain": [
       "<Figure size 432x288 with 1 Axes>"
      ]
     },
     "metadata": {
      "needs_background": "light"
     },
     "output_type": "display_data"
    }
   ],
   "source": [
    "# As we done before we divide respondents into age groups\n",
    "grouped = gss.groupby('age')\n",
    "# Compute the mean in each group\n",
    "favor_by_age = grouped['gunlaw'].mean()\n",
    "# general plot data\n",
    "plt.plot(favor_by_age, 'o', alpha=0.5)\n",
    "\n",
    "# Plot for Males\n",
    "plt.plot(df['age'], pred1, label='Male')\n",
    "# Plot for Females\n",
    "plt.plot(df['age'], pred2, label='Female')\n",
    "\n",
    "# Label the Axes\n",
    "plt.xlabel('Age')\n",
    "plt.ylabel('Probability of favoring gun law')\n",
    "plt.legend()\n",
    "# Show plot\n",
    "plt.show()"
   ]
  },
  {
   "cell_type": "markdown",
   "metadata": {},
   "source": [
    "Here's what it looks like. According to the model, people near age 50 are least likely to support gun control (at least as this question was posed). And women are more likely to support it than men, by almost 15 percentage points."
   ]
  },
  {
   "cell_type": "markdown",
   "metadata": {},
   "source": [
    "## Exercise\n",
    "\n",
    "### Predicting a binary variable\n",
    "\n",
    "Let's use logistic regression to predict a binary variable. Specifically, we'll use age, sex, and education level to predict support for legalizing cannabis (marijuana) in the U.S.\n",
    "\n",
    "In the GSS dataset, the variable ``grass`` records the answer to the question \n",
    "\n",
    "> \"Do you think the use of marijuana should be made legal or not?\""
   ]
  },
  {
   "cell_type": "code",
   "execution_count": 45,
   "metadata": {},
   "outputs": [
    {
     "name": "stdout",
     "output_type": "stream",
     "text": [
      "Optimization terminated successfully.\n",
      "         Current function value: 0.588510\n",
      "         Iterations 6\n"
     ]
    },
    {
     "data": {
      "text/plain": [
       "Intercept     -1.685223\n",
       "C(sex)[T.2]   -0.384611\n",
       "age           -0.034756\n",
       "age2           0.000192\n",
       "educ           0.221860\n",
       "educ2         -0.004163\n",
       "dtype: float64"
      ]
     },
     "execution_count": 45,
     "metadata": {},
     "output_type": "execute_result"
    }
   ],
   "source": [
    "# Recode grass\n",
    "gss['grass'].replace(2, 0, inplace=True)\n",
    "\n",
    "# Run logistic regression\n",
    "results = smf.logit('grass ~ age + age2 + educ + educ2 + C(sex)', data=gss).fit()\n",
    "results.params"
   ]
  },
  {
   "cell_type": "code",
   "execution_count": 49,
   "metadata": {},
   "outputs": [
    {
     "data": {
      "image/png": "[encoded data removed]",
      "text/plain": [
       "<Figure size 432x288 with 1 Axes>"
      ]
     },
     "metadata": {
      "needs_background": "light"
     },
     "output_type": "display_data"
    }
   ],
   "source": [
    "# Make a DataFrame with range of ages\n",
    "df = pd.DataFrame()\n",
    "df['age'] = np.linspace(18, 89)\n",
    "df['age2'] = df['age']**2\n",
    "\n",
    "# Set the education level to 12\n",
    "df['educ'] = 12\n",
    "df['educ2'] = df['educ']**2\n",
    "\n",
    "# Generate predictions for men and women\n",
    "df['sex'] = 1\n",
    "pred1 = results.predict(df)\n",
    "df['sex'] = 2\n",
    "pred2 = results.predict(df)\n",
    "\n",
    "plt.clf()\n",
    "grouped = gss.groupby('age')\n",
    "favor_by_age = grouped['grass'].mean()\n",
    "plt.plot(favor_by_age, 'o', alpha=0.5)\n",
    "\n",
    "# Plot for Males\n",
    "plt.plot(df['age'], pred1, label='Male')\n",
    "# Plot for Females\n",
    "plt.plot(df['age'], pred2, label='Female')\n",
    "\n",
    "# Add Axes\n",
    "plt.xlabel('Age')\n",
    "plt.ylabel('Probability of favoring legalization')\n",
    "plt.legend()\n",
    "\n",
    "# Show plot\n",
    "plt.show()"
   ]
  }
 ],
 "metadata": {
  "kernelspec": {
   "display_name": "Python 3.8.13 ('base')",
   "language": "python",
   "name": "python3"
  },
  "language_info": {
   "codemirror_mode": {
    "name": "ipython",
    "version": 3
   },
   "file_extension": ".py",
   "mimetype": "text/x-python",
   "name": "python",
   "nbconvert_exporter": "python",
   "pygments_lexer": "ipython3",
   "version": "3.8.13"
  },
  "orig_nbformat": 4,
  "vscode": {
   "interpreter": {
    "hash": "4c59e6e5379e7fd956ce48a476e9664867cfb6229c9530fa6fd87fb84f21040f"
   }
  }
 },
 "nbformat": 4,
 "nbformat_minor": 2
}
