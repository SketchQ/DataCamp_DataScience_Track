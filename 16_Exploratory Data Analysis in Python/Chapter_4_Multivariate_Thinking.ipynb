{
 "cells": [
  {
   "cell_type": "markdown",
   "metadata": {},
   "source": [
    "# Lesson I\n",
    "\n",
    "## Limits of simple Regression\n",
    "\n",
    "In this chapter we'll get farther into regression, including multiple regression and logistic regression. But first let's understand the limits of simple regression.\n",
    "\n",
    "In a previous exercise, we made a scatter plot of vegetable consumption as a function of income, and plotted a line of best fit.\n",
    "\n",
    "Here's what it looks like:\n",
    "\n",
    "<img src='pictures/incomevegetables.jpg' />\n",
    "\n",
    "The slope of the line is **0.07**, which means that the difference between the lowest and highest income brackets is about **0.49** servings per day.\n",
    "\n",
    "It was an arbitrary choice to plot vegetables as a function of income. We could've plotted it the other way around, like this:\n",
    "\n",
    "<img src='pictures/vegetablesincome.jpg' />\n",
    "\n",
    "The slope of this line is **0.23**, which means that the difference between 0 and 8 servings per day is about 2 income codes, roughly from 5 to 7. If we check the codebook, income of 5 is : $30,000 per year and code 7 is : $65,000. \n",
    "\n",
    "So if we use vegetable consumption to predict income, we see a big difference. But when we used income to predict vegetable consumption, we saw a small difference.\n",
    "\n",
    "This example shows that ***regression is not symmetric***; the regression of A onto B is not same as the regression of B onto A.\n",
    "\n",
    "We can see that more clearly by putting two figures side by side and plotting both regression lines on both figures:\n",
    "\n",
    "<img src='pictures/notsymmetric.jpg' />\n",
    "\n",
    "* On the Left, we treat income as a known quantity and vegetable consumption as random.\n",
    "* On the right, vegetable consumption is known and income is random.\n",
    "\n",
    "This example meant to demonstrate another point, which is that ***regression doesn't tell you much about cousation.***\n",
    "\n",
    "If you think people with lower income can't afford vegetables, we might look at the figure on the left and conclude that it doesn't make much difference.\n",
    "\n",
    "If you think better diet increases income, the figure on the right might make you think it does.\n",
    "\n",
    "But in general, regression can't tell you what causes what.\n",
    "\n",
    "However, we have tools for teasing apart relationships amon multiple variables; one of the most important is ***multiple regression***. ``Scipy`` *doesn't* do multiple regression, so we have to use a different library, ``StatsModels``\n",
    "\n",
    "Here's the import statement and how to use it:\n",
    "\n",
    "```python\n",
    "    import statsmodels.formula.api as smf\n",
    "    results = smf.ols('INCOME2 ~ _VEGESU1', data=brfss).fit()\n",
    "    results.params\n",
    "\n",
    "    # Output:\n",
    "    '''\n",
    "    Intercept   5.399903\n",
    "    _VEGESU1    0.232515\n",
    "    dtype: float64\n",
    "    '''\n",
    "```\n",
    "\n",
    "``ols`` stants for : **\"Ordinary least Squares\"**, another name for regression.\n",
    "\n",
    "* First argument: formula string that specifies that we want to regress income asa function of vegetable consumption.\n",
    "* Second argument: BRFSS DataFrame\n",
    "\n",
    "The result from ``ols()`` represents the model; we have to run ``.fit()`` to get the results.\n",
    "\n",
    "The results object containt a lot of information, but first thing we'll look at the ``.params``, Which contains;\n",
    "* Estimated slope and intercept"
   ]
  },
  {
   "cell_type": "markdown",
   "metadata": {},
   "source": [
    "## Exercise\n",
    "\n",
    "### Using StatsModels\n",
    "\n",
    "Let's run the same regression using ``SciPy`` and ``StatsModels`` and confirm we get the same results."
   ]
  },
  {
   "cell_type": "code",
   "execution_count": 2,
   "metadata": {},
   "outputs": [],
   "source": [
    "# Import packages\n",
    "import pandas as pd\n",
    "import numpy as np\n",
    "from scipy.stats import linregress\n",
    "import statsmodels.formula.api as smf\n",
    "\n",
    "# BRFSS DataFRame\n",
    "brfss = pd.read_hdf('datasets/brfss.hdf5', 'brfss')"
   ]
  },
  {
   "cell_type": "code",
   "execution_count": 3,
   "metadata": {},
   "outputs": [
    {
     "name": "stdout",
     "output_type": "stream",
     "text": [
      "LinregressResult(slope=0.06988048092105006, intercept=1.5287786243363113, rvalue=0.11967005884864092, pvalue=1.378503916249654e-238, stderr=0.0021109763563323305, intercept_stderr=0.013196467544093591)\n",
      "Intercept    1.528779\n",
      "INCOME2      0.069880\n",
      "dtype: float64\n"
     ]
    }
   ],
   "source": [
    "# Run regression with linregress\n",
    "subset = brfss.dropna(subset=['INCOME2', '_VEGESU1'])\n",
    "xs = subset['INCOME2']\n",
    "ys = subset['_VEGESU1']\n",
    "res = linregress(xs, ys)\n",
    "print(res)\n",
    "\n",
    "# Run Regression with StatsModels\n",
    "results = smf.ols('_VEGESU1 ~ INCOME2', data=brfss).fit()\n",
    "print(results.params)"
   ]
  }
 ],
 "metadata": {
  "kernelspec": {
   "display_name": "Python 3.8.13 ('base')",
   "language": "python",
   "name": "python3"
  },
  "language_info": {
   "codemirror_mode": {
    "name": "ipython",
    "version": 3
   },
   "file_extension": ".py",
   "mimetype": "text/x-python",
   "name": "python",
   "nbconvert_exporter": "python",
   "pygments_lexer": "ipython3",
   "version": "3.8.13"
  },
  "orig_nbformat": 4,
  "vscode": {
   "interpreter": {
    "hash": "4c59e6e5379e7fd956ce48a476e9664867cfb6229c9530fa6fd87fb84f21040f"
   }
  }
 },
 "nbformat": 4,
 "nbformat_minor": 2
}
