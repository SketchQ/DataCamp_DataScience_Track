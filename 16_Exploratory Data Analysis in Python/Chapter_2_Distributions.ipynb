{
 "cells": [
  {
   "cell_type": "markdown",
   "metadata": {},
   "source": [
    "# Lesson I \n",
    "\n",
    "## Probability mass functions\n",
    "\n",
    "In this chapter, I'll present two more ways to represent distributions and you'll learn when to use each of them. And we'll work with a new dataset.\n",
    "\n",
    "## GSS\n",
    "\n",
    "The General Social Survey, or GSS, has run annually since 1972; it surveys a representative sample of the adult population in the U.S. and asks questions about demographics and beliefs about social and political issues.\n",
    "\n",
    "* Annual sample of U.S population.\n",
    "* Asks about demographics and beliefs about social and political issues.\n",
    "* Widely used by policy makers and researchers.\n",
    "\n",
    "<img src='pictures/gss.jpg' />\n",
    "\n",
    "### Read the Data\n",
    "\n",
    "The GSS contains hundreds of variables; I've selected just a few. And I have already cleaned and validated them, so we just have to read the file, like this:"
   ]
  },
  {
   "cell_type": "code",
   "execution_count": 1,
   "metadata": {},
   "outputs": [
    {
     "data": {
      "text/html": [
       "<div>\n",
       "<style scoped>\n",
       "    .dataframe tbody tr th:only-of-type {\n",
       "        vertical-align: middle;\n",
       "    }\n",
       "\n",
       "    .dataframe tbody tr th {\n",
       "        vertical-align: top;\n",
       "    }\n",
       "\n",
       "    .dataframe thead th {\n",
       "        text-align: right;\n",
       "    }\n",
       "</style>\n",
       "<table border=\"1\" class=\"dataframe\">\n",
       "  <thead>\n",
       "    <tr style=\"text-align: right;\">\n",
       "      <th></th>\n",
       "      <th>year</th>\n",
       "      <th>age</th>\n",
       "      <th>cohort</th>\n",
       "      <th>sex</th>\n",
       "      <th>race</th>\n",
       "      <th>educ</th>\n",
       "      <th>realinc</th>\n",
       "      <th>gunlaw</th>\n",
       "      <th>grass</th>\n",
       "      <th>wtssall</th>\n",
       "    </tr>\n",
       "  </thead>\n",
       "  <tbody>\n",
       "    <tr>\n",
       "      <th>0</th>\n",
       "      <td>1972</td>\n",
       "      <td>26.0</td>\n",
       "      <td>1946.0</td>\n",
       "      <td>1</td>\n",
       "      <td>1</td>\n",
       "      <td>18.0</td>\n",
       "      <td>13537.0</td>\n",
       "      <td>2.0</td>\n",
       "      <td>NaN</td>\n",
       "      <td>0.8893</td>\n",
       "    </tr>\n",
       "    <tr>\n",
       "      <th>1</th>\n",
       "      <td>1972</td>\n",
       "      <td>38.0</td>\n",
       "      <td>1934.0</td>\n",
       "      <td>2</td>\n",
       "      <td>1</td>\n",
       "      <td>12.0</td>\n",
       "      <td>18951.0</td>\n",
       "      <td>1.0</td>\n",
       "      <td>NaN</td>\n",
       "      <td>0.4446</td>\n",
       "    </tr>\n",
       "    <tr>\n",
       "      <th>2</th>\n",
       "      <td>1972</td>\n",
       "      <td>57.0</td>\n",
       "      <td>1915.0</td>\n",
       "      <td>1</td>\n",
       "      <td>1</td>\n",
       "      <td>12.0</td>\n",
       "      <td>30458.0</td>\n",
       "      <td>1.0</td>\n",
       "      <td>NaN</td>\n",
       "      <td>1.3339</td>\n",
       "    </tr>\n",
       "    <tr>\n",
       "      <th>3</th>\n",
       "      <td>1972</td>\n",
       "      <td>61.0</td>\n",
       "      <td>1911.0</td>\n",
       "      <td>2</td>\n",
       "      <td>1</td>\n",
       "      <td>14.0</td>\n",
       "      <td>37226.0</td>\n",
       "      <td>1.0</td>\n",
       "      <td>NaN</td>\n",
       "      <td>0.8893</td>\n",
       "    </tr>\n",
       "    <tr>\n",
       "      <th>4</th>\n",
       "      <td>1972</td>\n",
       "      <td>59.0</td>\n",
       "      <td>1913.0</td>\n",
       "      <td>1</td>\n",
       "      <td>1</td>\n",
       "      <td>12.0</td>\n",
       "      <td>30458.0</td>\n",
       "      <td>2.0</td>\n",
       "      <td>NaN</td>\n",
       "      <td>0.8893</td>\n",
       "    </tr>\n",
       "  </tbody>\n",
       "</table>\n",
       "</div>"
      ],
      "text/plain": [
       "   year   age  cohort  sex  race  educ  realinc  gunlaw  grass  wtssall\n",
       "0  1972  26.0  1946.0    1     1  18.0  13537.0     2.0    NaN   0.8893\n",
       "1  1972  38.0  1934.0    2     1  12.0  18951.0     1.0    NaN   0.4446\n",
       "2  1972  57.0  1915.0    1     1  12.0  30458.0     1.0    NaN   1.3339\n",
       "3  1972  61.0  1911.0    2     1  14.0  37226.0     1.0    NaN   0.8893\n",
       "4  1972  59.0  1913.0    1     1  12.0  30458.0     2.0    NaN   0.8893"
      ]
     },
     "execution_count": 1,
     "metadata": {},
     "output_type": "execute_result"
    }
   ],
   "source": [
    "# Import pandas\n",
    "import pandas as pd\n",
    "\n",
    "gss = pd.read_hdf('datasets/gss.hdf5', 'gss')\n",
    "\n",
    "gss.head()"
   ]
  },
  {
   "cell_type": "markdown",
   "metadata": {},
   "source": [
    "### Histogram\n",
    "\n",
    "To get started with this dataset, let's look at the distribution of ``educ``, which records the number of years of education for each respondent.\n",
    "\n",
    "First I'll select a column from the DataFrame. We've already seen one way to visualize a distribution, a histogram. Here's the code that generates it, and here's the histogram for this variable:"
   ]
  },
  {
   "cell_type": "code",
   "execution_count": 2,
   "metadata": {},
   "outputs": [
    {
     "data": {
      "image/png": "[encoded data removed]",
      "text/plain": [
       "<Figure size 432x288 with 1 Axes>"
      ]
     },
     "metadata": {
      "needs_background": "light"
     },
     "output_type": "display_data"
    }
   ],
   "source": [
    "# Import matplotlib\n",
    "import matplotlib.pyplot as plt\n",
    "\n",
    "educ = gss['educ']\n",
    "plt.hist(educ.dropna(), label='educ')\n",
    "plt.show()"
   ]
  },
  {
   "cell_type": "markdown",
   "metadata": {},
   "source": [
    "Based on the histogram, we can see the general shape of the distribution and the central tendency - it looks like the peak is near 12 years of education. But a histogram is not the best way to visualize this distribution.\n",
    "\n",
    "## PMF\n",
    "\n",
    "An alternative is a *probability mass function*, or *PMF*, that contains the unique values in the dataset and how often each one appears. \n",
    "\n",
    "I've provided a class called ``Pmf`` that computes a probability mass function. This class is based on a Pandas Series and it provides some methods that aren't in Pandas. \n",
    "\n",
    "The first argument can be any kind of sequence; in this case, it's a Series object. The second argument indicates that we don't want to normalize this PMF.\n",
    "\n",
    "```python\n",
    "    pmf_educ = Pmf(educ, normalized=False)\n",
    "    pmf_educ.head()\n",
    "\n",
    "    # Output:\n",
    "    0.0    566\n",
    "    1.0    118\n",
    "    2.0    292\n",
    "    3.0    686\n",
    "    4.0    746\n",
    "    Name: educ, dtype: float64\n",
    "```\n",
    "\n",
    "The result is a Series that contains the values on the left and the counts on the right. In this dataset, there are 566 respondents who report that they have zero years of formal education.\n",
    "\n",
    "You can use the bracket operator to look up a value in a ``Pmf`` and get a count.\n",
    "\n",
    "```python\n",
    "    pmf_educ[12]\n",
    "\n",
    "    # Output:\n",
    "    47689\n",
    "```\n",
    "\n",
    "This example shows that there are 47689 respondents with 12 years of education, which is the most frequent value.\n",
    "\n",
    "### Normalize\n",
    "\n",
    "Usually when we make a PMF, we want to know the fraction of respondents with each value, rather than the counts. We can do that by setting ``normalize=True``; then we get a normalized PMF, that is, a PMF where the frequencies add up to 1.\n",
    "\n",
    "```python\n",
    "    pmf_educ = Pmf(educ, normalized=True)\n",
    "    pmf_educ.head()\n",
    "\n",
    "    # Output:\n",
    "    0.0    0.003663\n",
    "    1.0    0.000764\n",
    "    2.0    0.001890\n",
    "    3.0    0.004440\n",
    "    4.0    0.004828\n",
    "    Name: educ, dtype: float64\n",
    "```\n",
    "\n",
    "Now if we use the bracket operator, the result is a fraction:\n",
    "\n",
    "```python\n",
    "    pmf_educ[12]\n",
    "    # Output:\n",
    "    0.308\n",
    "```\n",
    "\n",
    "In this example, the fraction of people with 12 years of education is 0.3086, a little more than 30%.\n",
    "\n",
    "### Plot\n",
    "\n",
    "The ``Pmf`` class provides a ``bar()`` method that plots a PMF as a bar chart. And here's what it looks like:\n",
    "\n",
    "```python\n",
    "    pmf_educ.bar(label='educ')\n",
    "    plt.xlabel('Years of Education')\n",
    "    plt.ylabel('PMF')\n",
    "    plt.show()\n",
    "\n",
    "    # Output:\n",
    "```\n",
    "\n",
    "<img src='pictures/pmfplot.jpg' width=400 />\n",
    "\n",
    "In this figure, we can see more clearly that the most common value is 12 years, but there are also peaks at 14 and 16, which correspond to two and four years of college.\n",
    "\n",
    "For this data, the PMF is probably a better choice than the histogram. The PMF shows all unique values, so we can see exactly where the peaks are. Because the histogram puts values into bins, it obscures some details. In this example, we can't see the peaks at 14 and 16 years."
   ]
  },
  {
   "cell_type": "markdown",
   "metadata": {},
   "source": [
    "## Exercise\n",
    "\n",
    "### Make a PMF\n",
    "\n",
    "The GSS dataset has been pre-loaded for you into a DataFrame called ``gss``. You can explore it in the IPython Shell to get familiar with it.\n",
    "\n",
    "In this exercise, you'll focus on one variable in this dataset, ``'year'``, which represents the year each respondent was interviewed.\n",
    "\n",
    "The ``Pmf`` class you saw in the video has already been created for you. You can access it outside of DataCamp via the ``empiricaldist`` library."
   ]
  },
  {
   "cell_type": "code",
   "execution_count": 8,
   "metadata": {},
   "outputs": [
    {
     "name": "stdout",
     "output_type": "stream",
     "text": [
      "0        1972\n",
      "1        1972\n",
      "2        1972\n",
      "3        1972\n",
      "4        1972\n",
      "         ... \n",
      "62461    2016\n",
      "62462    2016\n",
      "62463    2016\n",
      "62464    2016\n",
      "62465    2016\n",
      "Name: year, Length: 62466, dtype: int64\n"
     ]
    }
   ],
   "source": [
    "# Import PMF\n",
    "from empyrical_dist import Pmf \n",
    "\n",
    "# Compute the PMF for year\n",
    "pmf_year = Pmf(gss['year'])\n",
    "\n",
    "# print the result\n",
    "print(pmf_year)"
   ]
  },
  {
   "cell_type": "markdown",
   "metadata": {},
   "source": [
    "### Plot a PMF\n",
    "\n",
    "Now let's plot a PMF for the age of the respondents in the GSS dataset. The variable ``'age'`` contains respondents' age in years."
   ]
  },
  {
   "cell_type": "code",
   "execution_count": null,
   "metadata": {},
   "outputs": [],
   "source": [
    "# Select the age column\n",
    "age = gss['age']\n",
    "\n",
    "# Make a PMF of age\n",
    "pmf_age = Pmf(age)\n",
    "\n",
    "# Plot the PMF\n",
    "pmf_age.bar()\n",
    "\n",
    "# Label the axes\n",
    "plt.xlabel('Age')\n",
    "plt.ylabel('PMF')\n",
    "plt.show()"
   ]
  }
 ],
 "metadata": {
  "kernelspec": {
   "display_name": "Python 3.9.12 ('Py3')",
   "language": "python",
   "name": "python3"
  },
  "language_info": {
   "codemirror_mode": {
    "name": "ipython",
    "version": 3
   },
   "file_extension": ".py",
   "mimetype": "text/x-python",
   "name": "python",
   "nbconvert_exporter": "python",
   "pygments_lexer": "ipython3",
   "version": "3.9.12"
  },
  "orig_nbformat": 4,
  "vscode": {
   "interpreter": {
    "hash": "73990f7905ce18e2def91a603fe09ae38383e0aba9dfcdeb23468ee256a89966"
   }
  }
 },
 "nbformat": 4,
 "nbformat_minor": 2
}
