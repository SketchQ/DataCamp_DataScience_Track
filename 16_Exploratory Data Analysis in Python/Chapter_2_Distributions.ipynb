{
 "cells": [
  {
   "cell_type": "markdown",
   "metadata": {},
   "source": [
    "# Lesson I \n",
    "\n",
    "## Probability mass functions\n",
    "\n",
    "In this chapter, I'll present two more ways to represent distributions and you'll learn when to use each of them. And we'll work with a new dataset.\n",
    "\n",
    "## GSS\n",
    "\n",
    "The General Social Survey, or GSS, has run annually since 1972; it surveys a representative sample of the adult population in the U.S. and asks questions about demographics and beliefs about social and political issues.\n",
    "\n",
    "* Annual sample of U.S population.\n",
    "* Asks about demographics and beliefs about social and political issues.\n",
    "* Widely used by policy makers and researchers.\n",
    "\n",
    "<img src='pictures/gss.jpg' />\n",
    "\n",
    "### Read the Data\n",
    "\n",
    "The GSS contains hundreds of variables; I've selected just a few. And I have already cleaned and validated them, so we just have to read the file, like this:"
   ]
  },
  {
   "cell_type": "code",
   "execution_count": 4,
   "metadata": {},
   "outputs": [
    {
     "name": "stderr",
     "output_type": "stream",
     "text": [
      "<frozen importlib._bootstrap>:228: RuntimeWarning: numpy.ufunc size changed, may indicate binary incompatibility. Expected 216 from C header, got 232 from PyObject\n"
     ]
    },
    {
     "data": {
      "text/html": [
       "<div>\n",
       "<style scoped>\n",
       "    .dataframe tbody tr th:only-of-type {\n",
       "        vertical-align: middle;\n",
       "    }\n",
       "\n",
       "    .dataframe tbody tr th {\n",
       "        vertical-align: top;\n",
       "    }\n",
       "\n",
       "    .dataframe thead th {\n",
       "        text-align: right;\n",
       "    }\n",
       "</style>\n",
       "<table border=\"1\" class=\"dataframe\">\n",
       "  <thead>\n",
       "    <tr style=\"text-align: right;\">\n",
       "      <th></th>\n",
       "      <th>year</th>\n",
       "      <th>age</th>\n",
       "      <th>cohort</th>\n",
       "      <th>sex</th>\n",
       "      <th>race</th>\n",
       "      <th>educ</th>\n",
       "      <th>realinc</th>\n",
       "      <th>gunlaw</th>\n",
       "      <th>grass</th>\n",
       "      <th>wtssall</th>\n",
       "    </tr>\n",
       "  </thead>\n",
       "  <tbody>\n",
       "    <tr>\n",
       "      <th>0</th>\n",
       "      <td>1972</td>\n",
       "      <td>26.0</td>\n",
       "      <td>1946.0</td>\n",
       "      <td>1</td>\n",
       "      <td>1</td>\n",
       "      <td>18.0</td>\n",
       "      <td>13537.0</td>\n",
       "      <td>2.0</td>\n",
       "      <td>NaN</td>\n",
       "      <td>0.8893</td>\n",
       "    </tr>\n",
       "    <tr>\n",
       "      <th>1</th>\n",
       "      <td>1972</td>\n",
       "      <td>38.0</td>\n",
       "      <td>1934.0</td>\n",
       "      <td>2</td>\n",
       "      <td>1</td>\n",
       "      <td>12.0</td>\n",
       "      <td>18951.0</td>\n",
       "      <td>1.0</td>\n",
       "      <td>NaN</td>\n",
       "      <td>0.4446</td>\n",
       "    </tr>\n",
       "    <tr>\n",
       "      <th>2</th>\n",
       "      <td>1972</td>\n",
       "      <td>57.0</td>\n",
       "      <td>1915.0</td>\n",
       "      <td>1</td>\n",
       "      <td>1</td>\n",
       "      <td>12.0</td>\n",
       "      <td>30458.0</td>\n",
       "      <td>1.0</td>\n",
       "      <td>NaN</td>\n",
       "      <td>1.3339</td>\n",
       "    </tr>\n",
       "    <tr>\n",
       "      <th>3</th>\n",
       "      <td>1972</td>\n",
       "      <td>61.0</td>\n",
       "      <td>1911.0</td>\n",
       "      <td>2</td>\n",
       "      <td>1</td>\n",
       "      <td>14.0</td>\n",
       "      <td>37226.0</td>\n",
       "      <td>1.0</td>\n",
       "      <td>NaN</td>\n",
       "      <td>0.8893</td>\n",
       "    </tr>\n",
       "    <tr>\n",
       "      <th>4</th>\n",
       "      <td>1972</td>\n",
       "      <td>59.0</td>\n",
       "      <td>1913.0</td>\n",
       "      <td>1</td>\n",
       "      <td>1</td>\n",
       "      <td>12.0</td>\n",
       "      <td>30458.0</td>\n",
       "      <td>2.0</td>\n",
       "      <td>NaN</td>\n",
       "      <td>0.8893</td>\n",
       "    </tr>\n",
       "  </tbody>\n",
       "</table>\n",
       "</div>"
      ],
      "text/plain": [
       "   year   age  cohort  sex  race  educ  realinc  gunlaw  grass  wtssall\n",
       "0  1972  26.0  1946.0    1     1  18.0  13537.0     2.0    NaN   0.8893\n",
       "1  1972  38.0  1934.0    2     1  12.0  18951.0     1.0    NaN   0.4446\n",
       "2  1972  57.0  1915.0    1     1  12.0  30458.0     1.0    NaN   1.3339\n",
       "3  1972  61.0  1911.0    2     1  14.0  37226.0     1.0    NaN   0.8893\n",
       "4  1972  59.0  1913.0    1     1  12.0  30458.0     2.0    NaN   0.8893"
      ]
     },
     "execution_count": 4,
     "metadata": {},
     "output_type": "execute_result"
    }
   ],
   "source": [
    "# Import pandas\n",
    "import pandas as pd\n",
    "\n",
    "gss = pd.read_hdf('datasets/gss.hdf5', 'gss')\n",
    "\n",
    "gss.head()"
   ]
  },
  {
   "cell_type": "markdown",
   "metadata": {},
   "source": [
    "### Histogram\n",
    "\n",
    "To get started with this dataset, let's look at the distribution of ``educ``, which records the number of years of education for each respondent.\n",
    "\n",
    "First I'll select a column from the DataFrame. We've already seen one way to visualize a distribution, a histogram. Here's the code that generates it, and here's the histogram for this variable:"
   ]
  },
  {
   "cell_type": "code",
   "execution_count": 5,
   "metadata": {},
   "outputs": [
    {
     "data": {
      "image/png": "[encoded data removed]",
      "text/plain": [
       "<Figure size 432x288 with 1 Axes>"
      ]
     },
     "metadata": {
      "needs_background": "light"
     },
     "output_type": "display_data"
    }
   ],
   "source": [
    "# Import matplotlib\n",
    "import matplotlib.pyplot as plt\n",
    "\n",
    "educ = gss['educ']\n",
    "plt.hist(educ.dropna(), label='educ')\n",
    "plt.show()"
   ]
  },
  {
   "cell_type": "markdown",
   "metadata": {},
   "source": [
    "Based on the histogram, we can see the general shape of the distribution and the central tendency - it looks like the peak is near 12 years of education. But a histogram is not the best way to visualize this distribution.\n",
    "\n",
    "## PMF\n",
    "\n",
    "An alternative is a *probability mass function*, or *PMF*, that contains the unique values in the dataset and how often each one appears. \n",
    "\n",
    "I've provided a class called ``Pmf`` that computes a probability mass function. This class is based on a Pandas Series and it provides some methods that aren't in Pandas. \n",
    "\n",
    "The first argument can be any kind of sequence; in this case, it's a Series object. The second argument indicates that we don't want to normalize this PMF.\n",
    "\n",
    "```python\n",
    "    pmf_educ = Pmf(educ, normalized=False)\n",
    "    pmf_educ.head()\n",
    "\n",
    "    # Output:\n",
    "    0.0    566\n",
    "    1.0    118\n",
    "    2.0    292\n",
    "    3.0    686\n",
    "    4.0    746\n",
    "    Name: educ, dtype: float64\n",
    "```\n",
    "\n",
    "The result is a Series that contains the values on the left and the counts on the right. In this dataset, there are 566 respondents who report that they have zero years of formal education.\n",
    "\n",
    "You can use the bracket operator to look up a value in a ``Pmf`` and get a count.\n",
    "\n",
    "```python\n",
    "    pmf_educ[12]\n",
    "\n",
    "    # Output:\n",
    "    47689\n",
    "```\n",
    "\n",
    "This example shows that there are 47689 respondents with 12 years of education, which is the most frequent value.\n",
    "\n",
    "### Normalize\n",
    "\n",
    "Usually when we make a PMF, we want to know the fraction of respondents with each value, rather than the counts. We can do that by setting ``normalize=True``; then we get a normalized PMF, that is, a PMF where the frequencies add up to 1.\n",
    "\n",
    "```python\n",
    "    pmf_educ = Pmf(educ, normalized=True)\n",
    "    pmf_educ.head()\n",
    "\n",
    "    # Output:\n",
    "    0.0    0.003663\n",
    "    1.0    0.000764\n",
    "    2.0    0.001890\n",
    "    3.0    0.004440\n",
    "    4.0    0.004828\n",
    "    Name: educ, dtype: float64\n",
    "```\n",
    "\n",
    "Now if we use the bracket operator, the result is a fraction:\n",
    "\n",
    "```python\n",
    "    pmf_educ[12]\n",
    "    # Output:\n",
    "    0.308\n",
    "```\n",
    "\n",
    "In this example, the fraction of people with 12 years of education is 0.3086, a little more than 30%.\n",
    "\n",
    "### Plot\n",
    "\n",
    "The ``Pmf`` class provides a ``bar()`` method that plots a PMF as a bar chart. And here's what it looks like:\n",
    "\n",
    "```python\n",
    "    pmf_educ.bar(label='educ')\n",
    "    plt.xlabel('Years of Education')\n",
    "    plt.ylabel('PMF')\n",
    "    plt.show()\n",
    "\n",
    "    # Output:\n",
    "```\n",
    "\n",
    "<img src='pictures/pmfplot.jpg' width=400 />\n",
    "\n",
    "In this figure, we can see more clearly that the most common value is 12 years, but there are also peaks at 14 and 16, which correspond to two and four years of college.\n",
    "\n",
    "For this data, the PMF is probably a better choice than the histogram. The PMF shows all unique values, so we can see exactly where the peaks are. Because the histogram puts values into bins, it obscures some details. In this example, we can't see the peaks at 14 and 16 years."
   ]
  },
  {
   "cell_type": "markdown",
   "metadata": {},
   "source": [
    "## Exercise\n",
    "\n",
    "### Make a PMF\n",
    "\n",
    "The GSS dataset has been pre-loaded for you into a DataFrame called ``gss``. You can explore it in the IPython Shell to get familiar with it.\n",
    "\n",
    "In this exercise, you'll focus on one variable in this dataset, ``'year'``, which represents the year each respondent was interviewed.\n",
    "\n",
    "The ``Pmf`` class you saw in the video has already been created for you. You can access it outside of DataCamp via the ``empiricaldist`` library."
   ]
  },
  {
   "cell_type": "code",
   "execution_count": 8,
   "metadata": {},
   "outputs": [
    {
     "name": "stdout",
     "output_type": "stream",
     "text": [
      "0        1972\n",
      "1        1972\n",
      "2        1972\n",
      "3        1972\n",
      "4        1972\n",
      "         ... \n",
      "62461    2016\n",
      "62462    2016\n",
      "62463    2016\n",
      "62464    2016\n",
      "62465    2016\n",
      "Name: year, Length: 62466, dtype: int64\n"
     ]
    }
   ],
   "source": [
    "# Import PMF\n",
    "from empyrical_dist import Pmf \n",
    "\n",
    "# Compute the PMF for year\n",
    "pmf_year = Pmf(gss['year'])\n",
    "\n",
    "# print the result\n",
    "print(pmf_year)"
   ]
  },
  {
   "cell_type": "markdown",
   "metadata": {},
   "source": [
    "### Plot a PMF\n",
    "\n",
    "Now let's plot a PMF for the age of the respondents in the GSS dataset. The variable ``'age'`` contains respondents' age in years."
   ]
  },
  {
   "cell_type": "code",
   "execution_count": null,
   "metadata": {},
   "outputs": [],
   "source": [
    "# Select the age column\n",
    "age = gss['age']\n",
    "\n",
    "# Make a PMF of age\n",
    "pmf_age = Pmf(age)\n",
    "\n",
    "# Plot the PMF\n",
    "pmf_age.bar()\n",
    "\n",
    "# Label the axes\n",
    "plt.xlabel('Age')\n",
    "plt.ylabel('PMF')\n",
    "plt.show()"
   ]
  },
  {
   "cell_type": "markdown",
   "metadata": {},
   "source": [
    "# Lesson II\n",
    "\n",
    "## Cumulative distribution functions\n",
    "\n",
    "In the previous lesson, we saw the probability mass function, or PMF, which represents the possible values in a distribution and their probabilities. In this lesson, we'll see another way to represent a distribution, the cumulative distribution function, or CDF. CDFs are useful for some computations; they are also a great way to visualize and compare distributions.\n",
    "\n",
    "## From PMF to CDF\n",
    "\n",
    "If you draw a random element from a distribution:\n",
    "\n",
    "* PMF (Probability Mass Function) is the probability that you get exactly that value.\n",
    "* CDF (Cumulative Distribution Function) is the probability that you get a value less than or equal to that value.\n",
    "\n",
    "### Example\n",
    "\n",
    "PMF of {1, 2, 3, 4, 5}\n",
    "\n",
    "| PMF | CDF |\n",
    "| ---- | ---- |\n",
    "| PMF(1) = 1/5 | CDF(1) = 1/5 |\n",
    "| PMF(2) = 2/5 | CDF(2) = 3/5 |\n",
    "| PMF(3) = 1/5 | CDF(3) = 4/5 |\n",
    "| PMF(5) = 1/5 | CDF(5) = 5/5 or 1 |\n",
    "\n",
    "As a small example, suppose the distribution only has 5 elements, 1, 2, 2, 3, and 5. \n",
    "\n",
    "The PMF says that the probability of value 1 is 1/5; \n",
    "the probability of value 2 is 2/5, and the probabilities for 3 and 5 are 1/5. \n",
    "\n",
    "The CDF is the cumulative sum of the probabilities from the PMF. \n",
    "\n",
    "For example, the CDF of 2 is three fifths, because three out of 5 values in the distribution are less than or equal to 2. \n",
    "The CDF of 5 is 1, or 100%, because all of the values in the distribution are less than or equal to 5.\n",
    "\n",
    "### Make a plot of a CDF\n",
    "\n",
    "In the code for this course, I provide a ``Cdf`` class which is similar to the ``Pmf`` class we've seen. As a function, Cdf takes any kind of sequence and returns a new Cdf object.\n",
    "\n",
    "In this example, the sequence is the ages of respondents in the General Social Survey. The Cdf provides plot, which plots the CDF as a line. Here's what it looks like:"
   ]
  },
  {
   "cell_type": "code",
   "execution_count": null,
   "metadata": {},
   "outputs": [],
   "source": [
    "from empyrical_dist import Cdf\n",
    "\n",
    "cdf = Cdf(gss['age'])\n",
    "cdf.plot()\n",
    "\n",
    "plt.xlabel('Age')\n",
    "plt.ylabel('CDF')\n",
    "\n",
    "plt.show()"
   ]
  },
  {
   "cell_type": "markdown",
   "metadata": {},
   "source": [
    "<img src='pictures/cdf.jpg' width=450 />\n",
    "\n",
    "### Evaluating the CDF\n",
    "\n",
    "The Cdf object can be used as a function, so if you give it an age, it returns the corresponding probability."
   ]
  },
  {
   "cell_type": "code",
   "execution_count": 9,
   "metadata": {},
   "outputs": [
    {
     "name": "stdout",
     "output_type": "stream",
     "text": [
      "53.0\n"
     ]
    }
   ],
   "source": [
    "q = 51\n",
    "p = cdf(q)\n",
    "print(p)"
   ]
  },
  {
   "cell_type": "markdown",
   "metadata": {},
   "source": [
    "In this example, the age is the quantity, q, which is 51. The corresponding probability is p, which is 0.66. \n",
    "That means that about 66% of the respondents are 51 years old or younger. The arrow in the figure shows how you could read this value from the CDF, at least approximately.\n",
    "\n",
    "### Evaluating the inverse CDF\n",
    "\n",
    "The CDF is an invertible function, which means that if you have a probability, p, you can look up the corresponding quantity, q. In this example, I look up the probability 0.25, which returns 30. That means that 25% of the respondents are age 30 or less. \n",
    "\n",
    "```python\n",
    "    p = 0.25\n",
    "    q = cdf.inverse(p)\n",
    "    print(q)\n",
    "    # Output:\n",
    "    30\n",
    "```\n",
    "\n",
    "Another way to say the same thing is \"age 30 is the 25th percentile of this distribution\". I also look up probability 0.75, which returns 57, so 75% of the respondents are 57 or younger. \n",
    "\n",
    "```python\n",
    "    p = 0.75\n",
    "    q = cdf.inverse(p)\n",
    "    print(q)\n",
    "    # Output:\n",
    "    57\n",
    "```\n",
    "\n",
    "By the way, the distance from the 25th to the 75th percentile is called the interquartile range, or IQR. It measures the spread of the distribution, so it is similar to standard deviation or variance. \n",
    "\n",
    "Because it is based on percentiles, it doesn't get thrown off by extreme values or outliers, the way variance does. \n",
    "So IQR can be more \"robust\" than variance, which means it works well even if there are errors in the data or extreme values."
   ]
  },
  {
   "cell_type": "markdown",
   "metadata": {},
   "source": [
    "# Lesson III\n",
    "\n",
    "## Comparing distributions\n",
    "\n",
    "So far we've seen two ways to represent distributions, PMFs and CDFs. In this lesson, we'll use PMFs and CDFs to compare distributions, and we'll see the pros and cons of each.\n",
    "\n",
    "## Multiple PMFs\n",
    "\n",
    "One way to compare distributions is to plot multiple PMFs on the same axes. For example, suppose we want to compare the distribution of age for male and female respondents.\n",
    "\n",
    "```python\n",
    "    male = gss['sex'] == 1\n",
    "    age = gss['age']\n",
    "    male_age = age[male]\n",
    "    female_age = age[~male]\n",
    "    Pmf(male_age).plot(label='Male')\n",
    "    Pmf(female_age).plot(label='Female')\n",
    "    plt.xlabel('Age (years)')\n",
    "    plt.ylabel('Count')\n",
    "    plt.show()\n",
    "```\n",
    "\n",
    "First I'll create a boolean Series that's true for male respondents. And I'll extract the age column. Now I can select ages for the male and female respondents. And plot a Pmf for each. Of course I always remember to label the axes!\n",
    "\n",
    "<img src='pictures/agepmf.jpg' />\n",
    "\n",
    "Here's the result. It looks like there are more men in their twenties, maybe. And there are more women in their 70s and 80s. In between, the plot is pretty noisy; most of these differences are just random variations.\n",
    "\n",
    "## Multiple CDFs\n",
    "\n",
    "We can do the same thing with CDFs. Here's the code: everything is the same except I replaced Pmf with Cdf.\n",
    "\n",
    "```python\n",
    "    Cdf(male_age).plot(label='Male')\n",
    "    Cdf(female_age).plot(label='Female')\n",
    "\n",
    "    plt.xlabel('Age (years)')\n",
    "    plt.ylabel('Count')\n",
    "    plt.show()\n",
    "```\n",
    "\n",
    "<img src='pictures/agecdf.jpg' />\n",
    "\n",
    "And here is the result. \n",
    "\n",
    "In general, CDFs are smoother than PMFs. Because they smooth out randomness, we can often get a better view of real differences between distributions. \n",
    "\n",
    "In this case, the lines overlap over the whole range; that is, the distributions are nearly identical. But we can see the blue line to the left of the orange line across the distribution, which shows that men are younger at every percentile. Or, another way to think of it: for every age, the fraction of men below that age is more than the fraction of women below that age. But not by very much.\n",
    "\n",
    "\n",
    "## Income Distribution\n",
    "\n",
    "### Income PMFs\n",
    "\n",
    "As another example, let's look at household income and compare the distribution before and after 1995 (I chose 1995 because it's roughly the midpoint of the survey). \n",
    "\n",
    "```python\n",
    "income = gss['realinc']\n",
    "pre95 = gss['year'] < 1995\n",
    "Pmf(income[pre95]).plot(label='Before 1995')\n",
    "Pmf(income[~pre95]).plot(label='After 1995')\n",
    "plt.xlabel('Income (1986 dollars)')\n",
    "plt.ylabel('PMF')\n",
    "plt.show()\n",
    "```\n",
    "\n",
    "The variable realinc represents household income in 1986 dollars. I'll make a boolean Series to select respondents interviewed before 1995. Now I can plot the PMFs. And label the axes.\n",
    "\n",
    "<img src='pictures/incomepdf.jpg' />\n",
    "\n",
    "Here's what it looks like. There are a lot of unique values in this distribution, and none of them appear very often. \n",
    "\n",
    "The PMF is so noisy, we can't really see the shape of the distribution. It looks like there are more people with high incomes after 1995, but it's hard to tell. We can get a clearer picture with a CDF.\n",
    "\n",
    "### Income CDFs\n",
    "\n",
    "Here's the code to generate the CDFs.\n",
    "\n",
    "```python\n",
    "    Cdf(income[pre95]).plot(label='Before 1995')\n",
    "    Cdf(income[~pre95]).plot(label='After 1995')\n",
    "```\n",
    "\n",
    "<img src='pictures/incomecdf.jpg' />\n",
    "\n",
    "And here are the results. Below $30,000 the CDFs are almost identical; above that, we can see that the orange distribution is shifted to the right. \n",
    "\n",
    "In other words, the fraction of people with high incomes is about the same, but the income of high earners has increased.\n",
    "\n",
    "In general, I recommend CDFs for exploratory analysis. They give you a clear view of the distribution, without too much noise, and they are good for comparing distributions, especially if you have more than two."
   ]
  },
  {
   "cell_type": "markdown",
   "metadata": {},
   "source": [
    "# Lesson IV\n",
    "\n",
    "## Modelling Distributions\n",
    "\n",
    "In the previous lesson we used PMFs and CDFs to plot and compare distributions. We saw that PMFs don't work very well when the data have a large number of unique values. In this lesson you'll learn about probability density functions, or PDFs, and learn how to estimate PDFs from data.\n",
    "\n",
    "## The normal Distribution\n",
    "\n",
    "Let's start with the normal distribution, also called the **Gaussian distribution**. It turns out that many things we measure in the world have distributions that are well approximated by a normal distribution. \n",
    "\n",
    "To get a sense of what the normal distribution looks like, I'll use the *NumPy random* module to generate 1000 random values from a normal distribution. And plot their CDF. This sigmoid shape is what we expect to see with values from a normal distribution."
   ]
  },
  {
   "cell_type": "code",
   "execution_count": 11,
   "metadata": {},
   "outputs": [
    {
     "data": {
      "image/png": "[encoded data removed]",
      "text/plain": [
       "<Figure size 432x288 with 1 Axes>"
      ]
     },
     "metadata": {
      "needs_background": "light"
     },
     "output_type": "display_data"
    }
   ],
   "source": [
    "import numpy as np\n",
    "\n",
    "sample = np.random.normal(size=1000)\n",
    "count, bins_count = np.histogram(sample, bins=10)\n",
    "pdf = count / sum(count)\n",
    "cdf = np.cumsum(pdf)\n",
    "plt.plot(bins_count[1:], cdf, label='CDF')\n",
    "plt.legend()\n",
    "plt.show()"
   ]
  },
  {
   "cell_type": "markdown",
   "metadata": {},
   "source": [
    "## the Normal CDF\n",
    "\n",
    "*SciPy* provides an object called *norm* that represents the normal distribution. I'll use ``np.linspace()`` to create an array of equally-spaced points from -3 to 3. norm(0, 1) creates an object that represents a normal distribution with mean 0 and standard deviation 1. \n",
    "\n",
    "``.cdf()`` evaluates the CDF of the normal distribution. I'll plot the results with a gray line. And then plot the CDF of the sample again."
   ]
  },
  {
   "cell_type": "code",
   "execution_count": 14,
   "metadata": {},
   "outputs": [
    {
     "data": {
      "image/png": "[encoded data removed]",
      "text/plain": [
       "<Figure size 432x288 with 1 Axes>"
      ]
     },
     "metadata": {
      "needs_background": "light"
     },
     "output_type": "display_data"
    }
   ],
   "source": [
    "from scipy.stats import norm\n",
    "\n",
    "xs = np.linspace(-3, 3)\n",
    "ys = norm(0,1).cdf(xs)\n",
    "\n",
    "plt.plot(xs, ys, label='gray')\n",
    "plt.plot(bins_count[1:], cdf, label='CDF')\n",
    "plt.legend()\n",
    "plt.show()"
   ]
  },
  {
   "cell_type": "markdown",
   "metadata": {},
   "source": [
    "Here's the result. The CDF from the sample is pretty close to the normal CDF over the whole range. If this were real data, we would conclude that the normal distribution is a good model for the data.\n",
    "\n",
    "### The Bell Curve\n",
    "\n",
    "The norm object also provides ``.pdf()``, which evaluates the probability density function, or PDF. And here's what that looks like. \n",
    "\n",
    "It's the classic bell curve. Unfortunately, if we compare this PDF to the PMF of the sample, it doesn't work very well."
   ]
  },
  {
   "cell_type": "code",
   "execution_count": 15,
   "metadata": {},
   "outputs": [
    {
     "data": {
      "text/plain": [
       "[<matplotlib.lines.Line2D at 0x19e20ce1190>]"
      ]
     },
     "execution_count": 15,
     "metadata": {},
     "output_type": "execute_result"
    },
    {
     "data": {
      "image/png": "[encoded data removed]",
      "text/plain": [
       "<Figure size 432x288 with 1 Axes>"
      ]
     },
     "metadata": {
      "needs_background": "light"
     },
     "output_type": "display_data"
    }
   ],
   "source": [
    "xs = np.linspace(-3, 3)\n",
    "ys = norm(0,1).pdf(xs)\n",
    "plt.plot(xs, ys, label='gray')"
   ]
  },
  {
   "cell_type": "markdown",
   "metadata": {},
   "source": [
    "<img src='pictures/pmfvspdf.jpg' />\n",
    "\n",
    "Here's what it looks like. The PMF of the sample is a flat line across the bottom. In the random sample, every value is unique, so they all have the same probability, one in 1000. \n",
    "\n",
    "However, we can use the points in the sample to estimate the PDF of the distribution they came from. This process is called *kernel density estimation*, or **KDE**. It's a way of getting from a PMF, a probability mass function, to a PDF, a probability density function.\n",
    "\n",
    "## KDE plot\n",
    "\n",
    "To generate a KDE plot, we'll use the *Seaborn* library for data visualization, which I import as *sns*. Seaborn provides *kdeplot*, which takes the sample, estimates the PDF, and plots it. Here's what it looks like."
   ]
  },
  {
   "cell_type": "code",
   "execution_count": 16,
   "metadata": {},
   "outputs": [
    {
     "data": {
      "text/plain": [
       "<AxesSubplot:ylabel='Density'>"
      ]
     },
     "execution_count": 16,
     "metadata": {},
     "output_type": "execute_result"
    },
    {
     "data": {
      "image/png": "[encoded data removed]",
      "text/plain": [
       "<Figure size 432x288 with 1 Axes>"
      ]
     },
     "metadata": {
      "needs_background": "light"
     },
     "output_type": "display_data"
    }
   ],
   "source": [
    "import seaborn as sns\n",
    "sns.kdeplot(sample, label='kde')"
   ]
  },
  {
   "cell_type": "markdown",
   "metadata": {},
   "source": [
    "### KDE and PDF\n",
    "\n",
    "Now we can compare the KDE plot and the normal PDF. Here's the code. There's nothing there we haven't already seen. And here's the result:"
   ]
  },
  {
   "cell_type": "code",
   "execution_count": 17,
   "metadata": {},
   "outputs": [
    {
     "data": {
      "text/plain": [
       "<AxesSubplot:ylabel='Density'>"
      ]
     },
     "execution_count": 17,
     "metadata": {},
     "output_type": "execute_result"
    },
    {
     "data": {
      "image/png": "[encoded data removed]",
      "text/plain": [
       "<Figure size 432x288 with 1 Axes>"
      ]
     },
     "metadata": {
      "needs_background": "light"
     },
     "output_type": "display_data"
    }
   ],
   "source": [
    "xs = np.linspace(-3, 3)\n",
    "ys = norm.pdf(xs)\n",
    "plt.plot(xs, ys, label='gray')\n",
    "sns.kdeplot(sample, label='kde')"
   ]
  },
  {
   "cell_type": "markdown",
   "metadata": {},
   "source": [
    "The KDE plot matches the normal PDF pretty well, although the differences look bigger when we compare PDFs than they did with the CDFs. On one hand, that means that the PDF is a more sensitive way to look for differences, but often it is too sensitive. \n",
    "It's hard to tell whether apparent differences mean anything, or if they are just random, as in this case.\n",
    "\n",
    "## PMF, CDF, KDE\n",
    "\n",
    "* Use CDFs for exploration.\n",
    "* Use PMFs if there are a small number of unique values.\n",
    "* Use KDEs if there are a large number of unique values."
   ]
  },
  {
   "cell_type": "markdown",
   "metadata": {},
   "source": [
    "## Exercise\n",
    "\n",
    "### Distribution of income\n",
    "\n",
    "In many datasets, the distribution of income is approximately lognormal, which means that the logarithms of the incomes fit a normal distribution. We'll see whether that's true for the GSS data. As a first step, you'll compute the mean and standard deviation of the log of incomes using NumPy's ``np.log10()`` function.\n",
    "\n",
    "Then, you'll use the computed mean and standard deviation to make a norm object using the [``scipy.stats.norm()``](https://docs.scipy.org/doc/scipy/reference/generated/scipy.stats.norm.html) function."
   ]
  },
  {
   "cell_type": "code",
   "execution_count": 18,
   "metadata": {},
   "outputs": [
    {
     "name": "stdout",
     "output_type": "stream",
     "text": [
      "4.371148677933652 0.4290043733010077\n"
     ]
    }
   ],
   "source": [
    "# Extract realinc and compute its log\n",
    "income = gss['realinc']\n",
    "log_income = np.log10(income)\n",
    "\n",
    "# Compute mean and standart deviation\n",
    "mean = np.mean(log_income)\n",
    "std = np.std(log_income)\n",
    "print(mean, std)\n",
    "\n",
    "# Make a norm object\n",
    "dist = norm(mean, std)"
   ]
  },
  {
   "cell_type": "markdown",
   "metadata": {},
   "source": [
    "### Comparing CDFs\n",
    "\n",
    "To see whether the distribution of income is well modeled by a lognormal distribution, we'll compare the CDF of the logarithm of the data to a normal distribution with the same mean and standard deviation. These variables from the previous exercise are available for use"
   ]
  },
  {
   "cell_type": "code",
   "execution_count": null,
   "metadata": {},
   "outputs": [],
   "source": [
    "# Evaluate the model CDF\n",
    "xs = np.linspace(2, 5.5)\n",
    "ys = dist.cdf(xs)\n",
    "\n",
    "# Plot the model CDF\n",
    "plt.clf()\n",
    "plt.plot(xs, ys, color='gray')\n",
    "\n",
    "# Create and plot the Cdf of Log_income\n",
    "Cdf(log_income).plot()\n",
    "\n",
    "# Label the axes\n",
    "plt.xlabel('Log10 of realinc')\n",
    "plt.ylabel('CDF')\n",
    "plt.show()"
   ]
  },
  {
   "cell_type": "markdown",
   "metadata": {},
   "source": [
    "### Comparing PDFs\n",
    "\n",
    "In the previous exercise, we used CDFs to see if the distribution of income is lognormal. We can make the same comparison using a PDF and KDE. That's what you'll do in this exercise!\n",
    "\n",
    "As before, the norm object dist is available in your workspace"
   ]
  },
  {
   "cell_type": "code",
   "execution_count": 21,
   "metadata": {},
   "outputs": [
    {
     "data": {
      "image/png": "[encoded data removed]",
      "text/plain": [
       "<Figure size 432x288 with 1 Axes>"
      ]
     },
     "metadata": {
      "needs_background": "light"
     },
     "output_type": "display_data"
    }
   ],
   "source": [
    "# Evaluate the normal PDF\n",
    "xs = np.linspace(2, 5.5)\n",
    "ys = dist.pdf(xs)\n",
    "\n",
    "# Plot the model PDF\n",
    "plt.clf()\n",
    "plt.plot(xs, ys, color='gray')\n",
    "\n",
    "# Plot the data KDE\n",
    "sns.kdeplot(log_income, label='kde')\n",
    "\n",
    "# Label the axes\n",
    "plt.xlabel('Log10 of realinc')\n",
    "plt.ylabel('PDF')\n",
    "plt.show()"
   ]
  }
 ],
 "metadata": {
  "kernelspec": {
   "display_name": "Python 3.9.12 ('Py3')",
   "language": "python",
   "name": "python3"
  },
  "language_info": {
   "codemirror_mode": {
    "name": "ipython",
    "version": 3
   },
   "file_extension": ".py",
   "mimetype": "text/x-python",
   "name": "python",
   "nbconvert_exporter": "python",
   "pygments_lexer": "ipython3",
   "version": "3.9.12"
  },
  "orig_nbformat": 4,
  "vscode": {
   "interpreter": {
    "hash": "73990f7905ce18e2def91a603fe09ae38383e0aba9dfcdeb23468ee256a89966"
   }
  }
 },
 "nbformat": 4,
 "nbformat_minor": 2
}
